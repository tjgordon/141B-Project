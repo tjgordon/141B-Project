{
 "cells": [
  {
   "cell_type": "markdown",
   "metadata": {},
   "source": [
    "# Reading, Scraping, and Cleaning Our Data"
   ]
  },
  {
   "cell_type": "markdown",
   "metadata": {},
   "source": [
    "This notebook shows our process of data munging in more detail."
   ]
  },
  {
   "cell_type": "markdown",
   "metadata": {
    "deletable": true,
    "editable": true
   },
   "source": [
    "## Packages"
   ]
  },
  {
   "cell_type": "code",
   "execution_count": 2,
   "metadata": {
    "collapsed": false,
    "deletable": true,
    "editable": true
   },
   "outputs": [],
   "source": [
    "# Loading in data:\n",
    "import numpy as np\n",
    "import pandas as pd\n",
    "\n",
    "# Parsing:\n",
    "import requests\n",
    "import requests_cache\n",
    "import lxml\n",
    "from bs4 import BeautifulSoup\n",
    "import bs4\n",
    "import re"
   ]
  },
  {
   "cell_type": "markdown",
   "metadata": {
    "deletable": true,
    "editable": true
   },
   "source": [
    "# I. Reading in the Data - Our Primary Data Source"
   ]
  },
  {
   "cell_type": "markdown",
   "metadata": {},
   "source": [
    "The following cell loads are data through read_csv and takes a long time to run, about 15 minutes on our devices. We use street.h5 to import the data faster after importing the csv once here."
   ]
  },
  {
   "cell_type": "code",
   "execution_count": null,
   "metadata": {
    "collapsed": true,
    "deletable": true,
    "editable": true
   },
   "outputs": [],
   "source": [
    "# SHould only run the first time ever using this notebook:\n",
    "parseDates = [\"Opened\", \"Closed\", \"Updated\"] # Convert these to datetimes\n",
    "street_csv = pd.read_csv(\"Street_and_Sidewalk_Cleaning.csv\", \n",
    "                         #nrows = 100000,\n",
    "                         parse_dates=parseDates)\n",
    "street.to_hdf('street.h5','table',append=False) # Convert of h5 for faster readining in later"
   ]
  },
  {
   "cell_type": "markdown",
   "metadata": {},
   "source": [
    "The next cell loads the h5 and displays the first few rows of our primary data source. All of the variables can be seen here."
   ]
  },
  {
   "cell_type": "code",
   "execution_count": 3,
   "metadata": {
    "collapsed": false,
    "deletable": true,
    "editable": true
   },
   "outputs": [
    {
     "data": {
      "text/html": [
       "<div>\n",
       "<table border=\"1\" class=\"dataframe\">\n",
       "  <thead>\n",
       "    <tr style=\"text-align: right;\">\n",
       "      <th></th>\n",
       "      <th>CaseID</th>\n",
       "      <th>Opened</th>\n",
       "      <th>Closed</th>\n",
       "      <th>Status</th>\n",
       "      <th>Responsible Agency</th>\n",
       "      <th>Address</th>\n",
       "      <th>Category</th>\n",
       "      <th>Request Type</th>\n",
       "      <th>Request Details</th>\n",
       "      <th>Source</th>\n",
       "      <th>Supervisor District</th>\n",
       "      <th>Neighborhood</th>\n",
       "      <th>Updated</th>\n",
       "      <th>Point</th>\n",
       "    </tr>\n",
       "  </thead>\n",
       "  <tbody>\n",
       "    <tr>\n",
       "      <th>0</th>\n",
       "      <td>322566</td>\n",
       "      <td>2008-11-30 22:56:00</td>\n",
       "      <td>2009-07-21 16:24:00</td>\n",
       "      <td>Closed</td>\n",
       "      <td>DPW Ops Queue</td>\n",
       "      <td>1566 HYDE ST, SAN FRANCISCO, CA, 94109</td>\n",
       "      <td>Street and Sidewalk Cleaning</td>\n",
       "      <td>Sidewalk_Cleaning</td>\n",
       "      <td>Garbage</td>\n",
       "      <td>Voice In</td>\n",
       "      <td>3.0</td>\n",
       "      <td>Nob Hill</td>\n",
       "      <td>2009-07-21 16:24:00</td>\n",
       "      <td>(37.795328529, -122.418067787)</td>\n",
       "    </tr>\n",
       "    <tr>\n",
       "      <th>1</th>\n",
       "      <td>322560</td>\n",
       "      <td>2008-11-30 22:24:00</td>\n",
       "      <td>2009-07-21 16:24:00</td>\n",
       "      <td>Closed</td>\n",
       "      <td>DPW Ops Queue</td>\n",
       "      <td>Intersection of TAYLOR ST and TURK ST</td>\n",
       "      <td>Street and Sidewalk Cleaning</td>\n",
       "      <td>Illegal_Dumping</td>\n",
       "      <td>Garbage</td>\n",
       "      <td>Voice In</td>\n",
       "      <td>6.0</td>\n",
       "      <td>Downtown/Civic Center</td>\n",
       "      <td>2009-07-21 16:24:00</td>\n",
       "      <td>(37.7832142923006, -122.410764953722)</td>\n",
       "    </tr>\n",
       "    <tr>\n",
       "      <th>2</th>\n",
       "      <td>322559</td>\n",
       "      <td>2008-11-30 22:20:00</td>\n",
       "      <td>2008-12-01 06:07:00</td>\n",
       "      <td>Closed</td>\n",
       "      <td>DPW Ops Queue</td>\n",
       "      <td>1601 SACRAMENTO ST, SAN FRANCISCO, CA, 94109</td>\n",
       "      <td>Street and Sidewalk Cleaning</td>\n",
       "      <td>Illegal_Dumping</td>\n",
       "      <td>Mattress</td>\n",
       "      <td>Voice In</td>\n",
       "      <td>3.0</td>\n",
       "      <td>Nob Hill</td>\n",
       "      <td>2008-12-01 06:07:00</td>\n",
       "      <td>(37.791643509125, -122.419260423291)</td>\n",
       "    </tr>\n",
       "    <tr>\n",
       "      <th>3</th>\n",
       "      <td>322556</td>\n",
       "      <td>2008-11-30 21:34:00</td>\n",
       "      <td>2008-12-09 08:07:00</td>\n",
       "      <td>Closed</td>\n",
       "      <td>DPW Ops Queue</td>\n",
       "      <td>Intersection of 25TH ST and LUCKY ST</td>\n",
       "      <td>Street and Sidewalk Cleaning</td>\n",
       "      <td>Sidewalk_Cleaning</td>\n",
       "      <td>Human_waste_or_urine</td>\n",
       "      <td>Voice In</td>\n",
       "      <td>9.0</td>\n",
       "      <td>Mission</td>\n",
       "      <td>2008-12-09 08:07:00</td>\n",
       "      <td>(37.7509362479361, -122.413364630104)</td>\n",
       "    </tr>\n",
       "    <tr>\n",
       "      <th>4</th>\n",
       "      <td>322545</td>\n",
       "      <td>2008-11-30 20:45:00</td>\n",
       "      <td>2009-02-03 07:09:00</td>\n",
       "      <td>Closed</td>\n",
       "      <td>DPW Ops Queue</td>\n",
       "      <td>Intersection of 19TH ST and OAKWOOD ST</td>\n",
       "      <td>Street and Sidewalk Cleaning</td>\n",
       "      <td>Sidewalk_Cleaning</td>\n",
       "      <td>Empty_cart</td>\n",
       "      <td>Voice In</td>\n",
       "      <td>8.0</td>\n",
       "      <td>Mission</td>\n",
       "      <td>2009-02-03 07:09:00</td>\n",
       "      <td>(37.7598935230725, -122.42486308879)</td>\n",
       "    </tr>\n",
       "  </tbody>\n",
       "</table>\n",
       "</div>"
      ],
      "text/plain": [
       "   CaseID              Opened              Closed  Status Responsible Agency  \\\n",
       "0  322566 2008-11-30 22:56:00 2009-07-21 16:24:00  Closed      DPW Ops Queue   \n",
       "1  322560 2008-11-30 22:24:00 2009-07-21 16:24:00  Closed      DPW Ops Queue   \n",
       "2  322559 2008-11-30 22:20:00 2008-12-01 06:07:00  Closed      DPW Ops Queue   \n",
       "3  322556 2008-11-30 21:34:00 2008-12-09 08:07:00  Closed      DPW Ops Queue   \n",
       "4  322545 2008-11-30 20:45:00 2009-02-03 07:09:00  Closed      DPW Ops Queue   \n",
       "\n",
       "                                        Address                      Category  \\\n",
       "0        1566 HYDE ST, SAN FRANCISCO, CA, 94109  Street and Sidewalk Cleaning   \n",
       "1         Intersection of TAYLOR ST and TURK ST  Street and Sidewalk Cleaning   \n",
       "2  1601 SACRAMENTO ST, SAN FRANCISCO, CA, 94109  Street and Sidewalk Cleaning   \n",
       "3          Intersection of 25TH ST and LUCKY ST  Street and Sidewalk Cleaning   \n",
       "4        Intersection of 19TH ST and OAKWOOD ST  Street and Sidewalk Cleaning   \n",
       "\n",
       "        Request Type       Request Details    Source  Supervisor District  \\\n",
       "0  Sidewalk_Cleaning               Garbage  Voice In                  3.0   \n",
       "1    Illegal_Dumping               Garbage  Voice In                  6.0   \n",
       "2    Illegal_Dumping              Mattress  Voice In                  3.0   \n",
       "3  Sidewalk_Cleaning  Human_waste_or_urine  Voice In                  9.0   \n",
       "4  Sidewalk_Cleaning            Empty_cart  Voice In                  8.0   \n",
       "\n",
       "            Neighborhood             Updated  \\\n",
       "0               Nob Hill 2009-07-21 16:24:00   \n",
       "1  Downtown/Civic Center 2009-07-21 16:24:00   \n",
       "2               Nob Hill 2008-12-01 06:07:00   \n",
       "3                Mission 2008-12-09 08:07:00   \n",
       "4                Mission 2009-02-03 07:09:00   \n",
       "\n",
       "                                   Point  \n",
       "0         (37.795328529, -122.418067787)  \n",
       "1  (37.7832142923006, -122.410764953722)  \n",
       "2   (37.791643509125, -122.419260423291)  \n",
       "3  (37.7509362479361, -122.413364630104)  \n",
       "4   (37.7598935230725, -122.42486308879)  "
      ]
     },
     "execution_count": 3,
     "metadata": {},
     "output_type": "execute_result"
    }
   ],
   "source": [
    "# Write h5: Run every second time and on of using this notebook\n",
    "street_hdf = pd.HDFStore('street.h5')\n",
    "street = street_hdf.select('/table')\n",
    "street.head()"
   ]
  },
  {
   "cell_type": "markdown",
   "metadata": {
    "deletable": true,
    "editable": true
   },
   "source": [
    "## Cleaning the data"
   ]
  },
  {
   "cell_type": "markdown",
   "metadata": {
    "deletable": true,
    "editable": true
   },
   "source": [
    "To keep counts of requests consistent over the months and days, we remove years with incomplete data since our original data set starts in November 2008 and ends in January 2017.  "
   ]
  },
  {
   "cell_type": "code",
   "execution_count": 4,
   "metadata": {
    "collapsed": true,
    "deletable": true,
    "editable": true
   },
   "outputs": [],
   "source": [
    "street = street.loc[street['Opened'].dt.year != 2008]\n",
    "street = street.loc[street['Opened'].dt.year != 2017]\n",
    "street = street.sort_values(\"Opened\") # Re-sort data in date order\n",
    "street = street.reset_index() # Re-set the indexing\n",
    "street = street.drop('index', 1) # Get rid of old index column "
   ]
  },
  {
   "cell_type": "markdown",
   "metadata": {
    "deletable": true,
    "editable": true
   },
   "source": [
    "Some neighborhood names need to be changed to allow merging with other data sources later and to match our shape files.   "
   ]
  },
  {
   "cell_type": "code",
   "execution_count": 5,
   "metadata": {
    "collapsed": false,
    "deletable": true,
    "editable": true
   },
   "outputs": [],
   "source": [
    "street.ix[street.Neighborhood == \"None\", \"Neighborhood\"] = np.nan\n",
    "street.ix[street.Neighborhood == \"Ocean View\", \"Neighborhood\"] = \"Oceanview\"\n",
    "street.ix[street.Neighborhood == \"Downtown/Civic Center\", \"Neighborhood\"] = \"Civic Center\"\n",
    "street.ix[street.Neighborhood == \"St. Mary's Park\", \"Neighborhood\"] = \"St. Marys Park\"\n",
    "street.ix[street.Neighborhood == \"Presidio\", \"Neighborhood\"] = \"Presidio Heights\""
   ]
  },
  {
   "cell_type": "markdown",
   "metadata": {},
   "source": [
    "Next we create a month column for future plots and data merging. "
   ]
  },
  {
   "cell_type": "code",
   "execution_count": 6,
   "metadata": {
    "collapsed": false,
    "deletable": true,
    "editable": true
   },
   "outputs": [],
   "source": [
    "street['month'] = [timestamp.month for timestamp in street.Opened]"
   ]
  },
  {
   "cell_type": "markdown",
   "metadata": {},
   "source": [
    "A look of the first few rows of our cleaned data:"
   ]
  },
  {
   "cell_type": "code",
   "execution_count": 8,
   "metadata": {
    "collapsed": false,
    "deletable": true,
    "editable": true
   },
   "outputs": [
    {
     "data": {
      "text/html": [
       "<div>\n",
       "<table border=\"1\" class=\"dataframe\">\n",
       "  <thead>\n",
       "    <tr style=\"text-align: right;\">\n",
       "      <th></th>\n",
       "      <th>CaseID</th>\n",
       "      <th>Opened</th>\n",
       "      <th>Closed</th>\n",
       "      <th>Status</th>\n",
       "      <th>Responsible Agency</th>\n",
       "      <th>Address</th>\n",
       "      <th>Category</th>\n",
       "      <th>Request Type</th>\n",
       "      <th>Request Details</th>\n",
       "      <th>Source</th>\n",
       "      <th>Supervisor District</th>\n",
       "      <th>Neighborhood</th>\n",
       "      <th>Updated</th>\n",
       "      <th>Point</th>\n",
       "      <th>month</th>\n",
       "    </tr>\n",
       "  </thead>\n",
       "  <tbody>\n",
       "    <tr>\n",
       "      <th>0</th>\n",
       "      <td>342509</td>\n",
       "      <td>2009-01-01 08:30:51</td>\n",
       "      <td>2009-01-01 11:07:06</td>\n",
       "      <td>Closed</td>\n",
       "      <td>DPW Ops Queue</td>\n",
       "      <td>Intersection of 13TH ST and FOLSOM ST</td>\n",
       "      <td>Street and Sidewalk Cleaning</td>\n",
       "      <td>Sidewalk_Cleaning</td>\n",
       "      <td>Encampment</td>\n",
       "      <td>Voice In</td>\n",
       "      <td>6.0</td>\n",
       "      <td>Mission</td>\n",
       "      <td>2009-01-01 11:07:06</td>\n",
       "      <td>(37.7695911772607, -122.415577110949)</td>\n",
       "      <td>1</td>\n",
       "    </tr>\n",
       "    <tr>\n",
       "      <th>1</th>\n",
       "      <td>342510</td>\n",
       "      <td>2009-01-01 08:33:46</td>\n",
       "      <td>2009-01-01 11:07:06</td>\n",
       "      <td>Closed</td>\n",
       "      <td>DPW Ops Queue</td>\n",
       "      <td>Intersection of 13TH ST and FOLSOM ST</td>\n",
       "      <td>Street and Sidewalk Cleaning</td>\n",
       "      <td>Sidewalk_Cleaning</td>\n",
       "      <td>Debris_filled_carts</td>\n",
       "      <td>Voice In</td>\n",
       "      <td>6.0</td>\n",
       "      <td>Mission</td>\n",
       "      <td>2009-01-01 11:07:06</td>\n",
       "      <td>(37.7695911772607, -122.415577110949)</td>\n",
       "      <td>1</td>\n",
       "    </tr>\n",
       "    <tr>\n",
       "      <th>2</th>\n",
       "      <td>342512</td>\n",
       "      <td>2009-01-01 08:44:54</td>\n",
       "      <td>2009-01-31 13:09:53</td>\n",
       "      <td>Closed</td>\n",
       "      <td>DPW Ops Queue</td>\n",
       "      <td>467 FILLMORE ST, SAN FRANCISCO, CA, 94117</td>\n",
       "      <td>Street and Sidewalk Cleaning</td>\n",
       "      <td>Street_Cleaning</td>\n",
       "      <td>Glass</td>\n",
       "      <td>Voice In</td>\n",
       "      <td>5.0</td>\n",
       "      <td>Western Addition</td>\n",
       "      <td>2009-01-31 13:09:53</td>\n",
       "      <td>(37.773807246, -122.431027495)</td>\n",
       "      <td>1</td>\n",
       "    </tr>\n",
       "    <tr>\n",
       "      <th>3</th>\n",
       "      <td>342514</td>\n",
       "      <td>2009-01-01 09:13:07</td>\n",
       "      <td>2009-01-01 11:07:06</td>\n",
       "      <td>Closed</td>\n",
       "      <td>DPW Ops Queue</td>\n",
       "      <td>Intersection of DWIGHT ST and GOETTINGEN ST</td>\n",
       "      <td>Street and Sidewalk Cleaning</td>\n",
       "      <td>Sidewalk_Cleaning</td>\n",
       "      <td>Garbage</td>\n",
       "      <td>Voice In</td>\n",
       "      <td>9.0</td>\n",
       "      <td>Excelsior</td>\n",
       "      <td>2009-01-01 11:07:06</td>\n",
       "      <td>(37.7232896018615, -122.405086927628)</td>\n",
       "      <td>1</td>\n",
       "    </tr>\n",
       "    <tr>\n",
       "      <th>4</th>\n",
       "      <td>342519</td>\n",
       "      <td>2009-01-01 09:21:05</td>\n",
       "      <td>2009-01-21 06:07:13</td>\n",
       "      <td>Closed</td>\n",
       "      <td>DPW Ops Queue</td>\n",
       "      <td>1610 MCALLISTER ST, SAN FRANCISCO, CA, 94115</td>\n",
       "      <td>Street and Sidewalk Cleaning</td>\n",
       "      <td>Sidewalk_Cleaning</td>\n",
       "      <td>Human_waste_or_urine</td>\n",
       "      <td>Voice In</td>\n",
       "      <td>5.0</td>\n",
       "      <td>Western Addition</td>\n",
       "      <td>2009-01-21 06:07:13</td>\n",
       "      <td>(37.777956377, -122.43893262)</td>\n",
       "      <td>1</td>\n",
       "    </tr>\n",
       "  </tbody>\n",
       "</table>\n",
       "</div>"
      ],
      "text/plain": [
       "   CaseID              Opened              Closed  Status Responsible Agency  \\\n",
       "0  342509 2009-01-01 08:30:51 2009-01-01 11:07:06  Closed      DPW Ops Queue   \n",
       "1  342510 2009-01-01 08:33:46 2009-01-01 11:07:06  Closed      DPW Ops Queue   \n",
       "2  342512 2009-01-01 08:44:54 2009-01-31 13:09:53  Closed      DPW Ops Queue   \n",
       "3  342514 2009-01-01 09:13:07 2009-01-01 11:07:06  Closed      DPW Ops Queue   \n",
       "4  342519 2009-01-01 09:21:05 2009-01-21 06:07:13  Closed      DPW Ops Queue   \n",
       "\n",
       "                                        Address                      Category  \\\n",
       "0         Intersection of 13TH ST and FOLSOM ST  Street and Sidewalk Cleaning   \n",
       "1         Intersection of 13TH ST and FOLSOM ST  Street and Sidewalk Cleaning   \n",
       "2     467 FILLMORE ST, SAN FRANCISCO, CA, 94117  Street and Sidewalk Cleaning   \n",
       "3   Intersection of DWIGHT ST and GOETTINGEN ST  Street and Sidewalk Cleaning   \n",
       "4  1610 MCALLISTER ST, SAN FRANCISCO, CA, 94115  Street and Sidewalk Cleaning   \n",
       "\n",
       "        Request Type       Request Details    Source  Supervisor District  \\\n",
       "0  Sidewalk_Cleaning            Encampment  Voice In                  6.0   \n",
       "1  Sidewalk_Cleaning   Debris_filled_carts  Voice In                  6.0   \n",
       "2    Street_Cleaning                 Glass  Voice In                  5.0   \n",
       "3  Sidewalk_Cleaning               Garbage  Voice In                  9.0   \n",
       "4  Sidewalk_Cleaning  Human_waste_or_urine  Voice In                  5.0   \n",
       "\n",
       "       Neighborhood             Updated  \\\n",
       "0           Mission 2009-01-01 11:07:06   \n",
       "1           Mission 2009-01-01 11:07:06   \n",
       "2  Western Addition 2009-01-31 13:09:53   \n",
       "3         Excelsior 2009-01-01 11:07:06   \n",
       "4  Western Addition 2009-01-21 06:07:13   \n",
       "\n",
       "                                   Point  month  \n",
       "0  (37.7695911772607, -122.415577110949)      1  \n",
       "1  (37.7695911772607, -122.415577110949)      1  \n",
       "2         (37.773807246, -122.431027495)      1  \n",
       "3  (37.7232896018615, -122.405086927628)      1  \n",
       "4          (37.777956377, -122.43893262)      1  "
      ]
     },
     "execution_count": 8,
     "metadata": {},
     "output_type": "execute_result"
    }
   ],
   "source": [
    "street.head()"
   ]
  },
  {
   "cell_type": "markdown",
   "metadata": {
    "deletable": true,
    "editable": true
   },
   "source": [
    "# II. Scraping - Demographic Data"
   ]
  },
  {
   "cell_type": "markdown",
   "metadata": {},
   "source": [
    "Here we scrape demographic data from the source talked about on our website."
   ]
  },
  {
   "cell_type": "code",
   "execution_count": 10,
   "metadata": {
    "collapsed": true,
    "deletable": true,
    "editable": true
   },
   "outputs": [],
   "source": [
    "requests_cache.install_cache('sf_cache') # So we don't make too many requests to the website"
   ]
  },
  {
   "cell_type": "markdown",
   "metadata": {},
   "source": [
    "Grab the html from the website:"
   ]
  },
  {
   "cell_type": "code",
   "execution_count": 11,
   "metadata": {
    "collapsed": false
   },
   "outputs": [
    {
     "data": {
      "text/plain": [
       "<bound method Response.raise_for_status of <Response [200]>>"
      ]
     },
     "execution_count": 11,
     "metadata": {},
     "output_type": "execute_result"
    }
   ],
   "source": [
    "url = \"http://www.city-data.com/nbmaps/neigh-San-Francisco-California.html\"\n",
    "response = requests.get(url)\n",
    "response.raise_for_status"
   ]
  },
  {
   "cell_type": "markdown",
   "metadata": {},
   "source": [
    "We first parse using Beautiful Soup and lxml. Then we grab the section with  what information we want for each neighborhood and store it as a list in neighborhood_divs. "
   ]
  },
  {
   "cell_type": "code",
   "execution_count": 12,
   "metadata": {
    "collapsed": false,
    "deletable": true,
    "editable": true
   },
   "outputs": [],
   "source": [
    "neighborhoods_bs = BeautifulSoup(response.text, 'lxml')\n",
    "neighborhood_names = neighborhoods_bs.find_all(name = \"span\", attrs={'class':'street-name'})\n",
    "neighborhood_names = [name.text.replace(\"-\", \" \") for name in neighborhood_names]\n",
    "neighborhood_divs = neighborhoods_bs.body.find_all(name = \"div\", attrs={'class':'neighborhood'})"
   ]
  },
  {
   "cell_type": "markdown",
   "metadata": {},
   "source": [
    "Then, parsing the html for each neighborhood was not as simple as we thought. The format the website used involved a lot of navigable strings. The title of each section like \"Area\" and \"Population\" was not nested nicely. The value for the Area was stored as a navigable string as a sibling to Area instead of a child, so the parsing process got a bit more complicated. The function catch() was created to handle three different cases of how far the sibling of information was from the title. It is called catch because if the case fails, then the value should be NA, so the function makes use of try and except. The function also deals with converting the strings to numbers and removing any commas and dollar signs than get in the way."
   ]
  },
  {
   "cell_type": "code",
   "execution_count": 13,
   "metadata": {
    "collapsed": false,
    "deletable": true,
    "editable": true
   },
   "outputs": [],
   "source": [
    "def catch(line, number, simple, c = \"h\", complicated = False):\n",
    "    \"\"\"\n",
    "    This function was made to catch the cases when scraping where we want NAs. If grabbing what we want from line fails, \n",
    "    then NA is returned. If number is True, then the value we are grabbing needs to be converted from a string to a number. \n",
    "    If simple is True, then the value we are scraping is right there, otherwise we need to search for a particular class which\n",
    "    is the c input variable. Complicated is for the last column we are scraping where finding that class is a bit more complicated.\n",
    "    \"\"\"\n",
    "    try:\n",
    "        # Value should be converted to a number \n",
    "        if number == True:\n",
    "            # Case 1: value in the next sibling\n",
    "            if simple == True:\n",
    "                return float(line[0].next_sibling.replace(\",\", \"\").replace(\"$\", \"\")) \n",
    "            \n",
    "            else: \n",
    "                # Case 2: When the website had a horizontal bar plot with two bars. c = h is the first bar and c = a is the second. \n",
    "                if complicated == False:\n",
    "                    return float(line[0].next_sibling.next_sibling.find_all(class_ = c)[0].next_sibling.replace(\",\", \"\").replace(\" years\", \"\").replace(\"$\", \"\"))\n",
    "                # Case 3: Bar plot but with an extra line before the plot\n",
    "                else: \n",
    "                    return float(line[0].find_all_next(class_ = c)[0].next_sibling.replace(\",\", \"\").replace(\" years\", \"\").replace(\"$\", \"\"))\n",
    "\n",
    "        else:\n",
    "            return line[0].next_sibling\n",
    "    except:\n",
    "        return np.nan # If the line failed, then no value and want NA"
   ]
  },
  {
   "cell_type": "markdown",
   "metadata": {},
   "source": [
    "We then created a demographic data frame with all the values we want to scrape stored as columns. For each one, one of the three cases is specified to the catch function and catch is also passed the find_all result of searching for the variable we want. Then the first few rows of the data frame are displayed. "
   ]
  },
  {
   "cell_type": "code",
   "execution_count": 14,
   "metadata": {
    "collapsed": false,
    "deletable": true,
    "editable": true
   },
   "outputs": [
    {
     "data": {
      "text/html": [
       "<div>\n",
       "<table border=\"1\" class=\"dataframe\">\n",
       "  <thead>\n",
       "    <tr style=\"text-align: right;\">\n",
       "      <th></th>\n",
       "      <th>AreaSqMi</th>\n",
       "      <th>Females</th>\n",
       "      <th>HousePrice</th>\n",
       "      <th>Males</th>\n",
       "      <th>MedAgeF</th>\n",
       "      <th>MedAgeM</th>\n",
       "      <th>MedHouseholdIncome</th>\n",
       "      <th>MedRent</th>\n",
       "      <th>Neighborhood</th>\n",
       "      <th>PeoplePerSqMi</th>\n",
       "      <th>Population</th>\n",
       "    </tr>\n",
       "  </thead>\n",
       "  <tbody>\n",
       "    <tr>\n",
       "      <th>0</th>\n",
       "      <td>0.144</td>\n",
       "      <td>2461.0</td>\n",
       "      <td>1988926.0</td>\n",
       "      <td>3916.0</td>\n",
       "      <td>38.6</td>\n",
       "      <td>35.4</td>\n",
       "      <td>93901.0</td>\n",
       "      <td>1754.0</td>\n",
       "      <td>Alamo Square</td>\n",
       "      <td>44418.0</td>\n",
       "      <td>6379.0</td>\n",
       "    </tr>\n",
       "    <tr>\n",
       "      <th>1</th>\n",
       "      <td>0.124</td>\n",
       "      <td>944.0</td>\n",
       "      <td>455053.0</td>\n",
       "      <td>1177.0</td>\n",
       "      <td>38.9</td>\n",
       "      <td>41.2</td>\n",
       "      <td>104697.0</td>\n",
       "      <td>1937.0</td>\n",
       "      <td>Anza Vista</td>\n",
       "      <td>17080.0</td>\n",
       "      <td>2122.0</td>\n",
       "    </tr>\n",
       "    <tr>\n",
       "      <th>2</th>\n",
       "      <td>0.037</td>\n",
       "      <td>96.0</td>\n",
       "      <td>1101672.0</td>\n",
       "      <td>145.0</td>\n",
       "      <td>48.2</td>\n",
       "      <td>48.4</td>\n",
       "      <td>139017.0</td>\n",
       "      <td>2014.0</td>\n",
       "      <td>Aquatic Park</td>\n",
       "      <td>6487.0</td>\n",
       "      <td>241.0</td>\n",
       "    </tr>\n",
       "    <tr>\n",
       "      <th>3</th>\n",
       "      <td>0.055</td>\n",
       "      <td>774.0</td>\n",
       "      <td>NaN</td>\n",
       "      <td>1365.0</td>\n",
       "      <td>35.2</td>\n",
       "      <td>35.1</td>\n",
       "      <td>134523.0</td>\n",
       "      <td>2489.0</td>\n",
       "      <td>Baja Noe</td>\n",
       "      <td>38816.0</td>\n",
       "      <td>2141.0</td>\n",
       "    </tr>\n",
       "    <tr>\n",
       "      <th>4</th>\n",
       "      <td>0.048</td>\n",
       "      <td>312.0</td>\n",
       "      <td>NaN</td>\n",
       "      <td>377.0</td>\n",
       "      <td>42.6</td>\n",
       "      <td>38.6</td>\n",
       "      <td>84685.0</td>\n",
       "      <td>1591.0</td>\n",
       "      <td>Balboa Park</td>\n",
       "      <td>14350.0</td>\n",
       "      <td>690.0</td>\n",
       "    </tr>\n",
       "  </tbody>\n",
       "</table>\n",
       "</div>"
      ],
      "text/plain": [
       "   AreaSqMi  Females  HousePrice   Males  MedAgeF  MedAgeM  \\\n",
       "0     0.144   2461.0   1988926.0  3916.0     38.6     35.4   \n",
       "1     0.124    944.0    455053.0  1177.0     38.9     41.2   \n",
       "2     0.037     96.0   1101672.0   145.0     48.2     48.4   \n",
       "3     0.055    774.0         NaN  1365.0     35.2     35.1   \n",
       "4     0.048    312.0         NaN   377.0     42.6     38.6   \n",
       "\n",
       "   MedHouseholdIncome  MedRent  Neighborhood  PeoplePerSqMi  Population  \n",
       "0             93901.0   1754.0  Alamo Square        44418.0      6379.0  \n",
       "1            104697.0   1937.0    Anza Vista        17080.0      2122.0  \n",
       "2            139017.0   2014.0  Aquatic Park         6487.0       241.0  \n",
       "3            134523.0   2489.0      Baja Noe        38816.0      2141.0  \n",
       "4             84685.0   1591.0   Balboa Park        14350.0       690.0  "
      ]
     },
     "execution_count": 14,
     "metadata": {},
     "output_type": "execute_result"
    }
   ],
   "source": [
    "demographic = pd.DataFrame({\n",
    "        'Neighborhood': neighborhood_names, \n",
    "        'AreaSqMi': [catch(neigh.find_all(name = \"b\", string = \"Area:\"), True, True) for neigh in neighborhood_divs] ,\n",
    "        'Population': [catch(neigh.find_all(name = \"b\", string = \"Population:\"), True, True) for neigh in neighborhood_divs], \n",
    "        'PeoplePerSqMi': [catch(neigh.find_all(name = \"b\", string = \"Population density:\"), True, False) for neigh in neighborhood_divs],\n",
    "        'MedHouseholdIncome': [catch(neigh.find_all(name = \"b\", string = \"Median household income in 2015: \"), True, False) for neigh in neighborhood_divs],\n",
    "        'MedRent': [catch(neigh.find_all(name = \"b\", string = \"Median rent in in 2015: \"), True, False) for neigh in neighborhood_divs],\n",
    "        'Males': [catch(neigh.find_all(name = \"b\", string = \"Male vs Females\"), True, False) for neigh in neighborhood_divs],\n",
    "        'Females': [catch(neigh.find_all(name = \"b\", string = \"Male vs Females\"), True, False, \"a\") for neigh in neighborhood_divs], \n",
    "        'MedAgeM': [catch(neigh.find_all(name = \"b\", string = \"Median age\"), True, False) for neigh in neighborhood_divs],\n",
    "        'MedAgeF': [catch(neigh.find_all(name = \"b\", string = \"Median age\"), True, False, \"a\") for neigh in neighborhood_divs],\n",
    "        'HousePrice': [catch(neigh.find_all(name = \"b\", string = \"Average estimated value of detached houses in 2015 \"), True, False, complicated = True) for neigh in neighborhood_divs],\n",
    "})\n",
    "\n",
    "demographic.head()"
   ]
  },
  {
   "cell_type": "markdown",
   "metadata": {},
   "source": [
    "So now we have lots of demographic data on gender, age, area, rent, income, population, and so on. All of this data is from 2015. Next, the neighborhood names from this data need to be cleaned to match up with our primary data set. The CombineNeighs() function was created to take two rows of the demographic data and combine them, either taking the average of the two columns (like median age for example) or sums the columns (like population for example). This is necessary in a few cases seen in the next cell. One example is where the demographic data had \"Bayview District\" and \"Bayview Heights\" while our primary street data only had \"Bayview.\""
   ]
  },
  {
   "cell_type": "code",
   "execution_count": 15,
   "metadata": {
    "collapsed": false,
    "deletable": true,
    "editable": true
   },
   "outputs": [],
   "source": [
    "def CombineNeighs(name1, name2, newName, df):\n",
    "    \"\"\"\n",
    "    This function takes in two neighborhood names of the demographic dataframe, combines them, \n",
    "    and changes the name.\n",
    "    \"\"\"\n",
    "    # Grab the two rows we want:\n",
    "    one = df.ix[df.Neighborhood == name1]\n",
    "    two = df.ix[df.Neighborhood == name2]\n",
    "    # Sum or average all the columns:\n",
    "    one.loc[one.index, \"AreaSqMi\"] = (one['AreaSqMi'].values[0] + two['AreaSqMi'].values[0]) / 2\n",
    "    one.loc[one.index, 'Females'] = one['Females'].values[0] + two['Females'].values[0]\n",
    "    one.loc[one.index, 'HousePrice'] = (one['HousePrice'].values[0] + two['HousePrice'].values[0]) / 2\n",
    "    one.loc[one.index, 'Males'] = one['Males'].values[0] + two['Males'].values[0]\n",
    "    one.loc[one.index, 'MedAgeF'] = (one['MedAgeF'].values[0] + two['MedAgeF'].values[0]) / 2\n",
    "    one.loc[one.index, 'MedAgeM'] = (one['MedAgeM'].values[0] + two['MedAgeM'].values[0]) / 2\n",
    "    one.loc[one.index, 'MedHouseholdIncome'] = (one['MedHouseholdIncome'].values[0] + two['MedHouseholdIncome'].values[0]) / 2\n",
    "    one.loc[one.index, 'PeoplePerSqMi'] = (one['PeoplePerSqMi'].values[0] + two['PeoplePerSqMi'].values[0]) / 2\n",
    "    one.loc[one.index, 'Population'] = one['Population'].values[0] + two['Population'].values[0]   \n",
    "    one.loc[one.index, 'Neighborhood'] = newName\n",
    "    # Drop the old rows:\n",
    "    df = df.drop(one.index)\n",
    "    df = df.drop(two.index)\n",
    "    # Add the new row:\n",
    "    df = df.append(one)\n",
    "    return df"
   ]
  },
  {
   "cell_type": "code",
   "execution_count": 16,
   "metadata": {
    "collapsed": true,
    "deletable": true,
    "editable": true
   },
   "outputs": [
    {
     "name": "stderr",
     "output_type": "stream",
     "text": [
      "C:\\ProgramData\\Anaconda2\\lib\\site-packages\\pandas\\core\\indexing.py:477: SettingWithCopyWarning: \n",
      "A value is trying to be set on a copy of a slice from a DataFrame.\n",
      "Try using .loc[row_indexer,col_indexer] = value instead\n",
      "\n",
      "See the caveats in the documentation: http://pandas.pydata.org/pandas-docs/stable/indexing.html#indexing-view-versus-copy\n",
      "  self.obj[item] = s\n"
     ]
    }
   ],
   "source": [
    "# Clean up neighborhood names: make the demographic names match our data and shapefiles\n",
    "demographic = CombineNeighs(\"Bayview District\", \"Bayview Heights\", \"Bayview\", demographic)\n",
    "demographic = CombineNeighs(\"Bernal Heights North\", \"Bernal Heights Park\", \"Bernal Heights1\", demographic)\n",
    "demographic = CombineNeighs(\"Bernal Heights South\", \"Bernal Heights\", \"Bernal Heights2\", demographic)\n",
    "demographic = CombineNeighs(\"Bernal Heights1\", \"Bernal Heights2\", \"Bernal Heights\", demographic)\n",
    "demographic = CombineNeighs(\"Balboa Park\", \"Balboa Terrace\", \"Balboa Terrace\", demographic)\n",
    "demographic = CombineNeighs(\"Aquatic Park\", \"Fort Mason\", 'Aquatic Park / Ft. Mason', demographic)\n",
    "demographic = CombineNeighs(\"Downtown\", \"Union Square\", 'Downtown / Union Square', demographic)\n",
    "demographic = CombineNeighs(\"Financial District\", \"Financial District South\", \"Financial District\", demographic)"
   ]
  },
  {
   "cell_type": "markdown",
   "metadata": {},
   "source": [
    "The next cleaning section includes cases where the name just needs to be changed."
   ]
  },
  {
   "cell_type": "code",
   "execution_count": 17,
   "metadata": {
    "collapsed": false,
    "deletable": true,
    "editable": true
   },
   "outputs": [],
   "source": [
    "demographic.loc[demographic.Neighborhood == \"Buena Vista Park\", \"Neighborhood\"] = \"Buena Vista\"\n",
    "demographic.loc[demographic.Neighborhood == \"Cayuga Terrace\", \"Neighborhood\"] = \"Cayuga\"\n",
    "demographic.loc[demographic.Neighborhood == \"Ingleside Terrace\", \"Neighborhood\"] = \"Ingleside Terraces\"\n",
    "demographic.loc[demographic.Neighborhood == \"Laurel Heights\", \"Neighborhood\"] = 'Laurel Heights / Jordan Park'\n",
    "demographic.loc[demographic.Neighborhood == \"Lake Shore\", \"Neighborhood\"] = 'Lakeshore'\n",
    "demographic.loc[demographic.Neighborhood == \"South Of Market\", \"Neighborhood\"] = 'South of Market'\n",
    "demographic.loc[demographic.Neighborhood == \"North Waterfront\", \"Neighborhood\"] = 'Northern Waterfront'\n",
    "demographic.loc[demographic.Neighborhood == \"St Marys Square\", \"Neighborhood\"] = \"St. Marys Park\"\n",
    "demographic.loc[demographic.Neighborhood == \"Saint Francis Wood\", \"Neighborhood\"] = \"St. Francis Wood\"\n",
    "demographic.loc[demographic.Neighborhood == \"Sea Cliff\", \"Neighborhood\"] = \"Seacliff\"\n",
    "demographic.loc[demographic.Neighborhood == \"Parnassus\", \"Neighborhood\"] = \"Parnassus Heights\"\n",
    "demographic.loc[demographic.Neighborhood == \"Park Merced\", \"Neighborhood\"] = \"Parkmerced\"\n",
    "demographic.loc[demographic.Neighborhood == \"Mission District\", \"Neighborhood\"] = \"Mission\"\n",
    "demographic.loc[demographic.Neighborhood == \"Marina District\", \"Neighborhood\"] = \"Marina\"\n",
    "demographic.loc[demographic.Neighborhood == \"Mount Davidson Manor\", \"Neighborhood\"] = \"Mt. Davidson Manor\"\n",
    "demographic.loc[demographic.Neighborhood == \"Lake\", \"Neighborhood\"] = \"Lake Street\""
   ]
  },
  {
   "cell_type": "code",
   "execution_count": 45,
   "metadata": {
    "collapsed": false,
    "deletable": true,
    "editable": true
   },
   "outputs": [],
   "source": [
    "# Export demographic here, then import in the other notebook and merge before plotting.  \n",
    "demographic.to_csv(\"demographic.csv\")"
   ]
  },
  {
   "cell_type": "markdown",
   "metadata": {
    "deletable": true,
    "editable": true
   },
   "source": [
    "--------"
   ]
  },
  {
   "cell_type": "markdown",
   "metadata": {
    "deletable": true,
    "editable": true
   },
   "source": [
    "# III. Scraping - Events and Festivals"
   ]
  },
  {
   "cell_type": "code",
   "execution_count": 20,
   "metadata": {
    "collapsed": true,
    "deletable": true,
    "editable": true
   },
   "outputs": [],
   "source": [
    "url_pride = \"https://en.wikipedia.org/wiki/San_Francisco_Pride\"\n",
    "response = requests.get(url_pride)\n",
    "response.raise_for_status\n",
    "\n",
    "pride_bs = BeautifulSoup(response.text, 'lxml')\n",
    "\n",
    "pride_table = pride_bs.find_all(name = \"table\", attrs={'class':'wikitable'})\n"
   ]
  },
  {
   "cell_type": "code",
   "execution_count": 21,
   "metadata": {
    "collapsed": false,
    "deletable": true,
    "editable": true
   },
   "outputs": [
    {
     "name": "stdout",
     "output_type": "stream",
     "text": [
      "[u'Year', u'Dates', u'Festival name', u'Theme', u'Estimated attendance', u'Notes']\n"
     ]
    }
   ],
   "source": [
    "#type(pride_table[0])\n",
    "# The table is the first element\n",
    "\n",
    "rows = pride_table[0].find_all(name = \"tr\")\n",
    "\n",
    "# The first row is the header\n",
    "#print rows[0]\n",
    "#for colname in rows[0].find_all(name = \"th\"):\n",
    "#    print colname.text\n",
    "\n",
    "colnames = [colname.text for colname in rows[0].find_all(name = \"th\")]\n",
    "print colnames\n",
    "\n",
    "#pride = [{colname, []} for colname in colnames]\n",
    "#print pride"
   ]
  },
  {
   "cell_type": "code",
   "execution_count": 22,
   "metadata": {
    "collapsed": true,
    "deletable": true,
    "editable": true
   },
   "outputs": [],
   "source": [
    "years = []\n",
    "dates = []\n",
    "attendance = []\n",
    "\n",
    "for row in rows[1:]:\n",
    "    cells = row.find_all(name = \"td\")\n",
    "        \n",
    "    years.append(cells[0].text)\n",
    "    dates.append(cells[1].text)\n",
    "    attendance.append(cells[4].text)\n",
    "    \n",
    "assert(len(years) == len(dates) == len(attendance))"
   ]
  },
  {
   "cell_type": "code",
   "execution_count": 23,
   "metadata": {
    "collapsed": false,
    "deletable": true,
    "editable": true
   },
   "outputs": [
    {
     "data": {
      "text/html": [
       "<div>\n",
       "<table border=\"1\" class=\"dataframe\">\n",
       "  <thead>\n",
       "    <tr style=\"text-align: right;\">\n",
       "      <th></th>\n",
       "      <th>attendance</th>\n",
       "      <th>date</th>\n",
       "      <th>year</th>\n",
       "    </tr>\n",
       "  </thead>\n",
       "  <tbody>\n",
       "    <tr>\n",
       "      <th>38</th>\n",
       "      <td>1.2 million[25]</td>\n",
       "      <td>June 28–29</td>\n",
       "      <td>2008</td>\n",
       "    </tr>\n",
       "    <tr>\n",
       "      <th>39</th>\n",
       "      <td>1.2 million[26]</td>\n",
       "      <td>June 27–28</td>\n",
       "      <td>2009</td>\n",
       "    </tr>\n",
       "    <tr>\n",
       "      <th>40</th>\n",
       "      <td>1.2 million[27]</td>\n",
       "      <td>June 26–27</td>\n",
       "      <td>2010</td>\n",
       "    </tr>\n",
       "    <tr>\n",
       "      <th>41</th>\n",
       "      <td>1 million[28]</td>\n",
       "      <td>June 25–26</td>\n",
       "      <td>2011</td>\n",
       "    </tr>\n",
       "    <tr>\n",
       "      <th>42</th>\n",
       "      <td></td>\n",
       "      <td>June 23–24</td>\n",
       "      <td>2012</td>\n",
       "    </tr>\n",
       "    <tr>\n",
       "      <th>43</th>\n",
       "      <td>1.5 Million</td>\n",
       "      <td>June 29–30</td>\n",
       "      <td>2013</td>\n",
       "    </tr>\n",
       "    <tr>\n",
       "      <th>44</th>\n",
       "      <td>1.7 million</td>\n",
       "      <td>June 28–29</td>\n",
       "      <td>2014</td>\n",
       "    </tr>\n",
       "    <tr>\n",
       "      <th>45</th>\n",
       "      <td>1.8 million</td>\n",
       "      <td>June 27–28</td>\n",
       "      <td>2015</td>\n",
       "    </tr>\n",
       "    <tr>\n",
       "      <th>46</th>\n",
       "      <td>TBD</td>\n",
       "      <td>June 25-26</td>\n",
       "      <td>2016</td>\n",
       "    </tr>\n",
       "  </tbody>\n",
       "</table>\n",
       "</div>"
      ],
      "text/plain": [
       "         attendance        date  year\n",
       "38  1.2 million[25]  June 28–29  2008\n",
       "39  1.2 million[26]  June 27–28  2009\n",
       "40  1.2 million[27]  June 26–27  2010\n",
       "41    1 million[28]  June 25–26  2011\n",
       "42                   June 23–24  2012\n",
       "43      1.5 Million  June 29–30  2013\n",
       "44      1.7 million  June 28–29  2014\n",
       "45      1.8 million  June 27–28  2015\n",
       "46              TBD  June 25-26  2016"
      ]
     },
     "execution_count": 23,
     "metadata": {},
     "output_type": "execute_result"
    }
   ],
   "source": [
    "pride = pd.DataFrame.from_dict({\"year\": years,\n",
    "                                \"date\": dates,\n",
    "                                \"attendance\": attendance})\n",
    "\n",
    "pride.year = pd.to_numeric(pride.year)\n",
    "\n",
    "# Remove unused years\n",
    "pride = pride[pride.year > 2007]\n",
    "\n",
    "pride"
   ]
  },
  {
   "cell_type": "code",
   "execution_count": 25,
   "metadata": {
    "collapsed": false,
    "deletable": true,
    "editable": true
   },
   "outputs": [
    {
     "data": {
      "text/html": [
       "<div>\n",
       "<table border=\"1\" class=\"dataframe\">\n",
       "  <thead>\n",
       "    <tr style=\"text-align: right;\">\n",
       "      <th></th>\n",
       "      <th>attendance</th>\n",
       "      <th>date</th>\n",
       "      <th>year</th>\n",
       "      <th>start_date</th>\n",
       "      <th>end_date</th>\n",
       "    </tr>\n",
       "  </thead>\n",
       "  <tbody>\n",
       "    <tr>\n",
       "      <th>38</th>\n",
       "      <td>1.2 million[25]</td>\n",
       "      <td>June 28–29</td>\n",
       "      <td>2008</td>\n",
       "      <td>2008-06-28</td>\n",
       "      <td>2008-06-29</td>\n",
       "    </tr>\n",
       "    <tr>\n",
       "      <th>39</th>\n",
       "      <td>1.2 million[26]</td>\n",
       "      <td>June 27–28</td>\n",
       "      <td>2009</td>\n",
       "      <td>2009-06-27</td>\n",
       "      <td>2009-06-28</td>\n",
       "    </tr>\n",
       "    <tr>\n",
       "      <th>40</th>\n",
       "      <td>1.2 million[27]</td>\n",
       "      <td>June 26–27</td>\n",
       "      <td>2010</td>\n",
       "      <td>2010-06-26</td>\n",
       "      <td>2010-06-27</td>\n",
       "    </tr>\n",
       "    <tr>\n",
       "      <th>41</th>\n",
       "      <td>1 million[28]</td>\n",
       "      <td>June 25–26</td>\n",
       "      <td>2011</td>\n",
       "      <td>2011-06-25</td>\n",
       "      <td>2011-06-26</td>\n",
       "    </tr>\n",
       "    <tr>\n",
       "      <th>42</th>\n",
       "      <td></td>\n",
       "      <td>June 23–24</td>\n",
       "      <td>2012</td>\n",
       "      <td>2012-06-23</td>\n",
       "      <td>2012-06-24</td>\n",
       "    </tr>\n",
       "    <tr>\n",
       "      <th>43</th>\n",
       "      <td>1.5 Million</td>\n",
       "      <td>June 29–30</td>\n",
       "      <td>2013</td>\n",
       "      <td>2013-06-29</td>\n",
       "      <td>2013-06-30</td>\n",
       "    </tr>\n",
       "    <tr>\n",
       "      <th>44</th>\n",
       "      <td>1.7 million</td>\n",
       "      <td>June 28–29</td>\n",
       "      <td>2014</td>\n",
       "      <td>2014-06-28</td>\n",
       "      <td>2014-06-29</td>\n",
       "    </tr>\n",
       "    <tr>\n",
       "      <th>45</th>\n",
       "      <td>1.8 million</td>\n",
       "      <td>June 27–28</td>\n",
       "      <td>2015</td>\n",
       "      <td>2015-06-27</td>\n",
       "      <td>2015-06-28</td>\n",
       "    </tr>\n",
       "    <tr>\n",
       "      <th>46</th>\n",
       "      <td>TBD</td>\n",
       "      <td>June 25-26</td>\n",
       "      <td>2016</td>\n",
       "      <td>2016-06-25</td>\n",
       "      <td>2016-06-26</td>\n",
       "    </tr>\n",
       "  </tbody>\n",
       "</table>\n",
       "</div>"
      ],
      "text/plain": [
       "         attendance        date  year start_date   end_date\n",
       "38  1.2 million[25]  June 28–29  2008 2008-06-28 2008-06-29\n",
       "39  1.2 million[26]  June 27–28  2009 2009-06-27 2009-06-28\n",
       "40  1.2 million[27]  June 26–27  2010 2010-06-26 2010-06-27\n",
       "41    1 million[28]  June 25–26  2011 2011-06-25 2011-06-26\n",
       "42                   June 23–24  2012 2012-06-23 2012-06-24\n",
       "43      1.5 Million  June 29–30  2013 2013-06-29 2013-06-30\n",
       "44      1.7 million  June 28–29  2014 2014-06-28 2014-06-29\n",
       "45      1.8 million  June 27–28  2015 2015-06-27 2015-06-28\n",
       "46              TBD  June 25-26  2016 2016-06-25 2016-06-26"
      ]
     },
     "execution_count": 25,
     "metadata": {},
     "output_type": "execute_result"
    }
   ],
   "source": [
    "startdates = [d[:-3] for d in pride.date]\n",
    "enddates = [d[:4] + d[-2:] for d in pride.date]\n",
    "startdatetimes = []\n",
    "enddatetimes = []\n",
    "\n",
    "for sdate, edate, year in zip(startdates, enddates, pride.year):\n",
    "    startdatetimes.append(sdate + \" \" + str(year))\n",
    "    enddatetimes.append(edate + \" \" + str(year))\n",
    "    \n",
    "pride[\"start_date\"] = pd.to_datetime(startdatetimes)\n",
    "pride[\"end_date\"] = pd.to_datetime(enddatetimes)\n",
    "#pride[\"datetimes\"] = [pd.date_range(dt, periods=2) for dt in startdatetimes]\n",
    "pride"
   ]
  },
  {
   "cell_type": "code",
   "execution_count": 36,
   "metadata": {
    "collapsed": false,
    "deletable": true,
    "editable": true
   },
   "outputs": [
    {
     "data": {
      "text/html": [
       "<div>\n",
       "<table border=\"1\" class=\"dataframe\">\n",
       "  <thead>\n",
       "    <tr style=\"text-align: right;\">\n",
       "      <th></th>\n",
       "      <th>level_0</th>\n",
       "      <th>index</th>\n",
       "      <th>attendance</th>\n",
       "      <th>date</th>\n",
       "      <th>year</th>\n",
       "      <th>start_date</th>\n",
       "      <th>end_date</th>\n",
       "      <th>attendance_num</th>\n",
       "      <th>StartNoTime</th>\n",
       "      <th>EndNoTime</th>\n",
       "    </tr>\n",
       "  </thead>\n",
       "  <tbody>\n",
       "    <tr>\n",
       "      <th>0</th>\n",
       "      <td>0</td>\n",
       "      <td>38</td>\n",
       "      <td>1.2 million[25]</td>\n",
       "      <td>June 28–29</td>\n",
       "      <td>2008</td>\n",
       "      <td>2008-06-28</td>\n",
       "      <td>2008-06-29</td>\n",
       "      <td>1200000.0</td>\n",
       "      <td>2008-06-28</td>\n",
       "      <td>2008-06-29</td>\n",
       "    </tr>\n",
       "    <tr>\n",
       "      <th>1</th>\n",
       "      <td>1</td>\n",
       "      <td>39</td>\n",
       "      <td>1.2 million[26]</td>\n",
       "      <td>June 27–28</td>\n",
       "      <td>2009</td>\n",
       "      <td>2009-06-27</td>\n",
       "      <td>2009-06-28</td>\n",
       "      <td>1200000.0</td>\n",
       "      <td>2009-06-27</td>\n",
       "      <td>2009-06-28</td>\n",
       "    </tr>\n",
       "    <tr>\n",
       "      <th>2</th>\n",
       "      <td>2</td>\n",
       "      <td>40</td>\n",
       "      <td>1.2 million[27]</td>\n",
       "      <td>June 26–27</td>\n",
       "      <td>2010</td>\n",
       "      <td>2010-06-26</td>\n",
       "      <td>2010-06-27</td>\n",
       "      <td>1200000.0</td>\n",
       "      <td>2010-06-26</td>\n",
       "      <td>2010-06-27</td>\n",
       "    </tr>\n",
       "    <tr>\n",
       "      <th>3</th>\n",
       "      <td>3</td>\n",
       "      <td>41</td>\n",
       "      <td>1 million[28]</td>\n",
       "      <td>June 25–26</td>\n",
       "      <td>2011</td>\n",
       "      <td>2011-06-25</td>\n",
       "      <td>2011-06-26</td>\n",
       "      <td>1000000.0</td>\n",
       "      <td>2011-06-25</td>\n",
       "      <td>2011-06-26</td>\n",
       "    </tr>\n",
       "    <tr>\n",
       "      <th>4</th>\n",
       "      <td>4</td>\n",
       "      <td>42</td>\n",
       "      <td></td>\n",
       "      <td>June 23–24</td>\n",
       "      <td>2012</td>\n",
       "      <td>2012-06-23</td>\n",
       "      <td>2012-06-24</td>\n",
       "      <td>NaN</td>\n",
       "      <td>2012-06-23</td>\n",
       "      <td>2012-06-24</td>\n",
       "    </tr>\n",
       "    <tr>\n",
       "      <th>5</th>\n",
       "      <td>5</td>\n",
       "      <td>43</td>\n",
       "      <td>1.5 Million</td>\n",
       "      <td>June 29–30</td>\n",
       "      <td>2013</td>\n",
       "      <td>2013-06-29</td>\n",
       "      <td>2013-06-30</td>\n",
       "      <td>1500000.0</td>\n",
       "      <td>2013-06-29</td>\n",
       "      <td>2013-06-30</td>\n",
       "    </tr>\n",
       "    <tr>\n",
       "      <th>6</th>\n",
       "      <td>6</td>\n",
       "      <td>44</td>\n",
       "      <td>1.7 million</td>\n",
       "      <td>June 28–29</td>\n",
       "      <td>2014</td>\n",
       "      <td>2014-06-28</td>\n",
       "      <td>2014-06-29</td>\n",
       "      <td>1700000.0</td>\n",
       "      <td>2014-06-28</td>\n",
       "      <td>2014-06-29</td>\n",
       "    </tr>\n",
       "    <tr>\n",
       "      <th>7</th>\n",
       "      <td>7</td>\n",
       "      <td>45</td>\n",
       "      <td>1.8 million</td>\n",
       "      <td>June 27–28</td>\n",
       "      <td>2015</td>\n",
       "      <td>2015-06-27</td>\n",
       "      <td>2015-06-28</td>\n",
       "      <td>1800000.0</td>\n",
       "      <td>2015-06-27</td>\n",
       "      <td>2015-06-28</td>\n",
       "    </tr>\n",
       "    <tr>\n",
       "      <th>8</th>\n",
       "      <td>8</td>\n",
       "      <td>46</td>\n",
       "      <td>TBD</td>\n",
       "      <td>June 25-26</td>\n",
       "      <td>2016</td>\n",
       "      <td>2016-06-25</td>\n",
       "      <td>2016-06-26</td>\n",
       "      <td>NaN</td>\n",
       "      <td>2016-06-25</td>\n",
       "      <td>2016-06-26</td>\n",
       "    </tr>\n",
       "  </tbody>\n",
       "</table>\n",
       "</div>"
      ],
      "text/plain": [
       "   level_0  index       attendance        date  year start_date   end_date  \\\n",
       "0        0     38  1.2 million[25]  June 28–29  2008 2008-06-28 2008-06-29   \n",
       "1        1     39  1.2 million[26]  June 27–28  2009 2009-06-27 2009-06-28   \n",
       "2        2     40  1.2 million[27]  June 26–27  2010 2010-06-26 2010-06-27   \n",
       "3        3     41    1 million[28]  June 25–26  2011 2011-06-25 2011-06-26   \n",
       "4        4     42                   June 23–24  2012 2012-06-23 2012-06-24   \n",
       "5        5     43      1.5 Million  June 29–30  2013 2013-06-29 2013-06-30   \n",
       "6        6     44      1.7 million  June 28–29  2014 2014-06-28 2014-06-29   \n",
       "7        7     45      1.8 million  June 27–28  2015 2015-06-27 2015-06-28   \n",
       "8        8     46              TBD  June 25-26  2016 2016-06-25 2016-06-26   \n",
       "\n",
       "   attendance_num StartNoTime   EndNoTime  \n",
       "0       1200000.0  2008-06-28  2008-06-29  \n",
       "1       1200000.0  2009-06-27  2009-06-28  \n",
       "2       1200000.0  2010-06-26  2010-06-27  \n",
       "3       1000000.0  2011-06-25  2011-06-26  \n",
       "4             NaN  2012-06-23  2012-06-24  \n",
       "5       1500000.0  2013-06-29  2013-06-30  \n",
       "6       1700000.0  2014-06-28  2014-06-29  \n",
       "7       1800000.0  2015-06-27  2015-06-28  \n",
       "8             NaN  2016-06-25  2016-06-26  "
      ]
     },
     "execution_count": 36,
     "metadata": {},
     "output_type": "execute_result"
    }
   ],
   "source": [
    "def parse_attendance(attendance_str):\n",
    "    \"\"\"\n",
    "    Parse the attendance strings in the table in the Wikipedia page for the Pride parade. \n",
    "    Returns a float or None if the string cannot be parsed.\n",
    "    \"\"\"\n",
    "    \n",
    "    if \"million\" in attendance_str.lower():\n",
    "        # Multiply by 1000000 and remove the string \"million\"\n",
    "        return float(attendance_str.split(\" \")[0]) * 1000000\n",
    "    \n",
    "    else:\n",
    "        return None\n",
    "\n",
    "        \n",
    "pride[\"attendance_num\"] = [parse_attendance(x) for x in pride.attendance]\n",
    "pride = pride.reset_index()\n",
    "pride"
   ]
  },
  {
   "cell_type": "markdown",
   "metadata": {
    "deletable": true,
    "editable": true
   },
   "source": [
    "### Outside Lands Music and Arts Festival"
   ]
  },
  {
   "cell_type": "code",
   "execution_count": 4,
   "metadata": {
    "collapsed": false,
    "deletable": true,
    "editable": true
   },
   "outputs": [
    {
     "data": {
      "text/plain": [
       "[[u'2008', u'Friday August 22'],\n",
       " [u'2008', u'Saturday August 23'],\n",
       " [u'2008', u'Sunday August 24'],\n",
       " [u'2009', u'Friday August 28'],\n",
       " [u'2009', u'Saturday August 29'],\n",
       " [u'2010', u'Saturday August 14'],\n",
       " [u'2010', u'Sunday August 15'],\n",
       " [u'2011', u'August 12-14'],\n",
       " [u'2012', u'August 10-12'],\n",
       " [u'2013', u'August 9-11'],\n",
       " [u'2014', u'August 8-10'],\n",
       " [u'2015', u'August 7-9'],\n",
       " [u'2016', u'August 5-9']]"
      ]
     },
     "execution_count": 4,
     "metadata": {},
     "output_type": "execute_result"
    }
   ],
   "source": [
    "url_ol = \"https://en.wikipedia.org/wiki/Outside_Lands_Music_and_Arts_Festival\"\n",
    "response = requests.get(url_ol)\n",
    "response.raise_for_status\n",
    "\n",
    "ol_bs = BeautifulSoup(response.text, 'lxml')\n",
    "\n",
    "\n",
    "# Years are in h3\n",
    "h3 = ol_bs.find_all(name = \"h3\")\n",
    "\n",
    "ol = []\n",
    "\n",
    "for h in h3:\n",
    "    span = h.find_all(name = \"span\", attrs={\"class\":\"mw-headline\"})\n",
    "    \n",
    "    # If there is a span in the h3\n",
    "    if span:\n",
    "        year = span[0].text\n",
    "        #print year \n",
    "        \n",
    "        check_p = True\n",
    "        \n",
    "        #dates = []\n",
    "        \n",
    "        for sibling in h.find_next_siblings(limit=5):\n",
    "            \n",
    "            # Days are in h4 or p\n",
    "            if sibling.name == \"h4\":\n",
    "                #print \"h4\" + \"\\t\" + sibling.text\n",
    "                ol.append([year, sibling.text.replace(u\"\\u2013\", \"-\").replace(\"[edit]\",\"\")])\n",
    "                # If an h4 was found, stop looking for p\n",
    "                check_p = False\n",
    "                \n",
    "            elif sibling.name == \"p\" and check_p:\n",
    "                #print check_p\n",
    "                #print \"p\" + \"\\t\" + sibling.text\n",
    "                ol.append([year, sibling.text.replace(u\"\\u2013\", \"-\")])\n",
    "                # Formatting for 2011+ uses the date in a p tag\n",
    "                if \"August\" in sibling.text:\n",
    "                    break\n",
    "                \n",
    "        #print \"\\n\"\n",
    "        #ol[str(year)] = dates\n",
    "\n",
    "ol"
   ]
  },
  {
   "cell_type": "code",
   "execution_count": 5,
   "metadata": {
    "collapsed": false,
    "deletable": true,
    "editable": true
   },
   "outputs": [
    {
     "data": {
      "text/plain": [
       "[[u'2008', u'August', u'22'],\n",
       " [u'2008', u'August', u'23'],\n",
       " [u'2008', u'August', u'24'],\n",
       " [u'2009', u'August', u'28'],\n",
       " [u'2009', u'August', u'29'],\n",
       " [u'2010', u'August', u'14'],\n",
       " [u'2010', u'August', u'15'],\n",
       " [u'2011', u'August', u'12'],\n",
       " [u'2011', u'August', u'14'],\n",
       " [u'2012', u'August', u'10'],\n",
       " [u'2012', u'August', u'12'],\n",
       " [u'2013', u'August', u'9'],\n",
       " [u'2013', u'August', u'11'],\n",
       " [u'2014', u'August', u'8'],\n",
       " [u'2014', u'August', u'10'],\n",
       " [u'2015', u'August', u'7'],\n",
       " [u'2015', u'August', u'9'],\n",
       " [u'2016', u'August', u'5'],\n",
       " [u'2016', u'August', u'9']]"
      ]
     },
     "execution_count": 5,
     "metadata": {},
     "output_type": "execute_result"
    }
   ],
   "source": [
    "# Separate the date ranges and fix the formatting\n",
    "\n",
    "ol2 = []\n",
    "for year_and_date in ol:\n",
    "    \n",
    "    date_split = year_and_date[1].split()\n",
    "    month = date_split[0]\n",
    "    if len(date_split) > 2:\n",
    "        # keep the year\n",
    "        year_and_date_new = [year_and_date[0]]\n",
    "        year_and_date_new.extend(date_split[1:])\n",
    "        ol2.append(year_and_date_new)\n",
    "    else:\n",
    "        days = date_split[1].split(\"-\")\n",
    "        for day in days:\n",
    "            # keep the year\n",
    "            year_and_date_new = [year_and_date[0]]\n",
    "            year_and_date_new.append(month)\n",
    "            year_and_date_new.append(day)\n",
    "            ol2.append(year_and_date_new)\n",
    "\n",
    "ol2"
   ]
  },
  {
   "cell_type": "code",
   "execution_count": 6,
   "metadata": {
    "collapsed": false,
    "deletable": true,
    "editable": true
   },
   "outputs": [
    {
     "data": {
      "text/plain": [
       "DatetimeIndex(['2008-08-22', '2008-08-23', '2008-08-24', '2009-08-28',\n",
       "               '2009-08-29', '2010-08-14', '2010-08-15', '2011-08-12',\n",
       "               '2011-08-14', '2012-08-10', '2012-08-12', '2013-08-09',\n",
       "               '2013-08-11', '2014-08-08', '2014-08-10', '2015-08-07',\n",
       "               '2015-08-09', '2016-08-05', '2016-08-09'],\n",
       "              dtype='datetime64[ns]', freq=None)"
      ]
     },
     "execution_count": 6,
     "metadata": {},
     "output_type": "execute_result"
    }
   ],
   "source": [
    "ol_dates = pd.to_datetime([\" \".join(date) for date in ol2])\n",
    "ol_dates"
   ]
  },
  {
   "cell_type": "code",
   "execution_count": 10,
   "metadata": {
    "collapsed": false,
    "deletable": true,
    "editable": true
   },
   "outputs": [],
   "source": [
    "ol_dates_df = pd.DataFrame({\"Festival_Date\": ol_dates})\n",
    "ol_dates_df.to_csv(\"ol_dates.csv\")"
   ]
  },
  {
   "cell_type": "markdown",
   "metadata": {
    "deletable": true,
    "editable": true
   },
   "source": [
    "# Events Plots"
   ]
  },
  {
   "cell_type": "markdown",
   "metadata": {
    "deletable": true,
    "editable": true
   },
   "source": [
    "Grab all of June and group by day to get count of requests, then add boolean pride or not"
   ]
  },
  {
   "cell_type": "code",
   "execution_count": 31,
   "metadata": {
    "collapsed": false,
    "deletable": true,
    "editable": true
   },
   "outputs": [
    {
     "name": "stderr",
     "output_type": "stream",
     "text": [
      "/home/tgordon/.local/lib/python2.7/site-packages/ipykernel/__main__.py:2: SettingWithCopyWarning: \n",
      "A value is trying to be set on a copy of a slice from a DataFrame.\n",
      "Try using .loc[row_indexer,col_indexer] = value instead\n",
      "\n",
      "See the caveats in the documentation: http://pandas.pydata.org/pandas-docs/stable/indexing.html#indexing-view-versus-copy\n",
      "  from ipykernel import kernelapp as app\n"
     ]
    }
   ],
   "source": [
    "streetJune = street.loc[street[\"Opened\"].dt.month == 6]\n",
    "streetJune[\"DateOpened\"] = streetJune[\"Opened\"].dt.date # Yells at you\n",
    "\n",
    "# http://www.sfpride.org/parade/\n",
    "prideNeighs = [\"South of Market\", \"Tenderloin\", \"Financial District\", \"Downtown / Union Square\", \"Civic Center\"]\n",
    "streetJune = streetJune.loc[streetJune.Neighborhood.isin(prideNeighs)]\n",
    "\n",
    "JuneDayReqs = streetJune.groupby(by = \"DateOpened\").count().CaseID\n",
    "pride[\"StartNoTime\"] = pride[\"start_date\"].dt.date \n",
    "pride[\"EndNoTime\"] = pride[\"end_date\"].dt.date \n",
    "JuneRequests = pd.DataFrame({\"ReqCount\": JuneDayReqs})\n",
    "JuneRequests = JuneRequests.reset_index()\n",
    "JuneRequests[\"Pride\"] = [row in pride.StartNoTime.values for row in JuneRequests.DateOpened]"
   ]
  },
  {
   "cell_type": "code",
   "execution_count": 32,
   "metadata": {
    "collapsed": false,
    "deletable": true,
    "editable": true
   },
   "outputs": [
    {
     "data": {
      "text/html": [
       "<div>\n",
       "<table border=\"1\" class=\"dataframe\">\n",
       "  <thead>\n",
       "    <tr style=\"text-align: right;\">\n",
       "      <th></th>\n",
       "      <th>CaseID</th>\n",
       "      <th>Opened</th>\n",
       "      <th>Closed</th>\n",
       "      <th>Status</th>\n",
       "      <th>Responsible Agency</th>\n",
       "      <th>Address</th>\n",
       "      <th>Category</th>\n",
       "      <th>Request Type</th>\n",
       "      <th>Request Details</th>\n",
       "      <th>Source</th>\n",
       "      <th>...</th>\n",
       "      <th>Females</th>\n",
       "      <th>HousePrice</th>\n",
       "      <th>Males</th>\n",
       "      <th>MedAgeF</th>\n",
       "      <th>MedAgeM</th>\n",
       "      <th>MedHouseholdIncome</th>\n",
       "      <th>MedRent</th>\n",
       "      <th>PeoplePerSqMi</th>\n",
       "      <th>Population</th>\n",
       "      <th>DateOpened</th>\n",
       "    </tr>\n",
       "  </thead>\n",
       "  <tbody>\n",
       "    <tr>\n",
       "      <th>19953</th>\n",
       "      <td>441365</td>\n",
       "      <td>2009-06-01 05:59:27</td>\n",
       "      <td>2009-06-03 06:11:11</td>\n",
       "      <td>Closed</td>\n",
       "      <td>DPW Ops Queue</td>\n",
       "      <td>34 SHERIDAN ST, SAN FRANCISCO, CA, 94103</td>\n",
       "      <td>Street and Sidewalk Cleaning</td>\n",
       "      <td>Illegal_Dumping</td>\n",
       "      <td>Furniture</td>\n",
       "      <td>Voice In</td>\n",
       "      <td>...</td>\n",
       "      <td>4643.0</td>\n",
       "      <td>NaN</td>\n",
       "      <td>6977.0</td>\n",
       "      <td>40.00</td>\n",
       "      <td>39.60</td>\n",
       "      <td>92455.0</td>\n",
       "      <td>1047.0</td>\n",
       "      <td>18297.0</td>\n",
       "      <td>11623.0</td>\n",
       "      <td>2009-06-01</td>\n",
       "    </tr>\n",
       "    <tr>\n",
       "      <th>19954</th>\n",
       "      <td>441366</td>\n",
       "      <td>2009-06-01 06:04:06</td>\n",
       "      <td>2009-06-02 08:10:47</td>\n",
       "      <td>Closed</td>\n",
       "      <td>DPW Ops Queue</td>\n",
       "      <td>Intersection of 6TH ST and NATOMA ST</td>\n",
       "      <td>Street and Sidewalk Cleaning</td>\n",
       "      <td>Street_Cleaning</td>\n",
       "      <td>Garbage</td>\n",
       "      <td>Voice In</td>\n",
       "      <td>...</td>\n",
       "      <td>4643.0</td>\n",
       "      <td>NaN</td>\n",
       "      <td>6977.0</td>\n",
       "      <td>40.00</td>\n",
       "      <td>39.60</td>\n",
       "      <td>92455.0</td>\n",
       "      <td>1047.0</td>\n",
       "      <td>18297.0</td>\n",
       "      <td>11623.0</td>\n",
       "      <td>2009-06-01</td>\n",
       "    </tr>\n",
       "    <tr>\n",
       "      <th>19961</th>\n",
       "      <td>441383</td>\n",
       "      <td>2009-06-01 07:07:34</td>\n",
       "      <td>2009-06-02 08:10:45</td>\n",
       "      <td>Closed</td>\n",
       "      <td>DPW Ops Queue</td>\n",
       "      <td>Intersection of GOLDEN GATE AVE and GOUGH ST</td>\n",
       "      <td>Street and Sidewalk Cleaning</td>\n",
       "      <td>Sidewalk_Cleaning</td>\n",
       "      <td>Furniture</td>\n",
       "      <td>Voice In</td>\n",
       "      <td>...</td>\n",
       "      <td>6382.0</td>\n",
       "      <td>NaN</td>\n",
       "      <td>7892.0</td>\n",
       "      <td>44.70</td>\n",
       "      <td>42.60</td>\n",
       "      <td>64841.0</td>\n",
       "      <td>1488.0</td>\n",
       "      <td>36530.0</td>\n",
       "      <td>14275.0</td>\n",
       "      <td>2009-06-01</td>\n",
       "    </tr>\n",
       "    <tr>\n",
       "      <th>19966</th>\n",
       "      <td>441393</td>\n",
       "      <td>2009-06-01 07:23:06</td>\n",
       "      <td>2009-06-03 06:11:01</td>\n",
       "      <td>Closed</td>\n",
       "      <td>DPW Ops Queue</td>\n",
       "      <td>519 STEVENSON ST, SAN FRANCISCO, CA, 94103</td>\n",
       "      <td>Street and Sidewalk Cleaning</td>\n",
       "      <td>Sidewalk_Cleaning</td>\n",
       "      <td>Garbage</td>\n",
       "      <td>Voice In</td>\n",
       "      <td>...</td>\n",
       "      <td>4643.0</td>\n",
       "      <td>NaN</td>\n",
       "      <td>6977.0</td>\n",
       "      <td>40.00</td>\n",
       "      <td>39.60</td>\n",
       "      <td>92455.0</td>\n",
       "      <td>1047.0</td>\n",
       "      <td>18297.0</td>\n",
       "      <td>11623.0</td>\n",
       "      <td>2009-06-01</td>\n",
       "    </tr>\n",
       "    <tr>\n",
       "      <th>20009</th>\n",
       "      <td>441488</td>\n",
       "      <td>2009-06-01 09:23:58</td>\n",
       "      <td>2009-06-11 07:10:53</td>\n",
       "      <td>Closed</td>\n",
       "      <td>DPW Ops Queue</td>\n",
       "      <td>160 PINE ST, SAN FRANCISCO, CA, 94111</td>\n",
       "      <td>Street and Sidewalk Cleaning</td>\n",
       "      <td>Sidewalk_Cleaning</td>\n",
       "      <td>Sidewalk_Cleaning</td>\n",
       "      <td>Voice In</td>\n",
       "      <td>...</td>\n",
       "      <td>5602.0</td>\n",
       "      <td>NaN</td>\n",
       "      <td>8189.0</td>\n",
       "      <td>46.35</td>\n",
       "      <td>43.65</td>\n",
       "      <td>63703.0</td>\n",
       "      <td>1050.0</td>\n",
       "      <td>13832.5</td>\n",
       "      <td>13794.0</td>\n",
       "      <td>2009-06-01</td>\n",
       "    </tr>\n",
       "  </tbody>\n",
       "</table>\n",
       "<p>5 rows × 26 columns</p>\n",
       "</div>"
      ],
      "text/plain": [
       "       CaseID              Opened              Closed  Status  \\\n",
       "19953  441365 2009-06-01 05:59:27 2009-06-03 06:11:11  Closed   \n",
       "19954  441366 2009-06-01 06:04:06 2009-06-02 08:10:47  Closed   \n",
       "19961  441383 2009-06-01 07:07:34 2009-06-02 08:10:45  Closed   \n",
       "19966  441393 2009-06-01 07:23:06 2009-06-03 06:11:01  Closed   \n",
       "20009  441488 2009-06-01 09:23:58 2009-06-11 07:10:53  Closed   \n",
       "\n",
       "      Responsible Agency                                       Address  \\\n",
       "19953      DPW Ops Queue      34 SHERIDAN ST, SAN FRANCISCO, CA, 94103   \n",
       "19954      DPW Ops Queue          Intersection of 6TH ST and NATOMA ST   \n",
       "19961      DPW Ops Queue  Intersection of GOLDEN GATE AVE and GOUGH ST   \n",
       "19966      DPW Ops Queue    519 STEVENSON ST, SAN FRANCISCO, CA, 94103   \n",
       "20009      DPW Ops Queue         160 PINE ST, SAN FRANCISCO, CA, 94111   \n",
       "\n",
       "                           Category       Request Type    Request Details  \\\n",
       "19953  Street and Sidewalk Cleaning    Illegal_Dumping          Furniture   \n",
       "19954  Street and Sidewalk Cleaning    Street_Cleaning            Garbage   \n",
       "19961  Street and Sidewalk Cleaning  Sidewalk_Cleaning          Furniture   \n",
       "19966  Street and Sidewalk Cleaning  Sidewalk_Cleaning            Garbage   \n",
       "20009  Street and Sidewalk Cleaning  Sidewalk_Cleaning  Sidewalk_Cleaning   \n",
       "\n",
       "         Source     ...      Females HousePrice   Males MedAgeF  MedAgeM  \\\n",
       "19953  Voice In     ...       4643.0        NaN  6977.0   40.00    39.60   \n",
       "19954  Voice In     ...       4643.0        NaN  6977.0   40.00    39.60   \n",
       "19961  Voice In     ...       6382.0        NaN  7892.0   44.70    42.60   \n",
       "19966  Voice In     ...       4643.0        NaN  6977.0   40.00    39.60   \n",
       "20009  Voice In     ...       5602.0        NaN  8189.0   46.35    43.65   \n",
       "\n",
       "       MedHouseholdIncome  MedRent  PeoplePerSqMi  Population  DateOpened  \n",
       "19953             92455.0   1047.0        18297.0     11623.0  2009-06-01  \n",
       "19954             92455.0   1047.0        18297.0     11623.0  2009-06-01  \n",
       "19961             64841.0   1488.0        36530.0     14275.0  2009-06-01  \n",
       "19966             92455.0   1047.0        18297.0     11623.0  2009-06-01  \n",
       "20009             63703.0   1050.0        13832.5     13794.0  2009-06-01  \n",
       "\n",
       "[5 rows x 26 columns]"
      ]
     },
     "execution_count": 32,
     "metadata": {},
     "output_type": "execute_result"
    }
   ],
   "source": [
    "streetJune.head()"
   ]
  },
  {
   "cell_type": "code",
   "execution_count": 33,
   "metadata": {
    "collapsed": false,
    "deletable": true,
    "editable": true
   },
   "outputs": [
    {
     "data": {
      "text/html": [
       "<div>\n",
       "<table border=\"1\" class=\"dataframe\">\n",
       "  <thead>\n",
       "    <tr style=\"text-align: right;\">\n",
       "      <th></th>\n",
       "      <th>DateOpened</th>\n",
       "      <th>ReqCount_y</th>\n",
       "      <th>attendance_num_x</th>\n",
       "      <th>Year</th>\n",
       "      <th>StartNoTime</th>\n",
       "      <th>EndNoTime</th>\n",
       "    </tr>\n",
       "  </thead>\n",
       "  <tbody>\n",
       "    <tr>\n",
       "      <th>0</th>\n",
       "      <td>2009-06-27</td>\n",
       "      <td>39</td>\n",
       "      <td>1200000.0</td>\n",
       "      <td>2009</td>\n",
       "      <td>2009-06-27</td>\n",
       "      <td>2009-06-28</td>\n",
       "    </tr>\n",
       "    <tr>\n",
       "      <th>1</th>\n",
       "      <td>2010-06-26</td>\n",
       "      <td>61</td>\n",
       "      <td>1200000.0</td>\n",
       "      <td>2010</td>\n",
       "      <td>2010-06-26</td>\n",
       "      <td>2010-06-27</td>\n",
       "    </tr>\n",
       "    <tr>\n",
       "      <th>2</th>\n",
       "      <td>2011-06-25</td>\n",
       "      <td>63</td>\n",
       "      <td>1000000.0</td>\n",
       "      <td>2011</td>\n",
       "      <td>2011-06-25</td>\n",
       "      <td>2011-06-26</td>\n",
       "    </tr>\n",
       "    <tr>\n",
       "      <th>3</th>\n",
       "      <td>2012-06-23</td>\n",
       "      <td>56</td>\n",
       "      <td>NaN</td>\n",
       "      <td>2012</td>\n",
       "      <td>2012-06-23</td>\n",
       "      <td>2012-06-24</td>\n",
       "    </tr>\n",
       "    <tr>\n",
       "      <th>4</th>\n",
       "      <td>2013-06-29</td>\n",
       "      <td>37</td>\n",
       "      <td>1500000.0</td>\n",
       "      <td>2013</td>\n",
       "      <td>2013-06-29</td>\n",
       "      <td>2013-06-30</td>\n",
       "    </tr>\n",
       "    <tr>\n",
       "      <th>5</th>\n",
       "      <td>2014-06-28</td>\n",
       "      <td>62</td>\n",
       "      <td>1700000.0</td>\n",
       "      <td>2014</td>\n",
       "      <td>2014-06-28</td>\n",
       "      <td>2014-06-29</td>\n",
       "    </tr>\n",
       "    <tr>\n",
       "      <th>6</th>\n",
       "      <td>2015-06-27</td>\n",
       "      <td>68</td>\n",
       "      <td>1800000.0</td>\n",
       "      <td>2015</td>\n",
       "      <td>2015-06-27</td>\n",
       "      <td>2015-06-28</td>\n",
       "    </tr>\n",
       "    <tr>\n",
       "      <th>7</th>\n",
       "      <td>2016-06-25</td>\n",
       "      <td>108</td>\n",
       "      <td>NaN</td>\n",
       "      <td>2016</td>\n",
       "      <td>2016-06-25</td>\n",
       "      <td>2016-06-26</td>\n",
       "    </tr>\n",
       "  </tbody>\n",
       "</table>\n",
       "</div>"
      ],
      "text/plain": [
       "   DateOpened  ReqCount_y  attendance_num_x  Year StartNoTime   EndNoTime\n",
       "0  2009-06-27          39         1200000.0  2009  2009-06-27  2009-06-28\n",
       "1  2010-06-26          61         1200000.0  2010  2010-06-26  2010-06-27\n",
       "2  2011-06-25          63         1000000.0  2011  2011-06-25  2011-06-26\n",
       "3  2012-06-23          56               NaN  2012  2012-06-23  2012-06-24\n",
       "4  2013-06-29          37         1500000.0  2013  2013-06-29  2013-06-30\n",
       "5  2014-06-28          62         1700000.0  2014  2014-06-28  2014-06-29\n",
       "6  2015-06-27          68         1800000.0  2015  2015-06-27  2015-06-28\n",
       "7  2016-06-25         108               NaN  2016  2016-06-25  2016-06-26"
      ]
     },
     "execution_count": 33,
     "metadata": {},
     "output_type": "execute_result"
    }
   ],
   "source": [
    "pride_merged_start = JuneRequests.merge(right = pride, right_on=\"StartNoTime\", left_on=\"DateOpened\")\n",
    "pride_merged_end = JuneRequests.merge(right = pride, right_on=\"EndNoTime\", left_on=\"DateOpened\")\n",
    "cols = [\"DateOpened\", \"ReqCount\", \"attendance_num\", \"StartNoTime\", \"EndNoTime\"]\n",
    "pride_merged_start = pride_merged_start[cols]\n",
    "pride_merged_end = pride_merged_end[cols]\n",
    "pride_merged = pd.concat([pride_merged_start, pride_merged_end])\n",
    "pride_merged[\"Year\"] = [t.year for t in pride_merged.StartNoTime]\n",
    "req_year = pride_merged.groupby(by=\"Year\").sum()\n",
    "req_year.reset_index(inplace=True)\n",
    "pride_merged_final = pride_merged_start\n",
    "pride_merged_final[\"Year\"] = [t.year for t in pride_merged_final.StartNoTime]\n",
    "pride_merged_final = pride_merged_final.merge(req_year, on = \"Year\")\n",
    "pride_merged_final = pride_merged_final[[\"DateOpened\", \"ReqCount_y\", \"attendance_num_x\", \"Year\",\"StartNoTime\", \"EndNoTime\"]]\n",
    "pride_merged_final"
   ]
  },
  {
   "cell_type": "code",
   "execution_count": 43,
   "metadata": {
    "collapsed": true,
    "deletable": true,
    "editable": true
   },
   "outputs": [],
   "source": [
    "pride_merged_final.to_csv(\"pride.csv\")"
   ]
  }
 ],
 "metadata": {
  "anaconda-cloud": {},
  "kernelspec": {
   "display_name": "Python 2",
   "language": "python",
   "name": "python2"
  },
  "language_info": {
   "codemirror_mode": {
    "name": "ipython",
    "version": 2
   },
   "file_extension": ".py",
   "mimetype": "text/x-python",
   "name": "python",
   "nbconvert_exporter": "python",
   "pygments_lexer": "ipython2",
   "version": "2.7.13"
  }
 },
 "nbformat": 4,
 "nbformat_minor": 2
}
