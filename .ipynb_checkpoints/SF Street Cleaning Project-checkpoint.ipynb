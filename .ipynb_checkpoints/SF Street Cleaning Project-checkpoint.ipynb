{
 "cells": [
  {
   "cell_type": "code",
   "execution_count": 35,
   "metadata": {
    "collapsed": false
   },
   "outputs": [],
   "source": [
    "import pandas as pd\n",
    "import seaborn as sns\n",
    "import matplotlib\n",
    "import matplotlib.pyplot as plt\n",
    "matplotlib.style.use(\"ggplot\")\n",
    "%matplotlib inline"
   ]
  },
  {
   "cell_type": "code",
   "execution_count": 45,
   "metadata": {
    "collapsed": false
   },
   "outputs": [
    {
     "data": {
      "text/html": [
       "<div>\n",
       "<table border=\"1\" class=\"dataframe\">\n",
       "  <thead>\n",
       "    <tr style=\"text-align: right;\">\n",
       "      <th></th>\n",
       "      <th>CaseID</th>\n",
       "      <th>Opened</th>\n",
       "      <th>Closed</th>\n",
       "      <th>Status</th>\n",
       "      <th>Responsible Agency</th>\n",
       "      <th>Address</th>\n",
       "      <th>Category</th>\n",
       "      <th>Request Type</th>\n",
       "      <th>Request Details</th>\n",
       "      <th>Source</th>\n",
       "      <th>Supervisor District</th>\n",
       "      <th>Neighborhood</th>\n",
       "      <th>Updated</th>\n",
       "      <th>Point</th>\n",
       "    </tr>\n",
       "  </thead>\n",
       "  <tbody>\n",
       "    <tr>\n",
       "      <th>0</th>\n",
       "      <td>322566</td>\n",
       "      <td>2008-11-30 22:56:00</td>\n",
       "      <td>2009-07-21 16:24:00</td>\n",
       "      <td>Closed</td>\n",
       "      <td>DPW Ops Queue</td>\n",
       "      <td>1566 HYDE ST, SAN FRANCISCO, CA, 94109</td>\n",
       "      <td>Street and Sidewalk Cleaning</td>\n",
       "      <td>Sidewalk_Cleaning</td>\n",
       "      <td>Garbage</td>\n",
       "      <td>Voice In</td>\n",
       "      <td>3</td>\n",
       "      <td>Nob Hill</td>\n",
       "      <td>2009-07-21 16:24:00</td>\n",
       "      <td>(37.795328529, -122.418067787)</td>\n",
       "    </tr>\n",
       "    <tr>\n",
       "      <th>1</th>\n",
       "      <td>322560</td>\n",
       "      <td>2008-11-30 22:24:00</td>\n",
       "      <td>2009-07-21 16:24:00</td>\n",
       "      <td>Closed</td>\n",
       "      <td>DPW Ops Queue</td>\n",
       "      <td>Intersection of TAYLOR ST and TURK ST</td>\n",
       "      <td>Street and Sidewalk Cleaning</td>\n",
       "      <td>Illegal_Dumping</td>\n",
       "      <td>Garbage</td>\n",
       "      <td>Voice In</td>\n",
       "      <td>6</td>\n",
       "      <td>Downtown/Civic Center</td>\n",
       "      <td>2009-07-21 16:24:00</td>\n",
       "      <td>(37.7832142923006, -122.410764953722)</td>\n",
       "    </tr>\n",
       "    <tr>\n",
       "      <th>2</th>\n",
       "      <td>322559</td>\n",
       "      <td>2008-11-30 22:20:00</td>\n",
       "      <td>2008-12-01 06:07:00</td>\n",
       "      <td>Closed</td>\n",
       "      <td>DPW Ops Queue</td>\n",
       "      <td>1601 SACRAMENTO ST, SAN FRANCISCO, CA, 94109</td>\n",
       "      <td>Street and Sidewalk Cleaning</td>\n",
       "      <td>Illegal_Dumping</td>\n",
       "      <td>Mattress</td>\n",
       "      <td>Voice In</td>\n",
       "      <td>3</td>\n",
       "      <td>Nob Hill</td>\n",
       "      <td>2008-12-01 06:07:00</td>\n",
       "      <td>(37.791643509125, -122.419260423291)</td>\n",
       "    </tr>\n",
       "    <tr>\n",
       "      <th>3</th>\n",
       "      <td>322556</td>\n",
       "      <td>2008-11-30 21:34:00</td>\n",
       "      <td>2008-12-09 08:07:00</td>\n",
       "      <td>Closed</td>\n",
       "      <td>DPW Ops Queue</td>\n",
       "      <td>Intersection of 25TH ST and LUCKY ST</td>\n",
       "      <td>Street and Sidewalk Cleaning</td>\n",
       "      <td>Sidewalk_Cleaning</td>\n",
       "      <td>Human_waste_or_urine</td>\n",
       "      <td>Voice In</td>\n",
       "      <td>9</td>\n",
       "      <td>Mission</td>\n",
       "      <td>2008-12-09 08:07:00</td>\n",
       "      <td>(37.7509362479361, -122.413364630104)</td>\n",
       "    </tr>\n",
       "    <tr>\n",
       "      <th>4</th>\n",
       "      <td>322545</td>\n",
       "      <td>2008-11-30 20:45:00</td>\n",
       "      <td>2009-02-03 07:09:00</td>\n",
       "      <td>Closed</td>\n",
       "      <td>DPW Ops Queue</td>\n",
       "      <td>Intersection of 19TH ST and OAKWOOD ST</td>\n",
       "      <td>Street and Sidewalk Cleaning</td>\n",
       "      <td>Sidewalk_Cleaning</td>\n",
       "      <td>Empty_cart</td>\n",
       "      <td>Voice In</td>\n",
       "      <td>8</td>\n",
       "      <td>Mission</td>\n",
       "      <td>2009-02-03 07:09:00</td>\n",
       "      <td>(37.7598935230725, -122.42486308879)</td>\n",
       "    </tr>\n",
       "  </tbody>\n",
       "</table>\n",
       "</div>"
      ],
      "text/plain": [
       "   CaseID              Opened              Closed  Status Responsible Agency  \\\n",
       "0  322566 2008-11-30 22:56:00 2009-07-21 16:24:00  Closed      DPW Ops Queue   \n",
       "1  322560 2008-11-30 22:24:00 2009-07-21 16:24:00  Closed      DPW Ops Queue   \n",
       "2  322559 2008-11-30 22:20:00 2008-12-01 06:07:00  Closed      DPW Ops Queue   \n",
       "3  322556 2008-11-30 21:34:00 2008-12-09 08:07:00  Closed      DPW Ops Queue   \n",
       "4  322545 2008-11-30 20:45:00 2009-02-03 07:09:00  Closed      DPW Ops Queue   \n",
       "\n",
       "                                        Address                      Category  \\\n",
       "0        1566 HYDE ST, SAN FRANCISCO, CA, 94109  Street and Sidewalk Cleaning   \n",
       "1         Intersection of TAYLOR ST and TURK ST  Street and Sidewalk Cleaning   \n",
       "2  1601 SACRAMENTO ST, SAN FRANCISCO, CA, 94109  Street and Sidewalk Cleaning   \n",
       "3          Intersection of 25TH ST and LUCKY ST  Street and Sidewalk Cleaning   \n",
       "4        Intersection of 19TH ST and OAKWOOD ST  Street and Sidewalk Cleaning   \n",
       "\n",
       "        Request Type       Request Details    Source  Supervisor District  \\\n",
       "0  Sidewalk_Cleaning               Garbage  Voice In                    3   \n",
       "1    Illegal_Dumping               Garbage  Voice In                    6   \n",
       "2    Illegal_Dumping              Mattress  Voice In                    3   \n",
       "3  Sidewalk_Cleaning  Human_waste_or_urine  Voice In                    9   \n",
       "4  Sidewalk_Cleaning            Empty_cart  Voice In                    8   \n",
       "\n",
       "            Neighborhood             Updated  \\\n",
       "0               Nob Hill 2009-07-21 16:24:00   \n",
       "1  Downtown/Civic Center 2009-07-21 16:24:00   \n",
       "2               Nob Hill 2008-12-01 06:07:00   \n",
       "3                Mission 2008-12-09 08:07:00   \n",
       "4                Mission 2009-02-03 07:09:00   \n",
       "\n",
       "                                   Point  \n",
       "0         (37.795328529, -122.418067787)  \n",
       "1  (37.7832142923006, -122.410764953722)  \n",
       "2   (37.791643509125, -122.419260423291)  \n",
       "3  (37.7509362479361, -122.413364630104)  \n",
       "4   (37.7598935230725, -122.42486308879)  "
      ]
     },
     "execution_count": 45,
     "metadata": {},
     "output_type": "execute_result"
    }
   ],
   "source": [
    "# Note: Just reading in 100000 rows for right now - this is even slow\n",
    "parseDates = [\"Opened\", \"Closed\", \"Updated\"] # Convert these to datetimes\n",
    "street = pd.read_csv(\"Street_and_Sidewalk_Cleaning.csv\", nrows = 100000, parse_dates=parseDates)\n",
    "street.head()"
   ]
  },
  {
   "cell_type": "markdown",
   "metadata": {},
   "source": [
    "Some basic statistics on the dataset we are starting with:"
   ]
  },
  {
   "cell_type": "code",
   "execution_count": 46,
   "metadata": {
    "collapsed": false
   },
   "outputs": [
    {
     "name": "stdout",
     "output_type": "stream",
     "text": [
      "We are working with 100000 rows.\n",
      "Our dates range from 2010-03-10 07:58:54 to 2008-11-30 22:56:00 .\n"
     ]
    }
   ],
   "source": [
    "numRows = street.shape[0]\n",
    "print \"We are working with\", numRows, \"rows.\"\n",
    "print \"Our dates range from\", street.loc[numRows - 1, \"Opened\"],\"to\", street.loc[0, \"Opened\"], \".\""
   ]
  },
  {
   "cell_type": "code",
   "execution_count": 48,
   "metadata": {
    "collapsed": false
   },
   "outputs": [
    {
     "data": {
      "text/plain": [
       "<matplotlib.text.Text at 0x18b6f4a8>"
      ]
     },
     "execution_count": 48,
     "metadata": {},
     "output_type": "execute_result"
    },
    {
     "data": {
      "image/png": "[encoded data removed]",
      "text/plain": [
       "<matplotlib.figure.Figure at 0xb0ad6d8>"
      ]
     },
     "metadata": {},
     "output_type": "display_data"
    }
   ],
   "source": [
    "# Idea: When we have all years see if we can make each year a different color\n",
    "# and have it so each year adds on a new color to each source - for 2008 mostly \n",
    "# voice in, so cool to see how that changes. Expect twitter to come in later.\n",
    "# Note: probably want to change units so 800 = 800000\n",
    "# Might need to change plot types for stacked bar?\n",
    "# Add legend for year\n",
    "# If we end up with too many sources to see nicely on one plot then only show\n",
    "# ones > 10000 (or something like that)\n",
    "ax = sns.factorplot(y = \"Source\", data = street, kind = \"count\", orient = \"h\")\n",
    "plt.title(\"Source of the Cleaning Request by Year\") "
   ]
  }
 ],
 "metadata": {
  "anaconda-cloud": {},
  "kernelspec": {
   "display_name": "Python 2",
   "language": "python",
   "name": "python2"
  },
  "language_info": {
   "codemirror_mode": {
    "name": "ipython",
    "version": 2
   },
   "file_extension": ".py",
   "mimetype": "text/x-python",
   "name": "python",
   "nbconvert_exporter": "python",
   "pygments_lexer": "ipython2",
   "version": "2.7.12"
  }
 },
 "nbformat": 4,
 "nbformat_minor": 2
}
