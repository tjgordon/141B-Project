{
 "cells": [
  {
   "cell_type": "code",
   "execution_count": 1,
   "metadata": {
    "collapsed": false,
    "deletable": true,
    "editable": true
   },
   "outputs": [],
   "source": [
    "import pandas as pd\n",
    "import seaborn as sns\n",
    "import matplotlib\n",
    "import matplotlib.pyplot as plt\n",
    "plt.style.use('ggplot')\n",
    "import feather\n",
    "import requests\n",
    "import requests_cache\n",
    "import lxml\n",
    "from bs4 import BeautifulSoup\n",
    "import bs4\n",
    "import re\n",
    "%matplotlib inline"
   ]
  },
  {
   "cell_type": "code",
   "execution_count": null,
   "metadata": {
    "collapsed": false,
    "deletable": true,
    "editable": true
   },
   "outputs": [],
   "source": [
    "#%%timeit -r1 -n1 \n",
    "# timeit args from: http://stackoverflow.com/questions/32565829/simple-way-to-measure-cell-execution-time-in-ipython-notebook \n",
    "# For some reason the varible isn't saved when using timeit\n",
    "\n",
    "# Note: To just read in part add nrows =\n",
    "parseDates = [\"Opened\", \"Closed\", \"Updated\"] # Convert these to datetimes\n",
    "street_csv = pd.read_csv(\"Street_and_Sidewalk_Cleaning.csv\", \n",
    "                         #nrows = 100000,\n",
    "                         parse_dates=parseDates)\n"
   ]
  },
  {
   "cell_type": "code",
   "execution_count": null,
   "metadata": {
    "collapsed": true,
    "deletable": true,
    "editable": true
   },
   "outputs": [],
   "source": [
    "feather.write_dataframe(street_csv, 'street.feather')"
   ]
  },
  {
   "cell_type": "code",
   "execution_count": null,
   "metadata": {
    "collapsed": false,
    "deletable": true,
    "editable": true
   },
   "outputs": [],
   "source": [
    "# Similar thing built in to pandas. Causes some error.\n",
    "street.to_hdf('street.h5','table',append=False)"
   ]
  },
  {
   "cell_type": "code",
   "execution_count": 2,
   "metadata": {
    "collapsed": false,
    "deletable": true,
    "editable": true
   },
   "outputs": [],
   "source": [
    "#street2 = pd.read_hdf('street.h5')"
   ]
  },
  {
   "cell_type": "code",
   "execution_count": 3,
   "metadata": {
    "collapsed": false,
    "deletable": true,
    "editable": true
   },
   "outputs": [],
   "source": [
    "street = feather.read_dataframe('street.feather')"
   ]
  },
  {
   "cell_type": "code",
   "execution_count": 4,
   "metadata": {
    "collapsed": true,
    "deletable": true,
    "editable": true
   },
   "outputs": [],
   "source": [
    "# To use the csv version\n",
    "# street = street_csv"
   ]
  },
  {
   "cell_type": "code",
   "execution_count": 5,
   "metadata": {
    "collapsed": false,
    "deletable": true,
    "editable": true
   },
   "outputs": [
    {
     "ename": "NameError",
     "evalue": "name 'street_csv' is not defined",
     "output_type": "error",
     "traceback": [
      "\u001b[0;31m---------------------------------------------------------------------------\u001b[0m",
      "\u001b[0;31mNameError\u001b[0m                                 Traceback (most recent call last)",
      "\u001b[0;32m<ipython-input-5-e97791dcb49a>\u001b[0m in \u001b[0;36m<module>\u001b[0;34m()\u001b[0m\n\u001b[0;32m----> 1\u001b[0;31m \u001b[0mall\u001b[0m\u001b[0;34m(\u001b[0m\u001b[0mstreet\u001b[0m \u001b[0;34m==\u001b[0m \u001b[0mstreet_csv\u001b[0m\u001b[0;34m)\u001b[0m\u001b[0;34m\u001b[0m\u001b[0m\n\u001b[0m",
      "\u001b[0;31mNameError\u001b[0m: name 'street_csv' is not defined"
     ]
    }
   ],
   "source": [
    "#all(street == street_csv)"
   ]
  },
  {
   "cell_type": "code",
   "execution_count": null,
   "metadata": {
    "collapsed": false,
    "deletable": true,
    "editable": true
   },
   "outputs": [],
   "source": [
    "street.head()"
   ]
  },
  {
   "cell_type": "markdown",
   "metadata": {
    "deletable": true,
    "editable": true
   },
   "source": [
    "Some basic statistics on the dataset we are starting with:"
   ]
  },
  {
   "cell_type": "code",
   "execution_count": null,
   "metadata": {
    "collapsed": false,
    "deletable": true,
    "editable": true
   },
   "outputs": [],
   "source": [
    "numRows = street.shape[0]\n",
    "print \"We are working with\", numRows, \"rows.\"\n",
    "print \"Our dates range from\", street.loc[numRows - 1, \"Opened\"],\"to\", street.loc[0, \"Opened\"], \".\""
   ]
  },
  {
   "cell_type": "code",
   "execution_count": null,
   "metadata": {
    "collapsed": false,
    "deletable": true,
    "editable": true
   },
   "outputs": [],
   "source": [
    "#plt.figure(figsize=(2,100)) # Doesn't do much\n",
    "theOrder = [\"Voice In\", \"Open311\", \"Web Self Service\", \"Integrated Agency\", \"Twitter\", \"e-mail In\", \"Other Department\"]\n",
    "#sns.set(font_scale = 1.5)\n",
    "sns.set_context(\"notebook\", rc={\"font.size\" : 40}) # font_scale=1.5\n",
    "ax = sns.factorplot(y = \"Source\", data = street, kind = \"count\", orient = \"h\", order = theOrder, aspect = 2)#, size = 10)\n",
    "plt.title(\"How the Cleaning Request Was Made\") \n",
    "plt.show()"
   ]
  },
  {
   "cell_type": "markdown",
   "metadata": {
    "deletable": true,
    "editable": true
   },
   "source": [
    "According to [the project's website](http://www.open311.org/learn/), Open311 allows people to report issues in public spaces to city officials through a [website](https://sf311.org/index.aspx?page=797) or [mobile app](https://www.sf311.org/mobile).  "
   ]
  },
  {
   "cell_type": "code",
   "execution_count": null,
   "metadata": {
    "collapsed": false,
    "deletable": true,
    "editable": true
   },
   "outputs": [],
   "source": [
    "street.Neighborhood.unique()"
   ]
  },
  {
   "cell_type": "code",
   "execution_count": null,
   "metadata": {
    "collapsed": false,
    "deletable": true,
    "editable": true
   },
   "outputs": [],
   "source": [
    "street.Neighborhood.value_counts"
   ]
  },
  {
   "cell_type": "code",
   "execution_count": null,
   "metadata": {
    "collapsed": false,
    "deletable": true,
    "editable": true
   },
   "outputs": [],
   "source": [
    "# From: http://stackoverflow.com/questions/22391433/count-the-frequency-that-a-value-occurs-in-a-dataframe-column\n",
    "counts = street.groupby('Neighborhood').count()"
   ]
  },
  {
   "cell_type": "markdown",
   "metadata": {
    "deletable": true,
    "editable": true
   },
   "source": [
    "We can get the total number of cases from CaseID\n",
    "unresolved cases by neighborhood"
   ]
  },
  {
   "cell_type": "code",
   "execution_count": null,
   "metadata": {
    "collapsed": false,
    "deletable": true,
    "editable": true
   },
   "outputs": [],
   "source": [
    "counts = counts.sort_values(by = \"CaseID\",\n",
    "                            ascending = False)\n",
    "counts = counts.reset_index()"
   ]
  },
  {
   "cell_type": "code",
   "execution_count": null,
   "metadata": {
    "collapsed": false,
    "deletable": true,
    "editable": true
   },
   "outputs": [],
   "source": [
    "counts.head()"
   ]
  },
  {
   "cell_type": "code",
   "execution_count": null,
   "metadata": {
    "collapsed": false,
    "deletable": true,
    "editable": true
   },
   "outputs": [],
   "source": [
    "sns.set_context(\"notebook\", rc={\"font.size\" : 40}) # font_scale=1.5\n",
    "ax = sns.factorplot(x = \"CaseID\", \n",
    "                    y = \"Neighborhood\",\n",
    "                    data = counts.head(15), \n",
    "                    kind = \"bar\", \n",
    "                    orient = \"h\", \n",
    "                    aspect = 3\n",
    "                   )#, size = 10)\n",
    "ax.set_xlabels(\"Requests\")\n",
    "plt.title(\"Requests by Neighborhood (Top 15 Neighborhoods)\") \n",
    "plt.show()"
   ]
  },
  {
   "cell_type": "code",
   "execution_count": null,
   "metadata": {
    "collapsed": false,
    "deletable": true,
    "editable": true
   },
   "outputs": [],
   "source": [
    "sns.set_context(\"notebook\", rc={\"font.size\" : 40}) # font_scale=1.5\n",
    "ax = sns.factorplot(x = \"CaseID\", \n",
    "                    y = \"Neighborhood\",\n",
    "                    data = counts.tail(15), \n",
    "                    kind = \"bar\", \n",
    "                    orient = \"h\", \n",
    "                    aspect = 3\n",
    "                   )#, size = 10)\n",
    "ax.set_xlabels(\"Requests\")\n",
    "plt.title(\"Requests by Neighborhood (Bottom 15 Neighborhoods)\") \n",
    "plt.show()"
   ]
  },
  {
   "cell_type": "code",
   "execution_count": null,
   "metadata": {
    "collapsed": false,
    "deletable": true,
    "editable": true
   },
   "outputs": [],
   "source": [
    "counts['UnclosedProp'] = (counts.Opened - counts.Closed) / counts.Opened"
   ]
  },
  {
   "cell_type": "code",
   "execution_count": null,
   "metadata": {
    "collapsed": false,
    "deletable": true,
    "editable": true
   },
   "outputs": [],
   "source": [
    "counts.head()"
   ]
  },
  {
   "cell_type": "code",
   "execution_count": null,
   "metadata": {
    "collapsed": false,
    "deletable": true,
    "editable": true
   },
   "outputs": [],
   "source": [
    "sns.set_context(\"notebook\", rc={\"font.size\" : 40}) # font_scale=1.5\n",
    "ax = sns.factorplot(x = \"UnclosedProp\", \n",
    "                    y = \"Neighborhood\",\n",
    "                    data = counts.sort_values(by = \"UnclosedProp\",\n",
    "                                              ascending = False).head(15), \n",
    "                    kind = \"bar\", \n",
    "                    orient = \"h\", \n",
    "                    aspect = 3\n",
    "                   )#, size = 10)\n",
    "plt.title(\"Proportion of Unclosed Cleaning Requests by Neighborhood (Top 15 Neighborhoods)\") \n",
    "plt.show()"
   ]
  },
  {
   "cell_type": "markdown",
   "metadata": {
    "deletable": true,
    "editable": true
   },
   "source": [
    "Use supervisor district where there are too many neighborhoods. "
   ]
  },
  {
   "cell_type": "code",
   "execution_count": null,
   "metadata": {
    "collapsed": false,
    "deletable": true,
    "editable": true
   },
   "outputs": [],
   "source": [
    "request_counts = street.groupby(by = \"Request Type\").count().reset_index().ix[:,[\"Request Type\",\"CaseID\"]].sort_values(by = \"CaseID\", ascending = False)\n",
    "request_counts.head()"
   ]
  },
  {
   "cell_type": "code",
   "execution_count": null,
   "metadata": {
    "collapsed": false,
    "deletable": true,
    "editable": true
   },
   "outputs": [],
   "source": [
    "sns.set_context(\"notebook\", rc={\"font.size\" : 40}) # font_scale=1.5\n",
    "ax = sns.factorplot(y = \"Request Type\", \n",
    "                    x = \"CaseID\",\n",
    "                    data = request_counts, \n",
    "                    kind = \"bar\", \n",
    "                    orient = \"h\", \n",
    "                    aspect = 3\n",
    "                   )#, size = 10)\n",
    "plt.title(\"Requests Type by Neighborhood (Top 15 Neighborhoods)\") \n",
    "plt.show()"
   ]
  },
  {
   "cell_type": "markdown",
   "metadata": {
    "deletable": true,
    "editable": true
   },
   "source": [
    "Differences by time of year:\n",
    "- Mattresses in summer  \n",
    "- Holiday shopping  \n"
   ]
  },
  {
   "cell_type": "markdown",
   "metadata": {
    "deletable": true,
    "editable": true
   },
   "source": [
    "Note: only use 2009 through 2016 to only count full years.  \n",
    "Ask TA if we should do this for all analysis or just this part."
   ]
  },
  {
   "cell_type": "code",
   "execution_count": null,
   "metadata": {
    "collapsed": false,
    "deletable": true,
    "editable": true
   },
   "outputs": [],
   "source": [
    "street['month'] = [timestamp.month for timestamp in street.Opened]"
   ]
  },
  {
   "cell_type": "code",
   "execution_count": null,
   "metadata": {
    "collapsed": false,
    "deletable": true,
    "editable": true
   },
   "outputs": [],
   "source": [
    "street.head()"
   ]
  },
  {
   "cell_type": "code",
   "execution_count": null,
   "metadata": {
    "collapsed": false,
    "deletable": true,
    "editable": true
   },
   "outputs": [],
   "source": [
    "count_by_month = street.groupby(by='month').count().CaseID.reset_index()\n",
    "count_by_month"
   ]
  },
  {
   "cell_type": "code",
   "execution_count": null,
   "metadata": {
    "collapsed": false,
    "deletable": true,
    "editable": true
   },
   "outputs": [],
   "source": [
    "sns.set_context(\"notebook\", rc={\"font.size\" : 40}) # font_scale=1.5\n",
    "ax = sns.pointplot(y = \"CaseID\", \n",
    "                    x = \"month\",\n",
    "                    data = count_by_month, \n",
    "                    kind = \"bar\", \n",
    "                    aspect = 3,\n",
    "                   )#, size = 10)\n",
    "ax.set_ylabel(\"Cleaning Requests\")\n",
    "ax.set_xlabel(\"Month\")\n",
    "plt.title(\"Requests by Month\") \n",
    "plt.show()"
   ]
  },
  {
   "cell_type": "markdown",
   "metadata": {
    "deletable": true,
    "editable": true
   },
   "source": [
    "Faster at closing requests by time?\n",
    "Time to close requests by neighborhood?"
   ]
  },
  {
   "cell_type": "markdown",
   "metadata": {
    "deletable": true,
    "editable": true
   },
   "source": [
    "# Scraping"
   ]
  },
  {
   "cell_type": "code",
   "execution_count": null,
   "metadata": {
    "collapsed": true,
    "deletable": true,
    "editable": true
   },
   "outputs": [],
   "source": [
    "requests_cache.install_cache('sf_cache')"
   ]
  },
  {
   "cell_type": "code",
   "execution_count": null,
   "metadata": {
    "collapsed": false,
    "deletable": true,
    "editable": true
   },
   "outputs": [],
   "source": [
    "url = \"http://www.city-data.com/nbmaps/neigh-San-Francisco-California.html\"\n",
    "response = requests.get(url)\n",
    "response.raise_for_status\n",
    "\n",
    "neighborhoods_bs = BeautifulSoup(response.text, 'lxml')\n",
    "\n",
    "neighborhood_names = neighborhoods_bs.find_all(name = \"span\", attrs={'class':'street-name'})"
   ]
  },
  {
   "cell_type": "code",
   "execution_count": null,
   "metadata": {
    "collapsed": false,
    "deletable": true,
    "editable": true
   },
   "outputs": [],
   "source": [
    "neighborhood_names = [name.text for name in neighborhood_names]"
   ]
  },
  {
   "cell_type": "code",
   "execution_count": null,
   "metadata": {
    "collapsed": false,
    "deletable": true,
    "editable": true
   },
   "outputs": [],
   "source": [
    "neighborhood_names"
   ]
  },
  {
   "cell_type": "code",
   "execution_count": null,
   "metadata": {
    "collapsed": false,
    "deletable": true,
    "editable": true
   },
   "outputs": [],
   "source": [
    "neighborhood_divs = neighborhoods_bs.body.find_all(name = \"div\", attrs={'class':'neighborhood'})"
   ]
  },
  {
   "cell_type": "code",
   "execution_count": null,
   "metadata": {
    "collapsed": false,
    "deletable": true,
    "editable": true
   },
   "outputs": [],
   "source": [
    "neighborhood_divs[0].text"
   ]
  },
  {
   "cell_type": "markdown",
   "metadata": {
    "deletable": true,
    "editable": true
   },
   "source": [
    "regular expressions\n",
    "[capital letter][lowercase][:][ ][numbers or , or $]"
   ]
  },
  {
   "cell_type": "code",
   "execution_count": null,
   "metadata": {
    "collapsed": false,
    "deletable": true,
    "editable": true
   },
   "outputs": [],
   "source": [
    "neighborhood_divs[0].find_all(name = \"b\")"
   ]
  },
  {
   "cell_type": "code",
   "execution_count": null,
   "metadata": {
    "collapsed": false,
    "deletable": true,
    "editable": true
   },
   "outputs": [],
   "source": [
    "neighborhood_divs[0].contents"
   ]
  },
  {
   "cell_type": "code",
   "execution_count": null,
   "metadata": {
    "collapsed": false,
    "deletable": true,
    "editable": true
   },
   "outputs": [],
   "source": [
    "type(neighborhood_divs[0].contents[1])"
   ]
  },
  {
   "cell_type": "markdown",
   "metadata": {
    "deletable": true,
    "editable": true
   },
   "source": [
    "Loop through contents  \n",
    "if a navigable string can be converted to int,  \n",
    "then grab it and the first <b> that precedes it  "
   ]
  },
  {
   "cell_type": "code",
   "execution_count": null,
   "metadata": {
    "collapsed": false,
    "deletable": true,
    "editable": true
   },
   "outputs": [],
   "source": [
    "neighborhood_divs[0].strings"
   ]
  },
  {
   "cell_type": "code",
   "execution_count": null,
   "metadata": {
    "collapsed": false,
    "deletable": true,
    "editable": true
   },
   "outputs": [],
   "source": [
    "# Add to a list of strings\n",
    "strings = []\n",
    "\n",
    "for descendant in neighborhood_divs[0].strings:\n",
    "    strings.append(descendant)\n",
    "    \n",
    "strings"
   ]
  },
  {
   "cell_type": "code",
   "execution_count": null,
   "metadata": {
    "collapsed": false,
    "deletable": true,
    "editable": true
   },
   "outputs": [],
   "source": [
    "#contents = neighborhood_divs[0].contents\n",
    "\n",
    "value_dict_list = []\n",
    "\n",
    "# Replace $\n",
    "for i in range(1, len(strings)):\n",
    "    if len(strings[i]) > 0:\n",
    "        if strings[i][0] == '$':\n",
    "            strings[i] = strings[i][1:]\n",
    "        # remove commas and whitespace\n",
    "        strings[i] = strings[i].replace(',', '').strip()\n",
    "\n",
    "        try:\n",
    "            value = float(strings[i])\n",
    "            try:\n",
    "                # what the value refers to\n",
    "                what_value_is = strings[i - 1]\n",
    "                \n",
    "                # units\n",
    "                if strings[i + 1][-1] != \":\":\n",
    "                    units = strings[i + 1]\n",
    "                else:\n",
    "                    units = \"\"\n",
    "                \n",
    "                value_dict = {\"value\": value,\n",
    "                              \"what_value_is\": what_value_is,\n",
    "                              \"units\": units}\n",
    "                \n",
    "                value_dict_list.append(value_dict)\n",
    "                \n",
    "            except:\n",
    "                print \"bad idea\"\n",
    "\n",
    "        except ValueError:\n",
    "            continue\n",
    "            \n",
    "value_dict_list"
   ]
  },
  {
   "cell_type": "code",
   "execution_count": null,
   "metadata": {
    "collapsed": false,
    "deletable": true,
    "editable": true
   },
   "outputs": [],
   "source": [
    "strings"
   ]
  },
  {
   "cell_type": "code",
   "execution_count": null,
   "metadata": {
    "collapsed": false,
    "deletable": true,
    "editable": true
   },
   "outputs": [],
   "source": [
    "int(\"9,999\")"
   ]
  },
  {
   "cell_type": "code",
   "execution_count": null,
   "metadata": {
    "collapsed": true,
    "deletable": true,
    "editable": true
   },
   "outputs": [],
   "source": [
    "def get_"
   ]
  }
 ],
 "metadata": {
  "anaconda-cloud": {},
  "kernelspec": {
   "display_name": "Python 2",
   "language": "python",
   "name": "python2"
  },
  "language_info": {
   "codemirror_mode": {
    "name": "ipython",
    "version": 2
   },
   "file_extension": ".py",
   "mimetype": "text/x-python",
   "name": "python",
   "nbconvert_exporter": "python",
   "pygments_lexer": "ipython2",
   "version": "2.7.13"
  }
 },
 "nbformat": 4,
 "nbformat_minor": 2
}
