{
 "cells": [
  {
   "cell_type": "code",
   "execution_count": 1,
   "metadata": {
    "collapsed": false,
    "deletable": true,
    "editable": true
   },
   "outputs": [],
   "source": [
    "import pandas as pd\n",
    "import seaborn as sns\n",
    "import matplotlib\n",
    "import matplotlib.pyplot as plt\n",
    "plt.style.use('ggplot')\n",
    "import feather\n",
    "import requests\n",
    "import requests_cache\n",
    "import lxml\n",
    "from bs4 import BeautifulSoup\n",
    "import bs4\n",
    "import re\n",
    "%matplotlib inline"
   ]
  },
  {
   "cell_type": "code",
   "execution_count": null,
   "metadata": {
    "collapsed": false,
    "deletable": true,
    "editable": true
   },
   "outputs": [],
   "source": [
    "#%%timeit -r1 -n1 \n",
    "# timeit args from: http://stackoverflow.com/questions/32565829/simple-way-to-measure-cell-execution-time-in-ipython-notebook \n",
    "# For some reason the varible isn't saved when using timeit\n",
    "\n",
    "# Note: To just read in part add nrows =\n",
    "parseDates = [\"Opened\", \"Closed\", \"Updated\"] # Convert these to datetimes\n",
    "street_csv = pd.read_csv(\"Street_and_Sidewalk_Cleaning.csv\", \n",
    "                         #nrows = 100000,\n",
    "                         parse_dates=parseDates)\n"
   ]
  },
  {
   "cell_type": "code",
   "execution_count": null,
   "metadata": {
    "collapsed": true,
    "deletable": true,
    "editable": true
   },
   "outputs": [],
   "source": [
    "feather.write_dataframe(street_csv, 'street.feather')"
   ]
  },
  {
   "cell_type": "code",
   "execution_count": null,
   "metadata": {
    "collapsed": false,
    "deletable": true,
    "editable": true
   },
   "outputs": [],
   "source": [
    "# Similar thing built in to pandas. Causes some error.\n",
    "street.to_hdf('street.h5','table',append=False)"
   ]
  },
  {
   "cell_type": "code",
   "execution_count": 2,
   "metadata": {
    "collapsed": false,
    "deletable": true,
    "editable": true
   },
   "outputs": [],
   "source": [
    "#street2 = pd.read_hdf('street.h5')"
   ]
  },
  {
   "cell_type": "code",
   "execution_count": 2,
   "metadata": {
    "collapsed": false,
    "deletable": true,
    "editable": true
   },
   "outputs": [],
   "source": [
    "street = feather.read_dataframe('street.feather')"
   ]
  },
  {
   "cell_type": "code",
   "execution_count": 4,
   "metadata": {
    "collapsed": true,
    "deletable": true,
    "editable": true
   },
   "outputs": [],
   "source": [
    "# To use the csv version\n",
    "# street = street_csv"
   ]
  },
  {
   "cell_type": "code",
   "execution_count": 6,
   "metadata": {
    "collapsed": false,
    "deletable": true,
    "editable": true
   },
   "outputs": [],
   "source": [
    "#all(street == street_csv)"
   ]
  },
  {
   "cell_type": "code",
   "execution_count": 3,
   "metadata": {
    "collapsed": false,
    "deletable": true,
    "editable": true
   },
   "outputs": [
    {
     "data": {
      "text/html": [
       "<div>\n",
       "<table border=\"1\" class=\"dataframe\">\n",
       "  <thead>\n",
       "    <tr style=\"text-align: right;\">\n",
       "      <th></th>\n",
       "      <th>CaseID</th>\n",
       "      <th>Opened</th>\n",
       "      <th>Closed</th>\n",
       "      <th>Status</th>\n",
       "      <th>Responsible Agency</th>\n",
       "      <th>Address</th>\n",
       "      <th>Category</th>\n",
       "      <th>Request Type</th>\n",
       "      <th>Request Details</th>\n",
       "      <th>Source</th>\n",
       "      <th>Supervisor District</th>\n",
       "      <th>Neighborhood</th>\n",
       "      <th>Updated</th>\n",
       "      <th>Point</th>\n",
       "    </tr>\n",
       "  </thead>\n",
       "  <tbody>\n",
       "    <tr>\n",
       "      <th>0</th>\n",
       "      <td>322566</td>\n",
       "      <td>2008-11-30 22:56:00</td>\n",
       "      <td>2009-07-21 16:24:00</td>\n",
       "      <td>Closed</td>\n",
       "      <td>DPW Ops Queue</td>\n",
       "      <td>1566 HYDE ST, SAN FRANCISCO, CA, 94109</td>\n",
       "      <td>Street and Sidewalk Cleaning</td>\n",
       "      <td>Sidewalk_Cleaning</td>\n",
       "      <td>Garbage</td>\n",
       "      <td>Voice In</td>\n",
       "      <td>3.0</td>\n",
       "      <td>Nob Hill</td>\n",
       "      <td>2009-07-21 16:24:00</td>\n",
       "      <td>(37.795328529, -122.418067787)</td>\n",
       "    </tr>\n",
       "    <tr>\n",
       "      <th>1</th>\n",
       "      <td>322560</td>\n",
       "      <td>2008-11-30 22:24:00</td>\n",
       "      <td>2009-07-21 16:24:00</td>\n",
       "      <td>Closed</td>\n",
       "      <td>DPW Ops Queue</td>\n",
       "      <td>Intersection of TAYLOR ST and TURK ST</td>\n",
       "      <td>Street and Sidewalk Cleaning</td>\n",
       "      <td>Illegal_Dumping</td>\n",
       "      <td>Garbage</td>\n",
       "      <td>Voice In</td>\n",
       "      <td>6.0</td>\n",
       "      <td>Downtown/Civic Center</td>\n",
       "      <td>2009-07-21 16:24:00</td>\n",
       "      <td>(37.7832142923006, -122.410764953722)</td>\n",
       "    </tr>\n",
       "    <tr>\n",
       "      <th>2</th>\n",
       "      <td>322559</td>\n",
       "      <td>2008-11-30 22:20:00</td>\n",
       "      <td>2008-12-01 06:07:00</td>\n",
       "      <td>Closed</td>\n",
       "      <td>DPW Ops Queue</td>\n",
       "      <td>1601 SACRAMENTO ST, SAN FRANCISCO, CA, 94109</td>\n",
       "      <td>Street and Sidewalk Cleaning</td>\n",
       "      <td>Illegal_Dumping</td>\n",
       "      <td>Mattress</td>\n",
       "      <td>Voice In</td>\n",
       "      <td>3.0</td>\n",
       "      <td>Nob Hill</td>\n",
       "      <td>2008-12-01 06:07:00</td>\n",
       "      <td>(37.791643509125, -122.419260423291)</td>\n",
       "    </tr>\n",
       "    <tr>\n",
       "      <th>3</th>\n",
       "      <td>322556</td>\n",
       "      <td>2008-11-30 21:34:00</td>\n",
       "      <td>2008-12-09 08:07:00</td>\n",
       "      <td>Closed</td>\n",
       "      <td>DPW Ops Queue</td>\n",
       "      <td>Intersection of 25TH ST and LUCKY ST</td>\n",
       "      <td>Street and Sidewalk Cleaning</td>\n",
       "      <td>Sidewalk_Cleaning</td>\n",
       "      <td>Human_waste_or_urine</td>\n",
       "      <td>Voice In</td>\n",
       "      <td>9.0</td>\n",
       "      <td>Mission</td>\n",
       "      <td>2008-12-09 08:07:00</td>\n",
       "      <td>(37.7509362479361, -122.413364630104)</td>\n",
       "    </tr>\n",
       "    <tr>\n",
       "      <th>4</th>\n",
       "      <td>322545</td>\n",
       "      <td>2008-11-30 20:45:00</td>\n",
       "      <td>2009-02-03 07:09:00</td>\n",
       "      <td>Closed</td>\n",
       "      <td>DPW Ops Queue</td>\n",
       "      <td>Intersection of 19TH ST and OAKWOOD ST</td>\n",
       "      <td>Street and Sidewalk Cleaning</td>\n",
       "      <td>Sidewalk_Cleaning</td>\n",
       "      <td>Empty_cart</td>\n",
       "      <td>Voice In</td>\n",
       "      <td>8.0</td>\n",
       "      <td>Mission</td>\n",
       "      <td>2009-02-03 07:09:00</td>\n",
       "      <td>(37.7598935230725, -122.42486308879)</td>\n",
       "    </tr>\n",
       "  </tbody>\n",
       "</table>\n",
       "</div>"
      ],
      "text/plain": [
       "   CaseID              Opened              Closed  Status Responsible Agency  \\\n",
       "0  322566 2008-11-30 22:56:00 2009-07-21 16:24:00  Closed      DPW Ops Queue   \n",
       "1  322560 2008-11-30 22:24:00 2009-07-21 16:24:00  Closed      DPW Ops Queue   \n",
       "2  322559 2008-11-30 22:20:00 2008-12-01 06:07:00  Closed      DPW Ops Queue   \n",
       "3  322556 2008-11-30 21:34:00 2008-12-09 08:07:00  Closed      DPW Ops Queue   \n",
       "4  322545 2008-11-30 20:45:00 2009-02-03 07:09:00  Closed      DPW Ops Queue   \n",
       "\n",
       "                                        Address                      Category  \\\n",
       "0        1566 HYDE ST, SAN FRANCISCO, CA, 94109  Street and Sidewalk Cleaning   \n",
       "1         Intersection of TAYLOR ST and TURK ST  Street and Sidewalk Cleaning   \n",
       "2  1601 SACRAMENTO ST, SAN FRANCISCO, CA, 94109  Street and Sidewalk Cleaning   \n",
       "3          Intersection of 25TH ST and LUCKY ST  Street and Sidewalk Cleaning   \n",
       "4        Intersection of 19TH ST and OAKWOOD ST  Street and Sidewalk Cleaning   \n",
       "\n",
       "        Request Type       Request Details    Source  Supervisor District  \\\n",
       "0  Sidewalk_Cleaning               Garbage  Voice In                  3.0   \n",
       "1    Illegal_Dumping               Garbage  Voice In                  6.0   \n",
       "2    Illegal_Dumping              Mattress  Voice In                  3.0   \n",
       "3  Sidewalk_Cleaning  Human_waste_or_urine  Voice In                  9.0   \n",
       "4  Sidewalk_Cleaning            Empty_cart  Voice In                  8.0   \n",
       "\n",
       "            Neighborhood             Updated  \\\n",
       "0               Nob Hill 2009-07-21 16:24:00   \n",
       "1  Downtown/Civic Center 2009-07-21 16:24:00   \n",
       "2               Nob Hill 2008-12-01 06:07:00   \n",
       "3                Mission 2008-12-09 08:07:00   \n",
       "4                Mission 2009-02-03 07:09:00   \n",
       "\n",
       "                                   Point  \n",
       "0         (37.795328529, -122.418067787)  \n",
       "1  (37.7832142923006, -122.410764953722)  \n",
       "2   (37.791643509125, -122.419260423291)  \n",
       "3  (37.7509362479361, -122.413364630104)  \n",
       "4   (37.7598935230725, -122.42486308879)  "
      ]
     },
     "execution_count": 3,
     "metadata": {},
     "output_type": "execute_result"
    }
   ],
   "source": [
    "street.head()"
   ]
  },
  {
   "cell_type": "markdown",
   "metadata": {
    "deletable": true,
    "editable": true
   },
   "source": [
    "Some basic statistics on the dataset we are starting with:"
   ]
  },
  {
   "cell_type": "code",
   "execution_count": 4,
   "metadata": {
    "collapsed": false,
    "deletable": true,
    "editable": true
   },
   "outputs": [
    {
     "name": "stdout",
     "output_type": "stream",
     "text": [
      "We are working with 747388 rows.\n",
      "Our dates range from 2017-01-22 00:26:01 to 2008-11-30 22:56:00 .\n"
     ]
    }
   ],
   "source": [
    "numRows = street.shape[0]\n",
    "print \"We are working with\", numRows, \"rows.\"\n",
    "print \"Our dates range from\", street.loc[numRows - 1, \"Opened\"],\"to\", street.loc[0, \"Opened\"], \".\""
   ]
  },
  {
   "cell_type": "code",
   "execution_count": 5,
   "metadata": {
    "collapsed": false,
    "deletable": true,
    "editable": true
   },
   "outputs": [
    {
     "data": {
      "image/png": "[encoded data removed]",
      "text/plain": [
       "<matplotlib.figure.Figure at 0x7f6e809f9190>"
      ]
     },
     "metadata": {},
     "output_type": "display_data"
    }
   ],
   "source": [
    "#plt.figure(figsize=(2,100)) # Doesn't do much\n",
    "theOrder = [\"Voice In\", \"Open311\", \"Web Self Service\", \"Integrated Agency\", \"Twitter\", \"e-mail In\", \"Other Department\"]\n",
    "#sns.set(font_scale = 1.5)\n",
    "sns.set_context(\"notebook\", rc={\"font.size\" : 40}) # font_scale=1.5\n",
    "ax = sns.factorplot(y = \"Source\", data = street, kind = \"count\", orient = \"h\", order = theOrder, aspect = 2)#, size = 10)\n",
    "plt.title(\"How the Cleaning Request Was Made\") \n",
    "plt.show()"
   ]
  },
  {
   "cell_type": "markdown",
   "metadata": {
    "deletable": true,
    "editable": true
   },
   "source": [
    "According to [the project's website](http://www.open311.org/learn/), Open311 allows people to report issues in public spaces to city officials through a [website](https://sf311.org/index.aspx?page=797) or [mobile app](https://www.sf311.org/mobile).  "
   ]
  },
  {
   "cell_type": "code",
   "execution_count": 6,
   "metadata": {
    "collapsed": false,
    "deletable": true,
    "editable": true
   },
   "outputs": [
    {
     "data": {
      "text/plain": [
       "array(['Nob Hill', 'Downtown/Civic Center', 'Mission',\n",
       "       'West of Twin Peaks', 'South of Market', 'Western Addition',\n",
       "       'Outer Mission', 'Bernal Heights', 'Russian Hill', 'Outer Sunset',\n",
       "       'Outer Richmond', 'Castro/Upper Market', 'Haight Ashbury',\n",
       "       'Excelsior', 'Golden Gate Park', 'Ocean View', 'Bayview',\n",
       "       'Crocker Amazon', 'Inner Richmond', 'Visitacion Valley',\n",
       "       'Pacific Heights', 'North Beach', 'Parkside', 'Financial District',\n",
       "       'Inner Sunset', 'Marina', 'Twin Peaks', 'Presidio Heights',\n",
       "       'Potrero Hill', 'Chinatown', 'Noe Valley', 'Lakeshore', 'Seacliff',\n",
       "       'Glen Park', 'Diamond Heights', 'Presidio', None,\n",
       "       'Treasure Island/YBI', 'Telegraph Hill', 'Showplace Square',\n",
       "       'Mission Dolores', 'Bret Harte', 'Panhandle', 'Duboce Triangle',\n",
       "       'Dolores Heights', 'Mission Terrace', 'Polk Gulch',\n",
       "       'Ashbury Heights', 'Civic Center', 'Cole Valley', 'Hunters Point',\n",
       "       'Tenderloin', 'Mission Bay', 'Presidio Terrace', 'Castro',\n",
       "       'Mint Hill', 'Clarendon Heights', 'Lower Nob Hill', 'Cow Hollow',\n",
       "       'Laurel Heights / Jordan Park', 'Cayuga', 'Hayes Valley',\n",
       "       'Merced Heights', 'Central Waterfront', 'Produce Market', 'Portola',\n",
       "       'Sherwood Forest', 'University Mound', 'Union Street',\n",
       "       'Sutro Heights', 'Peralta Heights', 'Lower Pacific Heights',\n",
       "       \"Fisherman's Wharf\", 'Rincon Hill', 'South Beach',\n",
       "       'Downtown / Union Square', 'Silver Terrace', 'Northern Waterfront',\n",
       "       'Cathedral Hill', 'Lone Mountain', 'Parnassus Heights',\n",
       "       'Eureka Valley', 'Alamo Square', 'Upper Market', 'Apparel City',\n",
       "       'Lower Haight', 'Lake Street', \"St. Mary's Park\", 'Buena Vista',\n",
       "       'Aquatic Park / Ft. Mason', 'Sunnyside', 'Ingleside', 'Dogpatch',\n",
       "       'Holly Park', 'Corona Heights', 'West Portal', 'Little Hollywood',\n",
       "       'Japantown', 'Oceanview', 'Mt. Davidson Manor', 'Fairmount',\n",
       "       'McLaren Park', 'Golden Gate Heights', 'Laguna Honda', 'Sunnydale',\n",
       "       'Lincoln Park / Ft. Miley', 'Midtown Terrace', 'Forest Hill',\n",
       "       'Merced Manor', 'Forest Knolls', 'Miraloma Park',\n",
       "       'Candlestick Point SRA', 'India Basin', 'Anza Vista',\n",
       "       'Westwood Park', 'Presidio National Park', 'Parkmerced',\n",
       "       'Stonestown', 'Ingleside Terraces', 'Balboa Terrace',\n",
       "       'Treasure Island', 'St. Francis Wood', 'Monterey Heights',\n",
       "       'Westwood Highlands', 'Yerba Buena Island'], dtype=object)"
      ]
     },
     "execution_count": 6,
     "metadata": {},
     "output_type": "execute_result"
    }
   ],
   "source": [
    "street.Neighborhood.unique()"
   ]
  },
  {
   "cell_type": "code",
   "execution_count": 7,
   "metadata": {
    "collapsed": false,
    "deletable": true,
    "editable": true
   },
   "outputs": [
    {
     "data": {
      "text/plain": [
       "<bound method Series.value_counts of 0                      Nob Hill\n",
       "1         Downtown/Civic Center\n",
       "2                      Nob Hill\n",
       "3                       Mission\n",
       "4                       Mission\n",
       "5                       Mission\n",
       "6                       Mission\n",
       "7                       Mission\n",
       "8            West of Twin Peaks\n",
       "9            West of Twin Peaks\n",
       "10                      Mission\n",
       "11              South of Market\n",
       "12             Western Addition\n",
       "13                Outer Mission\n",
       "14               Bernal Heights\n",
       "15                     Nob Hill\n",
       "16              South of Market\n",
       "17                      Mission\n",
       "18                 Russian Hill\n",
       "19                     Nob Hill\n",
       "20        Downtown/Civic Center\n",
       "21             Western Addition\n",
       "22             Western Addition\n",
       "23                 Outer Sunset\n",
       "24                     Nob Hill\n",
       "25               Outer Richmond\n",
       "26              South of Market\n",
       "27              South of Market\n",
       "28          Castro/Upper Market\n",
       "29          Castro/Upper Market\n",
       "                  ...          \n",
       "747358           Inner Richmond\n",
       "747359             Potrero Hill\n",
       "747360           Outer Richmond\n",
       "747361           Inner Richmond\n",
       "747362                 Parkside\n",
       "747363                 Nob Hill\n",
       "747364               Noe Valley\n",
       "747365                  Mission\n",
       "747366    Lower Pacific Heights\n",
       "747367    Candlestick Point SRA\n",
       "747368    Candlestick Point SRA\n",
       "747369          South of Market\n",
       "747370            Westwood Park\n",
       "747371                  Portola\n",
       "747372           Cathedral Hill\n",
       "747373             Civic Center\n",
       "747374                 Nob Hill\n",
       "747375          South of Market\n",
       "747376                     None\n",
       "747377             Outer Sunset\n",
       "747378           Inner Richmond\n",
       "747379                     None\n",
       "747380           Produce Market\n",
       "747381                  Mission\n",
       "747382                  Mission\n",
       "747383             Lower Haight\n",
       "747384           Outer Richmond\n",
       "747385                  Mission\n",
       "747386              Rincon Hill\n",
       "747387      Golden Gate Heights\n",
       "Name: Neighborhood, dtype: object>"
      ]
     },
     "execution_count": 7,
     "metadata": {},
     "output_type": "execute_result"
    }
   ],
   "source": [
    "street.Neighborhood.value_counts"
   ]
  },
  {
   "cell_type": "code",
   "execution_count": 8,
   "metadata": {
    "collapsed": false,
    "deletable": true,
    "editable": true
   },
   "outputs": [],
   "source": [
    "# From: http://stackoverflow.com/questions/22391433/count-the-frequency-that-a-value-occurs-in-a-dataframe-column\n",
    "counts = street.groupby('Neighborhood').count()"
   ]
  },
  {
   "cell_type": "markdown",
   "metadata": {
    "deletable": true,
    "editable": true
   },
   "source": [
    "We can get the total number of cases from CaseID\n",
    "unresolved cases by neighborhood"
   ]
  },
  {
   "cell_type": "code",
   "execution_count": 9,
   "metadata": {
    "collapsed": false,
    "deletable": true,
    "editable": true
   },
   "outputs": [],
   "source": [
    "counts = counts.sort_values(by = \"CaseID\",\n",
    "                            ascending = False)\n",
    "counts = counts.reset_index()"
   ]
  },
  {
   "cell_type": "code",
   "execution_count": 10,
   "metadata": {
    "collapsed": false,
    "deletable": true,
    "editable": true
   },
   "outputs": [
    {
     "data": {
      "text/html": [
       "<div>\n",
       "<table border=\"1\" class=\"dataframe\">\n",
       "  <thead>\n",
       "    <tr style=\"text-align: right;\">\n",
       "      <th></th>\n",
       "      <th>Neighborhood</th>\n",
       "      <th>CaseID</th>\n",
       "      <th>Opened</th>\n",
       "      <th>Closed</th>\n",
       "      <th>Status</th>\n",
       "      <th>Responsible Agency</th>\n",
       "      <th>Address</th>\n",
       "      <th>Category</th>\n",
       "      <th>Request Type</th>\n",
       "      <th>Request Details</th>\n",
       "      <th>Source</th>\n",
       "      <th>Supervisor District</th>\n",
       "      <th>Updated</th>\n",
       "      <th>Point</th>\n",
       "    </tr>\n",
       "  </thead>\n",
       "  <tbody>\n",
       "    <tr>\n",
       "      <th>0</th>\n",
       "      <td>Mission</td>\n",
       "      <td>103254</td>\n",
       "      <td>103254</td>\n",
       "      <td>101783</td>\n",
       "      <td>103254</td>\n",
       "      <td>103254</td>\n",
       "      <td>103254</td>\n",
       "      <td>103254</td>\n",
       "      <td>103242</td>\n",
       "      <td>103240</td>\n",
       "      <td>103254</td>\n",
       "      <td>103254</td>\n",
       "      <td>103254</td>\n",
       "      <td>103254</td>\n",
       "    </tr>\n",
       "    <tr>\n",
       "      <th>1</th>\n",
       "      <td>South of Market</td>\n",
       "      <td>70221</td>\n",
       "      <td>70221</td>\n",
       "      <td>69009</td>\n",
       "      <td>70221</td>\n",
       "      <td>70221</td>\n",
       "      <td>70221</td>\n",
       "      <td>70221</td>\n",
       "      <td>70215</td>\n",
       "      <td>70215</td>\n",
       "      <td>70221</td>\n",
       "      <td>70221</td>\n",
       "      <td>70221</td>\n",
       "      <td>70221</td>\n",
       "    </tr>\n",
       "    <tr>\n",
       "      <th>2</th>\n",
       "      <td>Tenderloin</td>\n",
       "      <td>29747</td>\n",
       "      <td>29747</td>\n",
       "      <td>29272</td>\n",
       "      <td>29747</td>\n",
       "      <td>29747</td>\n",
       "      <td>29747</td>\n",
       "      <td>29747</td>\n",
       "      <td>29746</td>\n",
       "      <td>29746</td>\n",
       "      <td>29747</td>\n",
       "      <td>29747</td>\n",
       "      <td>29747</td>\n",
       "      <td>29747</td>\n",
       "    </tr>\n",
       "    <tr>\n",
       "      <th>3</th>\n",
       "      <td>Bayview</td>\n",
       "      <td>28256</td>\n",
       "      <td>28256</td>\n",
       "      <td>27916</td>\n",
       "      <td>28256</td>\n",
       "      <td>28256</td>\n",
       "      <td>28256</td>\n",
       "      <td>28256</td>\n",
       "      <td>28256</td>\n",
       "      <td>28255</td>\n",
       "      <td>28256</td>\n",
       "      <td>28256</td>\n",
       "      <td>28256</td>\n",
       "      <td>28256</td>\n",
       "    </tr>\n",
       "    <tr>\n",
       "      <th>4</th>\n",
       "      <td>Downtown/Civic Center</td>\n",
       "      <td>27985</td>\n",
       "      <td>27985</td>\n",
       "      <td>27948</td>\n",
       "      <td>27985</td>\n",
       "      <td>27985</td>\n",
       "      <td>27985</td>\n",
       "      <td>27985</td>\n",
       "      <td>27985</td>\n",
       "      <td>27984</td>\n",
       "      <td>27985</td>\n",
       "      <td>27985</td>\n",
       "      <td>27985</td>\n",
       "      <td>27985</td>\n",
       "    </tr>\n",
       "  </tbody>\n",
       "</table>\n",
       "</div>"
      ],
      "text/plain": [
       "            Neighborhood  CaseID  Opened  Closed  Status  Responsible Agency  \\\n",
       "0                Mission  103254  103254  101783  103254              103254   \n",
       "1        South of Market   70221   70221   69009   70221               70221   \n",
       "2             Tenderloin   29747   29747   29272   29747               29747   \n",
       "3                Bayview   28256   28256   27916   28256               28256   \n",
       "4  Downtown/Civic Center   27985   27985   27948   27985               27985   \n",
       "\n",
       "   Address  Category  Request Type  Request Details  Source  \\\n",
       "0   103254    103254        103242           103240  103254   \n",
       "1    70221     70221         70215            70215   70221   \n",
       "2    29747     29747         29746            29746   29747   \n",
       "3    28256     28256         28256            28255   28256   \n",
       "4    27985     27985         27985            27984   27985   \n",
       "\n",
       "   Supervisor District  Updated   Point  \n",
       "0               103254   103254  103254  \n",
       "1                70221    70221   70221  \n",
       "2                29747    29747   29747  \n",
       "3                28256    28256   28256  \n",
       "4                27985    27985   27985  "
      ]
     },
     "execution_count": 10,
     "metadata": {},
     "output_type": "execute_result"
    }
   ],
   "source": [
    "counts.head()"
   ]
  },
  {
   "cell_type": "code",
   "execution_count": 36,
   "metadata": {
    "collapsed": false,
    "deletable": true,
    "editable": true
   },
   "outputs": [
    {
     "data": {
      "image/png": "[encoded data removed]",
      "text/plain": [
       "<matplotlib.figure.Figure at 0x7f6e87e8abd0>"
      ]
     },
     "metadata": {},
     "output_type": "display_data"
    }
   ],
   "source": [
    "sns.set_context(\"notebook\", rc={\"font.size\" : 40}) # font_scale=1.5\n",
    "ax = sns.factorplot(x = \"CaseID\", \n",
    "                    y = \"Neighborhood\",\n",
    "                    data = counts.head(15), \n",
    "                    kind = \"bar\", \n",
    "                    orient = \"h\", \n",
    "                    aspect = 2\n",
    "                   )#, size = 10)\n",
    "ax.set_xlabels(\"Requests\")\n",
    "plt.title(\"Requests by Neighborhood (Top 15 Neighborhoods)\") \n",
    "plt.show()"
   ]
  },
  {
   "cell_type": "code",
   "execution_count": 12,
   "metadata": {
    "collapsed": false,
    "deletable": true,
    "editable": true
   },
   "outputs": [
    {
     "data": {
      "image/png": "[encoded data removed]",
      "text/plain": [
       "<matplotlib.figure.Figure at 0x7f6e4bfdced0>"
      ]
     },
     "metadata": {},
     "output_type": "display_data"
    }
   ],
   "source": [
    "sns.set_context(\"notebook\", rc={\"font.size\" : 40}) # font_scale=1.5\n",
    "ax = sns.factorplot(x = \"CaseID\", \n",
    "                    y = \"Neighborhood\",\n",
    "                    data = counts.tail(15), \n",
    "                    kind = \"bar\", \n",
    "                    orient = \"h\", \n",
    "                    aspect = 3\n",
    "                   )#, size = 10)\n",
    "ax.set_xlabels(\"Requests\")\n",
    "plt.title(\"Requests by Neighborhood (Bottom 15 Neighborhoods)\") \n",
    "plt.show()"
   ]
  },
  {
   "cell_type": "code",
   "execution_count": 13,
   "metadata": {
    "collapsed": false,
    "deletable": true,
    "editable": true
   },
   "outputs": [],
   "source": [
    "counts['UnclosedProp'] = (counts.Opened - counts.Closed) / counts.Opened"
   ]
  },
  {
   "cell_type": "code",
   "execution_count": 14,
   "metadata": {
    "collapsed": false,
    "deletable": true,
    "editable": true
   },
   "outputs": [
    {
     "data": {
      "text/html": [
       "<div>\n",
       "<table border=\"1\" class=\"dataframe\">\n",
       "  <thead>\n",
       "    <tr style=\"text-align: right;\">\n",
       "      <th></th>\n",
       "      <th>Neighborhood</th>\n",
       "      <th>CaseID</th>\n",
       "      <th>Opened</th>\n",
       "      <th>Closed</th>\n",
       "      <th>Status</th>\n",
       "      <th>Responsible Agency</th>\n",
       "      <th>Address</th>\n",
       "      <th>Category</th>\n",
       "      <th>Request Type</th>\n",
       "      <th>Request Details</th>\n",
       "      <th>Source</th>\n",
       "      <th>Supervisor District</th>\n",
       "      <th>Updated</th>\n",
       "      <th>Point</th>\n",
       "      <th>UnclosedProp</th>\n",
       "    </tr>\n",
       "  </thead>\n",
       "  <tbody>\n",
       "    <tr>\n",
       "      <th>0</th>\n",
       "      <td>Mission</td>\n",
       "      <td>103254</td>\n",
       "      <td>103254</td>\n",
       "      <td>101783</td>\n",
       "      <td>103254</td>\n",
       "      <td>103254</td>\n",
       "      <td>103254</td>\n",
       "      <td>103254</td>\n",
       "      <td>103242</td>\n",
       "      <td>103240</td>\n",
       "      <td>103254</td>\n",
       "      <td>103254</td>\n",
       "      <td>103254</td>\n",
       "      <td>103254</td>\n",
       "      <td>0.014246</td>\n",
       "    </tr>\n",
       "    <tr>\n",
       "      <th>1</th>\n",
       "      <td>South of Market</td>\n",
       "      <td>70221</td>\n",
       "      <td>70221</td>\n",
       "      <td>69009</td>\n",
       "      <td>70221</td>\n",
       "      <td>70221</td>\n",
       "      <td>70221</td>\n",
       "      <td>70221</td>\n",
       "      <td>70215</td>\n",
       "      <td>70215</td>\n",
       "      <td>70221</td>\n",
       "      <td>70221</td>\n",
       "      <td>70221</td>\n",
       "      <td>70221</td>\n",
       "      <td>0.017260</td>\n",
       "    </tr>\n",
       "    <tr>\n",
       "      <th>2</th>\n",
       "      <td>Tenderloin</td>\n",
       "      <td>29747</td>\n",
       "      <td>29747</td>\n",
       "      <td>29272</td>\n",
       "      <td>29747</td>\n",
       "      <td>29747</td>\n",
       "      <td>29747</td>\n",
       "      <td>29747</td>\n",
       "      <td>29746</td>\n",
       "      <td>29746</td>\n",
       "      <td>29747</td>\n",
       "      <td>29747</td>\n",
       "      <td>29747</td>\n",
       "      <td>29747</td>\n",
       "      <td>0.015968</td>\n",
       "    </tr>\n",
       "    <tr>\n",
       "      <th>3</th>\n",
       "      <td>Bayview</td>\n",
       "      <td>28256</td>\n",
       "      <td>28256</td>\n",
       "      <td>27916</td>\n",
       "      <td>28256</td>\n",
       "      <td>28256</td>\n",
       "      <td>28256</td>\n",
       "      <td>28256</td>\n",
       "      <td>28256</td>\n",
       "      <td>28255</td>\n",
       "      <td>28256</td>\n",
       "      <td>28256</td>\n",
       "      <td>28256</td>\n",
       "      <td>28256</td>\n",
       "      <td>0.012033</td>\n",
       "    </tr>\n",
       "    <tr>\n",
       "      <th>4</th>\n",
       "      <td>Downtown/Civic Center</td>\n",
       "      <td>27985</td>\n",
       "      <td>27985</td>\n",
       "      <td>27948</td>\n",
       "      <td>27985</td>\n",
       "      <td>27985</td>\n",
       "      <td>27985</td>\n",
       "      <td>27985</td>\n",
       "      <td>27985</td>\n",
       "      <td>27984</td>\n",
       "      <td>27985</td>\n",
       "      <td>27985</td>\n",
       "      <td>27985</td>\n",
       "      <td>27985</td>\n",
       "      <td>0.001322</td>\n",
       "    </tr>\n",
       "  </tbody>\n",
       "</table>\n",
       "</div>"
      ],
      "text/plain": [
       "            Neighborhood  CaseID  Opened  Closed  Status  Responsible Agency  \\\n",
       "0                Mission  103254  103254  101783  103254              103254   \n",
       "1        South of Market   70221   70221   69009   70221               70221   \n",
       "2             Tenderloin   29747   29747   29272   29747               29747   \n",
       "3                Bayview   28256   28256   27916   28256               28256   \n",
       "4  Downtown/Civic Center   27985   27985   27948   27985               27985   \n",
       "\n",
       "   Address  Category  Request Type  Request Details  Source  \\\n",
       "0   103254    103254        103242           103240  103254   \n",
       "1    70221     70221         70215            70215   70221   \n",
       "2    29747     29747         29746            29746   29747   \n",
       "3    28256     28256         28256            28255   28256   \n",
       "4    27985     27985         27985            27984   27985   \n",
       "\n",
       "   Supervisor District  Updated   Point  UnclosedProp  \n",
       "0               103254   103254  103254      0.014246  \n",
       "1                70221    70221   70221      0.017260  \n",
       "2                29747    29747   29747      0.015968  \n",
       "3                28256    28256   28256      0.012033  \n",
       "4                27985    27985   27985      0.001322  "
      ]
     },
     "execution_count": 14,
     "metadata": {},
     "output_type": "execute_result"
    }
   ],
   "source": [
    "counts.head()"
   ]
  },
  {
   "cell_type": "code",
   "execution_count": 15,
   "metadata": {
    "collapsed": false,
    "deletable": true,
    "editable": true
   },
   "outputs": [
    {
     "data": {
      "image/png": "[encoded data removed]",
      "text/plain": [
       "<matplotlib.figure.Figure at 0x7f6e4bfdc290>"
      ]
     },
     "metadata": {},
     "output_type": "display_data"
    }
   ],
   "source": [
    "sns.set_context(\"notebook\", rc={\"font.size\" : 40}) # font_scale=1.5\n",
    "ax = sns.factorplot(x = \"UnclosedProp\", \n",
    "                    y = \"Neighborhood\",\n",
    "                    data = counts.sort_values(by = \"UnclosedProp\",\n",
    "                                              ascending = False).head(15), \n",
    "                    kind = \"bar\", \n",
    "                    orient = \"h\", \n",
    "                    aspect = 3\n",
    "                   )#, size = 10)\n",
    "plt.title(\"Proportion of Unclosed Cleaning Requests by Neighborhood (Top 15 Neighborhoods)\") \n",
    "plt.show()"
   ]
  },
  {
   "cell_type": "markdown",
   "metadata": {
    "deletable": true,
    "editable": true
   },
   "source": [
    "Use supervisor district where there are too many neighborhoods. "
   ]
  },
  {
   "cell_type": "code",
   "execution_count": 16,
   "metadata": {
    "collapsed": false,
    "deletable": true,
    "editable": true
   },
   "outputs": [
    {
     "data": {
      "text/html": [
       "<div>\n",
       "<table border=\"1\" class=\"dataframe\">\n",
       "  <thead>\n",
       "    <tr style=\"text-align: right;\">\n",
       "      <th></th>\n",
       "      <th>Request Type</th>\n",
       "      <th>CaseID</th>\n",
       "    </tr>\n",
       "  </thead>\n",
       "  <tbody>\n",
       "    <tr>\n",
       "      <th>1</th>\n",
       "      <td>Bulky Items</td>\n",
       "      <td>185982</td>\n",
       "    </tr>\n",
       "    <tr>\n",
       "      <th>5</th>\n",
       "      <td>General Cleaning</td>\n",
       "      <td>175753</td>\n",
       "    </tr>\n",
       "    <tr>\n",
       "      <th>15</th>\n",
       "      <td>Sidewalk_Cleaning</td>\n",
       "      <td>171590</td>\n",
       "    </tr>\n",
       "    <tr>\n",
       "      <th>6</th>\n",
       "      <td>Hazardous Materials</td>\n",
       "      <td>81547</td>\n",
       "    </tr>\n",
       "    <tr>\n",
       "      <th>8</th>\n",
       "      <td>Illegal_Dumping</td>\n",
       "      <td>44571</td>\n",
       "    </tr>\n",
       "  </tbody>\n",
       "</table>\n",
       "</div>"
      ],
      "text/plain": [
       "           Request Type  CaseID\n",
       "1           Bulky Items  185982\n",
       "5      General Cleaning  175753\n",
       "15    Sidewalk_Cleaning  171590\n",
       "6   Hazardous Materials   81547\n",
       "8       Illegal_Dumping   44571"
      ]
     },
     "execution_count": 16,
     "metadata": {},
     "output_type": "execute_result"
    }
   ],
   "source": [
    "request_counts = street.groupby(by = \"Request Type\").count().reset_index().ix[:,[\"Request Type\",\"CaseID\"]].sort_values(by = \"CaseID\", ascending = False)\n",
    "request_counts.head()"
   ]
  },
  {
   "cell_type": "code",
   "execution_count": 17,
   "metadata": {
    "collapsed": false,
    "deletable": true,
    "editable": true
   },
   "outputs": [
    {
     "data": {
      "image/png": "[encoded data removed]",
      "text/plain": [
       "<matplotlib.figure.Figure at 0x7f6e47c11410>"
      ]
     },
     "metadata": {},
     "output_type": "display_data"
    }
   ],
   "source": [
    "sns.set_context(\"notebook\", rc={\"font.size\" : 40}) # font_scale=1.5\n",
    "ax = sns.factorplot(y = \"Request Type\", \n",
    "                    x = \"CaseID\",\n",
    "                    data = request_counts, \n",
    "                    kind = \"bar\", \n",
    "                    orient = \"h\", \n",
    "                    aspect = 3\n",
    "                   )#, size = 10)\n",
    "plt.title(\"Requests Type by Neighborhood (Top 15 Neighborhoods)\") \n",
    "plt.show()"
   ]
  },
  {
   "cell_type": "markdown",
   "metadata": {
    "deletable": true,
    "editable": true
   },
   "source": [
    "Differences by time of year:\n",
    "- Mattresses in summer  \n",
    "- Holiday shopping  \n"
   ]
  },
  {
   "cell_type": "markdown",
   "metadata": {
    "deletable": true,
    "editable": true
   },
   "source": [
    "Note: only use 2009 through 2016 to only count full years.  \n",
    "Ask TA if we should do this for all analysis or just this part."
   ]
  },
  {
   "cell_type": "code",
   "execution_count": 18,
   "metadata": {
    "collapsed": false,
    "deletable": true,
    "editable": true
   },
   "outputs": [],
   "source": [
    "street['month'] = [timestamp.month for timestamp in street.Opened]"
   ]
  },
  {
   "cell_type": "code",
   "execution_count": 19,
   "metadata": {
    "collapsed": false,
    "deletable": true,
    "editable": true
   },
   "outputs": [
    {
     "data": {
      "text/html": [
       "<div>\n",
       "<table border=\"1\" class=\"dataframe\">\n",
       "  <thead>\n",
       "    <tr style=\"text-align: right;\">\n",
       "      <th></th>\n",
       "      <th>CaseID</th>\n",
       "      <th>Opened</th>\n",
       "      <th>Closed</th>\n",
       "      <th>Status</th>\n",
       "      <th>Responsible Agency</th>\n",
       "      <th>Address</th>\n",
       "      <th>Category</th>\n",
       "      <th>Request Type</th>\n",
       "      <th>Request Details</th>\n",
       "      <th>Source</th>\n",
       "      <th>Supervisor District</th>\n",
       "      <th>Neighborhood</th>\n",
       "      <th>Updated</th>\n",
       "      <th>Point</th>\n",
       "      <th>month</th>\n",
       "    </tr>\n",
       "  </thead>\n",
       "  <tbody>\n",
       "    <tr>\n",
       "      <th>0</th>\n",
       "      <td>322566</td>\n",
       "      <td>2008-11-30 22:56:00</td>\n",
       "      <td>2009-07-21 16:24:00</td>\n",
       "      <td>Closed</td>\n",
       "      <td>DPW Ops Queue</td>\n",
       "      <td>1566 HYDE ST, SAN FRANCISCO, CA, 94109</td>\n",
       "      <td>Street and Sidewalk Cleaning</td>\n",
       "      <td>Sidewalk_Cleaning</td>\n",
       "      <td>Garbage</td>\n",
       "      <td>Voice In</td>\n",
       "      <td>3.0</td>\n",
       "      <td>Nob Hill</td>\n",
       "      <td>2009-07-21 16:24:00</td>\n",
       "      <td>(37.795328529, -122.418067787)</td>\n",
       "      <td>11</td>\n",
       "    </tr>\n",
       "    <tr>\n",
       "      <th>1</th>\n",
       "      <td>322560</td>\n",
       "      <td>2008-11-30 22:24:00</td>\n",
       "      <td>2009-07-21 16:24:00</td>\n",
       "      <td>Closed</td>\n",
       "      <td>DPW Ops Queue</td>\n",
       "      <td>Intersection of TAYLOR ST and TURK ST</td>\n",
       "      <td>Street and Sidewalk Cleaning</td>\n",
       "      <td>Illegal_Dumping</td>\n",
       "      <td>Garbage</td>\n",
       "      <td>Voice In</td>\n",
       "      <td>6.0</td>\n",
       "      <td>Downtown/Civic Center</td>\n",
       "      <td>2009-07-21 16:24:00</td>\n",
       "      <td>(37.7832142923006, -122.410764953722)</td>\n",
       "      <td>11</td>\n",
       "    </tr>\n",
       "    <tr>\n",
       "      <th>2</th>\n",
       "      <td>322559</td>\n",
       "      <td>2008-11-30 22:20:00</td>\n",
       "      <td>2008-12-01 06:07:00</td>\n",
       "      <td>Closed</td>\n",
       "      <td>DPW Ops Queue</td>\n",
       "      <td>1601 SACRAMENTO ST, SAN FRANCISCO, CA, 94109</td>\n",
       "      <td>Street and Sidewalk Cleaning</td>\n",
       "      <td>Illegal_Dumping</td>\n",
       "      <td>Mattress</td>\n",
       "      <td>Voice In</td>\n",
       "      <td>3.0</td>\n",
       "      <td>Nob Hill</td>\n",
       "      <td>2008-12-01 06:07:00</td>\n",
       "      <td>(37.791643509125, -122.419260423291)</td>\n",
       "      <td>11</td>\n",
       "    </tr>\n",
       "    <tr>\n",
       "      <th>3</th>\n",
       "      <td>322556</td>\n",
       "      <td>2008-11-30 21:34:00</td>\n",
       "      <td>2008-12-09 08:07:00</td>\n",
       "      <td>Closed</td>\n",
       "      <td>DPW Ops Queue</td>\n",
       "      <td>Intersection of 25TH ST and LUCKY ST</td>\n",
       "      <td>Street and Sidewalk Cleaning</td>\n",
       "      <td>Sidewalk_Cleaning</td>\n",
       "      <td>Human_waste_or_urine</td>\n",
       "      <td>Voice In</td>\n",
       "      <td>9.0</td>\n",
       "      <td>Mission</td>\n",
       "      <td>2008-12-09 08:07:00</td>\n",
       "      <td>(37.7509362479361, -122.413364630104)</td>\n",
       "      <td>11</td>\n",
       "    </tr>\n",
       "    <tr>\n",
       "      <th>4</th>\n",
       "      <td>322545</td>\n",
       "      <td>2008-11-30 20:45:00</td>\n",
       "      <td>2009-02-03 07:09:00</td>\n",
       "      <td>Closed</td>\n",
       "      <td>DPW Ops Queue</td>\n",
       "      <td>Intersection of 19TH ST and OAKWOOD ST</td>\n",
       "      <td>Street and Sidewalk Cleaning</td>\n",
       "      <td>Sidewalk_Cleaning</td>\n",
       "      <td>Empty_cart</td>\n",
       "      <td>Voice In</td>\n",
       "      <td>8.0</td>\n",
       "      <td>Mission</td>\n",
       "      <td>2009-02-03 07:09:00</td>\n",
       "      <td>(37.7598935230725, -122.42486308879)</td>\n",
       "      <td>11</td>\n",
       "    </tr>\n",
       "  </tbody>\n",
       "</table>\n",
       "</div>"
      ],
      "text/plain": [
       "   CaseID              Opened              Closed  Status Responsible Agency  \\\n",
       "0  322566 2008-11-30 22:56:00 2009-07-21 16:24:00  Closed      DPW Ops Queue   \n",
       "1  322560 2008-11-30 22:24:00 2009-07-21 16:24:00  Closed      DPW Ops Queue   \n",
       "2  322559 2008-11-30 22:20:00 2008-12-01 06:07:00  Closed      DPW Ops Queue   \n",
       "3  322556 2008-11-30 21:34:00 2008-12-09 08:07:00  Closed      DPW Ops Queue   \n",
       "4  322545 2008-11-30 20:45:00 2009-02-03 07:09:00  Closed      DPW Ops Queue   \n",
       "\n",
       "                                        Address                      Category  \\\n",
       "0        1566 HYDE ST, SAN FRANCISCO, CA, 94109  Street and Sidewalk Cleaning   \n",
       "1         Intersection of TAYLOR ST and TURK ST  Street and Sidewalk Cleaning   \n",
       "2  1601 SACRAMENTO ST, SAN FRANCISCO, CA, 94109  Street and Sidewalk Cleaning   \n",
       "3          Intersection of 25TH ST and LUCKY ST  Street and Sidewalk Cleaning   \n",
       "4        Intersection of 19TH ST and OAKWOOD ST  Street and Sidewalk Cleaning   \n",
       "\n",
       "        Request Type       Request Details    Source  Supervisor District  \\\n",
       "0  Sidewalk_Cleaning               Garbage  Voice In                  3.0   \n",
       "1    Illegal_Dumping               Garbage  Voice In                  6.0   \n",
       "2    Illegal_Dumping              Mattress  Voice In                  3.0   \n",
       "3  Sidewalk_Cleaning  Human_waste_or_urine  Voice In                  9.0   \n",
       "4  Sidewalk_Cleaning            Empty_cart  Voice In                  8.0   \n",
       "\n",
       "            Neighborhood             Updated  \\\n",
       "0               Nob Hill 2009-07-21 16:24:00   \n",
       "1  Downtown/Civic Center 2009-07-21 16:24:00   \n",
       "2               Nob Hill 2008-12-01 06:07:00   \n",
       "3                Mission 2008-12-09 08:07:00   \n",
       "4                Mission 2009-02-03 07:09:00   \n",
       "\n",
       "                                   Point  month  \n",
       "0         (37.795328529, -122.418067787)     11  \n",
       "1  (37.7832142923006, -122.410764953722)     11  \n",
       "2   (37.791643509125, -122.419260423291)     11  \n",
       "3  (37.7509362479361, -122.413364630104)     11  \n",
       "4   (37.7598935230725, -122.42486308879)     11  "
      ]
     },
     "execution_count": 19,
     "metadata": {},
     "output_type": "execute_result"
    }
   ],
   "source": [
    "street.head()"
   ]
  },
  {
   "cell_type": "code",
   "execution_count": 20,
   "metadata": {
    "collapsed": false,
    "deletable": true,
    "editable": true
   },
   "outputs": [
    {
     "data": {
      "text/html": [
       "<div>\n",
       "<table border=\"1\" class=\"dataframe\">\n",
       "  <thead>\n",
       "    <tr style=\"text-align: right;\">\n",
       "      <th></th>\n",
       "      <th>month</th>\n",
       "      <th>CaseID</th>\n",
       "    </tr>\n",
       "  </thead>\n",
       "  <tbody>\n",
       "    <tr>\n",
       "      <th>0</th>\n",
       "      <td>1</td>\n",
       "      <td>75185</td>\n",
       "    </tr>\n",
       "    <tr>\n",
       "      <th>1</th>\n",
       "      <td>2</td>\n",
       "      <td>61798</td>\n",
       "    </tr>\n",
       "    <tr>\n",
       "      <th>2</th>\n",
       "      <td>3</td>\n",
       "      <td>50527</td>\n",
       "    </tr>\n",
       "    <tr>\n",
       "      <th>3</th>\n",
       "      <td>4</td>\n",
       "      <td>48875</td>\n",
       "    </tr>\n",
       "    <tr>\n",
       "      <th>4</th>\n",
       "      <td>5</td>\n",
       "      <td>52543</td>\n",
       "    </tr>\n",
       "    <tr>\n",
       "      <th>5</th>\n",
       "      <td>6</td>\n",
       "      <td>57559</td>\n",
       "    </tr>\n",
       "    <tr>\n",
       "      <th>6</th>\n",
       "      <td>7</td>\n",
       "      <td>64272</td>\n",
       "    </tr>\n",
       "    <tr>\n",
       "      <th>7</th>\n",
       "      <td>8</td>\n",
       "      <td>69850</td>\n",
       "    </tr>\n",
       "    <tr>\n",
       "      <th>8</th>\n",
       "      <td>9</td>\n",
       "      <td>68477</td>\n",
       "    </tr>\n",
       "    <tr>\n",
       "      <th>9</th>\n",
       "      <td>10</td>\n",
       "      <td>69697</td>\n",
       "    </tr>\n",
       "    <tr>\n",
       "      <th>10</th>\n",
       "      <td>11</td>\n",
       "      <td>65806</td>\n",
       "    </tr>\n",
       "    <tr>\n",
       "      <th>11</th>\n",
       "      <td>12</td>\n",
       "      <td>62799</td>\n",
       "    </tr>\n",
       "  </tbody>\n",
       "</table>\n",
       "</div>"
      ],
      "text/plain": [
       "    month  CaseID\n",
       "0       1   75185\n",
       "1       2   61798\n",
       "2       3   50527\n",
       "3       4   48875\n",
       "4       5   52543\n",
       "5       6   57559\n",
       "6       7   64272\n",
       "7       8   69850\n",
       "8       9   68477\n",
       "9      10   69697\n",
       "10     11   65806\n",
       "11     12   62799"
      ]
     },
     "execution_count": 20,
     "metadata": {},
     "output_type": "execute_result"
    }
   ],
   "source": [
    "count_by_month = street.groupby(by='month').count().CaseID.reset_index()\n",
    "count_by_month"
   ]
  },
  {
   "cell_type": "code",
   "execution_count": 21,
   "metadata": {
    "collapsed": false,
    "deletable": true,
    "editable": true
   },
   "outputs": [
    {
     "data": {
      "image/png": "[encoded data removed]",
      "text/plain": [
       "<matplotlib.figure.Figure at 0x7f6e478a4f10>"
      ]
     },
     "metadata": {},
     "output_type": "display_data"
    }
   ],
   "source": [
    "sns.set_context(\"notebook\", rc={\"font.size\" : 40}) # font_scale=1.5\n",
    "ax = sns.pointplot(y = \"CaseID\", \n",
    "                    x = \"month\",\n",
    "                    data = count_by_month, \n",
    "                    kind = \"bar\", \n",
    "                    aspect = 3,\n",
    "                   )#, size = 10)\n",
    "ax.set_ylabel(\"Cleaning Requests\")\n",
    "ax.set_xlabel(\"Month\")\n",
    "plt.title(\"Requests by Month\") \n",
    "plt.show()"
   ]
  },
  {
   "cell_type": "markdown",
   "metadata": {
    "deletable": true,
    "editable": true
   },
   "source": [
    "Faster at closing requests by time?\n",
    "Time to close requests by neighborhood?"
   ]
  },
  {
   "cell_type": "markdown",
   "metadata": {
    "deletable": true,
    "editable": true
   },
   "source": [
    "# Scraping"
   ]
  },
  {
   "cell_type": "code",
   "execution_count": 22,
   "metadata": {
    "collapsed": true,
    "deletable": true,
    "editable": true
   },
   "outputs": [],
   "source": [
    "requests_cache.install_cache('sf_cache')"
   ]
  },
  {
   "cell_type": "code",
   "execution_count": 23,
   "metadata": {
    "collapsed": false,
    "deletable": true,
    "editable": true
   },
   "outputs": [],
   "source": [
    "url = \"http://www.city-data.com/nbmaps/neigh-San-Francisco-California.html\"\n",
    "response = requests.get(url)\n",
    "response.raise_for_status\n",
    "\n",
    "neighborhoods_bs = BeautifulSoup(response.text, 'lxml')\n",
    "\n",
    "neighborhood_names = neighborhoods_bs.find_all(name = \"span\", attrs={'class':'street-name'})"
   ]
  },
  {
   "cell_type": "code",
   "execution_count": 24,
   "metadata": {
    "collapsed": false,
    "deletable": true,
    "editable": true
   },
   "outputs": [],
   "source": [
    "neighborhood_names = [name.text for name in neighborhood_names]"
   ]
  },
  {
   "cell_type": "code",
   "execution_count": 25,
   "metadata": {
    "collapsed": false,
    "deletable": true,
    "editable": true
   },
   "outputs": [
    {
     "data": {
      "text/plain": [
       "[u'Alamo Square',\n",
       " u'Anza Vista',\n",
       " u'Aquatic Park',\n",
       " u'Baja Noe',\n",
       " u'Balboa Park',\n",
       " u'Balboa Terrace',\n",
       " u'Bayview District',\n",
       " u'Bayview Heights',\n",
       " u'Bernal Heights',\n",
       " u'Bernal Heights North',\n",
       " u'Bernal Heights Park',\n",
       " u'Bernal Heights South',\n",
       " u'Buena Vista Park',\n",
       " u'Castro',\n",
       " u'Cathedral Hill',\n",
       " u'Cayuga Terrace',\n",
       " u'Central Richmond',\n",
       " u'Central Sunset',\n",
       " u'Chinatown',\n",
       " u'Civic Center',\n",
       " u'Clarendon Heights',\n",
       " u'Cole Valley',\n",
       " u'Corona Heights',\n",
       " u'Cow Hollow',\n",
       " u'Crocker-Amazon',\n",
       " u'Deco Ghetto',\n",
       " u'Diamond Heights',\n",
       " u'Dogpatch',\n",
       " u'Downtown',\n",
       " u'Duboce Triangle',\n",
       " u'Embarcadero',\n",
       " u'Excelsior',\n",
       " u'Financial District',\n",
       " u'Financial District South',\n",
       " u\"Fisherman's Wharf\",\n",
       " u'Forest Hill',\n",
       " u'Forest Knolls',\n",
       " u'Fort Mason',\n",
       " u'French Quarter',\n",
       " u'Ghirardelli Square',\n",
       " u'Glen Park',\n",
       " u'Golden Gate Heights',\n",
       " u'Golden Gate Park',\n",
       " u'Haight-Ashbury',\n",
       " u'Hayes Valley',\n",
       " u'Holly Park',\n",
       " u'Hunters Point',\n",
       " u'India Basin',\n",
       " u'Ingleside',\n",
       " u'Ingleside Heights',\n",
       " u'Ingleside Terrace',\n",
       " u'Inner Parkside',\n",
       " u'Inner Richmond',\n",
       " u'Inner Sunset',\n",
       " u'Inner Sunset',\n",
       " u'Inset',\n",
       " u'Intermission',\n",
       " u'Jackson Square',\n",
       " u'Japantown',\n",
       " u'Laguna Honda',\n",
       " u'Lake',\n",
       " u'Lake Shore',\n",
       " u'Lakeside',\n",
       " u'Laurel Heights',\n",
       " u'Laurel Village',\n",
       " u'Little Hollywood',\n",
       " u'Little Russia',\n",
       " u'Little Saigon',\n",
       " u'Lone Mountain',\n",
       " u'Lower Haight',\n",
       " u'Lower Nob Hill',\n",
       " u'Lower Pacific Heights',\n",
       " u'Marina District',\n",
       " u'Mastro',\n",
       " u'Merced Heights',\n",
       " u'Merced Manor',\n",
       " u'Midtown Terrace',\n",
       " u'Mint Hill',\n",
       " u'Miraloma Park',\n",
       " u'Mission Bay',\n",
       " u'Mission District',\n",
       " u'Mission Dolores',\n",
       " u'Mission Terrace',\n",
       " u'Monterey Heights',\n",
       " u'Mount Davidson Manor',\n",
       " u'NOMA',\n",
       " u'Nob Hill',\n",
       " u'Noe Valley',\n",
       " u'North Beach',\n",
       " u'North Panhandle',\n",
       " u'North Waterfront',\n",
       " u'Oceanview',\n",
       " u'Outer Mission',\n",
       " u'Outer Parkside',\n",
       " u'Outer Richmond',\n",
       " u'Outer Sunset',\n",
       " u'Outset',\n",
       " u'Pacific Heights',\n",
       " u'Park Merced',\n",
       " u'Parkside',\n",
       " u'Parnassus',\n",
       " u'Pier 39',\n",
       " u'Pine Lake Park',\n",
       " u'Polk Gulch',\n",
       " u'Portola',\n",
       " u'Potrero Flats',\n",
       " u'Potrero Hill',\n",
       " u'Presidio',\n",
       " u'Presidio Heights',\n",
       " u'Presidio Terrace',\n",
       " u'Richmond District',\n",
       " u'Rincon Hill',\n",
       " u'Russian Hill',\n",
       " u'SOMISSPO',\n",
       " u'Saint Francis Wood',\n",
       " u'Sea Cliff',\n",
       " u'Sherwood Forest',\n",
       " u'Showplace Square',\n",
       " u'Silver Terrace',\n",
       " u'South Basin',\n",
       " u'South Beach',\n",
       " u'South Of Market',\n",
       " u'South Park',\n",
       " u'St Marys Square',\n",
       " u'Stonestown',\n",
       " u'Sunnydale',\n",
       " u'Sunnyside',\n",
       " u'Sunset District',\n",
       " u'Sutro Heights',\n",
       " u'Telegraph Hill',\n",
       " u'Tenderloin',\n",
       " u'The Hub',\n",
       " u'Transmission',\n",
       " u'Treasure Island',\n",
       " u'Twin Peaks',\n",
       " u'Twin Peaks West',\n",
       " u'Union Square',\n",
       " u'Upper Market',\n",
       " u'Van Ness',\n",
       " u'Visitacion Valley',\n",
       " u'West Portal',\n",
       " u'West of Twin Peaks',\n",
       " u'Western Addition',\n",
       " u'Westwood Highlands',\n",
       " u'Westwood Park',\n",
       " u'Yerba Buena Island',\n",
       " u'Zion District']"
      ]
     },
     "execution_count": 25,
     "metadata": {},
     "output_type": "execute_result"
    }
   ],
   "source": [
    "neighborhood_names"
   ]
  },
  {
   "cell_type": "code",
   "execution_count": 26,
   "metadata": {
    "collapsed": false,
    "deletable": true,
    "editable": true
   },
   "outputs": [],
   "source": [
    "neighborhood_divs = neighborhoods_bs.body.find_all(name = \"div\", attrs={'class':'neighborhood'})"
   ]
  },
  {
   "cell_type": "code",
   "execution_count": 27,
   "metadata": {
    "collapsed": false,
    "deletable": true,
    "editable": true
   },
   "outputs": [
    {
     "data": {
      "text/plain": [
       "u\"Alamo Square neighborhood in San Francisco statistics: (Find on map)\\nArea: 0.144 square milesPopulation: 6,379Population density:Alamo Square:44,418 people per square mileSan Francisco:18,521 people per square mileMedian household income in 2015: Alamo Square:$93,901San Francisco:$92,094Median rent in in 2015: Alamo Square:$1,754San Francisco:$1,609Male vs FemalesMales:3,916Females:2,461Median ageMales:35.4 yearsFemales:38.6 yearsHousing prices:Average estimated value of detached houses in 2015 (4.9% of all units):Alamo Square:$1,988,926San Francisco:$1,134,589Average estimated value of townhouses or other attached units in 2015 (1.6% of all units):This neighborhood:$948,534city:$846,333Average estimated value of housing units in 2-unit structures in 2015 (9.8% of all units):This neighborhood:$1,003,276San Francisco:$1,001,026Average estimated '15 value of housing units in 3-to-4-unit structures (26.8% of all units):Alamo Square:$736,205city:$984,108Average estimated '15 value of housing units in 5-or-more-unit structures (1.6% of all units):Alamo Square:$235,527San Francisco:$921,371Most popular occupations of males: service occupations (22.2%); management occupations (except farmers) (15.7%); sales and office occupations (14.1%); computer and mathematical occupations (13.1%); business and financial operations occupations (10.9%); arts, design, entertainment, sports, and media occupations (4.6%); legal occupations (3.8%)Most popular occupations of females: sales and office occupations (20.8%); management occupations (except farmers) (19.6%); service occupations (13.3%); business and financial operations occupations (12.4%); arts, design, entertainment, sports, and media occupations (7.5%); legal occupations (7.1%); production occupations (4.7%)Roads and streets: Hayes St; McAllister St; Fulton St; Fell St; Oak St; Steiner St; Scott St; Grove St; Divisadero St; Pierce St; Fillmore St.\\nAlamo Square neighborhood detailed profile\\n\""
      ]
     },
     "execution_count": 27,
     "metadata": {},
     "output_type": "execute_result"
    }
   ],
   "source": [
    "neighborhood_divs[0].text"
   ]
  },
  {
   "cell_type": "markdown",
   "metadata": {
    "deletable": true,
    "editable": true
   },
   "source": [
    "regular expressions\n",
    "[capital letter][lowercase][:][ ][numbers or , or $]"
   ]
  },
  {
   "cell_type": "code",
   "execution_count": 28,
   "metadata": {
    "collapsed": false,
    "deletable": true,
    "editable": true
   },
   "outputs": [
    {
     "data": {
      "text/plain": [
       "[<b>Area:</b>,\n",
       " <b>square miles</b>,\n",
       " <b>Population:</b>,\n",
       " <b>Population density:</b>,\n",
       " <b>Alamo Square:</b>,\n",
       " <b>people per square mile</b>,\n",
       " <b>San Francisco:</b>,\n",
       " <b>people per square mile</b>,\n",
       " <b>Median household income in 2015: </b>,\n",
       " <b>Alamo Square:</b>,\n",
       " <b>San Francisco:</b>,\n",
       " <b>Median rent in in 2015: </b>,\n",
       " <b>Alamo Square:</b>,\n",
       " <b>San Francisco:</b>,\n",
       " <b>Male vs Females</b>,\n",
       " <b>Males:</b>,\n",
       " <b>Females:</b>,\n",
       " <b>Median age</b>,\n",
       " <b>Males:</b>,\n",
       " <b>Females:</b>,\n",
       " <b>Housing prices:</b>,\n",
       " <b>Average estimated value of detached houses in 2015 </b>,\n",
       " <b>:</b>,\n",
       " <b>Alamo Square:</b>,\n",
       " <b>San Francisco:</b>,\n",
       " <b>Average estimated value of townhouses or other attached units in 2015 </b>,\n",
       " <b>:</b>,\n",
       " <b>This neighborhood:</b>,\n",
       " <b>city:</b>,\n",
       " <b>Average estimated value of housing units in 2-unit structures in 2015 </b>,\n",
       " <b>:</b>,\n",
       " <b>This neighborhood:</b>,\n",
       " <b>San Francisco:</b>,\n",
       " <b>Average estimated '15 value of housing units in 3-to-4-unit structures </b>,\n",
       " <b>:</b>,\n",
       " <b>Alamo Square:</b>,\n",
       " <b>city:</b>,\n",
       " <b>Average estimated '15 value of housing units in 5-or-more-unit structures </b>,\n",
       " <b>:</b>,\n",
       " <b>Alamo Square:</b>,\n",
       " <b>San Francisco:</b>,\n",
       " <b>service occupations</b>,\n",
       " <b>management occupations (except farmers)</b>,\n",
       " <b>sales and office occupations</b>,\n",
       " <b>computer and mathematical occupations</b>,\n",
       " <b>business and financial operations occupations</b>,\n",
       " <b>arts, design, entertainment, sports, and media occupations</b>,\n",
       " <b>legal occupations</b>,\n",
       " <b>sales and office occupations</b>,\n",
       " <b>management occupations (except farmers)</b>,\n",
       " <b>service occupations</b>,\n",
       " <b>business and financial operations occupations</b>,\n",
       " <b>arts, design, entertainment, sports, and media occupations</b>,\n",
       " <b>legal occupations</b>,\n",
       " <b>production occupations</b>]"
      ]
     },
     "execution_count": 28,
     "metadata": {},
     "output_type": "execute_result"
    }
   ],
   "source": [
    "neighborhood_divs[0].find_all(name = \"b\")"
   ]
  },
  {
   "cell_type": "code",
   "execution_count": 29,
   "metadata": {
    "collapsed": false,
    "deletable": true,
    "editable": true
   },
   "outputs": [
    {
     "data": {
      "text/plain": [
       "[<strong><span class=\"street-name\">Alamo Square</span> neighborhood in San Francisco statistics: </strong>,\n",
       " u'(',\n",
       " <a href=\"javascript:sm(103);\">Find on map</a>,\n",
       " u')',\n",
       " <br/>,\n",
       " <br/>,\n",
       " u'\\n',\n",
       " <b>Area:</b>,\n",
       " u' 0.144 ',\n",
       " <b>square miles</b>,\n",
       " <br/>,\n",
       " <br/>,\n",
       " <b>Population:</b>,\n",
       " u' 6,379',\n",
       " <br/>,\n",
       " <br/>,\n",
       " <b>Population density:</b>,\n",
       " <br/>,\n",
       " <div class=\"hgraph\"><table><tr><td><b>Alamo Square:</b></td><td><p class=\"h\" style=\"padding-left:150px;\"></p>44,418 <b>people per square mile</b></td></tr><tr><td><b>San Francisco:</b></td><td><p class=\"a\" style=\"padding-left:62px;\"></p>18,521 <b>people per square mile</b></td></tr></table></div>,\n",
       " <br/>,\n",
       " <b>Median household income in 2015: </b>,\n",
       " <br/>,\n",
       " <div class=\"hgraph\"><table><tr><td><b>Alamo Square:</b></td><td><p class=\"h\" style=\"padding-left:150px;\"></p>$93,901</td></tr><tr><td><b>San Francisco:</b></td><td><p class=\"a\" style=\"padding-left:147px;\"></p>$92,094</td></tr></table></div>,\n",
       " <br/>,\n",
       " <b>Median rent in in 2015: </b>,\n",
       " <br/>,\n",
       " <div class=\"hgraph\"><table><tr><td><b>Alamo Square:</b></td><td><p class=\"h\" style=\"padding-left:150px;\"></p>$1,754</td></tr><tr><td><b>San Francisco:</b></td><td><p class=\"a\" style=\"padding-left:137px;\"></p>$1,609</td></tr></table></div>,\n",
       " <br/>,\n",
       " <b>Male vs Females</b>,\n",
       " <br/>,\n",
       " <div class=\"hgraph\"><table><tr><td><b>Males:</b></td><td><p class=\"h\" style=\"padding-left:150px;\"></p>3,916</td></tr><tr><td><b>Females:</b></td><td><p class=\"a\" style=\"padding-left:94px;\"></p>2,461</td></tr></table></div>,\n",
       " <br/>,\n",
       " <b>Median age</b>,\n",
       " <br/>,\n",
       " <div class=\"hgraph\"><table><tr><td><b>Males:</b></td><td><p class=\"h\" style=\"padding-left:150px;\"></p>35.4 years</td></tr><tr><td><b>Females:</b></td><td><p class=\"a\" style=\"padding-left:94px;\"></p>38.6 years</td></tr></table></div>,\n",
       " <br/>,\n",
       " <b>Housing prices:</b>,\n",
       " <br/>,\n",
       " <b>Average estimated value of detached houses in 2015 </b>,\n",
       " u'(4.9% of all units)',\n",
       " <b>:</b>,\n",
       " <br/>,\n",
       " <div class=\"hgraph\"><table><tr><td><b>Alamo Square:</b></td><td><p class=\"h\" style=\"padding-left:150px;\"></p>$1,988,926</td></tr><tr><td><b>San Francisco:</b></td><td><p class=\"a\" style=\"padding-left:85px;\"></p>$1,134,589</td></tr></table></div>,\n",
       " <br/>,\n",
       " <b>Average estimated value of townhouses or other attached units in 2015 </b>,\n",
       " u'(1.6% of all units)',\n",
       " <b>:</b>,\n",
       " <br/>,\n",
       " <div class=\"hgraph\"><table><tr><td><b>This neighborhood:</b></td><td><p class=\"h\" style=\"padding-left:150px;\"></p>$948,534</td></tr><tr><td><b>city:</b></td><td><p class=\"a\" style=\"padding-left:133px;\"></p>$846,333</td></tr></table></div>,\n",
       " <br/>,\n",
       " <b>Average estimated value of housing units in 2-unit structures in 2015 </b>,\n",
       " u'(9.8% of all units)',\n",
       " <b>:</b>,\n",
       " <br/>,\n",
       " <div class=\"hgraph\"><table><tr><td><b>This neighborhood:</b></td><td><p class=\"h\" style=\"padding-left:150px;\"></p>$1,003,276</td></tr><tr><td><b>San Francisco:</b></td><td><p class=\"a\" style=\"padding-left:149px;\"></p>$1,001,026</td></tr></table></div>,\n",
       " <br/>,\n",
       " <b>Average estimated '15 value of housing units in 3-to-4-unit structures </b>,\n",
       " u'(26.8% of all units)',\n",
       " <b>:</b>,\n",
       " <br/>,\n",
       " <div class=\"hgraph\"><table><tr><td><b>Alamo Square:</b></td><td><p class=\"h\" style=\"padding-left:112px;\"></p>$736,205</td></tr><tr><td><b>city:</b></td><td><p class=\"a\" style=\"padding-left:150px;\"></p>$984,108</td></tr></table></div>,\n",
       " <br/>,\n",
       " <b>Average estimated '15 value of housing units in 5-or-more-unit structures </b>,\n",
       " u'(1.6% of all units)',\n",
       " <b>:</b>,\n",
       " <br/>,\n",
       " <div class=\"hgraph\"><table><tr><td><b>Alamo Square:</b></td><td><p class=\"h\" style=\"padding-left:38px;\"></p>$235,527</td></tr><tr><td><b>San Francisco:</b></td><td><p class=\"a\" style=\"padding-left:150px;\"></p>$921,371</td></tr></table></div>,\n",
       " <br/>,\n",
       " <strong>Most popular occupations of males:</strong>,\n",
       " u' ',\n",
       " <b>service occupations</b>,\n",
       " u' (22.2%); ',\n",
       " <b>management occupations (except farmers)</b>,\n",
       " u' (15.7%); ',\n",
       " <b>sales and office occupations</b>,\n",
       " u' (14.1%); ',\n",
       " <b>computer and mathematical occupations</b>,\n",
       " u' (13.1%); ',\n",
       " <b>business and financial operations occupations</b>,\n",
       " u' (10.9%); ',\n",
       " <b>arts, design, entertainment, sports, and media occupations</b>,\n",
       " u' (4.6%); ',\n",
       " <b>legal occupations</b>,\n",
       " u' (3.8%)',\n",
       " <br/>,\n",
       " <br/>,\n",
       " <strong>Most popular occupations of females:</strong>,\n",
       " u' ',\n",
       " <b>sales and office occupations</b>,\n",
       " u' (20.8%); ',\n",
       " <b>management occupations (except farmers)</b>,\n",
       " u' (19.6%); ',\n",
       " <b>service occupations</b>,\n",
       " u' (13.3%); ',\n",
       " <b>business and financial operations occupations</b>,\n",
       " u' (12.4%); ',\n",
       " <b>arts, design, entertainment, sports, and media occupations</b>,\n",
       " u' (7.5%); ',\n",
       " <b>legal occupations</b>,\n",
       " u' (7.1%); ',\n",
       " <b>production occupations</b>,\n",
       " u' (4.7%)',\n",
       " <br/>,\n",
       " <br/>,\n",
       " <br/>,\n",
       " <strong>Roads and streets: </strong>,\n",
       " u'Hayes St; McAllister St; Fulton St; Fell St; Oak St; Steiner St; Scott St; Grove St; Divisadero St; Pierce St; Fillmore St.',\n",
       " <br/>,\n",
       " <br/>,\n",
       " u'\\n',\n",
       " <a href=\"/neighborhood/Alamo-Square-San-Francisco-CA.html\">Alamo Square neighborhood detailed profile</a>,\n",
       " u'\\n']"
      ]
     },
     "execution_count": 29,
     "metadata": {},
     "output_type": "execute_result"
    }
   ],
   "source": [
    "neighborhood_divs[0].contents"
   ]
  },
  {
   "cell_type": "code",
   "execution_count": 30,
   "metadata": {
    "collapsed": false,
    "deletable": true,
    "editable": true
   },
   "outputs": [
    {
     "data": {
      "text/plain": [
       "bs4.element.NavigableString"
      ]
     },
     "execution_count": 30,
     "metadata": {},
     "output_type": "execute_result"
    }
   ],
   "source": [
    "type(neighborhood_divs[0].contents[1])"
   ]
  },
  {
   "cell_type": "markdown",
   "metadata": {
    "deletable": true,
    "editable": true
   },
   "source": [
    "Loop through contents  \n",
    "if a navigable string can be converted to int,  \n",
    "then grab it and the first <b> that precedes it  "
   ]
  },
  {
   "cell_type": "code",
   "execution_count": 31,
   "metadata": {
    "collapsed": false,
    "deletable": true,
    "editable": true
   },
   "outputs": [
    {
     "data": {
      "text/plain": [
       "<generator object _all_strings at 0x7f6e47a34140>"
      ]
     },
     "execution_count": 31,
     "metadata": {},
     "output_type": "execute_result"
    }
   ],
   "source": [
    "neighborhood_divs[0].strings"
   ]
  },
  {
   "cell_type": "code",
   "execution_count": 32,
   "metadata": {
    "collapsed": false,
    "deletable": true,
    "editable": true
   },
   "outputs": [
    {
     "data": {
      "text/plain": [
       "[u'Alamo Square',\n",
       " u' neighborhood in San Francisco statistics: ',\n",
       " u'(',\n",
       " u'Find on map',\n",
       " u')',\n",
       " u'\\n',\n",
       " u'Area:',\n",
       " u' 0.144 ',\n",
       " u'square miles',\n",
       " u'Population:',\n",
       " u' 6,379',\n",
       " u'Population density:',\n",
       " u'Alamo Square:',\n",
       " u'44,418 ',\n",
       " u'people per square mile',\n",
       " u'San Francisco:',\n",
       " u'18,521 ',\n",
       " u'people per square mile',\n",
       " u'Median household income in 2015: ',\n",
       " u'Alamo Square:',\n",
       " u'$93,901',\n",
       " u'San Francisco:',\n",
       " u'$92,094',\n",
       " u'Median rent in in 2015: ',\n",
       " u'Alamo Square:',\n",
       " u'$1,754',\n",
       " u'San Francisco:',\n",
       " u'$1,609',\n",
       " u'Male vs Females',\n",
       " u'Males:',\n",
       " u'3,916',\n",
       " u'Females:',\n",
       " u'2,461',\n",
       " u'Median age',\n",
       " u'Males:',\n",
       " u'35.4 years',\n",
       " u'Females:',\n",
       " u'38.6 years',\n",
       " u'Housing prices:',\n",
       " u'Average estimated value of detached houses in 2015 ',\n",
       " u'(4.9% of all units)',\n",
       " u':',\n",
       " u'Alamo Square:',\n",
       " u'$1,988,926',\n",
       " u'San Francisco:',\n",
       " u'$1,134,589',\n",
       " u'Average estimated value of townhouses or other attached units in 2015 ',\n",
       " u'(1.6% of all units)',\n",
       " u':',\n",
       " u'This neighborhood:',\n",
       " u'$948,534',\n",
       " u'city:',\n",
       " u'$846,333',\n",
       " u'Average estimated value of housing units in 2-unit structures in 2015 ',\n",
       " u'(9.8% of all units)',\n",
       " u':',\n",
       " u'This neighborhood:',\n",
       " u'$1,003,276',\n",
       " u'San Francisco:',\n",
       " u'$1,001,026',\n",
       " u\"Average estimated '15 value of housing units in 3-to-4-unit structures \",\n",
       " u'(26.8% of all units)',\n",
       " u':',\n",
       " u'Alamo Square:',\n",
       " u'$736,205',\n",
       " u'city:',\n",
       " u'$984,108',\n",
       " u\"Average estimated '15 value of housing units in 5-or-more-unit structures \",\n",
       " u'(1.6% of all units)',\n",
       " u':',\n",
       " u'Alamo Square:',\n",
       " u'$235,527',\n",
       " u'San Francisco:',\n",
       " u'$921,371',\n",
       " u'Most popular occupations of males:',\n",
       " u' ',\n",
       " u'service occupations',\n",
       " u' (22.2%); ',\n",
       " u'management occupations (except farmers)',\n",
       " u' (15.7%); ',\n",
       " u'sales and office occupations',\n",
       " u' (14.1%); ',\n",
       " u'computer and mathematical occupations',\n",
       " u' (13.1%); ',\n",
       " u'business and financial operations occupations',\n",
       " u' (10.9%); ',\n",
       " u'arts, design, entertainment, sports, and media occupations',\n",
       " u' (4.6%); ',\n",
       " u'legal occupations',\n",
       " u' (3.8%)',\n",
       " u'Most popular occupations of females:',\n",
       " u' ',\n",
       " u'sales and office occupations',\n",
       " u' (20.8%); ',\n",
       " u'management occupations (except farmers)',\n",
       " u' (19.6%); ',\n",
       " u'service occupations',\n",
       " u' (13.3%); ',\n",
       " u'business and financial operations occupations',\n",
       " u' (12.4%); ',\n",
       " u'arts, design, entertainment, sports, and media occupations',\n",
       " u' (7.5%); ',\n",
       " u'legal occupations',\n",
       " u' (7.1%); ',\n",
       " u'production occupations',\n",
       " u' (4.7%)',\n",
       " u'Roads and streets: ',\n",
       " u'Hayes St; McAllister St; Fulton St; Fell St; Oak St; Steiner St; Scott St; Grove St; Divisadero St; Pierce St; Fillmore St.',\n",
       " u'\\n',\n",
       " u'Alamo Square neighborhood detailed profile',\n",
       " u'\\n']"
      ]
     },
     "execution_count": 32,
     "metadata": {},
     "output_type": "execute_result"
    }
   ],
   "source": [
    "# Add to a list of strings\n",
    "strings = []\n",
    "\n",
    "for descendant in neighborhood_divs[0].strings:\n",
    "    strings.append(descendant)\n",
    "    \n",
    "strings"
   ]
  },
  {
   "cell_type": "code",
   "execution_count": 33,
   "metadata": {
    "collapsed": false,
    "deletable": true,
    "editable": true
   },
   "outputs": [
    {
     "data": {
      "text/plain": [
       "[{'units': u'square miles', 'value': 0.144, 'what_value_is': u'Area:'},\n",
       " {'units': '', 'value': 6379.0, 'what_value_is': u'Population:'},\n",
       " {'units': u'people per square mile',\n",
       "  'value': 44418.0,\n",
       "  'what_value_is': u'Alamo Square:'},\n",
       " {'units': u'people per square mile',\n",
       "  'value': 18521.0,\n",
       "  'what_value_is': u'San Francisco:'},\n",
       " {'units': '', 'value': 93901.0, 'what_value_is': u'Alamo Square:'},\n",
       " {'units': u'Median rent in in 2015: ',\n",
       "  'value': 92094.0,\n",
       "  'what_value_is': u'San Francisco:'},\n",
       " {'units': '', 'value': 1754.0, 'what_value_is': u'Alamo Square:'},\n",
       " {'units': u'Male vs Females',\n",
       "  'value': 1609.0,\n",
       "  'what_value_is': u'San Francisco:'},\n",
       " {'units': '', 'value': 3916.0, 'what_value_is': u'Males:'},\n",
       " {'units': u'Median age', 'value': 2461.0, 'what_value_is': u'Females:'},\n",
       " {'units': '', 'value': 1988926.0, 'what_value_is': u'Alamo Square:'},\n",
       " {'units': u'Average estimated value of townhouses or other attached units in 2015 ',\n",
       "  'value': 1134589.0,\n",
       "  'what_value_is': u'San Francisco:'},\n",
       " {'units': '', 'value': 948534.0, 'what_value_is': u'This neighborhood:'},\n",
       " {'units': u'Average estimated value of housing units in 2-unit structures in 2015 ',\n",
       "  'value': 846333.0,\n",
       "  'what_value_is': u'city:'},\n",
       " {'units': '', 'value': 1003276.0, 'what_value_is': u'This neighborhood:'},\n",
       " {'units': u\"Average estimated '15 value of housing units in 3-to-4-unit structures \",\n",
       "  'value': 1001026.0,\n",
       "  'what_value_is': u'San Francisco:'},\n",
       " {'units': '', 'value': 736205.0, 'what_value_is': u'Alamo Square:'},\n",
       " {'units': u\"Average estimated '15 value of housing units in 5-or-more-unit structures \",\n",
       "  'value': 984108.0,\n",
       "  'what_value_is': u'city:'},\n",
       " {'units': '', 'value': 235527.0, 'what_value_is': u'Alamo Square:'},\n",
       " {'units': '', 'value': 921371.0, 'what_value_is': u'San Francisco:'}]"
      ]
     },
     "execution_count": 33,
     "metadata": {},
     "output_type": "execute_result"
    }
   ],
   "source": [
    "#contents = neighborhood_divs[0].contents\n",
    "\n",
    "value_dict_list = []\n",
    "\n",
    "# Replace $\n",
    "for i in range(1, len(strings)):\n",
    "    if len(strings[i]) > 0:\n",
    "        if strings[i][0] == '$':\n",
    "            strings[i] = strings[i][1:]\n",
    "        # remove commas and whitespace\n",
    "        strings[i] = strings[i].replace(',', '').strip()\n",
    "\n",
    "        try:\n",
    "            value = float(strings[i])\n",
    "            try:\n",
    "                # what the value refers to\n",
    "                what_value_is = strings[i - 1]\n",
    "                \n",
    "                # units\n",
    "                if strings[i + 1][-1] != \":\":\n",
    "                    units = strings[i + 1]\n",
    "                else:\n",
    "                    units = \"\"\n",
    "                \n",
    "                value_dict = {\"value\": value,\n",
    "                              \"what_value_is\": what_value_is,\n",
    "                              \"units\": units}\n",
    "                \n",
    "                value_dict_list.append(value_dict)\n",
    "                \n",
    "            except:\n",
    "                print \"bad idea\"\n",
    "\n",
    "        except ValueError:\n",
    "            continue\n",
    "            \n",
    "value_dict_list"
   ]
  },
  {
   "cell_type": "code",
   "execution_count": 34,
   "metadata": {
    "collapsed": false,
    "deletable": true,
    "editable": true
   },
   "outputs": [
    {
     "data": {
      "text/plain": [
       "[u'Alamo Square',\n",
       " u'neighborhood in San Francisco statistics:',\n",
       " u'(',\n",
       " u'Find on map',\n",
       " u')',\n",
       " u'',\n",
       " u'Area:',\n",
       " u'0.144',\n",
       " u'square miles',\n",
       " u'Population:',\n",
       " u'6379',\n",
       " u'Population density:',\n",
       " u'Alamo Square:',\n",
       " u'44418',\n",
       " u'people per square mile',\n",
       " u'San Francisco:',\n",
       " u'18521',\n",
       " u'people per square mile',\n",
       " u'Median household income in 2015:',\n",
       " u'Alamo Square:',\n",
       " u'93901',\n",
       " u'San Francisco:',\n",
       " u'92094',\n",
       " u'Median rent in in 2015:',\n",
       " u'Alamo Square:',\n",
       " u'1754',\n",
       " u'San Francisco:',\n",
       " u'1609',\n",
       " u'Male vs Females',\n",
       " u'Males:',\n",
       " u'3916',\n",
       " u'Females:',\n",
       " u'2461',\n",
       " u'Median age',\n",
       " u'Males:',\n",
       " u'35.4 years',\n",
       " u'Females:',\n",
       " u'38.6 years',\n",
       " u'Housing prices:',\n",
       " u'Average estimated value of detached houses in 2015',\n",
       " u'(4.9% of all units)',\n",
       " u':',\n",
       " u'Alamo Square:',\n",
       " u'1988926',\n",
       " u'San Francisco:',\n",
       " u'1134589',\n",
       " u'Average estimated value of townhouses or other attached units in 2015',\n",
       " u'(1.6% of all units)',\n",
       " u':',\n",
       " u'This neighborhood:',\n",
       " u'948534',\n",
       " u'city:',\n",
       " u'846333',\n",
       " u'Average estimated value of housing units in 2-unit structures in 2015',\n",
       " u'(9.8% of all units)',\n",
       " u':',\n",
       " u'This neighborhood:',\n",
       " u'1003276',\n",
       " u'San Francisco:',\n",
       " u'1001026',\n",
       " u\"Average estimated '15 value of housing units in 3-to-4-unit structures\",\n",
       " u'(26.8% of all units)',\n",
       " u':',\n",
       " u'Alamo Square:',\n",
       " u'736205',\n",
       " u'city:',\n",
       " u'984108',\n",
       " u\"Average estimated '15 value of housing units in 5-or-more-unit structures\",\n",
       " u'(1.6% of all units)',\n",
       " u':',\n",
       " u'Alamo Square:',\n",
       " u'235527',\n",
       " u'San Francisco:',\n",
       " u'921371',\n",
       " u'Most popular occupations of males:',\n",
       " u'',\n",
       " u'service occupations',\n",
       " u'(22.2%);',\n",
       " u'management occupations (except farmers)',\n",
       " u'(15.7%);',\n",
       " u'sales and office occupations',\n",
       " u'(14.1%);',\n",
       " u'computer and mathematical occupations',\n",
       " u'(13.1%);',\n",
       " u'business and financial operations occupations',\n",
       " u'(10.9%);',\n",
       " u'arts design entertainment sports and media occupations',\n",
       " u'(4.6%);',\n",
       " u'legal occupations',\n",
       " u'(3.8%)',\n",
       " u'Most popular occupations of females:',\n",
       " u'',\n",
       " u'sales and office occupations',\n",
       " u'(20.8%);',\n",
       " u'management occupations (except farmers)',\n",
       " u'(19.6%);',\n",
       " u'service occupations',\n",
       " u'(13.3%);',\n",
       " u'business and financial operations occupations',\n",
       " u'(12.4%);',\n",
       " u'arts design entertainment sports and media occupations',\n",
       " u'(7.5%);',\n",
       " u'legal occupations',\n",
       " u'(7.1%);',\n",
       " u'production occupations',\n",
       " u'(4.7%)',\n",
       " u'Roads and streets:',\n",
       " u'Hayes St; McAllister St; Fulton St; Fell St; Oak St; Steiner St; Scott St; Grove St; Divisadero St; Pierce St; Fillmore St.',\n",
       " u'',\n",
       " u'Alamo Square neighborhood detailed profile',\n",
       " u'']"
      ]
     },
     "execution_count": 34,
     "metadata": {},
     "output_type": "execute_result"
    }
   ],
   "source": [
    "strings"
   ]
  },
  {
   "cell_type": "code",
   "execution_count": 35,
   "metadata": {
    "collapsed": false,
    "deletable": true,
    "editable": true
   },
   "outputs": [
    {
     "ename": "ValueError",
     "evalue": "invalid literal for int() with base 10: '9,999'",
     "output_type": "error",
     "traceback": [
      "\u001b[0;31m---------------------------------------------------------------------------\u001b[0m",
      "\u001b[0;31mValueError\u001b[0m                                Traceback (most recent call last)",
      "\u001b[0;32m<ipython-input-35-cc5fa9eab3c0>\u001b[0m in \u001b[0;36m<module>\u001b[0;34m()\u001b[0m\n\u001b[0;32m----> 1\u001b[0;31m \u001b[0mint\u001b[0m\u001b[0;34m(\u001b[0m\u001b[0;34m\"9,999\"\u001b[0m\u001b[0;34m)\u001b[0m\u001b[0;34m\u001b[0m\u001b[0m\n\u001b[0m",
      "\u001b[0;31mValueError\u001b[0m: invalid literal for int() with base 10: '9,999'"
     ]
    }
   ],
   "source": [
    "int(\"9,999\")"
   ]
  }
 ],
 "metadata": {
  "anaconda-cloud": {},
  "kernelspec": {
   "display_name": "Python 2",
   "language": "python",
   "name": "python2"
  },
  "language_info": {
   "codemirror_mode": {
    "name": "ipython",
    "version": 2
   },
   "file_extension": ".py",
   "mimetype": "text/x-python",
   "name": "python",
   "nbconvert_exporter": "python",
   "pygments_lexer": "ipython2",
   "version": "2.7.13"
  }
 },
 "nbformat": 4,
 "nbformat_minor": 2
}
