{
 "cells": [
  {
   "cell_type": "markdown",
   "metadata": {},
   "source": [
    "# Introduction"
   ]
  },
  {
   "cell_type": "markdown",
   "metadata": {},
   "source": []
  },
  {
   "cell_type": "markdown",
   "metadata": {
    "deletable": true,
    "editable": true
   },
   "source": [
    "# Libraries"
   ]
  },
  {
   "cell_type": "code",
   "execution_count": 21,
   "metadata": {
    "collapsed": false,
    "deletable": true,
    "editable": true
   },
   "outputs": [],
   "source": [
    "# Loading in data:\n",
    "import numpy as np\n",
    "import pandas as pd\n",
    "#import feather\n",
    "\n",
    "# Plotting:\n",
    "import seaborn as sns\n",
    "import matplotlib\n",
    "import matplotlib.pyplot as plt\n",
    "plt.style.use('ggplot')\n",
    "%matplotlib inline\n",
    "\n",
    "# Maps:\n",
    "import matplotlib.cm\n",
    "from matplotlib.patches import Polygon\n",
    "from matplotlib.colors import Normalize\n",
    "import geopandas as gpd\n",
    "import shapely.geometry as geom\n",
    "from matplotlib.collections import PatchCollection\n",
    "from mpl_toolkits.basemap import Basemap\n",
    "import folium\n",
    "\n",
    "# Parsing:\n",
    "import requests\n",
    "import requests_cache\n",
    "import lxml\n",
    "from bs4 import BeautifulSoup\n",
    "import bs4\n",
    "import re"
   ]
  },
  {
   "cell_type": "markdown",
   "metadata": {
    "deletable": true,
    "editable": true
   },
   "source": [
    "# Reading in the Data"
   ]
  },
  {
   "cell_type": "markdown",
   "metadata": {},
   "source": [
    "See the other notebook for the process of reading, scraping, and cleaning the data.  "
   ]
  },
  {
   "cell_type": "code",
   "execution_count": 22,
   "metadata": {
    "collapsed": false,
    "deletable": true,
    "editable": true
   },
   "outputs": [
    {
     "data": {
      "text/html": [
       "<div>\n",
       "<table border=\"1\" class=\"dataframe\">\n",
       "  <thead>\n",
       "    <tr style=\"text-align: right;\">\n",
       "      <th></th>\n",
       "      <th>CaseID</th>\n",
       "      <th>Opened</th>\n",
       "      <th>Closed</th>\n",
       "      <th>Status</th>\n",
       "      <th>Responsible Agency</th>\n",
       "      <th>Address</th>\n",
       "      <th>Category</th>\n",
       "      <th>Request Type</th>\n",
       "      <th>Request Details</th>\n",
       "      <th>Source</th>\n",
       "      <th>Supervisor District</th>\n",
       "      <th>Neighborhood</th>\n",
       "      <th>Updated</th>\n",
       "      <th>Point</th>\n",
       "    </tr>\n",
       "  </thead>\n",
       "  <tbody>\n",
       "    <tr>\n",
       "      <th>0</th>\n",
       "      <td>322566</td>\n",
       "      <td>2008-11-30 22:56:00</td>\n",
       "      <td>2009-07-21 16:24:00</td>\n",
       "      <td>Closed</td>\n",
       "      <td>DPW Ops Queue</td>\n",
       "      <td>1566 HYDE ST, SAN FRANCISCO, CA, 94109</td>\n",
       "      <td>Street and Sidewalk Cleaning</td>\n",
       "      <td>Sidewalk_Cleaning</td>\n",
       "      <td>Garbage</td>\n",
       "      <td>Voice In</td>\n",
       "      <td>3.0</td>\n",
       "      <td>Nob Hill</td>\n",
       "      <td>2009-07-21 16:24:00</td>\n",
       "      <td>(37.795328529, -122.418067787)</td>\n",
       "    </tr>\n",
       "    <tr>\n",
       "      <th>1</th>\n",
       "      <td>322560</td>\n",
       "      <td>2008-11-30 22:24:00</td>\n",
       "      <td>2009-07-21 16:24:00</td>\n",
       "      <td>Closed</td>\n",
       "      <td>DPW Ops Queue</td>\n",
       "      <td>Intersection of TAYLOR ST and TURK ST</td>\n",
       "      <td>Street and Sidewalk Cleaning</td>\n",
       "      <td>Illegal_Dumping</td>\n",
       "      <td>Garbage</td>\n",
       "      <td>Voice In</td>\n",
       "      <td>6.0</td>\n",
       "      <td>Downtown/Civic Center</td>\n",
       "      <td>2009-07-21 16:24:00</td>\n",
       "      <td>(37.7832142923006, -122.410764953722)</td>\n",
       "    </tr>\n",
       "    <tr>\n",
       "      <th>2</th>\n",
       "      <td>322559</td>\n",
       "      <td>2008-11-30 22:20:00</td>\n",
       "      <td>2008-12-01 06:07:00</td>\n",
       "      <td>Closed</td>\n",
       "      <td>DPW Ops Queue</td>\n",
       "      <td>1601 SACRAMENTO ST, SAN FRANCISCO, CA, 94109</td>\n",
       "      <td>Street and Sidewalk Cleaning</td>\n",
       "      <td>Illegal_Dumping</td>\n",
       "      <td>Mattress</td>\n",
       "      <td>Voice In</td>\n",
       "      <td>3.0</td>\n",
       "      <td>Nob Hill</td>\n",
       "      <td>2008-12-01 06:07:00</td>\n",
       "      <td>(37.791643509125, -122.419260423291)</td>\n",
       "    </tr>\n",
       "    <tr>\n",
       "      <th>3</th>\n",
       "      <td>322556</td>\n",
       "      <td>2008-11-30 21:34:00</td>\n",
       "      <td>2008-12-09 08:07:00</td>\n",
       "      <td>Closed</td>\n",
       "      <td>DPW Ops Queue</td>\n",
       "      <td>Intersection of 25TH ST and LUCKY ST</td>\n",
       "      <td>Street and Sidewalk Cleaning</td>\n",
       "      <td>Sidewalk_Cleaning</td>\n",
       "      <td>Human_waste_or_urine</td>\n",
       "      <td>Voice In</td>\n",
       "      <td>9.0</td>\n",
       "      <td>Mission</td>\n",
       "      <td>2008-12-09 08:07:00</td>\n",
       "      <td>(37.7509362479361, -122.413364630104)</td>\n",
       "    </tr>\n",
       "    <tr>\n",
       "      <th>4</th>\n",
       "      <td>322545</td>\n",
       "      <td>2008-11-30 20:45:00</td>\n",
       "      <td>2009-02-03 07:09:00</td>\n",
       "      <td>Closed</td>\n",
       "      <td>DPW Ops Queue</td>\n",
       "      <td>Intersection of 19TH ST and OAKWOOD ST</td>\n",
       "      <td>Street and Sidewalk Cleaning</td>\n",
       "      <td>Sidewalk_Cleaning</td>\n",
       "      <td>Empty_cart</td>\n",
       "      <td>Voice In</td>\n",
       "      <td>8.0</td>\n",
       "      <td>Mission</td>\n",
       "      <td>2009-02-03 07:09:00</td>\n",
       "      <td>(37.7598935230725, -122.42486308879)</td>\n",
       "    </tr>\n",
       "  </tbody>\n",
       "</table>\n",
       "</div>"
      ],
      "text/plain": [
       "   CaseID              Opened              Closed  Status Responsible Agency  \\\n",
       "0  322566 2008-11-30 22:56:00 2009-07-21 16:24:00  Closed      DPW Ops Queue   \n",
       "1  322560 2008-11-30 22:24:00 2009-07-21 16:24:00  Closed      DPW Ops Queue   \n",
       "2  322559 2008-11-30 22:20:00 2008-12-01 06:07:00  Closed      DPW Ops Queue   \n",
       "3  322556 2008-11-30 21:34:00 2008-12-09 08:07:00  Closed      DPW Ops Queue   \n",
       "4  322545 2008-11-30 20:45:00 2009-02-03 07:09:00  Closed      DPW Ops Queue   \n",
       "\n",
       "                                        Address                      Category  \\\n",
       "0        1566 HYDE ST, SAN FRANCISCO, CA, 94109  Street and Sidewalk Cleaning   \n",
       "1         Intersection of TAYLOR ST and TURK ST  Street and Sidewalk Cleaning   \n",
       "2  1601 SACRAMENTO ST, SAN FRANCISCO, CA, 94109  Street and Sidewalk Cleaning   \n",
       "3          Intersection of 25TH ST and LUCKY ST  Street and Sidewalk Cleaning   \n",
       "4        Intersection of 19TH ST and OAKWOOD ST  Street and Sidewalk Cleaning   \n",
       "\n",
       "        Request Type       Request Details    Source  Supervisor District  \\\n",
       "0  Sidewalk_Cleaning               Garbage  Voice In                  3.0   \n",
       "1    Illegal_Dumping               Garbage  Voice In                  6.0   \n",
       "2    Illegal_Dumping              Mattress  Voice In                  3.0   \n",
       "3  Sidewalk_Cleaning  Human_waste_or_urine  Voice In                  9.0   \n",
       "4  Sidewalk_Cleaning            Empty_cart  Voice In                  8.0   \n",
       "\n",
       "            Neighborhood             Updated  \\\n",
       "0               Nob Hill 2009-07-21 16:24:00   \n",
       "1  Downtown/Civic Center 2009-07-21 16:24:00   \n",
       "2               Nob Hill 2008-12-01 06:07:00   \n",
       "3                Mission 2008-12-09 08:07:00   \n",
       "4                Mission 2009-02-03 07:09:00   \n",
       "\n",
       "                                   Point  \n",
       "0         (37.795328529, -122.418067787)  \n",
       "1  (37.7832142923006, -122.410764953722)  \n",
       "2   (37.791643509125, -122.419260423291)  \n",
       "3  (37.7509362479361, -122.413364630104)  \n",
       "4   (37.7598935230725, -122.42486308879)  "
      ]
     },
     "execution_count": 22,
     "metadata": {},
     "output_type": "execute_result"
    }
   ],
   "source": [
    "# Read the data from the h5 file exported in the other notebook\n",
    "street2 = pd.HDFStore('street.h5')\n",
    "street = street2.select('/table')\n",
    "street.head()"
   ]
  },
  {
   "cell_type": "markdown",
   "metadata": {
    "deletable": true,
    "editable": true
   },
   "source": [
    "Some basic statistics on the dataset we are starting with:"
   ]
  },
  {
   "cell_type": "code",
   "execution_count": 23,
   "metadata": {
    "collapsed": false,
    "deletable": true,
    "editable": true
   },
   "outputs": [
    {
     "name": "stdout",
     "output_type": "stream",
     "text": [
      "We are working with 747388 rows.\n",
      "Our dates range from 2017-01-22 00:26:01 to 2008-11-30 22:56:00 .\n"
     ]
    }
   ],
   "source": [
    "numRows = street.shape[0]\n",
    "print \"We are working with\", numRows, \"rows.\"\n",
    "print \"Our dates range from\", street.loc[numRows - 1, \"Opened\"],\"to\", street.loc[0, \"Opened\"], \".\""
   ]
  },
  {
   "cell_type": "markdown",
   "metadata": {},
   "source": [
    "We supplemented this data with demographic statistics from [city-data.com](http://www.city-data.com/nbmaps/neigh-San-Francisco-California.html).  "
   ]
  },
  {
   "cell_type": "code",
   "execution_count": 24,
   "metadata": {
    "collapsed": false
   },
   "outputs": [
    {
     "data": {
      "text/html": [
       "<div>\n",
       "<table border=\"1\" class=\"dataframe\">\n",
       "  <thead>\n",
       "    <tr style=\"text-align: right;\">\n",
       "      <th></th>\n",
       "      <th>AreaSqMi</th>\n",
       "      <th>Females</th>\n",
       "      <th>HousePrice</th>\n",
       "      <th>Males</th>\n",
       "      <th>MedAgeF</th>\n",
       "      <th>MedAgeM</th>\n",
       "      <th>MedHouseholdIncome</th>\n",
       "      <th>MedRent</th>\n",
       "      <th>Neighborhood</th>\n",
       "      <th>PeoplePerSqMi</th>\n",
       "      <th>Population</th>\n",
       "    </tr>\n",
       "  </thead>\n",
       "  <tbody>\n",
       "    <tr>\n",
       "      <th>0</th>\n",
       "      <td>0.144</td>\n",
       "      <td>2461.0</td>\n",
       "      <td>1988926.0</td>\n",
       "      <td>3916.0</td>\n",
       "      <td>38.6</td>\n",
       "      <td>35.4</td>\n",
       "      <td>93901.0</td>\n",
       "      <td>1754.0</td>\n",
       "      <td>Alamo Square</td>\n",
       "      <td>44418.0</td>\n",
       "      <td>6379.0</td>\n",
       "    </tr>\n",
       "    <tr>\n",
       "      <th>1</th>\n",
       "      <td>0.124</td>\n",
       "      <td>944.0</td>\n",
       "      <td>455053.0</td>\n",
       "      <td>1177.0</td>\n",
       "      <td>38.9</td>\n",
       "      <td>41.2</td>\n",
       "      <td>104697.0</td>\n",
       "      <td>1937.0</td>\n",
       "      <td>Anza Vista</td>\n",
       "      <td>17080.0</td>\n",
       "      <td>2122.0</td>\n",
       "    </tr>\n",
       "    <tr>\n",
       "      <th>3</th>\n",
       "      <td>0.055</td>\n",
       "      <td>774.0</td>\n",
       "      <td>NaN</td>\n",
       "      <td>1365.0</td>\n",
       "      <td>35.2</td>\n",
       "      <td>35.1</td>\n",
       "      <td>134523.0</td>\n",
       "      <td>2489.0</td>\n",
       "      <td>Baja Noe</td>\n",
       "      <td>38816.0</td>\n",
       "      <td>2141.0</td>\n",
       "    </tr>\n",
       "    <tr>\n",
       "      <th>12</th>\n",
       "      <td>0.138</td>\n",
       "      <td>1009.0</td>\n",
       "      <td>1423695.0</td>\n",
       "      <td>1492.0</td>\n",
       "      <td>39.4</td>\n",
       "      <td>41.7</td>\n",
       "      <td>144714.0</td>\n",
       "      <td>1813.0</td>\n",
       "      <td>Buena Vista</td>\n",
       "      <td>18167.0</td>\n",
       "      <td>2502.0</td>\n",
       "    </tr>\n",
       "    <tr>\n",
       "      <th>13</th>\n",
       "      <td>0.526</td>\n",
       "      <td>5261.0</td>\n",
       "      <td>1843918.0</td>\n",
       "      <td>7671.0</td>\n",
       "      <td>38.4</td>\n",
       "      <td>41.7</td>\n",
       "      <td>142771.0</td>\n",
       "      <td>1946.0</td>\n",
       "      <td>Castro</td>\n",
       "      <td>24605.0</td>\n",
       "      <td>12935.0</td>\n",
       "    </tr>\n",
       "  </tbody>\n",
       "</table>\n",
       "</div>"
      ],
      "text/plain": [
       "    AreaSqMi  Females  HousePrice   Males  MedAgeF  MedAgeM  \\\n",
       "0      0.144   2461.0   1988926.0  3916.0     38.6     35.4   \n",
       "1      0.124    944.0    455053.0  1177.0     38.9     41.2   \n",
       "3      0.055    774.0         NaN  1365.0     35.2     35.1   \n",
       "12     0.138   1009.0   1423695.0  1492.0     39.4     41.7   \n",
       "13     0.526   5261.0   1843918.0  7671.0     38.4     41.7   \n",
       "\n",
       "    MedHouseholdIncome  MedRent  Neighborhood  PeoplePerSqMi  Population  \n",
       "0              93901.0   1754.0  Alamo Square        44418.0      6379.0  \n",
       "1             104697.0   1937.0    Anza Vista        17080.0      2122.0  \n",
       "3             134523.0   2489.0      Baja Noe        38816.0      2141.0  \n",
       "12            144714.0   1813.0   Buena Vista        18167.0      2502.0  \n",
       "13            142771.0   1946.0        Castro        24605.0     12935.0  "
      ]
     },
     "execution_count": 24,
     "metadata": {},
     "output_type": "execute_result"
    }
   ],
   "source": [
    "demographic = pd.DataFrame.from_csv(\"demographic.csv\")\n",
    "demographic.head()"
   ]
  },
  {
   "cell_type": "code",
   "execution_count": 25,
   "metadata": {
    "collapsed": false,
    "deletable": true,
    "editable": true
   },
   "outputs": [
    {
     "data": {
      "text/html": [
       "<div>\n",
       "<table border=\"1\" class=\"dataframe\">\n",
       "  <thead>\n",
       "    <tr style=\"text-align: right;\">\n",
       "      <th></th>\n",
       "      <th>CaseID</th>\n",
       "      <th>Opened</th>\n",
       "      <th>Closed</th>\n",
       "      <th>Status</th>\n",
       "      <th>Responsible Agency</th>\n",
       "      <th>Address</th>\n",
       "      <th>Category</th>\n",
       "      <th>Request Type</th>\n",
       "      <th>Request Details</th>\n",
       "      <th>Source</th>\n",
       "      <th>...</th>\n",
       "      <th>AreaSqMi</th>\n",
       "      <th>Females</th>\n",
       "      <th>HousePrice</th>\n",
       "      <th>Males</th>\n",
       "      <th>MedAgeF</th>\n",
       "      <th>MedAgeM</th>\n",
       "      <th>MedHouseholdIncome</th>\n",
       "      <th>MedRent</th>\n",
       "      <th>PeoplePerSqMi</th>\n",
       "      <th>Population</th>\n",
       "    </tr>\n",
       "  </thead>\n",
       "  <tbody>\n",
       "    <tr>\n",
       "      <th>0</th>\n",
       "      <td>322566</td>\n",
       "      <td>2008-11-30 22:56:00</td>\n",
       "      <td>2009-07-21 16:24:00</td>\n",
       "      <td>Closed</td>\n",
       "      <td>DPW Ops Queue</td>\n",
       "      <td>1566 HYDE ST, SAN FRANCISCO, CA, 94109</td>\n",
       "      <td>Street and Sidewalk Cleaning</td>\n",
       "      <td>Sidewalk_Cleaning</td>\n",
       "      <td>Garbage</td>\n",
       "      <td>Voice In</td>\n",
       "      <td>...</td>\n",
       "      <td>0.313</td>\n",
       "      <td>10219.0</td>\n",
       "      <td>1276501.0</td>\n",
       "      <td>9415.0</td>\n",
       "      <td>41.4</td>\n",
       "      <td>39.1</td>\n",
       "      <td>88845.0</td>\n",
       "      <td>1401.0</td>\n",
       "      <td>62679.0</td>\n",
       "      <td>19633.0</td>\n",
       "    </tr>\n",
       "    <tr>\n",
       "      <th>1</th>\n",
       "      <td>322560</td>\n",
       "      <td>2008-11-30 22:24:00</td>\n",
       "      <td>2009-07-21 16:24:00</td>\n",
       "      <td>Closed</td>\n",
       "      <td>DPW Ops Queue</td>\n",
       "      <td>Intersection of TAYLOR ST and TURK ST</td>\n",
       "      <td>Street and Sidewalk Cleaning</td>\n",
       "      <td>Illegal_Dumping</td>\n",
       "      <td>Garbage</td>\n",
       "      <td>Voice In</td>\n",
       "      <td>...</td>\n",
       "      <td>NaN</td>\n",
       "      <td>NaN</td>\n",
       "      <td>NaN</td>\n",
       "      <td>NaN</td>\n",
       "      <td>NaN</td>\n",
       "      <td>NaN</td>\n",
       "      <td>NaN</td>\n",
       "      <td>NaN</td>\n",
       "      <td>NaN</td>\n",
       "      <td>NaN</td>\n",
       "    </tr>\n",
       "    <tr>\n",
       "      <th>2</th>\n",
       "      <td>322559</td>\n",
       "      <td>2008-11-30 22:20:00</td>\n",
       "      <td>2008-12-01 06:07:00</td>\n",
       "      <td>Closed</td>\n",
       "      <td>DPW Ops Queue</td>\n",
       "      <td>1601 SACRAMENTO ST, SAN FRANCISCO, CA, 94109</td>\n",
       "      <td>Street and Sidewalk Cleaning</td>\n",
       "      <td>Illegal_Dumping</td>\n",
       "      <td>Mattress</td>\n",
       "      <td>Voice In</td>\n",
       "      <td>...</td>\n",
       "      <td>0.313</td>\n",
       "      <td>10219.0</td>\n",
       "      <td>1276501.0</td>\n",
       "      <td>9415.0</td>\n",
       "      <td>41.4</td>\n",
       "      <td>39.1</td>\n",
       "      <td>88845.0</td>\n",
       "      <td>1401.0</td>\n",
       "      <td>62679.0</td>\n",
       "      <td>19633.0</td>\n",
       "    </tr>\n",
       "    <tr>\n",
       "      <th>3</th>\n",
       "      <td>322556</td>\n",
       "      <td>2008-11-30 21:34:00</td>\n",
       "      <td>2008-12-09 08:07:00</td>\n",
       "      <td>Closed</td>\n",
       "      <td>DPW Ops Queue</td>\n",
       "      <td>Intersection of 25TH ST and LUCKY ST</td>\n",
       "      <td>Street and Sidewalk Cleaning</td>\n",
       "      <td>Sidewalk_Cleaning</td>\n",
       "      <td>Human_waste_or_urine</td>\n",
       "      <td>Voice In</td>\n",
       "      <td>...</td>\n",
       "      <td>1.481</td>\n",
       "      <td>20187.0</td>\n",
       "      <td>799159.0</td>\n",
       "      <td>25373.0</td>\n",
       "      <td>36.9</td>\n",
       "      <td>36.2</td>\n",
       "      <td>96288.0</td>\n",
       "      <td>1461.0</td>\n",
       "      <td>30764.0</td>\n",
       "      <td>45565.0</td>\n",
       "    </tr>\n",
       "    <tr>\n",
       "      <th>4</th>\n",
       "      <td>322545</td>\n",
       "      <td>2008-11-30 20:45:00</td>\n",
       "      <td>2009-02-03 07:09:00</td>\n",
       "      <td>Closed</td>\n",
       "      <td>DPW Ops Queue</td>\n",
       "      <td>Intersection of 19TH ST and OAKWOOD ST</td>\n",
       "      <td>Street and Sidewalk Cleaning</td>\n",
       "      <td>Sidewalk_Cleaning</td>\n",
       "      <td>Empty_cart</td>\n",
       "      <td>Voice In</td>\n",
       "      <td>...</td>\n",
       "      <td>1.481</td>\n",
       "      <td>20187.0</td>\n",
       "      <td>799159.0</td>\n",
       "      <td>25373.0</td>\n",
       "      <td>36.9</td>\n",
       "      <td>36.2</td>\n",
       "      <td>96288.0</td>\n",
       "      <td>1461.0</td>\n",
       "      <td>30764.0</td>\n",
       "      <td>45565.0</td>\n",
       "    </tr>\n",
       "  </tbody>\n",
       "</table>\n",
       "<p>5 rows × 24 columns</p>\n",
       "</div>"
      ],
      "text/plain": [
       "   CaseID              Opened              Closed  Status Responsible Agency  \\\n",
       "0  322566 2008-11-30 22:56:00 2009-07-21 16:24:00  Closed      DPW Ops Queue   \n",
       "1  322560 2008-11-30 22:24:00 2009-07-21 16:24:00  Closed      DPW Ops Queue   \n",
       "2  322559 2008-11-30 22:20:00 2008-12-01 06:07:00  Closed      DPW Ops Queue   \n",
       "3  322556 2008-11-30 21:34:00 2008-12-09 08:07:00  Closed      DPW Ops Queue   \n",
       "4  322545 2008-11-30 20:45:00 2009-02-03 07:09:00  Closed      DPW Ops Queue   \n",
       "\n",
       "                                        Address                      Category  \\\n",
       "0        1566 HYDE ST, SAN FRANCISCO, CA, 94109  Street and Sidewalk Cleaning   \n",
       "1         Intersection of TAYLOR ST and TURK ST  Street and Sidewalk Cleaning   \n",
       "2  1601 SACRAMENTO ST, SAN FRANCISCO, CA, 94109  Street and Sidewalk Cleaning   \n",
       "3          Intersection of 25TH ST and LUCKY ST  Street and Sidewalk Cleaning   \n",
       "4        Intersection of 19TH ST and OAKWOOD ST  Street and Sidewalk Cleaning   \n",
       "\n",
       "        Request Type       Request Details    Source     ...      AreaSqMi  \\\n",
       "0  Sidewalk_Cleaning               Garbage  Voice In     ...         0.313   \n",
       "1    Illegal_Dumping               Garbage  Voice In     ...           NaN   \n",
       "2    Illegal_Dumping              Mattress  Voice In     ...         0.313   \n",
       "3  Sidewalk_Cleaning  Human_waste_or_urine  Voice In     ...         1.481   \n",
       "4  Sidewalk_Cleaning            Empty_cart  Voice In     ...         1.481   \n",
       "\n",
       "   Females HousePrice    Males  MedAgeF  MedAgeM  MedHouseholdIncome  MedRent  \\\n",
       "0  10219.0  1276501.0   9415.0     41.4     39.1             88845.0   1401.0   \n",
       "1      NaN        NaN      NaN      NaN      NaN                 NaN      NaN   \n",
       "2  10219.0  1276501.0   9415.0     41.4     39.1             88845.0   1401.0   \n",
       "3  20187.0   799159.0  25373.0     36.9     36.2             96288.0   1461.0   \n",
       "4  20187.0   799159.0  25373.0     36.9     36.2             96288.0   1461.0   \n",
       "\n",
       "   PeoplePerSqMi  Population  \n",
       "0        62679.0     19633.0  \n",
       "1            NaN         NaN  \n",
       "2        62679.0     19633.0  \n",
       "3        30764.0     45565.0  \n",
       "4        30764.0     45565.0  \n",
       "\n",
       "[5 rows x 24 columns]"
      ]
     },
     "execution_count": 25,
     "metadata": {},
     "output_type": "execute_result"
    }
   ],
   "source": [
    "street = street.merge(demographic, on = \"Neighborhood\", how = \"left\") \n",
    "street.head()"
   ]
  },
  {
   "cell_type": "markdown",
   "metadata": {
    "deletable": true,
    "editable": true
   },
   "source": [
    "# Plots"
   ]
  },
  {
   "cell_type": "code",
   "execution_count": 26,
   "metadata": {
    "collapsed": false,
    "deletable": true,
    "editable": true
   },
   "outputs": [
    {
     "data": {
      "image/png": "[encoded data removed]",
      "text/plain": [
       "<matplotlib.figure.Figure at 0x7f1669c1d0d0>"
      ]
     },
     "metadata": {},
     "output_type": "display_data"
    }
   ],
   "source": [
    "#plt.figure(figsize=(2,100)) # Doesn't do much\n",
    "theOrder = [\"Voice In\", \"Open311\", \"Web Self Service\", \"Integrated Agency\", \"Twitter\", \"e-mail In\", \"Other Department\"]\n",
    "#sns.set(font_scale = 1.5)\n",
    "sns.set_context(\"notebook\", rc={\"font.size\" : 40}) # font_scale=1.5\n",
    "ax = sns.factorplot(y = \"Source\", data = street, kind = \"count\", orient = \"h\", order = theOrder, aspect = 2)#, size = 10)\n",
    "plt.title(\"How the Cleaning Request Was Made\") \n",
    "plt.show()"
   ]
  },
  {
   "cell_type": "markdown",
   "metadata": {
    "deletable": true,
    "editable": true
   },
   "source": [
    "According to [the project's website](http://www.open311.org/learn/), Open311 allows people to report issues in public spaces to city officials through a [website](https://sf311.org/index.aspx?page=797) or [mobile app](https://www.sf311.org/mobile).  "
   ]
  },
  {
   "cell_type": "code",
   "execution_count": 27,
   "metadata": {
    "collapsed": false,
    "deletable": true,
    "editable": true
   },
   "outputs": [
    {
     "data": {
      "text/plain": [
       "<bound method Series.value_counts of 0                      Nob Hill\n",
       "1         Downtown/Civic Center\n",
       "2                      Nob Hill\n",
       "3                       Mission\n",
       "4                       Mission\n",
       "5                       Mission\n",
       "6                       Mission\n",
       "7                       Mission\n",
       "8            West of Twin Peaks\n",
       "9            West of Twin Peaks\n",
       "10                      Mission\n",
       "11              South of Market\n",
       "12             Western Addition\n",
       "13                Outer Mission\n",
       "14               Bernal Heights\n",
       "15                     Nob Hill\n",
       "16              South of Market\n",
       "17                      Mission\n",
       "18                 Russian Hill\n",
       "19                     Nob Hill\n",
       "20        Downtown/Civic Center\n",
       "21             Western Addition\n",
       "22             Western Addition\n",
       "23                 Outer Sunset\n",
       "24                     Nob Hill\n",
       "25               Outer Richmond\n",
       "26              South of Market\n",
       "27              South of Market\n",
       "28          Castro/Upper Market\n",
       "29          Castro/Upper Market\n",
       "                  ...          \n",
       "754694           Inner Richmond\n",
       "754695             Potrero Hill\n",
       "754696           Outer Richmond\n",
       "754697           Inner Richmond\n",
       "754698                 Parkside\n",
       "754699                 Nob Hill\n",
       "754700               Noe Valley\n",
       "754701                  Mission\n",
       "754702    Lower Pacific Heights\n",
       "754703    Candlestick Point SRA\n",
       "754704    Candlestick Point SRA\n",
       "754705          South of Market\n",
       "754706            Westwood Park\n",
       "754707                  Portola\n",
       "754708           Cathedral Hill\n",
       "754709             Civic Center\n",
       "754710                 Nob Hill\n",
       "754711          South of Market\n",
       "754712                     None\n",
       "754713             Outer Sunset\n",
       "754714           Inner Richmond\n",
       "754715                     None\n",
       "754716           Produce Market\n",
       "754717                  Mission\n",
       "754718                  Mission\n",
       "754719             Lower Haight\n",
       "754720           Outer Richmond\n",
       "754721                  Mission\n",
       "754722              Rincon Hill\n",
       "754723      Golden Gate Heights\n",
       "Name: Neighborhood, dtype: object>"
      ]
     },
     "execution_count": 27,
     "metadata": {},
     "output_type": "execute_result"
    }
   ],
   "source": [
    "street.Neighborhood.value_counts"
   ]
  },
  {
   "cell_type": "code",
   "execution_count": 28,
   "metadata": {
    "collapsed": false,
    "deletable": true,
    "editable": true
   },
   "outputs": [],
   "source": [
    "# From: http://stackoverflow.com/questions/22391433/count-the-frequency-that-a-value-occurs-in-a-dataframe-column\n",
    "counts = street.groupby('Neighborhood').count()"
   ]
  },
  {
   "cell_type": "markdown",
   "metadata": {
    "deletable": true,
    "editable": true
   },
   "source": [
    "We can get the total number of cases from CaseID\n",
    "unresolved cases by neighborhood"
   ]
  },
  {
   "cell_type": "code",
   "execution_count": 29,
   "metadata": {
    "collapsed": false,
    "deletable": true,
    "editable": true
   },
   "outputs": [
    {
     "data": {
      "text/html": [
       "<div>\n",
       "<table border=\"1\" class=\"dataframe\">\n",
       "  <thead>\n",
       "    <tr style=\"text-align: right;\">\n",
       "      <th></th>\n",
       "      <th>Neighborhood</th>\n",
       "      <th>CaseID</th>\n",
       "      <th>Opened</th>\n",
       "      <th>Closed</th>\n",
       "      <th>Status</th>\n",
       "      <th>Responsible Agency</th>\n",
       "      <th>Address</th>\n",
       "      <th>Category</th>\n",
       "      <th>Request Type</th>\n",
       "      <th>Request Details</th>\n",
       "      <th>...</th>\n",
       "      <th>Females</th>\n",
       "      <th>HousePrice</th>\n",
       "      <th>Males</th>\n",
       "      <th>MedAgeF</th>\n",
       "      <th>MedAgeM</th>\n",
       "      <th>MedHouseholdIncome</th>\n",
       "      <th>MedRent</th>\n",
       "      <th>PeoplePerSqMi</th>\n",
       "      <th>Population</th>\n",
       "      <th>UnclosedProp</th>\n",
       "    </tr>\n",
       "  </thead>\n",
       "  <tbody>\n",
       "    <tr>\n",
       "      <th>0</th>\n",
       "      <td>Mission</td>\n",
       "      <td>103254</td>\n",
       "      <td>103254</td>\n",
       "      <td>101783</td>\n",
       "      <td>103254</td>\n",
       "      <td>103254</td>\n",
       "      <td>103254</td>\n",
       "      <td>103254</td>\n",
       "      <td>103242</td>\n",
       "      <td>103240</td>\n",
       "      <td>...</td>\n",
       "      <td>103254</td>\n",
       "      <td>103254</td>\n",
       "      <td>103254</td>\n",
       "      <td>103254</td>\n",
       "      <td>103254</td>\n",
       "      <td>103254</td>\n",
       "      <td>103254</td>\n",
       "      <td>103254</td>\n",
       "      <td>103254</td>\n",
       "      <td>0.014246</td>\n",
       "    </tr>\n",
       "    <tr>\n",
       "      <th>1</th>\n",
       "      <td>South of Market</td>\n",
       "      <td>70221</td>\n",
       "      <td>70221</td>\n",
       "      <td>69009</td>\n",
       "      <td>70221</td>\n",
       "      <td>70221</td>\n",
       "      <td>70221</td>\n",
       "      <td>70221</td>\n",
       "      <td>70215</td>\n",
       "      <td>70215</td>\n",
       "      <td>...</td>\n",
       "      <td>70221</td>\n",
       "      <td>0</td>\n",
       "      <td>70221</td>\n",
       "      <td>70221</td>\n",
       "      <td>70221</td>\n",
       "      <td>70221</td>\n",
       "      <td>70221</td>\n",
       "      <td>70221</td>\n",
       "      <td>70221</td>\n",
       "      <td>0.017260</td>\n",
       "    </tr>\n",
       "    <tr>\n",
       "      <th>2</th>\n",
       "      <td>Tenderloin</td>\n",
       "      <td>29747</td>\n",
       "      <td>29747</td>\n",
       "      <td>29272</td>\n",
       "      <td>29747</td>\n",
       "      <td>29747</td>\n",
       "      <td>29747</td>\n",
       "      <td>29747</td>\n",
       "      <td>29746</td>\n",
       "      <td>29746</td>\n",
       "      <td>...</td>\n",
       "      <td>29747</td>\n",
       "      <td>0</td>\n",
       "      <td>29747</td>\n",
       "      <td>29747</td>\n",
       "      <td>29747</td>\n",
       "      <td>29747</td>\n",
       "      <td>29747</td>\n",
       "      <td>29747</td>\n",
       "      <td>29747</td>\n",
       "      <td>0.015968</td>\n",
       "    </tr>\n",
       "    <tr>\n",
       "      <th>3</th>\n",
       "      <td>Bayview</td>\n",
       "      <td>28256</td>\n",
       "      <td>28256</td>\n",
       "      <td>27916</td>\n",
       "      <td>28256</td>\n",
       "      <td>28256</td>\n",
       "      <td>28256</td>\n",
       "      <td>28256</td>\n",
       "      <td>28256</td>\n",
       "      <td>28255</td>\n",
       "      <td>...</td>\n",
       "      <td>28256</td>\n",
       "      <td>28256</td>\n",
       "      <td>28256</td>\n",
       "      <td>28256</td>\n",
       "      <td>28256</td>\n",
       "      <td>28256</td>\n",
       "      <td>28256</td>\n",
       "      <td>28256</td>\n",
       "      <td>28256</td>\n",
       "      <td>0.012033</td>\n",
       "    </tr>\n",
       "    <tr>\n",
       "      <th>4</th>\n",
       "      <td>Downtown/Civic Center</td>\n",
       "      <td>27985</td>\n",
       "      <td>27985</td>\n",
       "      <td>27948</td>\n",
       "      <td>27985</td>\n",
       "      <td>27985</td>\n",
       "      <td>27985</td>\n",
       "      <td>27985</td>\n",
       "      <td>27985</td>\n",
       "      <td>27984</td>\n",
       "      <td>...</td>\n",
       "      <td>0</td>\n",
       "      <td>0</td>\n",
       "      <td>0</td>\n",
       "      <td>0</td>\n",
       "      <td>0</td>\n",
       "      <td>0</td>\n",
       "      <td>0</td>\n",
       "      <td>0</td>\n",
       "      <td>0</td>\n",
       "      <td>0.001322</td>\n",
       "    </tr>\n",
       "  </tbody>\n",
       "</table>\n",
       "<p>5 rows × 25 columns</p>\n",
       "</div>"
      ],
      "text/plain": [
       "            Neighborhood  CaseID  Opened  Closed  Status  Responsible Agency  \\\n",
       "0                Mission  103254  103254  101783  103254              103254   \n",
       "1        South of Market   70221   70221   69009   70221               70221   \n",
       "2             Tenderloin   29747   29747   29272   29747               29747   \n",
       "3                Bayview   28256   28256   27916   28256               28256   \n",
       "4  Downtown/Civic Center   27985   27985   27948   27985               27985   \n",
       "\n",
       "   Address  Category  Request Type  Request Details      ...       Females  \\\n",
       "0   103254    103254        103242           103240      ...        103254   \n",
       "1    70221     70221         70215            70215      ...         70221   \n",
       "2    29747     29747         29746            29746      ...         29747   \n",
       "3    28256     28256         28256            28255      ...         28256   \n",
       "4    27985     27985         27985            27984      ...             0   \n",
       "\n",
       "   HousePrice   Males  MedAgeF  MedAgeM  MedHouseholdIncome  MedRent  \\\n",
       "0      103254  103254   103254   103254              103254   103254   \n",
       "1           0   70221    70221    70221               70221    70221   \n",
       "2           0   29747    29747    29747               29747    29747   \n",
       "3       28256   28256    28256    28256               28256    28256   \n",
       "4           0       0        0        0                   0        0   \n",
       "\n",
       "   PeoplePerSqMi  Population  UnclosedProp  \n",
       "0         103254      103254      0.014246  \n",
       "1          70221       70221      0.017260  \n",
       "2          29747       29747      0.015968  \n",
       "3          28256       28256      0.012033  \n",
       "4              0           0      0.001322  \n",
       "\n",
       "[5 rows x 25 columns]"
      ]
     },
     "execution_count": 29,
     "metadata": {},
     "output_type": "execute_result"
    }
   ],
   "source": [
    "counts = counts.sort_values(by = \"CaseID\",\n",
    "                            ascending = False)\n",
    "counts = counts.reset_index()\n",
    "counts['UnclosedProp'] = (counts.Opened - counts.Closed) / counts.Opened\n",
    "counts.head()"
   ]
  },
  {
   "cell_type": "code",
   "execution_count": 30,
   "metadata": {
    "collapsed": false,
    "deletable": true,
    "editable": true
   },
   "outputs": [
    {
     "data": {
      "image/png": "[encoded data removed]",
      "text/plain": [
       "<matplotlib.figure.Figure at 0x7f1664610c10>"
      ]
     },
     "metadata": {},
     "output_type": "display_data"
    }
   ],
   "source": [
    "sns.set_context(\"notebook\", rc={\"font.size\" : 40}) # font_scale=1.5\n",
    "ax = sns.factorplot(x = \"CaseID\", \n",
    "                    y = \"Neighborhood\",\n",
    "                    data = counts.head(15), \n",
    "                    kind = \"bar\", \n",
    "                    orient = \"h\", \n",
    "                    aspect = 2\n",
    "                   )#, size = 10)\n",
    "ax.set_xlabels(\"Requests\")\n",
    "plt.title(\"Requests by Neighborhood (Top 15 Neighborhoods)\") \n",
    "plt.show()"
   ]
  },
  {
   "cell_type": "code",
   "execution_count": 31,
   "metadata": {
    "collapsed": false,
    "deletable": true,
    "editable": true
   },
   "outputs": [
    {
     "data": {
      "image/png": "[encoded data removed]",
      "text/plain": [
       "<matplotlib.figure.Figure at 0x7f1664420990>"
      ]
     },
     "metadata": {},
     "output_type": "display_data"
    }
   ],
   "source": [
    "sns.set_context(\"notebook\", rc={\"font.size\" : 40}) # font_scale=1.5\n",
    "ax = sns.factorplot(x = \"CaseID\", \n",
    "                    y = \"Neighborhood\",\n",
    "                    data = counts.tail(15), \n",
    "                    kind = \"bar\", \n",
    "                    orient = \"h\", \n",
    "                    aspect = 2\n",
    "                   )#, size = 10)\n",
    "ax.set_xlabels(\"Requests\")\n",
    "plt.title(\"Requests by Neighborhood (Bottom 15 Neighborhoods)\") \n",
    "plt.show()"
   ]
  },
  {
   "cell_type": "markdown",
   "metadata": {
    "deletable": true,
    "editable": true
   },
   "source": [
    "To get a sense of where these neighborhood fall on a map, we created this plot:"
   ]
  },
  {
   "cell_type": "code",
   "execution_count": 32,
   "metadata": {
    "collapsed": false,
    "deletable": true,
    "editable": true
   },
   "outputs": [
    {
     "data": {
      "text/plain": [
       "<matplotlib.text.Text at 0x7f16641fe8d0>"
      ]
     },
     "execution_count": 32,
     "metadata": {},
     "output_type": "execute_result"
    },
    {
     "data": {
      "image/png": "[encoded data removed]",
      "text/plain": [
       "<matplotlib.figure.Figure at 0x7f166424b7d0>"
      ]
     },
     "metadata": {},
     "output_type": "display_data"
    }
   ],
   "source": [
    "fig, ax = plt.subplots(figsize=(10,20))\n",
    "\n",
    "# Using counts: \"Neighborhood\" and \"Opened\"\n",
    "\n",
    "myMap = Basemap(llcrnrlon=-122.523, llcrnrlat=37.7, urcrnrlon=-122.36, urcrnrlat=37.83, resolution=\"f\",\n",
    "    projection=\"merc\") \n",
    "myMap.drawcoastlines()\n",
    "myMap.drawcounties()\n",
    "myMap.readshapefile(\"ShapeFiles/geo_export_c540f0fb-6194-47ad-9fa9-12150ac3dd4c\", \n",
    "                    \"noises\")\n",
    "\n",
    "neighs  = gpd.read_file(\"ShapeFiles/geo_export_c540f0fb-6194-47ad-9fa9-12150ac3dd4c.shp\")\n",
    "\n",
    "neighs = pd.DataFrame({\n",
    "        'shapes': [Polygon(np.array(shape), True) for shape in myMap.noises], \n",
    "        'Neighborhood': [n['name'] for n in myMap.noises_info] })\n",
    "\n",
    "neighs = neighs.merge(counts, on = \"Neighborhood\", how = \"left\")\n",
    "\n",
    "cmap = plt.get_cmap('Oranges')   \n",
    "pc = PatchCollection(neighs.shapes, zorder = 2)\n",
    "norm = Normalize()\n",
    "pc.set_facecolor(cmap(norm(neighs['Opened'].fillna(0).values)))\n",
    "ax.add_collection(pc) # was ax.\n",
    "\n",
    "mapper = plt.cm.ScalarMappable(norm=norm, cmap=cmap)\n",
    "mapper.set_array(neighs['Opened'])\n",
    "plt.colorbar(mapper, shrink=0.4)\n",
    "\n",
    "plt.title(\"The Amount of Cleaning Requests For Each Neighborhood\")"
   ]
  },
  {
   "cell_type": "code",
   "execution_count": 33,
   "metadata": {
    "collapsed": false,
    "deletable": true,
    "editable": true
   },
   "outputs": [
    {
     "data": {
      "image/png": "[encoded data removed]",
      "text/plain": [
       "<matplotlib.figure.Figure at 0x7f1669b8c150>"
      ]
     },
     "metadata": {},
     "output_type": "display_data"
    }
   ],
   "source": [
    "sns.set_context(\"notebook\", rc={\"font.size\" : 40}) # font_scale=1.5\n",
    "ax = sns.factorplot(x = \"UnclosedProp\", \n",
    "                    y = \"Neighborhood\",\n",
    "                    data = counts.sort_values(by = \"UnclosedProp\",\n",
    "                                              ascending = False).head(15), \n",
    "                    kind = \"bar\", \n",
    "                    orient = \"h\", \n",
    "                    aspect = 2\n",
    "                   )\n",
    "plt.title(\"Proportion of Unclosed Cleaning Requests by Neighborhood (Top 15 Neighborhoods)\") \n",
    "plt.show()"
   ]
  },
  {
   "cell_type": "code",
   "execution_count": 34,
   "metadata": {
    "collapsed": false,
    "deletable": true,
    "editable": true
   },
   "outputs": [
    {
     "data": {
      "text/plain": [
       "<matplotlib.text.Text at 0x7f165f539190>"
      ]
     },
     "execution_count": 34,
     "metadata": {},
     "output_type": "execute_result"
    },
    {
     "data": {
      "image/png": "[encoded data removed]",
      "text/plain": [
       "<matplotlib.figure.Figure at 0x7f1663d8d490>"
      ]
     },
     "metadata": {},
     "output_type": "display_data"
    }
   ],
   "source": [
    "fig, ax = plt.subplots(figsize=(10,20))\n",
    "\n",
    "# Using counts: \"Neighborhood\" and \"Opened\"\n",
    "\n",
    "myMap = Basemap(llcrnrlon=-122.523, \n",
    "                llcrnrlat=37.7, \n",
    "                urcrnrlon=-122.36, \n",
    "                urcrnrlat=37.83, \n",
    "                resolution=\"f\",\n",
    "                projection=\"merc\") \n",
    "\n",
    "myMap.drawcoastlines()\n",
    "myMap.drawcounties()\n",
    "myMap.readshapefile(\"ShapeFiles/geo_export_c540f0fb-6194-47ad-9fa9-12150ac3dd4c\", \"noises\")\n",
    "\n",
    "neighs  = gpd.read_file(\"ShapeFiles/geo_export_c540f0fb-6194-47ad-9fa9-12150ac3dd4c.shp\")\n",
    "\n",
    "neighs = pd.DataFrame({\n",
    "        'shapes': [Polygon(np.array(shape), True) for shape in myMap.noises], \n",
    "        'Neighborhood': [n['name'] for n in myMap.noises_info] })\n",
    "\n",
    "neighs = neighs.merge(counts, on = \"Neighborhood\", how = \"left\")\n",
    "\n",
    "cmap = plt.get_cmap('Oranges')   \n",
    "pc = PatchCollection(neighs.shapes, zorder = 2)\n",
    "norm = Normalize()\n",
    "pc.set_facecolor(cmap(norm(neighs['UnclosedProp'].fillna(0).values)))\n",
    "ax.add_collection(pc) # was ax.\n",
    "\n",
    "mapper = plt.cm.ScalarMappable(norm=norm, cmap=cmap)\n",
    "mapper.set_array(neighs['UnclosedProp'])\n",
    "plt.colorbar(mapper, shrink=0.4)\n",
    "\n",
    "plt.title(\"The Proportion of Unclosed Requests For Each Neighborhood\")"
   ]
  },
  {
   "cell_type": "markdown",
   "metadata": {
    "deletable": true,
    "editable": true
   },
   "source": [
    "Use supervisor district where there are too many neighborhoods. "
   ]
  },
  {
   "cell_type": "code",
   "execution_count": 35,
   "metadata": {
    "collapsed": false,
    "deletable": true,
    "editable": true
   },
   "outputs": [
    {
     "data": {
      "text/html": [
       "<div>\n",
       "<table border=\"1\" class=\"dataframe\">\n",
       "  <thead>\n",
       "    <tr style=\"text-align: right;\">\n",
       "      <th></th>\n",
       "      <th>Request Type</th>\n",
       "      <th>CaseID</th>\n",
       "    </tr>\n",
       "  </thead>\n",
       "  <tbody>\n",
       "    <tr>\n",
       "      <th>1</th>\n",
       "      <td>Bulky Items</td>\n",
       "      <td>187943</td>\n",
       "    </tr>\n",
       "    <tr>\n",
       "      <th>5</th>\n",
       "      <td>General Cleaning</td>\n",
       "      <td>176887</td>\n",
       "    </tr>\n",
       "    <tr>\n",
       "      <th>15</th>\n",
       "      <td>Sidewalk_Cleaning</td>\n",
       "      <td>174112</td>\n",
       "    </tr>\n",
       "    <tr>\n",
       "      <th>6</th>\n",
       "      <td>Hazardous Materials</td>\n",
       "      <td>81836</td>\n",
       "    </tr>\n",
       "    <tr>\n",
       "      <th>8</th>\n",
       "      <td>Illegal_Dumping</td>\n",
       "      <td>45221</td>\n",
       "    </tr>\n",
       "  </tbody>\n",
       "</table>\n",
       "</div>"
      ],
      "text/plain": [
       "           Request Type  CaseID\n",
       "1           Bulky Items  187943\n",
       "5      General Cleaning  176887\n",
       "15    Sidewalk_Cleaning  174112\n",
       "6   Hazardous Materials   81836\n",
       "8       Illegal_Dumping   45221"
      ]
     },
     "execution_count": 35,
     "metadata": {},
     "output_type": "execute_result"
    }
   ],
   "source": [
    "request_counts = street.groupby(by = \"Request Type\").count().reset_index().ix[:,[\"Request Type\",\"CaseID\"]].sort_values(by = \"CaseID\", ascending = False)\n",
    "request_counts.head()"
   ]
  },
  {
   "cell_type": "code",
   "execution_count": 36,
   "metadata": {
    "collapsed": false,
    "deletable": true,
    "editable": true
   },
   "outputs": [
    {
     "data": {
      "image/png": "[encoded data removed]",
      "text/plain": [
       "<matplotlib.figure.Figure at 0x7f166428b9d0>"
      ]
     },
     "metadata": {},
     "output_type": "display_data"
    }
   ],
   "source": [
    "sns.set_context(\"notebook\", rc={\"font.size\" : 40}) # font_scale=1.5\n",
    "ax = sns.factorplot(y = \"Request Type\", \n",
    "                    x = \"CaseID\",\n",
    "                    data = request_counts, \n",
    "                    kind = \"bar\", \n",
    "                    orient = \"h\", \n",
    "                    aspect = 2\n",
    "                   )#, size = 10)\n",
    "plt.title(\"Requests Type\") \n",
    "plt.show()"
   ]
  },
  {
   "cell_type": "markdown",
   "metadata": {
    "deletable": true,
    "editable": true
   },
   "source": [
    "Differences by time of year:\n",
    "- Mattresses in summer  \n",
    "- Holiday shopping  \n"
   ]
  },
  {
   "cell_type": "markdown",
   "metadata": {},
   "source": [
    "We added the month of each request to compare the counts of requests by month.  "
   ]
  },
  {
   "cell_type": "code",
   "execution_count": 37,
   "metadata": {
    "collapsed": false,
    "deletable": true,
    "editable": true
   },
   "outputs": [],
   "source": [
    "street['month'] = [timestamp.month for timestamp in street.Opened]"
   ]
  },
  {
   "cell_type": "code",
   "execution_count": 38,
   "metadata": {
    "collapsed": false,
    "deletable": true,
    "editable": true
   },
   "outputs": [
    {
     "data": {
      "text/html": [
       "<div>\n",
       "<table border=\"1\" class=\"dataframe\">\n",
       "  <thead>\n",
       "    <tr style=\"text-align: right;\">\n",
       "      <th></th>\n",
       "      <th>month</th>\n",
       "      <th>CaseID</th>\n",
       "    </tr>\n",
       "  </thead>\n",
       "  <tbody>\n",
       "    <tr>\n",
       "      <th>0</th>\n",
       "      <td>1</td>\n",
       "      <td>75931</td>\n",
       "    </tr>\n",
       "    <tr>\n",
       "      <th>1</th>\n",
       "      <td>2</td>\n",
       "      <td>62432</td>\n",
       "    </tr>\n",
       "    <tr>\n",
       "      <th>2</th>\n",
       "      <td>3</td>\n",
       "      <td>50985</td>\n",
       "    </tr>\n",
       "    <tr>\n",
       "      <th>3</th>\n",
       "      <td>4</td>\n",
       "      <td>49355</td>\n",
       "    </tr>\n",
       "    <tr>\n",
       "      <th>4</th>\n",
       "      <td>5</td>\n",
       "      <td>53024</td>\n",
       "    </tr>\n",
       "    <tr>\n",
       "      <th>5</th>\n",
       "      <td>6</td>\n",
       "      <td>58159</td>\n",
       "    </tr>\n",
       "    <tr>\n",
       "      <th>6</th>\n",
       "      <td>7</td>\n",
       "      <td>64962</td>\n",
       "    </tr>\n",
       "    <tr>\n",
       "      <th>7</th>\n",
       "      <td>8</td>\n",
       "      <td>70538</td>\n",
       "    </tr>\n",
       "    <tr>\n",
       "      <th>8</th>\n",
       "      <td>9</td>\n",
       "      <td>69159</td>\n",
       "    </tr>\n",
       "    <tr>\n",
       "      <th>9</th>\n",
       "      <td>10</td>\n",
       "      <td>70330</td>\n",
       "    </tr>\n",
       "    <tr>\n",
       "      <th>10</th>\n",
       "      <td>11</td>\n",
       "      <td>66416</td>\n",
       "    </tr>\n",
       "    <tr>\n",
       "      <th>11</th>\n",
       "      <td>12</td>\n",
       "      <td>63433</td>\n",
       "    </tr>\n",
       "  </tbody>\n",
       "</table>\n",
       "</div>"
      ],
      "text/plain": [
       "    month  CaseID\n",
       "0       1   75931\n",
       "1       2   62432\n",
       "2       3   50985\n",
       "3       4   49355\n",
       "4       5   53024\n",
       "5       6   58159\n",
       "6       7   64962\n",
       "7       8   70538\n",
       "8       9   69159\n",
       "9      10   70330\n",
       "10     11   66416\n",
       "11     12   63433"
      ]
     },
     "execution_count": 38,
     "metadata": {},
     "output_type": "execute_result"
    }
   ],
   "source": [
    "count_by_month = street.groupby(by='month').count().CaseID.reset_index()\n",
    "count_by_month"
   ]
  },
  {
   "cell_type": "code",
   "execution_count": 39,
   "metadata": {
    "collapsed": false,
    "deletable": true,
    "editable": true
   },
   "outputs": [
    {
     "data": {
      "image/png": "[encoded data removed]",
      "text/plain": [
       "<matplotlib.figure.Figure at 0x7f165f525190>"
      ]
     },
     "metadata": {},
     "output_type": "display_data"
    }
   ],
   "source": [
    "sns.set_context(\"notebook\", rc={\"font.size\" : 40}) # font_scale=1.5\n",
    "ax = sns.pointplot(y = \"CaseID\", \n",
    "                    x = \"month\",\n",
    "                    data = count_by_month, \n",
    "                    kind = \"bar\", \n",
    "                    aspect = 3,\n",
    "                   )#, size = 10)\n",
    "ax.set_ylabel(\"Cleaning Requests\")\n",
    "ax.set_xlabel(\"Month\")\n",
    "plt.title(\"Requests by Month\") \n",
    "plt.show()"
   ]
  },
  {
   "cell_type": "code",
   "execution_count": 40,
   "metadata": {
    "collapsed": false,
    "deletable": true,
    "editable": true
   },
   "outputs": [
    {
     "data": {
      "text/plain": [
       "<matplotlib.axes._subplots.AxesSubplot at 0x7f165b76f5d0>"
      ]
     },
     "execution_count": 40,
     "metadata": {},
     "output_type": "execute_result"
    },
    {
     "data": {
      "image/png": "[encoded data removed]",
      "text/plain": [
       "<matplotlib.figure.Figure at 0x7f166437c2d0>"
      ]
     },
     "metadata": {},
     "output_type": "display_data"
    }
   ],
   "source": [
    "count_by_month.plot(y = \"CaseID\", \n",
    "                    x = \"month\")"
   ]
  },
  {
   "cell_type": "markdown",
   "metadata": {
    "deletable": true,
    "editable": true
   },
   "source": [
    "Faster at closing requests by time?\n",
    "Time to close requests by neighborhood?"
   ]
  },
  {
   "cell_type": "code",
   "execution_count": 41,
   "metadata": {
    "collapsed": false,
    "deletable": true,
    "editable": true
   },
   "outputs": [
    {
     "data": {
      "image/png": "[encoded data removed]",
      "text/plain": [
       "<matplotlib.figure.Figure at 0x7f165f256b90>"
      ]
     },
     "metadata": {},
     "output_type": "display_data"
    }
   ],
   "source": [
    "street['year'] = [timestamp.year for timestamp in street.Opened]\n",
    "count_by_year = street.groupby(by='year').count().CaseID.reset_index()\n",
    "sns.set_context(\"notebook\", rc={\"font.size\" : 40}) # font_scale=1.5\n",
    "ax = sns.pointplot(y = \"CaseID\", \n",
    "                    x = \"year\",\n",
    "                    data = count_by_year, \n",
    "                    kind = \"bar\", \n",
    "                    aspect = 3,\n",
    "                   )#, size = 10)\n",
    "ax.set_ylabel(\"Cleaning Requests\")\n",
    "ax.set_xlabel(\"Year\")\n",
    "plt.title(\"Requests by Year\") \n",
    "plt.show()"
   ]
  },
  {
   "cell_type": "code",
   "execution_count": 42,
   "metadata": {
    "collapsed": false,
    "deletable": true,
    "editable": true
   },
   "outputs": [
    {
     "data": {
      "text/plain": [
       "[('CaseID', 747388),\n",
       " ('Opened', 737334),\n",
       " ('Closed', 538929),\n",
       " ('Status', 2),\n",
       " ('Responsible Agency', 130),\n",
       " ('Address', 101638),\n",
       " ('Category', 1),\n",
       " ('Request Type', 20),\n",
       " ('Request Details', 127),\n",
       " ('Source', 8),\n",
       " ('Supervisor District', 14),\n",
       " ('Neighborhood', 125),\n",
       " ('Updated', 547538),\n",
       " ('Point', 107789),\n",
       " ('AreaSqMi', 94),\n",
       " ('Females', 102),\n",
       " ('HousePrice', 77),\n",
       " ('Males', 102),\n",
       " ('MedAgeF', 89),\n",
       " ('MedAgeM', 77),\n",
       " ('MedHouseholdIncome', 102),\n",
       " ('MedRent', 99),\n",
       " ('PeoplePerSqMi', 103),\n",
       " ('Population', 103),\n",
       " ('month', 12),\n",
       " ('year', 10)]"
      ]
     },
     "execution_count": 42,
     "metadata": {},
     "output_type": "execute_result"
    }
   ],
   "source": [
    "[(colname, len(street[colname].unique())) for colname in list(street)]"
   ]
  },
  {
   "cell_type": "code",
   "execution_count": 43,
   "metadata": {
    "collapsed": false,
    "deletable": true,
    "editable": true
   },
   "outputs": [
    {
     "data": {
      "text/html": [
       "<div>\n",
       "<table border=\"1\" class=\"dataframe\">\n",
       "  <thead>\n",
       "    <tr style=\"text-align: right;\">\n",
       "      <th></th>\n",
       "      <th>month</th>\n",
       "      <th>Request Type</th>\n",
       "      <th>CaseID</th>\n",
       "    </tr>\n",
       "  </thead>\n",
       "  <tbody>\n",
       "    <tr>\n",
       "      <th>4</th>\n",
       "      <td>1</td>\n",
       "      <td>General Cleaning</td>\n",
       "      <td>21770</td>\n",
       "    </tr>\n",
       "    <tr>\n",
       "      <th>1</th>\n",
       "      <td>1</td>\n",
       "      <td>Bulky Items</td>\n",
       "      <td>19431</td>\n",
       "    </tr>\n",
       "    <tr>\n",
       "      <th>11</th>\n",
       "      <td>1</td>\n",
       "      <td>Sidewalk_Cleaning</td>\n",
       "      <td>14563</td>\n",
       "    </tr>\n",
       "    <tr>\n",
       "      <th>5</th>\n",
       "      <td>1</td>\n",
       "      <td>Hazardous Materials</td>\n",
       "      <td>7847</td>\n",
       "    </tr>\n",
       "    <tr>\n",
       "      <th>6</th>\n",
       "      <td>1</td>\n",
       "      <td>Illegal Encampment</td>\n",
       "      <td>4450</td>\n",
       "    </tr>\n",
       "  </tbody>\n",
       "</table>\n",
       "</div>"
      ],
      "text/plain": [
       "    month         Request Type  CaseID\n",
       "4       1     General Cleaning   21770\n",
       "1       1          Bulky Items   19431\n",
       "11      1    Sidewalk_Cleaning   14563\n",
       "5       1  Hazardous Materials    7847\n",
       "6       1   Illegal Encampment    4450"
      ]
     },
     "execution_count": 43,
     "metadata": {},
     "output_type": "execute_result"
    }
   ],
   "source": [
    "by_month_req_type = street.groupby(by=['month','Request Type']).count().CaseID.reset_index()\n",
    "by_month_req_type = by_month_req_type.sort_values(by = ['month', \"CaseID\"], ascending=[True,False])\n",
    "by_month_req_type.head()"
   ]
  },
  {
   "cell_type": "markdown",
   "metadata": {
    "deletable": true,
    "editable": true
   },
   "source": [
    "--------"
   ]
  },
  {
   "cell_type": "markdown",
   "metadata": {
    "deletable": true,
    "editable": true
   },
   "source": [
    "## Events and Festivals"
   ]
  },
  {
   "cell_type": "markdown",
   "metadata": {},
   "source": [
    "### Pride"
   ]
  },
  {
   "cell_type": "code",
   "execution_count": 44,
   "metadata": {
    "collapsed": false
   },
   "outputs": [
    {
     "data": {
      "text/html": [
       "<div>\n",
       "<table border=\"1\" class=\"dataframe\">\n",
       "  <thead>\n",
       "    <tr style=\"text-align: right;\">\n",
       "      <th></th>\n",
       "      <th>DateOpened</th>\n",
       "      <th>ReqCount_y</th>\n",
       "      <th>attendance_num_x</th>\n",
       "      <th>Year</th>\n",
       "      <th>StartNoTime</th>\n",
       "      <th>EndNoTime</th>\n",
       "    </tr>\n",
       "  </thead>\n",
       "  <tbody>\n",
       "    <tr>\n",
       "      <th>0</th>\n",
       "      <td>2009-06-27</td>\n",
       "      <td>39</td>\n",
       "      <td>1200000.0</td>\n",
       "      <td>2009</td>\n",
       "      <td>2009-06-27</td>\n",
       "      <td>2009-06-28</td>\n",
       "    </tr>\n",
       "    <tr>\n",
       "      <th>1</th>\n",
       "      <td>2010-06-26</td>\n",
       "      <td>61</td>\n",
       "      <td>1200000.0</td>\n",
       "      <td>2010</td>\n",
       "      <td>2010-06-26</td>\n",
       "      <td>2010-06-27</td>\n",
       "    </tr>\n",
       "    <tr>\n",
       "      <th>2</th>\n",
       "      <td>2011-06-25</td>\n",
       "      <td>63</td>\n",
       "      <td>1000000.0</td>\n",
       "      <td>2011</td>\n",
       "      <td>2011-06-25</td>\n",
       "      <td>2011-06-26</td>\n",
       "    </tr>\n",
       "    <tr>\n",
       "      <th>3</th>\n",
       "      <td>2012-06-23</td>\n",
       "      <td>56</td>\n",
       "      <td>NaN</td>\n",
       "      <td>2012</td>\n",
       "      <td>2012-06-23</td>\n",
       "      <td>2012-06-24</td>\n",
       "    </tr>\n",
       "    <tr>\n",
       "      <th>4</th>\n",
       "      <td>2013-06-29</td>\n",
       "      <td>37</td>\n",
       "      <td>1500000.0</td>\n",
       "      <td>2013</td>\n",
       "      <td>2013-06-29</td>\n",
       "      <td>2013-06-30</td>\n",
       "    </tr>\n",
       "    <tr>\n",
       "      <th>5</th>\n",
       "      <td>2014-06-28</td>\n",
       "      <td>62</td>\n",
       "      <td>1700000.0</td>\n",
       "      <td>2014</td>\n",
       "      <td>2014-06-28</td>\n",
       "      <td>2014-06-29</td>\n",
       "    </tr>\n",
       "    <tr>\n",
       "      <th>6</th>\n",
       "      <td>2015-06-27</td>\n",
       "      <td>68</td>\n",
       "      <td>1800000.0</td>\n",
       "      <td>2015</td>\n",
       "      <td>2015-06-27</td>\n",
       "      <td>2015-06-28</td>\n",
       "    </tr>\n",
       "    <tr>\n",
       "      <th>7</th>\n",
       "      <td>2016-06-25</td>\n",
       "      <td>108</td>\n",
       "      <td>NaN</td>\n",
       "      <td>2016</td>\n",
       "      <td>2016-06-25</td>\n",
       "      <td>2016-06-26</td>\n",
       "    </tr>\n",
       "  </tbody>\n",
       "</table>\n",
       "</div>"
      ],
      "text/plain": [
       "   DateOpened  ReqCount_y  attendance_num_x  Year StartNoTime   EndNoTime\n",
       "0  2009-06-27          39         1200000.0  2009  2009-06-27  2009-06-28\n",
       "1  2010-06-26          61         1200000.0  2010  2010-06-26  2010-06-27\n",
       "2  2011-06-25          63         1000000.0  2011  2011-06-25  2011-06-26\n",
       "3  2012-06-23          56               NaN  2012  2012-06-23  2012-06-24\n",
       "4  2013-06-29          37         1500000.0  2013  2013-06-29  2013-06-30\n",
       "5  2014-06-28          62         1700000.0  2014  2014-06-28  2014-06-29\n",
       "6  2015-06-27          68         1800000.0  2015  2015-06-27  2015-06-28\n",
       "7  2016-06-25         108               NaN  2016  2016-06-25  2016-06-26"
      ]
     },
     "execution_count": 44,
     "metadata": {},
     "output_type": "execute_result"
    }
   ],
   "source": [
    "# Read the data scraped in the other notebook\n",
    "pride = pd.DataFrame.from_csv(\"pride.csv\")\n",
    "pride"
   ]
  },
  {
   "cell_type": "markdown",
   "metadata": {
    "deletable": true,
    "editable": true
   },
   "source": [
    "### Outside Lands Music and Arts Festival"
   ]
  },
  {
   "cell_type": "code",
   "execution_count": 45,
   "metadata": {
    "collapsed": false,
    "deletable": true,
    "editable": true
   },
   "outputs": [
    {
     "ename": "NameError",
     "evalue": "name 'requests' is not defined",
     "output_type": "error",
     "traceback": [
      "\u001b[0;31m---------------------------------------------------------------------------\u001b[0m",
      "\u001b[0;31mNameError\u001b[0m                                 Traceback (most recent call last)",
      "\u001b[0;32m<ipython-input-45-89c01fbb93d1>\u001b[0m in \u001b[0;36m<module>\u001b[0;34m()\u001b[0m\n\u001b[1;32m      1\u001b[0m \u001b[0murl_ol\u001b[0m \u001b[0;34m=\u001b[0m \u001b[0;34m\"https://en.wikipedia.org/wiki/Outside_Lands_Music_and_Arts_Festival\"\u001b[0m\u001b[0;34m\u001b[0m\u001b[0m\n\u001b[0;32m----> 2\u001b[0;31m \u001b[0mresponse\u001b[0m \u001b[0;34m=\u001b[0m \u001b[0mrequests\u001b[0m\u001b[0;34m.\u001b[0m\u001b[0mget\u001b[0m\u001b[0;34m(\u001b[0m\u001b[0murl_ol\u001b[0m\u001b[0;34m)\u001b[0m\u001b[0;34m\u001b[0m\u001b[0m\n\u001b[0m\u001b[1;32m      3\u001b[0m \u001b[0mresponse\u001b[0m\u001b[0;34m.\u001b[0m\u001b[0mraise_for_status\u001b[0m\u001b[0;34m\u001b[0m\u001b[0m\n\u001b[1;32m      4\u001b[0m \u001b[0;34m\u001b[0m\u001b[0m\n\u001b[1;32m      5\u001b[0m \u001b[0mol_bs\u001b[0m \u001b[0;34m=\u001b[0m \u001b[0mBeautifulSoup\u001b[0m\u001b[0;34m(\u001b[0m\u001b[0mresponse\u001b[0m\u001b[0;34m.\u001b[0m\u001b[0mtext\u001b[0m\u001b[0;34m,\u001b[0m \u001b[0;34m'lxml'\u001b[0m\u001b[0;34m)\u001b[0m\u001b[0;34m\u001b[0m\u001b[0m\n",
      "\u001b[0;31mNameError\u001b[0m: name 'requests' is not defined"
     ]
    }
   ],
   "source": [
    "url_ol = \"https://en.wikipedia.org/wiki/Outside_Lands_Music_and_Arts_Festival\"\n",
    "response = requests.get(url_ol)\n",
    "response.raise_for_status\n",
    "\n",
    "ol_bs = BeautifulSoup(response.text, 'lxml')\n",
    "\n",
    "\n",
    "# Years are in h3\n",
    "h3 = ol_bs.find_all(name = \"h3\")\n",
    "\n",
    "ol = []\n",
    "\n",
    "for h in h3:\n",
    "    span = h.find_all(name = \"span\", attrs={\"class\":\"mw-headline\"})\n",
    "    \n",
    "    # If there is a span in the h3\n",
    "    if span:\n",
    "        year = span[0].text\n",
    "        #print year \n",
    "        \n",
    "        check_p = True\n",
    "        \n",
    "        #dates = []\n",
    "        \n",
    "        for sibling in h.find_next_siblings(limit=5):\n",
    "            \n",
    "            # Days are in h4 or p\n",
    "            if sibling.name == \"h4\":\n",
    "                #print \"h4\" + \"\\t\" + sibling.text\n",
    "                ol.append([year, sibling.text.replace(u\"\\u2013\", \"-\").replace(\"[edit]\",\"\")])\n",
    "                # If an h4 was found, stop looking for p\n",
    "                check_p = False\n",
    "                \n",
    "            elif sibling.name == \"p\" and check_p:\n",
    "                #print check_p\n",
    "                #print \"p\" + \"\\t\" + sibling.text\n",
    "                ol.append([year, sibling.text.replace(u\"\\u2013\", \"-\")])\n",
    "                # Formatting for 2011+ uses the date in a p tag\n",
    "                if \"August\" in sibling.text:\n",
    "                    break\n",
    "                \n",
    "        #print \"\\n\"\n",
    "        #ol[str(year)] = dates\n",
    "\n",
    "ol"
   ]
  },
  {
   "cell_type": "code",
   "execution_count": null,
   "metadata": {
    "collapsed": false,
    "deletable": true,
    "editable": true
   },
   "outputs": [],
   "source": [
    "# Separate the date ranges and fix the formatting\n",
    "\n",
    "ol2 = []\n",
    "for year_and_date in ol:\n",
    "    \n",
    "    date_split = year_and_date[1].split()\n",
    "    month = date_split[0]\n",
    "    if len(date_split) > 2:\n",
    "        # keep the year\n",
    "        year_and_date_new = [year_and_date[0]]\n",
    "        year_and_date_new.extend(date_split[1:])\n",
    "        ol2.append(year_and_date_new)\n",
    "    else:\n",
    "        days = date_split[1].split(\"-\")\n",
    "        for day in days:\n",
    "            # keep the year\n",
    "            year_and_date_new = [year_and_date[0]]\n",
    "            year_and_date_new.append(month)\n",
    "            year_and_date_new.append(day)\n",
    "            ol2.append(year_and_date_new)\n",
    "\n",
    "ol2"
   ]
  },
  {
   "cell_type": "code",
   "execution_count": null,
   "metadata": {
    "collapsed": false,
    "deletable": true,
    "editable": true
   },
   "outputs": [],
   "source": [
    "ol_dates = pd.to_datetime([\" \".join(date) for date in ol2])\n",
    "ol_dates"
   ]
  },
  {
   "cell_type": "markdown",
   "metadata": {
    "deletable": true,
    "editable": true
   },
   "source": [
    "# Events Plots"
   ]
  },
  {
   "cell_type": "markdown",
   "metadata": {},
   "source": [
    "We merged data about attendance scraped from the [San Francisco Pride Wikipedia Page](https://en.wikipedia.org/wiki/San_Francisco_Pride) with the requests data to find the number of requests that were submitted on the days of the parade and in the neighborhoods surrounding the parade, shown in the following table.    "
   ]
  },
  {
   "cell_type": "code",
   "execution_count": null,
   "metadata": {
    "collapsed": false
   },
   "outputs": [],
   "source": [
    "pride"
   ]
  },
  {
   "cell_type": "markdown",
   "metadata": {},
   "source": [
    "We used a scatterplot to see if there might be an association between the event attendance and the number of requests."
   ]
  },
  {
   "cell_type": "code",
   "execution_count": null,
   "metadata": {
    "collapsed": false,
    "deletable": true,
    "editable": true
   },
   "outputs": [],
   "source": [
    "pride.plot(x=\"ReqCount_y\", y=\"attendance_num_x\", kind=\"scatter\")"
   ]
  },
  {
   "cell_type": "markdown",
   "metadata": {
    "deletable": true,
    "editable": true
   },
   "source": [
    "There does not seem to be an association between the pride parade and requests in the surrounding neighborhoods.  \n",
    "We used the correlation between these variables, shown below, for confirmation:  "
   ]
  },
  {
   "cell_type": "code",
   "execution_count": null,
   "metadata": {
    "collapsed": false
   },
   "outputs": [],
   "source": [
    "pride[[\"ReqCount_y\", \"attendance_num_x\"]].corr()"
   ]
  },
  {
   "cell_type": "markdown",
   "metadata": {
    "deletable": true,
    "editable": true
   },
   "source": [
    "# Outside Lands Plot"
   ]
  },
  {
   "cell_type": "code",
   "execution_count": 56,
   "metadata": {
    "collapsed": false
   },
   "outputs": [
    {
     "data": {
      "text/html": [
       "<div>\n",
       "<table border=\"1\" class=\"dataframe\">\n",
       "  <thead>\n",
       "    <tr style=\"text-align: right;\">\n",
       "      <th></th>\n",
       "      <th>Festival_Date</th>\n",
       "    </tr>\n",
       "  </thead>\n",
       "  <tbody>\n",
       "    <tr>\n",
       "      <th>0</th>\n",
       "      <td>2008-08-22</td>\n",
       "    </tr>\n",
       "    <tr>\n",
       "      <th>1</th>\n",
       "      <td>2008-08-23</td>\n",
       "    </tr>\n",
       "    <tr>\n",
       "      <th>2</th>\n",
       "      <td>2008-08-24</td>\n",
       "    </tr>\n",
       "    <tr>\n",
       "      <th>3</th>\n",
       "      <td>2009-08-28</td>\n",
       "    </tr>\n",
       "    <tr>\n",
       "      <th>4</th>\n",
       "      <td>2009-08-29</td>\n",
       "    </tr>\n",
       "    <tr>\n",
       "      <th>5</th>\n",
       "      <td>2010-08-14</td>\n",
       "    </tr>\n",
       "    <tr>\n",
       "      <th>6</th>\n",
       "      <td>2010-08-15</td>\n",
       "    </tr>\n",
       "    <tr>\n",
       "      <th>7</th>\n",
       "      <td>2011-08-12</td>\n",
       "    </tr>\n",
       "    <tr>\n",
       "      <th>8</th>\n",
       "      <td>2011-08-14</td>\n",
       "    </tr>\n",
       "    <tr>\n",
       "      <th>9</th>\n",
       "      <td>2012-08-10</td>\n",
       "    </tr>\n",
       "    <tr>\n",
       "      <th>10</th>\n",
       "      <td>2012-08-12</td>\n",
       "    </tr>\n",
       "    <tr>\n",
       "      <th>11</th>\n",
       "      <td>2013-08-09</td>\n",
       "    </tr>\n",
       "    <tr>\n",
       "      <th>12</th>\n",
       "      <td>2013-08-11</td>\n",
       "    </tr>\n",
       "    <tr>\n",
       "      <th>13</th>\n",
       "      <td>2014-08-08</td>\n",
       "    </tr>\n",
       "    <tr>\n",
       "      <th>14</th>\n",
       "      <td>2014-08-10</td>\n",
       "    </tr>\n",
       "    <tr>\n",
       "      <th>15</th>\n",
       "      <td>2015-08-07</td>\n",
       "    </tr>\n",
       "    <tr>\n",
       "      <th>16</th>\n",
       "      <td>2015-08-09</td>\n",
       "    </tr>\n",
       "    <tr>\n",
       "      <th>17</th>\n",
       "      <td>2016-08-05</td>\n",
       "    </tr>\n",
       "    <tr>\n",
       "      <th>18</th>\n",
       "      <td>2016-08-09</td>\n",
       "    </tr>\n",
       "  </tbody>\n",
       "</table>\n",
       "</div>"
      ],
      "text/plain": [
       "   Festival_Date\n",
       "0     2008-08-22\n",
       "1     2008-08-23\n",
       "2     2008-08-24\n",
       "3     2009-08-28\n",
       "4     2009-08-29\n",
       "5     2010-08-14\n",
       "6     2010-08-15\n",
       "7     2011-08-12\n",
       "8     2011-08-14\n",
       "9     2012-08-10\n",
       "10    2012-08-12\n",
       "11    2013-08-09\n",
       "12    2013-08-11\n",
       "13    2014-08-08\n",
       "14    2014-08-10\n",
       "15    2015-08-07\n",
       "16    2015-08-09\n",
       "17    2016-08-05\n",
       "18    2016-08-09"
      ]
     },
     "execution_count": 56,
     "metadata": {},
     "output_type": "execute_result"
    }
   ],
   "source": [
    "ol_dates_df = pd.DataFrame.from_csv(\"ol_dates.csv\", parse_dates=[\"Festival_Date\"])\n",
    "ol_dates_df"
   ]
  },
  {
   "cell_type": "code",
   "execution_count": 57,
   "metadata": {
    "collapsed": false,
    "deletable": true,
    "editable": true
   },
   "outputs": [
    {
     "data": {
      "text/plain": [
       "DatetimeIndex(['2008-08-22', '2008-08-23', '2008-08-24', '2009-08-28',\n",
       "               '2009-08-29', '2010-08-14', '2010-08-15', '2011-08-12',\n",
       "               '2011-08-14', '2012-08-10', '2012-08-12', '2013-08-09',\n",
       "               '2013-08-11', '2014-08-08', '2014-08-10', '2015-08-07',\n",
       "               '2015-08-09', '2016-08-05', '2016-08-09'],\n",
       "              dtype='datetime64[ns]', name=u'Festival_Date', freq=None)"
      ]
     },
     "execution_count": 57,
     "metadata": {},
     "output_type": "execute_result"
    }
   ],
   "source": [
    "ol_dates = pd.DatetimeIndex(ol_dates_df.Festival_Date)\n",
    "ol_dates"
   ]
  },
  {
   "cell_type": "code",
   "execution_count": 58,
   "metadata": {
    "collapsed": false,
    "deletable": true,
    "editable": true
   },
   "outputs": [
    {
     "name": "stderr",
     "output_type": "stream",
     "text": [
      "/home/tgordon/.local/lib/python2.7/site-packages/ipykernel/__main__.py:2: SettingWithCopyWarning: \n",
      "A value is trying to be set on a copy of a slice from a DataFrame.\n",
      "Try using .loc[row_indexer,col_indexer] = value instead\n",
      "\n",
      "See the caveats in the documentation: http://pandas.pydata.org/pandas-docs/stable/indexing.html#indexing-view-versus-copy\n",
      "  from ipykernel import kernelapp as app\n"
     ]
    }
   ],
   "source": [
    "AugustRequests = street.loc[street[\"Opened\"].dt.month == 8]\n",
    "AugustRequests[\"DateOpened\"] = AugustRequests[\"Opened\"].dt.date # Yells at you\n",
    "OLNeighs = [\"Golden Gate Park\"]\n",
    "AugustRequests = AugustRequests.loc[AugustRequests.Neighborhood.isin(OLNeighs)]"
   ]
  },
  {
   "cell_type": "code",
   "execution_count": 64,
   "metadata": {
    "collapsed": false,
    "deletable": true,
    "editable": true
   },
   "outputs": [
    {
     "data": {
      "text/plain": [
       "datetime.date"
      ]
     },
     "execution_count": 64,
     "metadata": {},
     "output_type": "execute_result"
    }
   ],
   "source": [
    "type(AugustRequests[\"DateOpened\"].values[0])"
   ]
  },
  {
   "cell_type": "code",
   "execution_count": 60,
   "metadata": {
    "collapsed": false,
    "deletable": true,
    "editable": true
   },
   "outputs": [
    {
     "data": {
      "text/plain": [
       "pandas.tslib.Timestamp"
      ]
     },
     "execution_count": 60,
     "metadata": {},
     "output_type": "execute_result"
    }
   ],
   "source": [
    "type(ol_dates[0])"
   ]
  },
  {
   "cell_type": "code",
   "execution_count": 65,
   "metadata": {
    "collapsed": false,
    "deletable": true,
    "editable": true
   },
   "outputs": [],
   "source": [
    "ol_dt = [d.date() for d in ol_dates]"
   ]
  },
  {
   "cell_type": "code",
   "execution_count": 66,
   "metadata": {
    "collapsed": false,
    "deletable": true,
    "editable": true
   },
   "outputs": [
    {
     "data": {
      "text/html": [
       "<div>\n",
       "<table border=\"1\" class=\"dataframe\">\n",
       "  <thead>\n",
       "    <tr style=\"text-align: right;\">\n",
       "      <th></th>\n",
       "      <th>CaseID</th>\n",
       "      <th>Opened</th>\n",
       "      <th>Closed</th>\n",
       "      <th>Status</th>\n",
       "      <th>Responsible Agency</th>\n",
       "      <th>Address</th>\n",
       "      <th>Category</th>\n",
       "      <th>Request Type</th>\n",
       "      <th>Request Details</th>\n",
       "      <th>Source</th>\n",
       "      <th>...</th>\n",
       "      <th>Males</th>\n",
       "      <th>MedAgeF</th>\n",
       "      <th>MedAgeM</th>\n",
       "      <th>MedHouseholdIncome</th>\n",
       "      <th>MedRent</th>\n",
       "      <th>PeoplePerSqMi</th>\n",
       "      <th>Population</th>\n",
       "      <th>month</th>\n",
       "      <th>year</th>\n",
       "      <th>DateOpened</th>\n",
       "    </tr>\n",
       "  </thead>\n",
       "  <tbody>\n",
       "    <tr>\n",
       "      <th>12054</th>\n",
       "      <td>269950</td>\n",
       "      <td>2008-08-24 18:46:00</td>\n",
       "      <td>2008-08-25 06:04:00</td>\n",
       "      <td>Closed</td>\n",
       "      <td>DPW Ops Queue</td>\n",
       "      <td>Intersection of 33RD AVE and FULTON ST</td>\n",
       "      <td>Street and Sidewalk Cleaning</td>\n",
       "      <td>Illegal_Dumping</td>\n",
       "      <td>Electronics_w_monitor_under_21_inches</td>\n",
       "      <td>Voice In</td>\n",
       "      <td>...</td>\n",
       "      <td>58.0</td>\n",
       "      <td>37.9</td>\n",
       "      <td>37.7</td>\n",
       "      <td>57937.0</td>\n",
       "      <td>1303.0</td>\n",
       "      <td>76.0</td>\n",
       "      <td>125.0</td>\n",
       "      <td>8</td>\n",
       "      <td>2008</td>\n",
       "      <td>2008-08-24</td>\n",
       "    </tr>\n",
       "    <tr>\n",
       "      <th>12109</th>\n",
       "      <td>269736</td>\n",
       "      <td>2008-08-24 06:46:00</td>\n",
       "      <td>2008-08-27 06:05:00</td>\n",
       "      <td>Closed</td>\n",
       "      <td>DPW Ops Queue</td>\n",
       "      <td>Intersection of 33RD AVE and FULTON ST</td>\n",
       "      <td>Street and Sidewalk Cleaning</td>\n",
       "      <td>Street_Cleaning</td>\n",
       "      <td>Mattress</td>\n",
       "      <td>Voice In</td>\n",
       "      <td>...</td>\n",
       "      <td>58.0</td>\n",
       "      <td>37.9</td>\n",
       "      <td>37.7</td>\n",
       "      <td>57937.0</td>\n",
       "      <td>1303.0</td>\n",
       "      <td>76.0</td>\n",
       "      <td>125.0</td>\n",
       "      <td>8</td>\n",
       "      <td>2008</td>\n",
       "      <td>2008-08-24</td>\n",
       "    </tr>\n",
       "    <tr>\n",
       "      <th>12196</th>\n",
       "      <td>269360</td>\n",
       "      <td>2008-08-23 08:22:00</td>\n",
       "      <td>2008-08-29 06:05:00</td>\n",
       "      <td>Closed</td>\n",
       "      <td>DPW Ops Queue</td>\n",
       "      <td>Intersection of 38TH AVE and FULTON ST</td>\n",
       "      <td>Street and Sidewalk Cleaning</td>\n",
       "      <td>Illegal_Dumping</td>\n",
       "      <td>Garbage</td>\n",
       "      <td>Voice In</td>\n",
       "      <td>...</td>\n",
       "      <td>58.0</td>\n",
       "      <td>37.9</td>\n",
       "      <td>37.7</td>\n",
       "      <td>57937.0</td>\n",
       "      <td>1303.0</td>\n",
       "      <td>76.0</td>\n",
       "      <td>125.0</td>\n",
       "      <td>8</td>\n",
       "      <td>2008</td>\n",
       "      <td>2008-08-23</td>\n",
       "    </tr>\n",
       "    <tr>\n",
       "      <th>12220</th>\n",
       "      <td>269240</td>\n",
       "      <td>2008-08-22 19:39:00</td>\n",
       "      <td>2008-08-26 16:05:00</td>\n",
       "      <td>Closed</td>\n",
       "      <td>DPW Ops Queue</td>\n",
       "      <td>Intersection of 33RD AVE and FULTON ST</td>\n",
       "      <td>Street and Sidewalk Cleaning</td>\n",
       "      <td>Illegal_Dumping</td>\n",
       "      <td>Furniture</td>\n",
       "      <td>Voice In</td>\n",
       "      <td>...</td>\n",
       "      <td>58.0</td>\n",
       "      <td>37.9</td>\n",
       "      <td>37.7</td>\n",
       "      <td>57937.0</td>\n",
       "      <td>1303.0</td>\n",
       "      <td>76.0</td>\n",
       "      <td>125.0</td>\n",
       "      <td>8</td>\n",
       "      <td>2008</td>\n",
       "      <td>2008-08-22</td>\n",
       "    </tr>\n",
       "    <tr>\n",
       "      <th>12238</th>\n",
       "      <td>269129</td>\n",
       "      <td>2008-08-22 16:14:00</td>\n",
       "      <td>2008-08-25 09:23:00</td>\n",
       "      <td>Closed</td>\n",
       "      <td>RecPark Work Queue</td>\n",
       "      <td>Intersection of 36TH AVE and FULTON ST</td>\n",
       "      <td>Street and Sidewalk Cleaning</td>\n",
       "      <td>Overflowing_City_Receptacle_or_Dumpster</td>\n",
       "      <td>Overflowing_City_Receptacle_or_Dumpster</td>\n",
       "      <td>Voice In</td>\n",
       "      <td>...</td>\n",
       "      <td>58.0</td>\n",
       "      <td>37.9</td>\n",
       "      <td>37.7</td>\n",
       "      <td>57937.0</td>\n",
       "      <td>1303.0</td>\n",
       "      <td>76.0</td>\n",
       "      <td>125.0</td>\n",
       "      <td>8</td>\n",
       "      <td>2008</td>\n",
       "      <td>2008-08-22</td>\n",
       "    </tr>\n",
       "    <tr>\n",
       "      <th>44298</th>\n",
       "      <td>495991</td>\n",
       "      <td>2009-08-29 23:39:54</td>\n",
       "      <td>2009-09-08 07:11:14</td>\n",
       "      <td>Closed</td>\n",
       "      <td>DPW Ops Queue</td>\n",
       "      <td>Intersection of 36TH AVE and FULTON ST</td>\n",
       "      <td>Street and Sidewalk Cleaning</td>\n",
       "      <td>Sidewalk_Cleaning</td>\n",
       "      <td>Garbage</td>\n",
       "      <td>Voice In</td>\n",
       "      <td>...</td>\n",
       "      <td>58.0</td>\n",
       "      <td>37.9</td>\n",
       "      <td>37.7</td>\n",
       "      <td>57937.0</td>\n",
       "      <td>1303.0</td>\n",
       "      <td>76.0</td>\n",
       "      <td>125.0</td>\n",
       "      <td>8</td>\n",
       "      <td>2009</td>\n",
       "      <td>2009-08-29</td>\n",
       "    </tr>\n",
       "    <tr>\n",
       "      <th>44392</th>\n",
       "      <td>495616</td>\n",
       "      <td>2009-08-29 01:47:56</td>\n",
       "      <td>2009-08-29 06:11:13</td>\n",
       "      <td>Closed</td>\n",
       "      <td>DPW Ops Queue</td>\n",
       "      <td>Intersection of 20TH AVE and LINCOLN WAY</td>\n",
       "      <td>Street and Sidewalk Cleaning</td>\n",
       "      <td>Street_Cleaning</td>\n",
       "      <td>Street_Cleaning</td>\n",
       "      <td>Voice In</td>\n",
       "      <td>...</td>\n",
       "      <td>58.0</td>\n",
       "      <td>37.9</td>\n",
       "      <td>37.7</td>\n",
       "      <td>57937.0</td>\n",
       "      <td>1303.0</td>\n",
       "      <td>76.0</td>\n",
       "      <td>125.0</td>\n",
       "      <td>8</td>\n",
       "      <td>2009</td>\n",
       "      <td>2009-08-29</td>\n",
       "    </tr>\n",
       "    <tr>\n",
       "      <th>123260</th>\n",
       "      <td>713505</td>\n",
       "      <td>2010-08-15 09:32:01</td>\n",
       "      <td>2010-08-16 13:19:07</td>\n",
       "      <td>Closed</td>\n",
       "      <td>DPW Ops Queue</td>\n",
       "      <td>Intersection of 9TH AVE and LINCOLN WAY</td>\n",
       "      <td>Street and Sidewalk Cleaning</td>\n",
       "      <td>Street_Cleaning</td>\n",
       "      <td>Street_Cleaning</td>\n",
       "      <td>Voice In</td>\n",
       "      <td>...</td>\n",
       "      <td>58.0</td>\n",
       "      <td>37.9</td>\n",
       "      <td>37.7</td>\n",
       "      <td>57937.0</td>\n",
       "      <td>1303.0</td>\n",
       "      <td>76.0</td>\n",
       "      <td>125.0</td>\n",
       "      <td>8</td>\n",
       "      <td>2010</td>\n",
       "      <td>2010-08-15</td>\n",
       "    </tr>\n",
       "    <tr>\n",
       "      <th>156861</th>\n",
       "      <td>940673</td>\n",
       "      <td>2011-08-14 16:54:19</td>\n",
       "      <td>2011-08-16 18:06:08</td>\n",
       "      <td>Closed</td>\n",
       "      <td>DPW Ops Queue</td>\n",
       "      <td>Intersection of 25TH AVE and FULTON ST</td>\n",
       "      <td>Street and Sidewalk Cleaning</td>\n",
       "      <td>Sidewalk_Cleaning</td>\n",
       "      <td>Mattress</td>\n",
       "      <td>Voice In</td>\n",
       "      <td>...</td>\n",
       "      <td>58.0</td>\n",
       "      <td>37.9</td>\n",
       "      <td>37.7</td>\n",
       "      <td>57937.0</td>\n",
       "      <td>1303.0</td>\n",
       "      <td>76.0</td>\n",
       "      <td>125.0</td>\n",
       "      <td>8</td>\n",
       "      <td>2011</td>\n",
       "      <td>2011-08-14</td>\n",
       "    </tr>\n",
       "    <tr>\n",
       "      <th>157127</th>\n",
       "      <td>939648</td>\n",
       "      <td>2011-08-12 13:22:16</td>\n",
       "      <td>2011-08-18 07:06:02</td>\n",
       "      <td>Closed</td>\n",
       "      <td>DPW Ops Queue</td>\n",
       "      <td>Intersection of 16TH AVE and LINCOLN WAY</td>\n",
       "      <td>Street and Sidewalk Cleaning</td>\n",
       "      <td>Sidewalk_Cleaning</td>\n",
       "      <td>Furniture</td>\n",
       "      <td>Voice In</td>\n",
       "      <td>...</td>\n",
       "      <td>58.0</td>\n",
       "      <td>37.9</td>\n",
       "      <td>37.7</td>\n",
       "      <td>57937.0</td>\n",
       "      <td>1303.0</td>\n",
       "      <td>76.0</td>\n",
       "      <td>125.0</td>\n",
       "      <td>8</td>\n",
       "      <td>2011</td>\n",
       "      <td>2011-08-12</td>\n",
       "    </tr>\n",
       "    <tr>\n",
       "      <th>322099</th>\n",
       "      <td>2695800</td>\n",
       "      <td>2013-08-09 11:15:47</td>\n",
       "      <td>2013-08-09 16:32:14</td>\n",
       "      <td>Closed</td>\n",
       "      <td>Recology_Abandoned</td>\n",
       "      <td>Intersection of 18TH AVE and LINCOLN WAY</td>\n",
       "      <td>Street and Sidewalk Cleaning</td>\n",
       "      <td>Bulky Items</td>\n",
       "      <td>Refrigerator</td>\n",
       "      <td>Integrated Agency</td>\n",
       "      <td>...</td>\n",
       "      <td>58.0</td>\n",
       "      <td>37.9</td>\n",
       "      <td>37.7</td>\n",
       "      <td>57937.0</td>\n",
       "      <td>1303.0</td>\n",
       "      <td>76.0</td>\n",
       "      <td>125.0</td>\n",
       "      <td>8</td>\n",
       "      <td>2013</td>\n",
       "      <td>2013-08-09</td>\n",
       "    </tr>\n",
       "    <tr>\n",
       "      <th>322126</th>\n",
       "      <td>2695419</td>\n",
       "      <td>2013-08-09 10:10:58</td>\n",
       "      <td>2013-08-09 14:01:34</td>\n",
       "      <td>Closed</td>\n",
       "      <td>Recology_Abandoned</td>\n",
       "      <td>Intersection of 23RD AVE and LINCOLN WAY</td>\n",
       "      <td>Street and Sidewalk Cleaning</td>\n",
       "      <td>General Cleaning</td>\n",
       "      <td>Other Loose Garbage</td>\n",
       "      <td>Voice In</td>\n",
       "      <td>...</td>\n",
       "      <td>58.0</td>\n",
       "      <td>37.9</td>\n",
       "      <td>37.7</td>\n",
       "      <td>57937.0</td>\n",
       "      <td>1303.0</td>\n",
       "      <td>76.0</td>\n",
       "      <td>125.0</td>\n",
       "      <td>8</td>\n",
       "      <td>2013</td>\n",
       "      <td>2013-08-09</td>\n",
       "    </tr>\n",
       "    <tr>\n",
       "      <th>322127</th>\n",
       "      <td>2695371</td>\n",
       "      <td>2013-08-09 10:01:10</td>\n",
       "      <td>2013-08-09 14:02:06</td>\n",
       "      <td>Closed</td>\n",
       "      <td>Recology_Abandoned</td>\n",
       "      <td>Intersection of 14TH AVE and FULTON ST</td>\n",
       "      <td>Street and Sidewalk Cleaning</td>\n",
       "      <td>Bulky Items</td>\n",
       "      <td>Refrigerator</td>\n",
       "      <td>Integrated Agency</td>\n",
       "      <td>...</td>\n",
       "      <td>58.0</td>\n",
       "      <td>37.9</td>\n",
       "      <td>37.7</td>\n",
       "      <td>57937.0</td>\n",
       "      <td>1303.0</td>\n",
       "      <td>76.0</td>\n",
       "      <td>125.0</td>\n",
       "      <td>8</td>\n",
       "      <td>2013</td>\n",
       "      <td>2013-08-09</td>\n",
       "    </tr>\n",
       "    <tr>\n",
       "      <th>322165</th>\n",
       "      <td>2694859</td>\n",
       "      <td>2013-08-09 08:05:03</td>\n",
       "      <td>2013-08-09 15:09:24</td>\n",
       "      <td>Closed</td>\n",
       "      <td>Recology_Abandoned</td>\n",
       "      <td>Intersection of 30TH AVE and LINCOLN WAY</td>\n",
       "      <td>Street and Sidewalk Cleaning</td>\n",
       "      <td>Bulky Items</td>\n",
       "      <td>Electronics</td>\n",
       "      <td>Voice In</td>\n",
       "      <td>...</td>\n",
       "      <td>58.0</td>\n",
       "      <td>37.9</td>\n",
       "      <td>37.7</td>\n",
       "      <td>57937.0</td>\n",
       "      <td>1303.0</td>\n",
       "      <td>76.0</td>\n",
       "      <td>125.0</td>\n",
       "      <td>8</td>\n",
       "      <td>2013</td>\n",
       "      <td>2013-08-09</td>\n",
       "    </tr>\n",
       "    <tr>\n",
       "      <th>459407</th>\n",
       "      <td>6161504</td>\n",
       "      <td>2016-08-05 11:39:50</td>\n",
       "      <td>2016-08-05 12:49:10</td>\n",
       "      <td>Closed</td>\n",
       "      <td>Recology_Abandoned</td>\n",
       "      <td>Intersection of 23RD AVE and LINCOLN WAY</td>\n",
       "      <td>Street and Sidewalk Cleaning</td>\n",
       "      <td>Bulky Items</td>\n",
       "      <td>Refrigerator</td>\n",
       "      <td>Integrated Agency</td>\n",
       "      <td>...</td>\n",
       "      <td>58.0</td>\n",
       "      <td>37.9</td>\n",
       "      <td>37.7</td>\n",
       "      <td>57937.0</td>\n",
       "      <td>1303.0</td>\n",
       "      <td>76.0</td>\n",
       "      <td>125.0</td>\n",
       "      <td>8</td>\n",
       "      <td>2016</td>\n",
       "      <td>2016-08-05</td>\n",
       "    </tr>\n",
       "    <tr>\n",
       "      <th>558711</th>\n",
       "      <td>3905334</td>\n",
       "      <td>2014-08-10 19:18:51</td>\n",
       "      <td>2014-08-11 10:12:05</td>\n",
       "      <td>Closed</td>\n",
       "      <td>Recology_Abandoned</td>\n",
       "      <td>Intersection of FULTON ST and 33RD AVE</td>\n",
       "      <td>Street and Sidewalk Cleaning</td>\n",
       "      <td>General Cleaning</td>\n",
       "      <td>Other Loose Garbage</td>\n",
       "      <td>Voice In</td>\n",
       "      <td>...</td>\n",
       "      <td>58.0</td>\n",
       "      <td>37.9</td>\n",
       "      <td>37.7</td>\n",
       "      <td>57937.0</td>\n",
       "      <td>1303.0</td>\n",
       "      <td>76.0</td>\n",
       "      <td>125.0</td>\n",
       "      <td>8</td>\n",
       "      <td>2014</td>\n",
       "      <td>2014-08-10</td>\n",
       "    </tr>\n",
       "    <tr>\n",
       "      <th>559153</th>\n",
       "      <td>3899282</td>\n",
       "      <td>2014-08-08 12:22:15</td>\n",
       "      <td>2014-08-08 12:54:39</td>\n",
       "      <td>Closed</td>\n",
       "      <td>Recology_Abandoned</td>\n",
       "      <td>Intersection of LINCOLN WAY and 16TH AVE</td>\n",
       "      <td>Street and Sidewalk Cleaning</td>\n",
       "      <td>Bulky Items</td>\n",
       "      <td>Furniture</td>\n",
       "      <td>Web Self Service</td>\n",
       "      <td>...</td>\n",
       "      <td>58.0</td>\n",
       "      <td>37.9</td>\n",
       "      <td>37.7</td>\n",
       "      <td>57937.0</td>\n",
       "      <td>1303.0</td>\n",
       "      <td>76.0</td>\n",
       "      <td>125.0</td>\n",
       "      <td>8</td>\n",
       "      <td>2014</td>\n",
       "      <td>2014-08-08</td>\n",
       "    </tr>\n",
       "    <tr>\n",
       "      <th>559164</th>\n",
       "      <td>3899248</td>\n",
       "      <td>2014-08-08 12:12:03</td>\n",
       "      <td>2014-08-08 12:30:20</td>\n",
       "      <td>Closed</td>\n",
       "      <td>Recology_Abandoned</td>\n",
       "      <td>Intersection of 23RD AVE and LINCOLN WAY</td>\n",
       "      <td>Street and Sidewalk Cleaning</td>\n",
       "      <td>Bulky Items</td>\n",
       "      <td>Mattress</td>\n",
       "      <td>Voice In</td>\n",
       "      <td>...</td>\n",
       "      <td>58.0</td>\n",
       "      <td>37.9</td>\n",
       "      <td>37.7</td>\n",
       "      <td>57937.0</td>\n",
       "      <td>1303.0</td>\n",
       "      <td>76.0</td>\n",
       "      <td>125.0</td>\n",
       "      <td>8</td>\n",
       "      <td>2014</td>\n",
       "      <td>2014-08-08</td>\n",
       "    </tr>\n",
       "    <tr>\n",
       "      <th>649150</th>\n",
       "      <td>4977794</td>\n",
       "      <td>2015-08-07 21:56:33</td>\n",
       "      <td>2015-08-08 03:00:30</td>\n",
       "      <td>Closed</td>\n",
       "      <td>DPW Ops Queue</td>\n",
       "      <td>Intersection of KEZAR DR and WALLER ST</td>\n",
       "      <td>Street and Sidewalk Cleaning</td>\n",
       "      <td>Illegal Encampment</td>\n",
       "      <td>Storage</td>\n",
       "      <td>Voice In</td>\n",
       "      <td>...</td>\n",
       "      <td>58.0</td>\n",
       "      <td>37.9</td>\n",
       "      <td>37.7</td>\n",
       "      <td>57937.0</td>\n",
       "      <td>1303.0</td>\n",
       "      <td>76.0</td>\n",
       "      <td>125.0</td>\n",
       "      <td>8</td>\n",
       "      <td>2015</td>\n",
       "      <td>2015-08-07</td>\n",
       "    </tr>\n",
       "  </tbody>\n",
       "</table>\n",
       "<p>19 rows × 27 columns</p>\n",
       "</div>"
      ],
      "text/plain": [
       "         CaseID              Opened              Closed  Status  \\\n",
       "12054    269950 2008-08-24 18:46:00 2008-08-25 06:04:00  Closed   \n",
       "12109    269736 2008-08-24 06:46:00 2008-08-27 06:05:00  Closed   \n",
       "12196    269360 2008-08-23 08:22:00 2008-08-29 06:05:00  Closed   \n",
       "12220    269240 2008-08-22 19:39:00 2008-08-26 16:05:00  Closed   \n",
       "12238    269129 2008-08-22 16:14:00 2008-08-25 09:23:00  Closed   \n",
       "44298    495991 2009-08-29 23:39:54 2009-09-08 07:11:14  Closed   \n",
       "44392    495616 2009-08-29 01:47:56 2009-08-29 06:11:13  Closed   \n",
       "123260   713505 2010-08-15 09:32:01 2010-08-16 13:19:07  Closed   \n",
       "156861   940673 2011-08-14 16:54:19 2011-08-16 18:06:08  Closed   \n",
       "157127   939648 2011-08-12 13:22:16 2011-08-18 07:06:02  Closed   \n",
       "322099  2695800 2013-08-09 11:15:47 2013-08-09 16:32:14  Closed   \n",
       "322126  2695419 2013-08-09 10:10:58 2013-08-09 14:01:34  Closed   \n",
       "322127  2695371 2013-08-09 10:01:10 2013-08-09 14:02:06  Closed   \n",
       "322165  2694859 2013-08-09 08:05:03 2013-08-09 15:09:24  Closed   \n",
       "459407  6161504 2016-08-05 11:39:50 2016-08-05 12:49:10  Closed   \n",
       "558711  3905334 2014-08-10 19:18:51 2014-08-11 10:12:05  Closed   \n",
       "559153  3899282 2014-08-08 12:22:15 2014-08-08 12:54:39  Closed   \n",
       "559164  3899248 2014-08-08 12:12:03 2014-08-08 12:30:20  Closed   \n",
       "649150  4977794 2015-08-07 21:56:33 2015-08-08 03:00:30  Closed   \n",
       "\n",
       "        Responsible Agency                                   Address  \\\n",
       "12054        DPW Ops Queue    Intersection of 33RD AVE and FULTON ST   \n",
       "12109        DPW Ops Queue    Intersection of 33RD AVE and FULTON ST   \n",
       "12196        DPW Ops Queue    Intersection of 38TH AVE and FULTON ST   \n",
       "12220        DPW Ops Queue    Intersection of 33RD AVE and FULTON ST   \n",
       "12238   RecPark Work Queue    Intersection of 36TH AVE and FULTON ST   \n",
       "44298        DPW Ops Queue    Intersection of 36TH AVE and FULTON ST   \n",
       "44392        DPW Ops Queue  Intersection of 20TH AVE and LINCOLN WAY   \n",
       "123260       DPW Ops Queue   Intersection of 9TH AVE and LINCOLN WAY   \n",
       "156861       DPW Ops Queue    Intersection of 25TH AVE and FULTON ST   \n",
       "157127       DPW Ops Queue  Intersection of 16TH AVE and LINCOLN WAY   \n",
       "322099  Recology_Abandoned  Intersection of 18TH AVE and LINCOLN WAY   \n",
       "322126  Recology_Abandoned  Intersection of 23RD AVE and LINCOLN WAY   \n",
       "322127  Recology_Abandoned    Intersection of 14TH AVE and FULTON ST   \n",
       "322165  Recology_Abandoned  Intersection of 30TH AVE and LINCOLN WAY   \n",
       "459407  Recology_Abandoned  Intersection of 23RD AVE and LINCOLN WAY   \n",
       "558711  Recology_Abandoned    Intersection of FULTON ST and 33RD AVE   \n",
       "559153  Recology_Abandoned  Intersection of LINCOLN WAY and 16TH AVE   \n",
       "559164  Recology_Abandoned  Intersection of 23RD AVE and LINCOLN WAY   \n",
       "649150       DPW Ops Queue    Intersection of KEZAR DR and WALLER ST   \n",
       "\n",
       "                            Category                             Request Type  \\\n",
       "12054   Street and Sidewalk Cleaning                          Illegal_Dumping   \n",
       "12109   Street and Sidewalk Cleaning                          Street_Cleaning   \n",
       "12196   Street and Sidewalk Cleaning                          Illegal_Dumping   \n",
       "12220   Street and Sidewalk Cleaning                          Illegal_Dumping   \n",
       "12238   Street and Sidewalk Cleaning  Overflowing_City_Receptacle_or_Dumpster   \n",
       "44298   Street and Sidewalk Cleaning                        Sidewalk_Cleaning   \n",
       "44392   Street and Sidewalk Cleaning                          Street_Cleaning   \n",
       "123260  Street and Sidewalk Cleaning                          Street_Cleaning   \n",
       "156861  Street and Sidewalk Cleaning                        Sidewalk_Cleaning   \n",
       "157127  Street and Sidewalk Cleaning                        Sidewalk_Cleaning   \n",
       "322099  Street and Sidewalk Cleaning                              Bulky Items   \n",
       "322126  Street and Sidewalk Cleaning                         General Cleaning   \n",
       "322127  Street and Sidewalk Cleaning                              Bulky Items   \n",
       "322165  Street and Sidewalk Cleaning                              Bulky Items   \n",
       "459407  Street and Sidewalk Cleaning                              Bulky Items   \n",
       "558711  Street and Sidewalk Cleaning                         General Cleaning   \n",
       "559153  Street and Sidewalk Cleaning                              Bulky Items   \n",
       "559164  Street and Sidewalk Cleaning                              Bulky Items   \n",
       "649150  Street and Sidewalk Cleaning                       Illegal Encampment   \n",
       "\n",
       "                                Request Details             Source  \\\n",
       "12054     Electronics_w_monitor_under_21_inches           Voice In   \n",
       "12109                                  Mattress           Voice In   \n",
       "12196                                   Garbage           Voice In   \n",
       "12220                                 Furniture           Voice In   \n",
       "12238   Overflowing_City_Receptacle_or_Dumpster           Voice In   \n",
       "44298                                   Garbage           Voice In   \n",
       "44392                           Street_Cleaning           Voice In   \n",
       "123260                          Street_Cleaning           Voice In   \n",
       "156861                                 Mattress           Voice In   \n",
       "157127                                Furniture           Voice In   \n",
       "322099                             Refrigerator  Integrated Agency   \n",
       "322126                      Other Loose Garbage           Voice In   \n",
       "322127                             Refrigerator  Integrated Agency   \n",
       "322165                              Electronics           Voice In   \n",
       "459407                             Refrigerator  Integrated Agency   \n",
       "558711                      Other Loose Garbage           Voice In   \n",
       "559153                                Furniture   Web Self Service   \n",
       "559164                                 Mattress           Voice In   \n",
       "649150                                  Storage           Voice In   \n",
       "\n",
       "           ...      Males MedAgeF MedAgeM MedHouseholdIncome  MedRent  \\\n",
       "12054      ...       58.0    37.9    37.7            57937.0   1303.0   \n",
       "12109      ...       58.0    37.9    37.7            57937.0   1303.0   \n",
       "12196      ...       58.0    37.9    37.7            57937.0   1303.0   \n",
       "12220      ...       58.0    37.9    37.7            57937.0   1303.0   \n",
       "12238      ...       58.0    37.9    37.7            57937.0   1303.0   \n",
       "44298      ...       58.0    37.9    37.7            57937.0   1303.0   \n",
       "44392      ...       58.0    37.9    37.7            57937.0   1303.0   \n",
       "123260     ...       58.0    37.9    37.7            57937.0   1303.0   \n",
       "156861     ...       58.0    37.9    37.7            57937.0   1303.0   \n",
       "157127     ...       58.0    37.9    37.7            57937.0   1303.0   \n",
       "322099     ...       58.0    37.9    37.7            57937.0   1303.0   \n",
       "322126     ...       58.0    37.9    37.7            57937.0   1303.0   \n",
       "322127     ...       58.0    37.9    37.7            57937.0   1303.0   \n",
       "322165     ...       58.0    37.9    37.7            57937.0   1303.0   \n",
       "459407     ...       58.0    37.9    37.7            57937.0   1303.0   \n",
       "558711     ...       58.0    37.9    37.7            57937.0   1303.0   \n",
       "559153     ...       58.0    37.9    37.7            57937.0   1303.0   \n",
       "559164     ...       58.0    37.9    37.7            57937.0   1303.0   \n",
       "649150     ...       58.0    37.9    37.7            57937.0   1303.0   \n",
       "\n",
       "        PeoplePerSqMi  Population  month  year  DateOpened  \n",
       "12054            76.0       125.0      8  2008  2008-08-24  \n",
       "12109            76.0       125.0      8  2008  2008-08-24  \n",
       "12196            76.0       125.0      8  2008  2008-08-23  \n",
       "12220            76.0       125.0      8  2008  2008-08-22  \n",
       "12238            76.0       125.0      8  2008  2008-08-22  \n",
       "44298            76.0       125.0      8  2009  2009-08-29  \n",
       "44392            76.0       125.0      8  2009  2009-08-29  \n",
       "123260           76.0       125.0      8  2010  2010-08-15  \n",
       "156861           76.0       125.0      8  2011  2011-08-14  \n",
       "157127           76.0       125.0      8  2011  2011-08-12  \n",
       "322099           76.0       125.0      8  2013  2013-08-09  \n",
       "322126           76.0       125.0      8  2013  2013-08-09  \n",
       "322127           76.0       125.0      8  2013  2013-08-09  \n",
       "322165           76.0       125.0      8  2013  2013-08-09  \n",
       "459407           76.0       125.0      8  2016  2016-08-05  \n",
       "558711           76.0       125.0      8  2014  2014-08-10  \n",
       "559153           76.0       125.0      8  2014  2014-08-08  \n",
       "559164           76.0       125.0      8  2014  2014-08-08  \n",
       "649150           76.0       125.0      8  2015  2015-08-07  \n",
       "\n",
       "[19 rows x 27 columns]"
      ]
     },
     "execution_count": 66,
     "metadata": {},
     "output_type": "execute_result"
    }
   ],
   "source": [
    "AugustRequests[AugustRequests.DateOpened.isin(ol_dt)]"
   ]
  },
  {
   "cell_type": "markdown",
   "metadata": {
    "deletable": true,
    "editable": true
   },
   "source": [
    "todo: compare to normal # of requests"
   ]
  },
  {
   "cell_type": "code",
   "execution_count": null,
   "metadata": {
    "collapsed": true,
    "deletable": true,
    "editable": true
   },
   "outputs": [],
   "source": []
  },
  {
   "cell_type": "code",
   "execution_count": null,
   "metadata": {
    "collapsed": false,
    "deletable": true,
    "editable": true
   },
   "outputs": [],
   "source": [
    "sns.set_context(\"notebook\", rc={\"font.size\" : 40}) # font_scale=1.5\n",
    "ax = sns.pointplot(y = \"CaseID\", \n",
    "                    x = \"month\",\n",
    "                    data = count_by_month, \n",
    "                    kind = \"bar\", \n",
    "                    aspect = 3,\n",
    "                   )#, size = 10)\n",
    "ax.set_ylabel(\"Cleaning Requests\")\n",
    "ax.set_xlabel(\"Month\")\n",
    "plt.title(\"Requests by Month\") \n",
    "plt.show()"
   ]
  },
  {
   "cell_type": "markdown",
   "metadata": {
    "deletable": true,
    "editable": true
   },
   "source": [
    "--------"
   ]
  },
  {
   "cell_type": "markdown",
   "metadata": {
    "deletable": true,
    "editable": true
   },
   "source": [
    "## Maps"
   ]
  },
  {
   "cell_type": "code",
   "execution_count": null,
   "metadata": {
    "collapsed": false,
    "deletable": true,
    "editable": true
   },
   "outputs": [],
   "source": [
    "# Coordinates from https://en.wikipedia.org/wiki/San_Francisco and \n",
    "# http://andrew.hedges.name/experiments/convert_lat_long/\n",
    "m = folium.Map(location=[37.783, -122.416], zoom_start=12)\n",
    "m"
   ]
  },
  {
   "cell_type": "code",
   "execution_count": null,
   "metadata": {
    "collapsed": false,
    "deletable": true,
    "editable": true
   },
   "outputs": [],
   "source": [
    "# Points\n",
    "street.ix[1,'Point']"
   ]
  },
  {
   "cell_type": "code",
   "execution_count": null,
   "metadata": {
    "collapsed": false,
    "deletable": true,
    "editable": true
   },
   "outputs": [],
   "source": [
    "def to_coordinates(point):\n",
    "    \"\"\"\n",
    "    Converts a string in the format '(37.7695911772607, -122.415577110949)' to coordinates.\n",
    "    \"\"\"\n",
    "    \n",
    "    # Tests\n",
    "    assert(isinstance(point, str) and point.startswith('(') and point.endswith(')'))\n",
    "    \n",
    "    (lat, lon) = point.split(',')\n",
    "    \n",
    "    # Remove '('\n",
    "    lat = lat[1:]\n",
    "    \n",
    "    # Remove ')' and space\n",
    "    lon = lon[:-1].strip()\n",
    "    \n",
    "    \n",
    "    \n",
    "    return (float(lat), float(lon))\n",
    "    \n",
    "to_coordinates(street.ix[1,'Point'])"
   ]
  },
  {
   "cell_type": "code",
   "execution_count": null,
   "metadata": {
    "collapsed": false,
    "deletable": true,
    "editable": true
   },
   "outputs": [],
   "source": [
    "# TODO: Make this a function\n",
    "folium.Marker(to_coordinates(street.ix[1,'Point']), popup = street.ix[1,'Request Type']).add_to(m)\n",
    "m"
   ]
  },
  {
   "cell_type": "code",
   "execution_count": null,
   "metadata": {
    "collapsed": false,
    "deletable": true,
    "editable": true
   },
   "outputs": [],
   "source": [
    "street_mattress = street[street[\"Request Details\"] == \"Mattress\"]\n",
    "street_mattress.head(2)"
   ]
  },
  {
   "cell_type": "code",
   "execution_count": null,
   "metadata": {
    "collapsed": false,
    "deletable": true,
    "editable": true
   },
   "outputs": [],
   "source": [
    "len(street_mattress)"
   ]
  },
  {
   "cell_type": "code",
   "execution_count": null,
   "metadata": {
    "collapsed": false
   },
   "outputs": [],
   "source": [
    "mattress_count_by_month = street_mattress.groupby(by='month').count().CaseID.reset_index()"
   ]
  },
  {
   "cell_type": "code",
   "execution_count": null,
   "metadata": {
    "collapsed": true
   },
   "outputs": [],
   "source": [
    "sns.set_context(\"notebook\", rc={\"font.size\" : 40}) # font_scale=1.5\n",
    "ax = sns.pointplot(y = \"CaseID\", \n",
    "                    x = \"month\",\n",
    "                    data = count_by_month, \n",
    "                    kind = \"bar\", \n",
    "                    aspect = 3,\n",
    "                   )#, size = 10)\n",
    "ax.set_ylabel(\"Cleaning Requests\")\n",
    "ax.set_xlabel(\"Month\")\n",
    "plt.title(\"Requests by Month\") \n",
    "plt.show()"
   ]
  },
  {
   "cell_type": "code",
   "execution_count": null,
   "metadata": {
    "collapsed": true,
    "deletable": true,
    "editable": true
   },
   "outputs": [],
   "source": [
    "#from IPython.display import display\n",
    "for index, row in street_mattress.iterrows():\n",
    "    #print type(row[\"Status\"])\n",
    "    pass\n",
    "    # Add to the map with marker cluster?\n",
    "    # http://nbviewer.jupyter.org/github/ocefpaf/folium_notebooks/blob/master/test_clustered_markes.ipynb\n",
    "    "
   ]
  },
  {
   "cell_type": "code",
   "execution_count": null,
   "metadata": {
    "collapsed": false,
    "deletable": true,
    "editable": true
   },
   "outputs": [],
   "source": [
    "mattress_map = folium.Map(location=[37.783, -122.416], zoom_start=12)\n",
    "folium.GeoJson(open('Analysis Neighborhoods.geojson'), name='geojson').add_to(mattress_map)\n",
    "mattress_map"
   ]
  },
  {
   "cell_type": "code",
   "execution_count": null,
   "metadata": {
    "collapsed": false,
    "deletable": true,
    "editable": true
   },
   "outputs": [],
   "source": [
    "# Neighborhood geojson from \n",
    "# https://data.sfgov.org/Geographic-Locations-and-Boundaries/Analysis-Neighborhoods/p5b7-5n3h\n",
    "\n",
    "folium.GeoJson(open('Analysis Neighborhoods.geojson'), name='geojson').add_to(m)\n",
    "m"
   ]
  },
  {
   "cell_type": "markdown",
   "metadata": {
    "deletable": true,
    "editable": true
   },
   "source": [
    "Map of neighborhoods shaded by count of requests:"
   ]
  },
  {
   "cell_type": "code",
   "execution_count": null,
   "metadata": {
    "collapsed": true,
    "deletable": true,
    "editable": true
   },
   "outputs": [],
   "source": []
  },
  {
   "cell_type": "code",
   "execution_count": null,
   "metadata": {
    "collapsed": false,
    "deletable": true,
    "editable": true
   },
   "outputs": [],
   "source": []
  }
 ],
 "metadata": {
  "anaconda-cloud": {},
  "kernelspec": {
   "display_name": "Python 2",
   "language": "python",
   "name": "python2"
  },
  "language_info": {
   "codemirror_mode": {
    "name": "ipython",
    "version": 2
   },
   "file_extension": ".py",
   "mimetype": "text/x-python",
   "name": "python",
   "nbconvert_exporter": "python",
   "pygments_lexer": "ipython2",
   "version": "2.7.13"
  }
 },
 "nbformat": 4,
 "nbformat_minor": 2
}
