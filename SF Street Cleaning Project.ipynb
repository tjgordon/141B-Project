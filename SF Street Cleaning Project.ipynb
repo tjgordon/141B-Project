{
 "cells": [
  {
   "cell_type": "code",
   "execution_count": 5,
   "metadata": {
    "collapsed": false,
    "deletable": true,
    "editable": true
   },
   "outputs": [],
   "source": [
    "import pandas as pd\n",
    "import seaborn as sns\n",
    "import matplotlib\n",
    "import matplotlib.pyplot as plt\n",
    "plt.style.use('ggplot')\n",
    "import feather\n",
    "import requests\n",
    "import requests_cache\n",
    "import lxml\n",
    "from bs4 import BeautifulSoup\n",
    "import bs4\n",
    "import re\n",
    "%matplotlib inline\n",
    "#plt.rcParams['figure.figsize'] = (12,12)"
   ]
  },
  {
   "cell_type": "code",
   "execution_count": null,
   "metadata": {
    "collapsed": false,
    "deletable": true,
    "editable": true
   },
   "outputs": [],
   "source": [
    "#%%timeit -r1 -n1 \n",
    "# timeit args from: http://stackoverflow.com/questions/32565829/simple-way-to-measure-cell-execution-time-in-ipython-notebook \n",
    "# For some reason the varible isn't saved when using timeit\n",
    "\n",
    "# Note: To just read in part add nrows =\n",
    "parseDates = [\"Opened\", \"Closed\", \"Updated\"] # Convert these to datetimes\n",
    "street_csv = pd.read_csv(\"Street_and_Sidewalk_Cleaning.csv\", \n",
    "                         #nrows = 100000,\n",
    "                         parse_dates=parseDates)\n"
   ]
  },
  {
   "cell_type": "code",
   "execution_count": null,
   "metadata": {
    "collapsed": true,
    "deletable": true,
    "editable": true
   },
   "outputs": [],
   "source": [
    "feather.write_dataframe(street_csv, 'street.feather')"
   ]
  },
  {
   "cell_type": "code",
   "execution_count": null,
   "metadata": {
    "collapsed": false,
    "deletable": true,
    "editable": true
   },
   "outputs": [],
   "source": [
    "# Similar thing built in to pandas. Causes some error.\n",
    "street.to_hdf('street.h5','table',append=False)"
   ]
  },
  {
   "cell_type": "code",
   "execution_count": 2,
   "metadata": {
    "collapsed": false,
    "deletable": true,
    "editable": true
   },
   "outputs": [],
   "source": [
    "#street2 = pd.read_hdf('street.h5')"
   ]
  },
  {
   "cell_type": "code",
   "execution_count": 3,
   "metadata": {
    "collapsed": false,
    "deletable": true,
    "editable": true
   },
   "outputs": [],
   "source": [
    "street = feather.read_dataframe('street.feather')"
   ]
  },
  {
   "cell_type": "code",
   "execution_count": 4,
   "metadata": {
    "collapsed": true,
    "deletable": true,
    "editable": true
   },
   "outputs": [],
   "source": [
    "# To use the csv version\n",
    "# street = street_csv"
   ]
  },
  {
   "cell_type": "code",
   "execution_count": 6,
   "metadata": {
    "collapsed": false,
    "deletable": true,
    "editable": true
   },
   "outputs": [],
   "source": [
    "#all(street == street_csv)"
   ]
  },
  {
   "cell_type": "code",
   "execution_count": 3,
   "metadata": {
    "collapsed": false,
    "deletable": true,
    "editable": true
   },
   "outputs": [
    {
     "data": {
      "text/html": [
       "<div>\n",
       "<table border=\"1\" class=\"dataframe\">\n",
       "  <thead>\n",
       "    <tr style=\"text-align: right;\">\n",
       "      <th></th>\n",
       "      <th>CaseID</th>\n",
       "      <th>Opened</th>\n",
       "      <th>Closed</th>\n",
       "      <th>Status</th>\n",
       "      <th>Responsible Agency</th>\n",
       "      <th>Address</th>\n",
       "      <th>Category</th>\n",
       "      <th>Request Type</th>\n",
       "      <th>Request Details</th>\n",
       "      <th>Source</th>\n",
       "      <th>Supervisor District</th>\n",
       "      <th>Neighborhood</th>\n",
       "      <th>Updated</th>\n",
       "      <th>Point</th>\n",
       "    </tr>\n",
       "  </thead>\n",
       "  <tbody>\n",
       "    <tr>\n",
       "      <th>0</th>\n",
       "      <td>322566</td>\n",
       "      <td>2008-11-30 22:56:00</td>\n",
       "      <td>2009-07-21 16:24:00</td>\n",
       "      <td>Closed</td>\n",
       "      <td>DPW Ops Queue</td>\n",
       "      <td>1566 HYDE ST, SAN FRANCISCO, CA, 94109</td>\n",
       "      <td>Street and Sidewalk Cleaning</td>\n",
       "      <td>Sidewalk_Cleaning</td>\n",
       "      <td>Garbage</td>\n",
       "      <td>Voice In</td>\n",
       "      <td>3.0</td>\n",
       "      <td>Nob Hill</td>\n",
       "      <td>2009-07-21 16:24:00</td>\n",
       "      <td>(37.795328529, -122.418067787)</td>\n",
       "    </tr>\n",
       "    <tr>\n",
       "      <th>1</th>\n",
       "      <td>322560</td>\n",
       "      <td>2008-11-30 22:24:00</td>\n",
       "      <td>2009-07-21 16:24:00</td>\n",
       "      <td>Closed</td>\n",
       "      <td>DPW Ops Queue</td>\n",
       "      <td>Intersection of TAYLOR ST and TURK ST</td>\n",
       "      <td>Street and Sidewalk Cleaning</td>\n",
       "      <td>Illegal_Dumping</td>\n",
       "      <td>Garbage</td>\n",
       "      <td>Voice In</td>\n",
       "      <td>6.0</td>\n",
       "      <td>Downtown/Civic Center</td>\n",
       "      <td>2009-07-21 16:24:00</td>\n",
       "      <td>(37.7832142923006, -122.410764953722)</td>\n",
       "    </tr>\n",
       "    <tr>\n",
       "      <th>2</th>\n",
       "      <td>322559</td>\n",
       "      <td>2008-11-30 22:20:00</td>\n",
       "      <td>2008-12-01 06:07:00</td>\n",
       "      <td>Closed</td>\n",
       "      <td>DPW Ops Queue</td>\n",
       "      <td>1601 SACRAMENTO ST, SAN FRANCISCO, CA, 94109</td>\n",
       "      <td>Street and Sidewalk Cleaning</td>\n",
       "      <td>Illegal_Dumping</td>\n",
       "      <td>Mattress</td>\n",
       "      <td>Voice In</td>\n",
       "      <td>3.0</td>\n",
       "      <td>Nob Hill</td>\n",
       "      <td>2008-12-01 06:07:00</td>\n",
       "      <td>(37.791643509125, -122.419260423291)</td>\n",
       "    </tr>\n",
       "    <tr>\n",
       "      <th>3</th>\n",
       "      <td>322556</td>\n",
       "      <td>2008-11-30 21:34:00</td>\n",
       "      <td>2008-12-09 08:07:00</td>\n",
       "      <td>Closed</td>\n",
       "      <td>DPW Ops Queue</td>\n",
       "      <td>Intersection of 25TH ST and LUCKY ST</td>\n",
       "      <td>Street and Sidewalk Cleaning</td>\n",
       "      <td>Sidewalk_Cleaning</td>\n",
       "      <td>Human_waste_or_urine</td>\n",
       "      <td>Voice In</td>\n",
       "      <td>9.0</td>\n",
       "      <td>Mission</td>\n",
       "      <td>2008-12-09 08:07:00</td>\n",
       "      <td>(37.7509362479361, -122.413364630104)</td>\n",
       "    </tr>\n",
       "    <tr>\n",
       "      <th>4</th>\n",
       "      <td>322545</td>\n",
       "      <td>2008-11-30 20:45:00</td>\n",
       "      <td>2009-02-03 07:09:00</td>\n",
       "      <td>Closed</td>\n",
       "      <td>DPW Ops Queue</td>\n",
       "      <td>Intersection of 19TH ST and OAKWOOD ST</td>\n",
       "      <td>Street and Sidewalk Cleaning</td>\n",
       "      <td>Sidewalk_Cleaning</td>\n",
       "      <td>Empty_cart</td>\n",
       "      <td>Voice In</td>\n",
       "      <td>8.0</td>\n",
       "      <td>Mission</td>\n",
       "      <td>2009-02-03 07:09:00</td>\n",
       "      <td>(37.7598935230725, -122.42486308879)</td>\n",
       "    </tr>\n",
       "  </tbody>\n",
       "</table>\n",
       "</div>"
      ],
      "text/plain": [
       "   CaseID              Opened              Closed  Status Responsible Agency  \\\n",
       "0  322566 2008-11-30 22:56:00 2009-07-21 16:24:00  Closed      DPW Ops Queue   \n",
       "1  322560 2008-11-30 22:24:00 2009-07-21 16:24:00  Closed      DPW Ops Queue   \n",
       "2  322559 2008-11-30 22:20:00 2008-12-01 06:07:00  Closed      DPW Ops Queue   \n",
       "3  322556 2008-11-30 21:34:00 2008-12-09 08:07:00  Closed      DPW Ops Queue   \n",
       "4  322545 2008-11-30 20:45:00 2009-02-03 07:09:00  Closed      DPW Ops Queue   \n",
       "\n",
       "                                        Address                      Category  \\\n",
       "0        1566 HYDE ST, SAN FRANCISCO, CA, 94109  Street and Sidewalk Cleaning   \n",
       "1         Intersection of TAYLOR ST and TURK ST  Street and Sidewalk Cleaning   \n",
       "2  1601 SACRAMENTO ST, SAN FRANCISCO, CA, 94109  Street and Sidewalk Cleaning   \n",
       "3          Intersection of 25TH ST and LUCKY ST  Street and Sidewalk Cleaning   \n",
       "4        Intersection of 19TH ST and OAKWOOD ST  Street and Sidewalk Cleaning   \n",
       "\n",
       "        Request Type       Request Details    Source  Supervisor District  \\\n",
       "0  Sidewalk_Cleaning               Garbage  Voice In                  3.0   \n",
       "1    Illegal_Dumping               Garbage  Voice In                  6.0   \n",
       "2    Illegal_Dumping              Mattress  Voice In                  3.0   \n",
       "3  Sidewalk_Cleaning  Human_waste_or_urine  Voice In                  9.0   \n",
       "4  Sidewalk_Cleaning            Empty_cart  Voice In                  8.0   \n",
       "\n",
       "            Neighborhood             Updated  \\\n",
       "0               Nob Hill 2009-07-21 16:24:00   \n",
       "1  Downtown/Civic Center 2009-07-21 16:24:00   \n",
       "2               Nob Hill 2008-12-01 06:07:00   \n",
       "3                Mission 2008-12-09 08:07:00   \n",
       "4                Mission 2009-02-03 07:09:00   \n",
       "\n",
       "                                   Point  \n",
       "0         (37.795328529, -122.418067787)  \n",
       "1  (37.7832142923006, -122.410764953722)  \n",
       "2   (37.791643509125, -122.419260423291)  \n",
       "3  (37.7509362479361, -122.413364630104)  \n",
       "4   (37.7598935230725, -122.42486308879)  "
      ]
     },
     "execution_count": 3,
     "metadata": {},
     "output_type": "execute_result"
    }
   ],
   "source": [
    "street.head()"
   ]
  },
  {
   "cell_type": "code",
   "execution_count": 37,
   "metadata": {
    "collapsed": false
   },
   "outputs": [
    {
     "data": {
      "text/html": [
       "<div>\n",
       "<table border=\"1\" class=\"dataframe\">\n",
       "  <thead>\n",
       "    <tr style=\"text-align: right;\">\n",
       "      <th></th>\n",
       "      <th>CaseID</th>\n",
       "      <th>Opened</th>\n",
       "      <th>Closed</th>\n",
       "      <th>Status</th>\n",
       "      <th>Responsible Agency</th>\n",
       "      <th>Address</th>\n",
       "      <th>Category</th>\n",
       "      <th>Request Type</th>\n",
       "      <th>Request Details</th>\n",
       "      <th>Source</th>\n",
       "      <th>Supervisor District</th>\n",
       "      <th>Neighborhood</th>\n",
       "      <th>Updated</th>\n",
       "      <th>Point</th>\n",
       "      <th>month</th>\n",
       "    </tr>\n",
       "  </thead>\n",
       "  <tbody>\n",
       "    <tr>\n",
       "      <th>0</th>\n",
       "      <td>342509</td>\n",
       "      <td>2009-01-01 08:30:51</td>\n",
       "      <td>2009-01-01 11:07:06</td>\n",
       "      <td>Closed</td>\n",
       "      <td>DPW Ops Queue</td>\n",
       "      <td>Intersection of 13TH ST and FOLSOM ST</td>\n",
       "      <td>Street and Sidewalk Cleaning</td>\n",
       "      <td>Sidewalk_Cleaning</td>\n",
       "      <td>Encampment</td>\n",
       "      <td>Voice In</td>\n",
       "      <td>6.0</td>\n",
       "      <td>Mission</td>\n",
       "      <td>2009-01-01 11:07:06</td>\n",
       "      <td>(37.7695911772607, -122.415577110949)</td>\n",
       "      <td>1</td>\n",
       "    </tr>\n",
       "    <tr>\n",
       "      <th>1</th>\n",
       "      <td>342510</td>\n",
       "      <td>2009-01-01 08:33:46</td>\n",
       "      <td>2009-01-01 11:07:06</td>\n",
       "      <td>Closed</td>\n",
       "      <td>DPW Ops Queue</td>\n",
       "      <td>Intersection of 13TH ST and FOLSOM ST</td>\n",
       "      <td>Street and Sidewalk Cleaning</td>\n",
       "      <td>Sidewalk_Cleaning</td>\n",
       "      <td>Debris_filled_carts</td>\n",
       "      <td>Voice In</td>\n",
       "      <td>6.0</td>\n",
       "      <td>Mission</td>\n",
       "      <td>2009-01-01 11:07:06</td>\n",
       "      <td>(37.7695911772607, -122.415577110949)</td>\n",
       "      <td>1</td>\n",
       "    </tr>\n",
       "    <tr>\n",
       "      <th>2</th>\n",
       "      <td>342512</td>\n",
       "      <td>2009-01-01 08:44:54</td>\n",
       "      <td>2009-01-31 13:09:53</td>\n",
       "      <td>Closed</td>\n",
       "      <td>DPW Ops Queue</td>\n",
       "      <td>467 FILLMORE ST, SAN FRANCISCO, CA, 94117</td>\n",
       "      <td>Street and Sidewalk Cleaning</td>\n",
       "      <td>Street_Cleaning</td>\n",
       "      <td>Glass</td>\n",
       "      <td>Voice In</td>\n",
       "      <td>5.0</td>\n",
       "      <td>Western Addition</td>\n",
       "      <td>2009-01-31 13:09:53</td>\n",
       "      <td>(37.773807246, -122.431027495)</td>\n",
       "      <td>1</td>\n",
       "    </tr>\n",
       "    <tr>\n",
       "      <th>3</th>\n",
       "      <td>342514</td>\n",
       "      <td>2009-01-01 09:13:07</td>\n",
       "      <td>2009-01-01 11:07:06</td>\n",
       "      <td>Closed</td>\n",
       "      <td>DPW Ops Queue</td>\n",
       "      <td>Intersection of DWIGHT ST and GOETTINGEN ST</td>\n",
       "      <td>Street and Sidewalk Cleaning</td>\n",
       "      <td>Sidewalk_Cleaning</td>\n",
       "      <td>Garbage</td>\n",
       "      <td>Voice In</td>\n",
       "      <td>9.0</td>\n",
       "      <td>Excelsior</td>\n",
       "      <td>2009-01-01 11:07:06</td>\n",
       "      <td>(37.7232896018615, -122.405086927628)</td>\n",
       "      <td>1</td>\n",
       "    </tr>\n",
       "    <tr>\n",
       "      <th>4</th>\n",
       "      <td>342519</td>\n",
       "      <td>2009-01-01 09:21:05</td>\n",
       "      <td>2009-01-21 06:07:13</td>\n",
       "      <td>Closed</td>\n",
       "      <td>DPW Ops Queue</td>\n",
       "      <td>1610 MCALLISTER ST, SAN FRANCISCO, CA, 94115</td>\n",
       "      <td>Street and Sidewalk Cleaning</td>\n",
       "      <td>Sidewalk_Cleaning</td>\n",
       "      <td>Human_waste_or_urine</td>\n",
       "      <td>Voice In</td>\n",
       "      <td>5.0</td>\n",
       "      <td>Western Addition</td>\n",
       "      <td>2009-01-21 06:07:13</td>\n",
       "      <td>(37.777956377, -122.43893262)</td>\n",
       "      <td>1</td>\n",
       "    </tr>\n",
       "  </tbody>\n",
       "</table>\n",
       "</div>"
      ],
      "text/plain": [
       "   CaseID              Opened              Closed  Status Responsible Agency  \\\n",
       "0  342509 2009-01-01 08:30:51 2009-01-01 11:07:06  Closed      DPW Ops Queue   \n",
       "1  342510 2009-01-01 08:33:46 2009-01-01 11:07:06  Closed      DPW Ops Queue   \n",
       "2  342512 2009-01-01 08:44:54 2009-01-31 13:09:53  Closed      DPW Ops Queue   \n",
       "3  342514 2009-01-01 09:13:07 2009-01-01 11:07:06  Closed      DPW Ops Queue   \n",
       "4  342519 2009-01-01 09:21:05 2009-01-21 06:07:13  Closed      DPW Ops Queue   \n",
       "\n",
       "                                        Address                      Category  \\\n",
       "0         Intersection of 13TH ST and FOLSOM ST  Street and Sidewalk Cleaning   \n",
       "1         Intersection of 13TH ST and FOLSOM ST  Street and Sidewalk Cleaning   \n",
       "2     467 FILLMORE ST, SAN FRANCISCO, CA, 94117  Street and Sidewalk Cleaning   \n",
       "3   Intersection of DWIGHT ST and GOETTINGEN ST  Street and Sidewalk Cleaning   \n",
       "4  1610 MCALLISTER ST, SAN FRANCISCO, CA, 94115  Street and Sidewalk Cleaning   \n",
       "\n",
       "        Request Type       Request Details    Source  Supervisor District  \\\n",
       "0  Sidewalk_Cleaning            Encampment  Voice In                  6.0   \n",
       "1  Sidewalk_Cleaning   Debris_filled_carts  Voice In                  6.0   \n",
       "2    Street_Cleaning                 Glass  Voice In                  5.0   \n",
       "3  Sidewalk_Cleaning               Garbage  Voice In                  9.0   \n",
       "4  Sidewalk_Cleaning  Human_waste_or_urine  Voice In                  5.0   \n",
       "\n",
       "       Neighborhood             Updated  \\\n",
       "0           Mission 2009-01-01 11:07:06   \n",
       "1           Mission 2009-01-01 11:07:06   \n",
       "2  Western Addition 2009-01-31 13:09:53   \n",
       "3         Excelsior 2009-01-01 11:07:06   \n",
       "4  Western Addition 2009-01-21 06:07:13   \n",
       "\n",
       "                                   Point  month  \n",
       "0  (37.7695911772607, -122.415577110949)      1  \n",
       "1  (37.7695911772607, -122.415577110949)      1  \n",
       "2         (37.773807246, -122.431027495)      1  \n",
       "3  (37.7232896018615, -122.405086927628)      1  \n",
       "4          (37.777956377, -122.43893262)      1  "
      ]
     },
     "execution_count": 37,
     "metadata": {},
     "output_type": "execute_result"
    }
   ],
   "source": [
    "street = street.loc[street['Opened'].dt.year != 2008]\n",
    "street = street.loc[street['Opened'].dt.year != 2017]\n",
    "street = street.sort_values(\"Opened\")\n",
    "street = street.reset_index()\n",
    "street = street.drop('index', 1)\n",
    "street.head()"
   ]
  },
  {
   "cell_type": "markdown",
   "metadata": {
    "deletable": true,
    "editable": true
   },
   "source": [
    "Some basic statistics on the dataset we are starting with:"
   ]
  },
  {
   "cell_type": "code",
   "execution_count": 50,
   "metadata": {
    "collapsed": false,
    "deletable": true,
    "editable": true
   },
   "outputs": [
    {
     "name": "stdout",
     "output_type": "stream",
     "text": [
      "We are working with 693612 rows.\n",
      "Our dates range from 2016-12-31 22:59:11 to 2009-01-01 08:30:51 .\n"
     ]
    }
   ],
   "source": [
    "numRows = street.shape[0]\n",
    "print \"We are working with\", numRows, \"rows.\"\n",
    "print \"Our dates range from\", street.loc[numRows - 1, \"Opened\"],\"to\", street.loc[0, \"Opened\"], \".\""
   ]
  },
  {
   "cell_type": "code",
   "execution_count": 91,
   "metadata": {
    "collapsed": false,
    "deletable": true,
    "editable": true
   },
   "outputs": [
    {
     "data": {
      "image/png": "[encoded data removed]",
      "text/plain": [
       "<matplotlib.figure.Figure at 0x7fb77b1544d0>"
      ]
     },
     "metadata": {},
     "output_type": "display_data"
    }
   ],
   "source": [
    "#plt.figure(figsize=(2,100)) # Doesn't do much\n",
    "theOrder = [\"Voice In\", \"Open311\", \"Web Self Service\", \"Integrated Agency\", \"Twitter\", \"e-mail In\", \"Other Department\"]\n",
    "#sns.set(font_scale = 1.5)\n",
    "sns.set_context(\"notebook\", rc={\"font.size\" : 40}) # font_scale=1.5\n",
    "ax = sns.factorplot(y = \"Source\", data = street, kind = \"count\", orient = \"h\", order = theOrder, aspect = 2)#, size = 10)\n",
    "plt.title(\"How the Cleaning Request Was Made\") \n",
    "plt.show()"
   ]
  },
  {
   "cell_type": "markdown",
   "metadata": {
    "deletable": true,
    "editable": true
   },
   "source": [
    "According to [the project's website](http://www.open311.org/learn/), Open311 allows people to report issues in public spaces to city officials through a [website](https://sf311.org/index.aspx?page=797) or [mobile app](https://www.sf311.org/mobile).  "
   ]
  },
  {
   "cell_type": "code",
   "execution_count": 52,
   "metadata": {
    "collapsed": false,
    "deletable": true,
    "editable": true
   },
   "outputs": [
    {
     "data": {
      "text/plain": [
       "array(['Mission', 'Western Addition', 'Excelsior', 'Inner Richmond',\n",
       "       'Bernal Heights', 'Downtown/Civic Center', 'Chinatown',\n",
       "       'Haight Ashbury', 'Bayview', 'Nob Hill', 'Castro/Upper Market',\n",
       "       'South of Market', 'Outer Richmond', 'Marina', 'Outer Sunset',\n",
       "       'Inner Sunset', 'Parkside', 'Ocean View', 'Russian Hill',\n",
       "       'Visitacion Valley', 'Golden Gate Park', 'Noe Valley',\n",
       "       'Outer Mission', 'Potrero Hill', 'Presidio Heights', 'Seacliff',\n",
       "       'West of Twin Peaks', 'Crocker Amazon', 'North Beach',\n",
       "       'Financial District', 'Glen Park', 'Lakeshore', 'Pacific Heights',\n",
       "       None, 'Twin Peaks', 'Diamond Heights', 'Presidio', 'Merced Heights',\n",
       "       'Ingleside', 'Treasure Island/YBI', 'Sutro Heights',\n",
       "       'Cathedral Hill', 'Oceanview', 'Golden Gate Heights',\n",
       "       'Dolores Heights', \"St. Mary's Park\", 'Sherwood Forest',\n",
       "       'Tenderloin', 'Lone Mountain', 'Hayes Valley', 'Duboce Triangle',\n",
       "       'Civic Center', 'Mission Dolores', 'Lincoln Park / Ft. Miley',\n",
       "       'Forest Knolls', 'Midtown Terrace', 'Panhandle', 'Silver Terrace',\n",
       "       'Bret Harte', 'Mission Terrace', 'Lower Nob Hill', 'Japantown',\n",
       "       'Ashbury Heights', 'Lower Pacific Heights', 'Castro',\n",
       "       'Showplace Square', 'Mint Hill', 'Hunters Point', 'Produce Market',\n",
       "       'Lake Street', 'Mission Bay', 'Lower Haight', 'Cayuga',\n",
       "       'McLaren Park', 'Cow Hollow', 'South Beach', 'Holly Park',\n",
       "       'Polk Gulch', 'Westwood Park', 'Parnassus Heights', 'Portola',\n",
       "       'India Basin', 'Dogpatch', 'Union Street', 'Sunnyside',\n",
       "       'Alamo Square', 'Cole Valley', 'Downtown / Union Square',\n",
       "       'Corona Heights', 'Buena Vista', 'Central Waterfront',\n",
       "       'Forest Hill', 'Rincon Hill', \"Fisherman's Wharf\",\n",
       "       'Clarendon Heights', 'Peralta Heights', 'Presidio Terrace',\n",
       "       'Telegraph Hill', 'West Portal', 'Fairmount', 'Eureka Valley',\n",
       "       'Little Hollywood', 'Candlestick Point SRA', 'Monterey Heights',\n",
       "       'Stonestown', 'Apparel City', 'Upper Market', 'Northern Waterfront',\n",
       "       'Sunnydale', 'University Mound', 'Ingleside Terraces',\n",
       "       'St. Francis Wood', 'Miraloma Park', 'Anza Vista', 'Merced Manor',\n",
       "       'Laguna Honda', 'Laurel Heights / Jordan Park',\n",
       "       'Aquatic Park / Ft. Mason', 'Mt. Davidson Manor',\n",
       "       'Westwood Highlands', 'Balboa Terrace', 'Parkmerced',\n",
       "       'Yerba Buena Island', 'Treasure Island', 'Presidio National Park'], dtype=object)"
      ]
     },
     "execution_count": 52,
     "metadata": {},
     "output_type": "execute_result"
    }
   ],
   "source": [
    "street.Neighborhood.unique()"
   ]
  },
  {
   "cell_type": "code",
   "execution_count": 53,
   "metadata": {
    "collapsed": false,
    "deletable": true,
    "editable": true
   },
   "outputs": [
    {
     "data": {
      "text/plain": [
       "<bound method Series.value_counts of 0                              Mission\n",
       "1                              Mission\n",
       "2                     Western Addition\n",
       "3                            Excelsior\n",
       "4                     Western Addition\n",
       "5                       Inner Richmond\n",
       "6                       Bernal Heights\n",
       "7                Downtown/Civic Center\n",
       "8                       Bernal Heights\n",
       "9                            Chinatown\n",
       "10                      Haight Ashbury\n",
       "11                           Chinatown\n",
       "12                             Mission\n",
       "13                      Haight Ashbury\n",
       "14                      Haight Ashbury\n",
       "15                      Haight Ashbury\n",
       "16                             Bayview\n",
       "17                             Bayview\n",
       "18                            Nob Hill\n",
       "19                             Bayview\n",
       "20                             Bayview\n",
       "21                           Excelsior\n",
       "22                           Excelsior\n",
       "23                             Bayview\n",
       "24                             Bayview\n",
       "25                 Castro/Upper Market\n",
       "26                     South of Market\n",
       "27                      Bernal Heights\n",
       "28                      Bernal Heights\n",
       "29                      Bernal Heights\n",
       "                      ...             \n",
       "693582                    Inner Sunset\n",
       "693583                  Lower Nob Hill\n",
       "693584                            None\n",
       "693585                            None\n",
       "693586                  Inner Richmond\n",
       "693587                         Mission\n",
       "693588                 South of Market\n",
       "693589                         Mission\n",
       "693590                      Tenderloin\n",
       "693591                      Tenderloin\n",
       "693592    Laurel Heights / Jordan Park\n",
       "693593                       Excelsior\n",
       "693594                 South of Market\n",
       "693595                    Civic Center\n",
       "693596                            None\n",
       "693597                  Cathedral Hill\n",
       "693598                 South of Market\n",
       "693599         Downtown / Union Square\n",
       "693600                 Dolores Heights\n",
       "693601                 Dolores Heights\n",
       "693602                 Dolores Heights\n",
       "693603                 Dolores Heights\n",
       "693604                 South of Market\n",
       "693605                  Lower Nob Hill\n",
       "693606                  Lower Nob Hill\n",
       "693607                  Telegraph Hill\n",
       "693608                    Civic Center\n",
       "693609                       Chinatown\n",
       "693610                       Chinatown\n",
       "693611                  Lower Nob Hill\n",
       "Name: Neighborhood, dtype: object>"
      ]
     },
     "execution_count": 53,
     "metadata": {},
     "output_type": "execute_result"
    }
   ],
   "source": [
    "street.Neighborhood.value_counts"
   ]
  },
  {
   "cell_type": "code",
   "execution_count": 54,
   "metadata": {
    "collapsed": false,
    "deletable": true,
    "editable": true
   },
   "outputs": [],
   "source": [
    "# From: http://stackoverflow.com/questions/22391433/count-the-frequency-that-a-value-occurs-in-a-dataframe-column\n",
    "counts = street.groupby('Neighborhood').count()"
   ]
  },
  {
   "cell_type": "markdown",
   "metadata": {
    "deletable": true,
    "editable": true
   },
   "source": [
    "We can get the total number of cases from CaseID\n",
    "unresolved cases by neighborhood"
   ]
  },
  {
   "cell_type": "code",
   "execution_count": 55,
   "metadata": {
    "collapsed": false,
    "deletable": true,
    "editable": true
   },
   "outputs": [],
   "source": [
    "counts = counts.sort_values(by = \"CaseID\",\n",
    "                            ascending = False)\n",
    "counts = counts.reset_index()"
   ]
  },
  {
   "cell_type": "code",
   "execution_count": 56,
   "metadata": {
    "collapsed": false,
    "deletable": true,
    "editable": true
   },
   "outputs": [
    {
     "data": {
      "text/html": [
       "<div>\n",
       "<table border=\"1\" class=\"dataframe\">\n",
       "  <thead>\n",
       "    <tr style=\"text-align: right;\">\n",
       "      <th></th>\n",
       "      <th>Neighborhood</th>\n",
       "      <th>CaseID</th>\n",
       "      <th>Opened</th>\n",
       "      <th>Closed</th>\n",
       "      <th>Status</th>\n",
       "      <th>Responsible Agency</th>\n",
       "      <th>Address</th>\n",
       "      <th>Category</th>\n",
       "      <th>Request Type</th>\n",
       "      <th>Request Details</th>\n",
       "      <th>Source</th>\n",
       "      <th>Supervisor District</th>\n",
       "      <th>Updated</th>\n",
       "      <th>Point</th>\n",
       "      <th>month</th>\n",
       "    </tr>\n",
       "  </thead>\n",
       "  <tbody>\n",
       "    <tr>\n",
       "      <th>0</th>\n",
       "      <td>Mission</td>\n",
       "      <td>96712</td>\n",
       "      <td>96712</td>\n",
       "      <td>95382</td>\n",
       "      <td>96712</td>\n",
       "      <td>96712</td>\n",
       "      <td>96712</td>\n",
       "      <td>96712</td>\n",
       "      <td>96700</td>\n",
       "      <td>96698</td>\n",
       "      <td>96712</td>\n",
       "      <td>96712</td>\n",
       "      <td>96712</td>\n",
       "      <td>96712</td>\n",
       "      <td>96712</td>\n",
       "    </tr>\n",
       "    <tr>\n",
       "      <th>1</th>\n",
       "      <td>South of Market</td>\n",
       "      <td>65269</td>\n",
       "      <td>65269</td>\n",
       "      <td>64275</td>\n",
       "      <td>65269</td>\n",
       "      <td>65269</td>\n",
       "      <td>65269</td>\n",
       "      <td>65269</td>\n",
       "      <td>65263</td>\n",
       "      <td>65263</td>\n",
       "      <td>65269</td>\n",
       "      <td>65269</td>\n",
       "      <td>65269</td>\n",
       "      <td>65269</td>\n",
       "      <td>65269</td>\n",
       "    </tr>\n",
       "    <tr>\n",
       "      <th>2</th>\n",
       "      <td>Tenderloin</td>\n",
       "      <td>28495</td>\n",
       "      <td>28495</td>\n",
       "      <td>28059</td>\n",
       "      <td>28495</td>\n",
       "      <td>28495</td>\n",
       "      <td>28495</td>\n",
       "      <td>28495</td>\n",
       "      <td>28494</td>\n",
       "      <td>28494</td>\n",
       "      <td>28495</td>\n",
       "      <td>28495</td>\n",
       "      <td>28495</td>\n",
       "      <td>28495</td>\n",
       "      <td>28495</td>\n",
       "    </tr>\n",
       "    <tr>\n",
       "      <th>3</th>\n",
       "      <td>Downtown/Civic Center</td>\n",
       "      <td>26426</td>\n",
       "      <td>26426</td>\n",
       "      <td>26389</td>\n",
       "      <td>26426</td>\n",
       "      <td>26426</td>\n",
       "      <td>26426</td>\n",
       "      <td>26426</td>\n",
       "      <td>26426</td>\n",
       "      <td>26425</td>\n",
       "      <td>26426</td>\n",
       "      <td>26426</td>\n",
       "      <td>26426</td>\n",
       "      <td>26426</td>\n",
       "      <td>26426</td>\n",
       "    </tr>\n",
       "    <tr>\n",
       "      <th>4</th>\n",
       "      <td>Bayview</td>\n",
       "      <td>25956</td>\n",
       "      <td>25956</td>\n",
       "      <td>25658</td>\n",
       "      <td>25956</td>\n",
       "      <td>25956</td>\n",
       "      <td>25956</td>\n",
       "      <td>25956</td>\n",
       "      <td>25956</td>\n",
       "      <td>25955</td>\n",
       "      <td>25956</td>\n",
       "      <td>25956</td>\n",
       "      <td>25956</td>\n",
       "      <td>25956</td>\n",
       "      <td>25956</td>\n",
       "    </tr>\n",
       "  </tbody>\n",
       "</table>\n",
       "</div>"
      ],
      "text/plain": [
       "            Neighborhood  CaseID  Opened  Closed  Status  Responsible Agency  \\\n",
       "0                Mission   96712   96712   95382   96712               96712   \n",
       "1        South of Market   65269   65269   64275   65269               65269   \n",
       "2             Tenderloin   28495   28495   28059   28495               28495   \n",
       "3  Downtown/Civic Center   26426   26426   26389   26426               26426   \n",
       "4                Bayview   25956   25956   25658   25956               25956   \n",
       "\n",
       "   Address  Category  Request Type  Request Details  Source  \\\n",
       "0    96712     96712         96700            96698   96712   \n",
       "1    65269     65269         65263            65263   65269   \n",
       "2    28495     28495         28494            28494   28495   \n",
       "3    26426     26426         26426            26425   26426   \n",
       "4    25956     25956         25956            25955   25956   \n",
       "\n",
       "   Supervisor District  Updated  Point  month  \n",
       "0                96712    96712  96712  96712  \n",
       "1                65269    65269  65269  65269  \n",
       "2                28495    28495  28495  28495  \n",
       "3                26426    26426  26426  26426  \n",
       "4                25956    25956  25956  25956  "
      ]
     },
     "execution_count": 56,
     "metadata": {},
     "output_type": "execute_result"
    }
   ],
   "source": [
    "counts.head()"
   ]
  },
  {
   "cell_type": "code",
   "execution_count": 57,
   "metadata": {
    "collapsed": false,
    "deletable": true,
    "editable": true
   },
   "outputs": [
    {
     "data": {
      "image/png": "[encoded data removed]",
      "text/plain": [
       "<matplotlib.figure.Figure at 0x7fb79b3c1a50>"
      ]
     },
     "metadata": {},
     "output_type": "display_data"
    }
   ],
   "source": [
    "sns.set_context(\"notebook\", rc={\"font.size\" : 40}) # font_scale=1.5\n",
    "ax = sns.factorplot(x = \"CaseID\", \n",
    "                    y = \"Neighborhood\",\n",
    "                    data = counts.head(15), \n",
    "                    kind = \"bar\", \n",
    "                    orient = \"h\", \n",
    "                    aspect = 2\n",
    "                   )#, size = 10)\n",
    "ax.set_xlabels(\"Requests\")\n",
    "plt.title(\"Requests by Neighborhood (Top 15 Neighborhoods)\") \n",
    "plt.show()"
   ]
  },
  {
   "cell_type": "code",
   "execution_count": 58,
   "metadata": {
    "collapsed": false,
    "deletable": true,
    "editable": true
   },
   "outputs": [
    {
     "data": {
      "image/png": "[encoded data removed]",
      "text/plain": [
       "<matplotlib.figure.Figure at 0x7fb79e49ddd0>"
      ]
     },
     "metadata": {},
     "output_type": "display_data"
    }
   ],
   "source": [
    "sns.set_context(\"notebook\", rc={\"font.size\" : 40}) # font_scale=1.5\n",
    "ax = sns.factorplot(x = \"CaseID\", \n",
    "                    y = \"Neighborhood\",\n",
    "                    data = counts.tail(15), \n",
    "                    kind = \"bar\", \n",
    "                    orient = \"h\", \n",
    "                    aspect = 2\n",
    "                   )#, size = 10)\n",
    "ax.set_xlabels(\"Requests\")\n",
    "plt.title(\"Requests by Neighborhood (Bottom 15 Neighborhoods)\") \n",
    "plt.show()"
   ]
  },
  {
   "cell_type": "code",
   "execution_count": 59,
   "metadata": {
    "collapsed": false,
    "deletable": true,
    "editable": true
   },
   "outputs": [],
   "source": [
    "counts['UnclosedProp'] = (counts.Opened - counts.Closed) / counts.Opened"
   ]
  },
  {
   "cell_type": "code",
   "execution_count": 60,
   "metadata": {
    "collapsed": false,
    "deletable": true,
    "editable": true
   },
   "outputs": [
    {
     "data": {
      "text/html": [
       "<div>\n",
       "<table border=\"1\" class=\"dataframe\">\n",
       "  <thead>\n",
       "    <tr style=\"text-align: right;\">\n",
       "      <th></th>\n",
       "      <th>Neighborhood</th>\n",
       "      <th>CaseID</th>\n",
       "      <th>Opened</th>\n",
       "      <th>Closed</th>\n",
       "      <th>Status</th>\n",
       "      <th>Responsible Agency</th>\n",
       "      <th>Address</th>\n",
       "      <th>Category</th>\n",
       "      <th>Request Type</th>\n",
       "      <th>Request Details</th>\n",
       "      <th>Source</th>\n",
       "      <th>Supervisor District</th>\n",
       "      <th>Updated</th>\n",
       "      <th>Point</th>\n",
       "      <th>month</th>\n",
       "      <th>UnclosedProp</th>\n",
       "    </tr>\n",
       "  </thead>\n",
       "  <tbody>\n",
       "    <tr>\n",
       "      <th>0</th>\n",
       "      <td>Mission</td>\n",
       "      <td>96712</td>\n",
       "      <td>96712</td>\n",
       "      <td>95382</td>\n",
       "      <td>96712</td>\n",
       "      <td>96712</td>\n",
       "      <td>96712</td>\n",
       "      <td>96712</td>\n",
       "      <td>96700</td>\n",
       "      <td>96698</td>\n",
       "      <td>96712</td>\n",
       "      <td>96712</td>\n",
       "      <td>96712</td>\n",
       "      <td>96712</td>\n",
       "      <td>96712</td>\n",
       "      <td>0.013752</td>\n",
       "    </tr>\n",
       "    <tr>\n",
       "      <th>1</th>\n",
       "      <td>South of Market</td>\n",
       "      <td>65269</td>\n",
       "      <td>65269</td>\n",
       "      <td>64275</td>\n",
       "      <td>65269</td>\n",
       "      <td>65269</td>\n",
       "      <td>65269</td>\n",
       "      <td>65269</td>\n",
       "      <td>65263</td>\n",
       "      <td>65263</td>\n",
       "      <td>65269</td>\n",
       "      <td>65269</td>\n",
       "      <td>65269</td>\n",
       "      <td>65269</td>\n",
       "      <td>65269</td>\n",
       "      <td>0.015229</td>\n",
       "    </tr>\n",
       "    <tr>\n",
       "      <th>2</th>\n",
       "      <td>Tenderloin</td>\n",
       "      <td>28495</td>\n",
       "      <td>28495</td>\n",
       "      <td>28059</td>\n",
       "      <td>28495</td>\n",
       "      <td>28495</td>\n",
       "      <td>28495</td>\n",
       "      <td>28495</td>\n",
       "      <td>28494</td>\n",
       "      <td>28494</td>\n",
       "      <td>28495</td>\n",
       "      <td>28495</td>\n",
       "      <td>28495</td>\n",
       "      <td>28495</td>\n",
       "      <td>28495</td>\n",
       "      <td>0.015301</td>\n",
       "    </tr>\n",
       "    <tr>\n",
       "      <th>3</th>\n",
       "      <td>Downtown/Civic Center</td>\n",
       "      <td>26426</td>\n",
       "      <td>26426</td>\n",
       "      <td>26389</td>\n",
       "      <td>26426</td>\n",
       "      <td>26426</td>\n",
       "      <td>26426</td>\n",
       "      <td>26426</td>\n",
       "      <td>26426</td>\n",
       "      <td>26425</td>\n",
       "      <td>26426</td>\n",
       "      <td>26426</td>\n",
       "      <td>26426</td>\n",
       "      <td>26426</td>\n",
       "      <td>26426</td>\n",
       "      <td>0.001400</td>\n",
       "    </tr>\n",
       "    <tr>\n",
       "      <th>4</th>\n",
       "      <td>Bayview</td>\n",
       "      <td>25956</td>\n",
       "      <td>25956</td>\n",
       "      <td>25658</td>\n",
       "      <td>25956</td>\n",
       "      <td>25956</td>\n",
       "      <td>25956</td>\n",
       "      <td>25956</td>\n",
       "      <td>25956</td>\n",
       "      <td>25955</td>\n",
       "      <td>25956</td>\n",
       "      <td>25956</td>\n",
       "      <td>25956</td>\n",
       "      <td>25956</td>\n",
       "      <td>25956</td>\n",
       "      <td>0.011481</td>\n",
       "    </tr>\n",
       "  </tbody>\n",
       "</table>\n",
       "</div>"
      ],
      "text/plain": [
       "            Neighborhood  CaseID  Opened  Closed  Status  Responsible Agency  \\\n",
       "0                Mission   96712   96712   95382   96712               96712   \n",
       "1        South of Market   65269   65269   64275   65269               65269   \n",
       "2             Tenderloin   28495   28495   28059   28495               28495   \n",
       "3  Downtown/Civic Center   26426   26426   26389   26426               26426   \n",
       "4                Bayview   25956   25956   25658   25956               25956   \n",
       "\n",
       "   Address  Category  Request Type  Request Details  Source  \\\n",
       "0    96712     96712         96700            96698   96712   \n",
       "1    65269     65269         65263            65263   65269   \n",
       "2    28495     28495         28494            28494   28495   \n",
       "3    26426     26426         26426            26425   26426   \n",
       "4    25956     25956         25956            25955   25956   \n",
       "\n",
       "   Supervisor District  Updated  Point  month  UnclosedProp  \n",
       "0                96712    96712  96712  96712      0.013752  \n",
       "1                65269    65269  65269  65269      0.015229  \n",
       "2                28495    28495  28495  28495      0.015301  \n",
       "3                26426    26426  26426  26426      0.001400  \n",
       "4                25956    25956  25956  25956      0.011481  "
      ]
     },
     "execution_count": 60,
     "metadata": {},
     "output_type": "execute_result"
    }
   ],
   "source": [
    "counts.head()"
   ]
  },
  {
   "cell_type": "code",
   "execution_count": 88,
   "metadata": {
    "collapsed": false,
    "deletable": true,
    "editable": true
   },
   "outputs": [
    {
     "data": {
      "image/png": "[encoded data removed]",
      "text/plain": [
       "<matplotlib.figure.Figure at 0x7fb77d24e2d0>"
      ]
     },
     "metadata": {},
     "output_type": "display_data"
    }
   ],
   "source": [
    "sns.set_context(\"notebook\", rc={\"font.size\" : 40}) # font_scale=1.5\n",
    "ax = sns.factorplot(x = \"UnclosedProp\", \n",
    "                    y = \"Neighborhood\",\n",
    "                    data = counts.sort_values(by = \"UnclosedProp\",\n",
    "                                              ascending = False).head(15), \n",
    "                    kind = \"bar\", \n",
    "                    orient = \"h\", \n",
    "                    aspect = 2\n",
    "                   )#, size = 10)\n",
    "plt.title(\"Proportion of Unclosed Cleaning Requests by Neighborhood (Top 15 Neighborhoods)\") \n",
    "plt.show()"
   ]
  },
  {
   "cell_type": "markdown",
   "metadata": {
    "deletable": true,
    "editable": true
   },
   "source": [
    "Use supervisor district where there are too many neighborhoods. "
   ]
  },
  {
   "cell_type": "code",
   "execution_count": 62,
   "metadata": {
    "collapsed": false,
    "deletable": true,
    "editable": true
   },
   "outputs": [
    {
     "data": {
      "text/html": [
       "<div>\n",
       "<table border=\"1\" class=\"dataframe\">\n",
       "  <thead>\n",
       "    <tr style=\"text-align: right;\">\n",
       "      <th></th>\n",
       "      <th>Request Type</th>\n",
       "      <th>CaseID</th>\n",
       "    </tr>\n",
       "  </thead>\n",
       "  <tbody>\n",
       "    <tr>\n",
       "      <th>1</th>\n",
       "      <td>Bulky Items</td>\n",
       "      <td>173877</td>\n",
       "    </tr>\n",
       "    <tr>\n",
       "      <th>5</th>\n",
       "      <td>General Cleaning</td>\n",
       "      <td>166806</td>\n",
       "    </tr>\n",
       "    <tr>\n",
       "      <th>15</th>\n",
       "      <td>Sidewalk_Cleaning</td>\n",
       "      <td>159118</td>\n",
       "    </tr>\n",
       "    <tr>\n",
       "      <th>6</th>\n",
       "      <td>Hazardous Materials</td>\n",
       "      <td>77074</td>\n",
       "    </tr>\n",
       "    <tr>\n",
       "      <th>7</th>\n",
       "      <td>Illegal Encampment</td>\n",
       "      <td>38863</td>\n",
       "    </tr>\n",
       "  </tbody>\n",
       "</table>\n",
       "</div>"
      ],
      "text/plain": [
       "           Request Type  CaseID\n",
       "1           Bulky Items  173877\n",
       "5      General Cleaning  166806\n",
       "15    Sidewalk_Cleaning  159118\n",
       "6   Hazardous Materials   77074\n",
       "7    Illegal Encampment   38863"
      ]
     },
     "execution_count": 62,
     "metadata": {},
     "output_type": "execute_result"
    }
   ],
   "source": [
    "request_counts = street.groupby(by = \"Request Type\").count().reset_index().ix[:,[\"Request Type\",\"CaseID\"]].sort_values(by = \"CaseID\", ascending = False)\n",
    "request_counts.head()"
   ]
  },
  {
   "cell_type": "code",
   "execution_count": 90,
   "metadata": {
    "collapsed": false,
    "deletable": true,
    "editable": true
   },
   "outputs": [
    {
     "data": {
      "image/png": "[encoded data removed]",
      "text/plain": [
       "<matplotlib.figure.Figure at 0x7fb779405dd0>"
      ]
     },
     "metadata": {},
     "output_type": "display_data"
    }
   ],
   "source": [
    "sns.set_context(\"notebook\", rc={\"font.size\" : 40}) # font_scale=1.5\n",
    "ax = sns.factorplot(y = \"Request Type\", \n",
    "                    x = \"CaseID\",\n",
    "                    data = request_counts, \n",
    "                    kind = \"bar\", \n",
    "                    orient = \"h\", \n",
    "                    aspect = 2\n",
    "                   )#, size = 10)\n",
    "plt.title(\"Requests Type\") \n",
    "plt.show()"
   ]
  },
  {
   "cell_type": "markdown",
   "metadata": {
    "deletable": true,
    "editable": true
   },
   "source": [
    "Differences by time of year:\n",
    "- Mattresses in summer  \n",
    "- Holiday shopping  \n"
   ]
  },
  {
   "cell_type": "markdown",
   "metadata": {
    "deletable": true,
    "editable": true
   },
   "source": [
    "Note: only use 2009 through 2016 to only count full years.  \n",
    "Ask TA if we should do this for all analysis or just this part."
   ]
  },
  {
   "cell_type": "code",
   "execution_count": 64,
   "metadata": {
    "collapsed": false,
    "deletable": true,
    "editable": true
   },
   "outputs": [],
   "source": [
    "street['month'] = [timestamp.month for timestamp in street.Opened]"
   ]
  },
  {
   "cell_type": "code",
   "execution_count": 65,
   "metadata": {
    "collapsed": false,
    "deletable": true,
    "editable": true
   },
   "outputs": [
    {
     "data": {
      "text/html": [
       "<div>\n",
       "<table border=\"1\" class=\"dataframe\">\n",
       "  <thead>\n",
       "    <tr style=\"text-align: right;\">\n",
       "      <th></th>\n",
       "      <th>CaseID</th>\n",
       "      <th>Opened</th>\n",
       "      <th>Closed</th>\n",
       "      <th>Status</th>\n",
       "      <th>Responsible Agency</th>\n",
       "      <th>Address</th>\n",
       "      <th>Category</th>\n",
       "      <th>Request Type</th>\n",
       "      <th>Request Details</th>\n",
       "      <th>Source</th>\n",
       "      <th>Supervisor District</th>\n",
       "      <th>Neighborhood</th>\n",
       "      <th>Updated</th>\n",
       "      <th>Point</th>\n",
       "      <th>month</th>\n",
       "    </tr>\n",
       "  </thead>\n",
       "  <tbody>\n",
       "    <tr>\n",
       "      <th>0</th>\n",
       "      <td>342509</td>\n",
       "      <td>2009-01-01 08:30:51</td>\n",
       "      <td>2009-01-01 11:07:06</td>\n",
       "      <td>Closed</td>\n",
       "      <td>DPW Ops Queue</td>\n",
       "      <td>Intersection of 13TH ST and FOLSOM ST</td>\n",
       "      <td>Street and Sidewalk Cleaning</td>\n",
       "      <td>Sidewalk_Cleaning</td>\n",
       "      <td>Encampment</td>\n",
       "      <td>Voice In</td>\n",
       "      <td>6.0</td>\n",
       "      <td>Mission</td>\n",
       "      <td>2009-01-01 11:07:06</td>\n",
       "      <td>(37.7695911772607, -122.415577110949)</td>\n",
       "      <td>1</td>\n",
       "    </tr>\n",
       "    <tr>\n",
       "      <th>1</th>\n",
       "      <td>342510</td>\n",
       "      <td>2009-01-01 08:33:46</td>\n",
       "      <td>2009-01-01 11:07:06</td>\n",
       "      <td>Closed</td>\n",
       "      <td>DPW Ops Queue</td>\n",
       "      <td>Intersection of 13TH ST and FOLSOM ST</td>\n",
       "      <td>Street and Sidewalk Cleaning</td>\n",
       "      <td>Sidewalk_Cleaning</td>\n",
       "      <td>Debris_filled_carts</td>\n",
       "      <td>Voice In</td>\n",
       "      <td>6.0</td>\n",
       "      <td>Mission</td>\n",
       "      <td>2009-01-01 11:07:06</td>\n",
       "      <td>(37.7695911772607, -122.415577110949)</td>\n",
       "      <td>1</td>\n",
       "    </tr>\n",
       "    <tr>\n",
       "      <th>2</th>\n",
       "      <td>342512</td>\n",
       "      <td>2009-01-01 08:44:54</td>\n",
       "      <td>2009-01-31 13:09:53</td>\n",
       "      <td>Closed</td>\n",
       "      <td>DPW Ops Queue</td>\n",
       "      <td>467 FILLMORE ST, SAN FRANCISCO, CA, 94117</td>\n",
       "      <td>Street and Sidewalk Cleaning</td>\n",
       "      <td>Street_Cleaning</td>\n",
       "      <td>Glass</td>\n",
       "      <td>Voice In</td>\n",
       "      <td>5.0</td>\n",
       "      <td>Western Addition</td>\n",
       "      <td>2009-01-31 13:09:53</td>\n",
       "      <td>(37.773807246, -122.431027495)</td>\n",
       "      <td>1</td>\n",
       "    </tr>\n",
       "    <tr>\n",
       "      <th>3</th>\n",
       "      <td>342514</td>\n",
       "      <td>2009-01-01 09:13:07</td>\n",
       "      <td>2009-01-01 11:07:06</td>\n",
       "      <td>Closed</td>\n",
       "      <td>DPW Ops Queue</td>\n",
       "      <td>Intersection of DWIGHT ST and GOETTINGEN ST</td>\n",
       "      <td>Street and Sidewalk Cleaning</td>\n",
       "      <td>Sidewalk_Cleaning</td>\n",
       "      <td>Garbage</td>\n",
       "      <td>Voice In</td>\n",
       "      <td>9.0</td>\n",
       "      <td>Excelsior</td>\n",
       "      <td>2009-01-01 11:07:06</td>\n",
       "      <td>(37.7232896018615, -122.405086927628)</td>\n",
       "      <td>1</td>\n",
       "    </tr>\n",
       "    <tr>\n",
       "      <th>4</th>\n",
       "      <td>342519</td>\n",
       "      <td>2009-01-01 09:21:05</td>\n",
       "      <td>2009-01-21 06:07:13</td>\n",
       "      <td>Closed</td>\n",
       "      <td>DPW Ops Queue</td>\n",
       "      <td>1610 MCALLISTER ST, SAN FRANCISCO, CA, 94115</td>\n",
       "      <td>Street and Sidewalk Cleaning</td>\n",
       "      <td>Sidewalk_Cleaning</td>\n",
       "      <td>Human_waste_or_urine</td>\n",
       "      <td>Voice In</td>\n",
       "      <td>5.0</td>\n",
       "      <td>Western Addition</td>\n",
       "      <td>2009-01-21 06:07:13</td>\n",
       "      <td>(37.777956377, -122.43893262)</td>\n",
       "      <td>1</td>\n",
       "    </tr>\n",
       "  </tbody>\n",
       "</table>\n",
       "</div>"
      ],
      "text/plain": [
       "   CaseID              Opened              Closed  Status Responsible Agency  \\\n",
       "0  342509 2009-01-01 08:30:51 2009-01-01 11:07:06  Closed      DPW Ops Queue   \n",
       "1  342510 2009-01-01 08:33:46 2009-01-01 11:07:06  Closed      DPW Ops Queue   \n",
       "2  342512 2009-01-01 08:44:54 2009-01-31 13:09:53  Closed      DPW Ops Queue   \n",
       "3  342514 2009-01-01 09:13:07 2009-01-01 11:07:06  Closed      DPW Ops Queue   \n",
       "4  342519 2009-01-01 09:21:05 2009-01-21 06:07:13  Closed      DPW Ops Queue   \n",
       "\n",
       "                                        Address                      Category  \\\n",
       "0         Intersection of 13TH ST and FOLSOM ST  Street and Sidewalk Cleaning   \n",
       "1         Intersection of 13TH ST and FOLSOM ST  Street and Sidewalk Cleaning   \n",
       "2     467 FILLMORE ST, SAN FRANCISCO, CA, 94117  Street and Sidewalk Cleaning   \n",
       "3   Intersection of DWIGHT ST and GOETTINGEN ST  Street and Sidewalk Cleaning   \n",
       "4  1610 MCALLISTER ST, SAN FRANCISCO, CA, 94115  Street and Sidewalk Cleaning   \n",
       "\n",
       "        Request Type       Request Details    Source  Supervisor District  \\\n",
       "0  Sidewalk_Cleaning            Encampment  Voice In                  6.0   \n",
       "1  Sidewalk_Cleaning   Debris_filled_carts  Voice In                  6.0   \n",
       "2    Street_Cleaning                 Glass  Voice In                  5.0   \n",
       "3  Sidewalk_Cleaning               Garbage  Voice In                  9.0   \n",
       "4  Sidewalk_Cleaning  Human_waste_or_urine  Voice In                  5.0   \n",
       "\n",
       "       Neighborhood             Updated  \\\n",
       "0           Mission 2009-01-01 11:07:06   \n",
       "1           Mission 2009-01-01 11:07:06   \n",
       "2  Western Addition 2009-01-31 13:09:53   \n",
       "3         Excelsior 2009-01-01 11:07:06   \n",
       "4  Western Addition 2009-01-21 06:07:13   \n",
       "\n",
       "                                   Point  month  \n",
       "0  (37.7695911772607, -122.415577110949)      1  \n",
       "1  (37.7695911772607, -122.415577110949)      1  \n",
       "2         (37.773807246, -122.431027495)      1  \n",
       "3  (37.7232896018615, -122.405086927628)      1  \n",
       "4          (37.777956377, -122.43893262)      1  "
      ]
     },
     "execution_count": 65,
     "metadata": {},
     "output_type": "execute_result"
    }
   ],
   "source": [
    "street.head()"
   ]
  },
  {
   "cell_type": "code",
   "execution_count": 66,
   "metadata": {
    "collapsed": false,
    "deletable": true,
    "editable": true
   },
   "outputs": [
    {
     "data": {
      "text/html": [
       "<div>\n",
       "<table border=\"1\" class=\"dataframe\">\n",
       "  <thead>\n",
       "    <tr style=\"text-align: right;\">\n",
       "      <th></th>\n",
       "      <th>month</th>\n",
       "      <th>CaseID</th>\n",
       "    </tr>\n",
       "  </thead>\n",
       "  <tbody>\n",
       "    <tr>\n",
       "      <th>0</th>\n",
       "      <td>1</td>\n",
       "      <td>57466</td>\n",
       "    </tr>\n",
       "    <tr>\n",
       "      <th>1</th>\n",
       "      <td>2</td>\n",
       "      <td>48871</td>\n",
       "    </tr>\n",
       "    <tr>\n",
       "      <th>2</th>\n",
       "      <td>3</td>\n",
       "      <td>50527</td>\n",
       "    </tr>\n",
       "    <tr>\n",
       "      <th>3</th>\n",
       "      <td>4</td>\n",
       "      <td>48875</td>\n",
       "    </tr>\n",
       "    <tr>\n",
       "      <th>4</th>\n",
       "      <td>5</td>\n",
       "      <td>52543</td>\n",
       "    </tr>\n",
       "    <tr>\n",
       "      <th>5</th>\n",
       "      <td>6</td>\n",
       "      <td>57559</td>\n",
       "    </tr>\n",
       "    <tr>\n",
       "      <th>6</th>\n",
       "      <td>7</td>\n",
       "      <td>60132</td>\n",
       "    </tr>\n",
       "    <tr>\n",
       "      <th>7</th>\n",
       "      <td>8</td>\n",
       "      <td>66023</td>\n",
       "    </tr>\n",
       "    <tr>\n",
       "      <th>8</th>\n",
       "      <td>9</td>\n",
       "      <td>64723</td>\n",
       "    </tr>\n",
       "    <tr>\n",
       "      <th>9</th>\n",
       "      <td>10</td>\n",
       "      <td>66142</td>\n",
       "    </tr>\n",
       "    <tr>\n",
       "      <th>10</th>\n",
       "      <td>11</td>\n",
       "      <td>62132</td>\n",
       "    </tr>\n",
       "    <tr>\n",
       "      <th>11</th>\n",
       "      <td>12</td>\n",
       "      <td>58619</td>\n",
       "    </tr>\n",
       "  </tbody>\n",
       "</table>\n",
       "</div>"
      ],
      "text/plain": [
       "    month  CaseID\n",
       "0       1   57466\n",
       "1       2   48871\n",
       "2       3   50527\n",
       "3       4   48875\n",
       "4       5   52543\n",
       "5       6   57559\n",
       "6       7   60132\n",
       "7       8   66023\n",
       "8       9   64723\n",
       "9      10   66142\n",
       "10     11   62132\n",
       "11     12   58619"
      ]
     },
     "execution_count": 66,
     "metadata": {},
     "output_type": "execute_result"
    }
   ],
   "source": [
    "count_by_month = street.groupby(by='month').count().CaseID.reset_index()\n",
    "count_by_month"
   ]
  },
  {
   "cell_type": "code",
   "execution_count": 67,
   "metadata": {
    "collapsed": false,
    "deletable": true,
    "editable": true
   },
   "outputs": [
    {
     "data": {
      "image/png": "[encoded data removed]",
      "text/plain": [
       "<matplotlib.figure.Figure at 0x7fb7798f6b10>"
      ]
     },
     "metadata": {},
     "output_type": "display_data"
    }
   ],
   "source": [
    "sns.set_context(\"notebook\", rc={\"font.size\" : 40}) # font_scale=1.5\n",
    "ax = sns.pointplot(y = \"CaseID\", \n",
    "                    x = \"month\",\n",
    "                    data = count_by_month, \n",
    "                    kind = \"bar\", \n",
    "                    aspect = 3,\n",
    "                   )#, size = 10)\n",
    "ax.set_ylabel(\"Cleaning Requests\")\n",
    "ax.set_xlabel(\"Month\")\n",
    "plt.title(\"Requests by Month\") \n",
    "plt.show()"
   ]
  },
  {
   "cell_type": "code",
   "execution_count": 68,
   "metadata": {
    "collapsed": false
   },
   "outputs": [
    {
     "data": {
      "text/plain": [
       "<matplotlib.axes._subplots.AxesSubplot at 0x7fb79b631890>"
      ]
     },
     "execution_count": 68,
     "metadata": {},
     "output_type": "execute_result"
    },
    {
     "data": {
      "image/png": "[encoded data removed]",
      "text/plain": [
       "<matplotlib.figure.Figure at 0x7fb779702c10>"
      ]
     },
     "metadata": {},
     "output_type": "display_data"
    }
   ],
   "source": [
    "count_by_month.plot(y = \"CaseID\", \n",
    "                    x = \"month\")"
   ]
  },
  {
   "cell_type": "markdown",
   "metadata": {
    "deletable": true,
    "editable": true
   },
   "source": [
    "Faster at closing requests by time?\n",
    "Time to close requests by neighborhood?"
   ]
  },
  {
   "cell_type": "code",
   "execution_count": 92,
   "metadata": {
    "collapsed": false
   },
   "outputs": [
    {
     "data": {
      "image/png": "[encoded data removed]",
      "text/plain": [
       "<matplotlib.figure.Figure at 0x7fb79aa69950>"
      ]
     },
     "metadata": {},
     "output_type": "display_data"
    }
   ],
   "source": [
    "street['year'] = [timestamp.year for timestamp in street.Opened]\n",
    "count_by_year = street.groupby(by='year').count().CaseID.reset_index()\n",
    "sns.set_context(\"notebook\", rc={\"font.size\" : 40}) # font_scale=1.5\n",
    "ax = sns.pointplot(y = \"CaseID\", \n",
    "                    x = \"year\",\n",
    "                    data = count_by_year, \n",
    "                    kind = \"bar\", \n",
    "                    aspect = 3,\n",
    "                   )#, size = 10)\n",
    "ax.set_ylabel(\"Cleaning Requests\")\n",
    "ax.set_xlabel(\"Year\")\n",
    "plt.title(\"Requests by Year\") \n",
    "plt.show()"
   ]
  },
  {
   "cell_type": "code",
   "execution_count": 69,
   "metadata": {
    "collapsed": false
   },
   "outputs": [
    {
     "data": {
      "text/plain": [
       "[('CaseID', 693612),\n",
       " ('Opened', 685180),\n",
       " ('Closed', 507615),\n",
       " ('Status', 2),\n",
       " ('Responsible Agency', 122),\n",
       " ('Address', 96438),\n",
       " ('Category', 1),\n",
       " ('Request Type', 20),\n",
       " ('Request Details', 126),\n",
       " ('Source', 7),\n",
       " ('Supervisor District', 14),\n",
       " ('Neighborhood', 125),\n",
       " ('Updated', 515053),\n",
       " ('Point', 102834),\n",
       " ('month', 12)]"
      ]
     },
     "execution_count": 69,
     "metadata": {},
     "output_type": "execute_result"
    }
   ],
   "source": [
    "[(colname, len(street[colname].unique())) for colname in list(street)]"
   ]
  },
  {
   "cell_type": "code",
   "execution_count": 70,
   "metadata": {
    "collapsed": false
   },
   "outputs": [
    {
     "data": {
      "text/html": [
       "<div>\n",
       "<table border=\"1\" class=\"dataframe\">\n",
       "  <thead>\n",
       "    <tr style=\"text-align: right;\">\n",
       "      <th></th>\n",
       "      <th>month</th>\n",
       "      <th>Request Type</th>\n",
       "      <th>CaseID</th>\n",
       "    </tr>\n",
       "  </thead>\n",
       "  <tbody>\n",
       "    <tr>\n",
       "      <th>4</th>\n",
       "      <td>1</td>\n",
       "      <td>General Cleaning</td>\n",
       "      <td>16201</td>\n",
       "    </tr>\n",
       "    <tr>\n",
       "      <th>11</th>\n",
       "      <td>1</td>\n",
       "      <td>Sidewalk_Cleaning</td>\n",
       "      <td>14339</td>\n",
       "    </tr>\n",
       "    <tr>\n",
       "      <th>1</th>\n",
       "      <td>1</td>\n",
       "      <td>Bulky Items</td>\n",
       "      <td>12222</td>\n",
       "    </tr>\n",
       "    <tr>\n",
       "      <th>5</th>\n",
       "      <td>1</td>\n",
       "      <td>Hazardous Materials</td>\n",
       "      <td>5376</td>\n",
       "    </tr>\n",
       "    <tr>\n",
       "      <th>7</th>\n",
       "      <td>1</td>\n",
       "      <td>Illegal_Dumping</td>\n",
       "      <td>3509</td>\n",
       "    </tr>\n",
       "  </tbody>\n",
       "</table>\n",
       "</div>"
      ],
      "text/plain": [
       "    month         Request Type  CaseID\n",
       "4       1     General Cleaning   16201\n",
       "11      1    Sidewalk_Cleaning   14339\n",
       "1       1          Bulky Items   12222\n",
       "5       1  Hazardous Materials    5376\n",
       "7       1      Illegal_Dumping    3509"
      ]
     },
     "execution_count": 70,
     "metadata": {},
     "output_type": "execute_result"
    }
   ],
   "source": [
    "by_month_req_type = street.groupby(by=['month','Request Type']).count().CaseID.reset_index()\n",
    "by_month_req_type = by_month_req_type.sort_values(by = ['month', \"CaseID\"], ascending=[True,False])\n",
    "by_month_req_type.head()"
   ]
  },
  {
   "cell_type": "code",
   "execution_count": 71,
   "metadata": {
    "collapsed": false
   },
   "outputs": [],
   "source": [
    "#by_month_req_type = street.groupby(by=['month','Request Type']).plot()\n"
   ]
  },
  {
   "cell_type": "code",
   "execution_count": 72,
   "metadata": {
    "collapsed": false
   },
   "outputs": [],
   "source": [
    "#street.groupby(by=['month','Request Type']).plot(y = 'CaseID', x = 'month')"
   ]
  },
  {
   "cell_type": "code",
   "execution_count": 73,
   "metadata": {
    "collapsed": false
   },
   "outputs": [
    {
     "data": {
      "text/plain": [
       "<matplotlib.axes._subplots.AxesSubplot at 0x7fb79aec5250>"
      ]
     },
     "execution_count": 73,
     "metadata": {},
     "output_type": "execute_result"
    },
    {
     "data": {
      "image/png": "[encoded data removed]",
      "text/plain": [
       "<matplotlib.figure.Figure at 0x7fb79ae69890>"
      ]
     },
     "metadata": {},
     "output_type": "display_data"
    }
   ],
   "source": [
    "by_month_req_type.plot(y = 'CaseID', x = 'month')"
   ]
  },
  {
   "cell_type": "markdown",
   "metadata": {
    "deletable": true,
    "editable": true
   },
   "source": [
    "# Scraping"
   ]
  },
  {
   "cell_type": "code",
   "execution_count": 74,
   "metadata": {
    "collapsed": true,
    "deletable": true,
    "editable": true
   },
   "outputs": [],
   "source": [
    "requests_cache.install_cache('sf_cache')"
   ]
  },
  {
   "cell_type": "code",
   "execution_count": 75,
   "metadata": {
    "collapsed": false,
    "deletable": true,
    "editable": true
   },
   "outputs": [],
   "source": [
    "url = \"http://www.city-data.com/nbmaps/neigh-San-Francisco-California.html\"\n",
    "response = requests.get(url)\n",
    "response.raise_for_status\n",
    "\n",
    "neighborhoods_bs = BeautifulSoup(response.text, 'lxml')\n",
    "\n",
    "neighborhood_names = neighborhoods_bs.find_all(name = \"span\", attrs={'class':'street-name'})"
   ]
  },
  {
   "cell_type": "code",
   "execution_count": 76,
   "metadata": {
    "collapsed": false,
    "deletable": true,
    "editable": true
   },
   "outputs": [],
   "source": [
    "neighborhood_names = [name.text for name in neighborhood_names]"
   ]
  },
  {
   "cell_type": "code",
   "execution_count": 77,
   "metadata": {
    "collapsed": false,
    "deletable": true,
    "editable": true
   },
   "outputs": [
    {
     "data": {
      "text/plain": [
       "[u'Alamo Square',\n",
       " u'Anza Vista',\n",
       " u'Aquatic Park',\n",
       " u'Baja Noe',\n",
       " u'Balboa Park',\n",
       " u'Balboa Terrace',\n",
       " u'Bayview District',\n",
       " u'Bayview Heights',\n",
       " u'Bernal Heights',\n",
       " u'Bernal Heights North',\n",
       " u'Bernal Heights Park',\n",
       " u'Bernal Heights South',\n",
       " u'Buena Vista Park',\n",
       " u'Castro',\n",
       " u'Cathedral Hill',\n",
       " u'Cayuga Terrace',\n",
       " u'Central Richmond',\n",
       " u'Central Sunset',\n",
       " u'Chinatown',\n",
       " u'Civic Center',\n",
       " u'Clarendon Heights',\n",
       " u'Cole Valley',\n",
       " u'Corona Heights',\n",
       " u'Cow Hollow',\n",
       " u'Crocker-Amazon',\n",
       " u'Deco Ghetto',\n",
       " u'Diamond Heights',\n",
       " u'Dogpatch',\n",
       " u'Downtown',\n",
       " u'Duboce Triangle',\n",
       " u'Embarcadero',\n",
       " u'Excelsior',\n",
       " u'Financial District',\n",
       " u'Financial District South',\n",
       " u\"Fisherman's Wharf\",\n",
       " u'Forest Hill',\n",
       " u'Forest Knolls',\n",
       " u'Fort Mason',\n",
       " u'French Quarter',\n",
       " u'Ghirardelli Square',\n",
       " u'Glen Park',\n",
       " u'Golden Gate Heights',\n",
       " u'Golden Gate Park',\n",
       " u'Haight-Ashbury',\n",
       " u'Hayes Valley',\n",
       " u'Holly Park',\n",
       " u'Hunters Point',\n",
       " u'India Basin',\n",
       " u'Ingleside',\n",
       " u'Ingleside Heights',\n",
       " u'Ingleside Terrace',\n",
       " u'Inner Parkside',\n",
       " u'Inner Richmond',\n",
       " u'Inner Sunset',\n",
       " u'Inner Sunset',\n",
       " u'Inset',\n",
       " u'Intermission',\n",
       " u'Jackson Square',\n",
       " u'Japantown',\n",
       " u'Laguna Honda',\n",
       " u'Lake',\n",
       " u'Lake Shore',\n",
       " u'Lakeside',\n",
       " u'Laurel Heights',\n",
       " u'Laurel Village',\n",
       " u'Little Hollywood',\n",
       " u'Little Russia',\n",
       " u'Little Saigon',\n",
       " u'Lone Mountain',\n",
       " u'Lower Haight',\n",
       " u'Lower Nob Hill',\n",
       " u'Lower Pacific Heights',\n",
       " u'Marina District',\n",
       " u'Mastro',\n",
       " u'Merced Heights',\n",
       " u'Merced Manor',\n",
       " u'Midtown Terrace',\n",
       " u'Mint Hill',\n",
       " u'Miraloma Park',\n",
       " u'Mission Bay',\n",
       " u'Mission District',\n",
       " u'Mission Dolores',\n",
       " u'Mission Terrace',\n",
       " u'Monterey Heights',\n",
       " u'Mount Davidson Manor',\n",
       " u'NOMA',\n",
       " u'Nob Hill',\n",
       " u'Noe Valley',\n",
       " u'North Beach',\n",
       " u'North Panhandle',\n",
       " u'North Waterfront',\n",
       " u'Oceanview',\n",
       " u'Outer Mission',\n",
       " u'Outer Parkside',\n",
       " u'Outer Richmond',\n",
       " u'Outer Sunset',\n",
       " u'Outset',\n",
       " u'Pacific Heights',\n",
       " u'Park Merced',\n",
       " u'Parkside',\n",
       " u'Parnassus',\n",
       " u'Pier 39',\n",
       " u'Pine Lake Park',\n",
       " u'Polk Gulch',\n",
       " u'Portola',\n",
       " u'Potrero Flats',\n",
       " u'Potrero Hill',\n",
       " u'Presidio',\n",
       " u'Presidio Heights',\n",
       " u'Presidio Terrace',\n",
       " u'Richmond District',\n",
       " u'Rincon Hill',\n",
       " u'Russian Hill',\n",
       " u'SOMISSPO',\n",
       " u'Saint Francis Wood',\n",
       " u'Sea Cliff',\n",
       " u'Sherwood Forest',\n",
       " u'Showplace Square',\n",
       " u'Silver Terrace',\n",
       " u'South Basin',\n",
       " u'South Beach',\n",
       " u'South Of Market',\n",
       " u'South Park',\n",
       " u'St Marys Square',\n",
       " u'Stonestown',\n",
       " u'Sunnydale',\n",
       " u'Sunnyside',\n",
       " u'Sunset District',\n",
       " u'Sutro Heights',\n",
       " u'Telegraph Hill',\n",
       " u'Tenderloin',\n",
       " u'The Hub',\n",
       " u'Transmission',\n",
       " u'Treasure Island',\n",
       " u'Twin Peaks',\n",
       " u'Twin Peaks West',\n",
       " u'Union Square',\n",
       " u'Upper Market',\n",
       " u'Van Ness',\n",
       " u'Visitacion Valley',\n",
       " u'West Portal',\n",
       " u'West of Twin Peaks',\n",
       " u'Western Addition',\n",
       " u'Westwood Highlands',\n",
       " u'Westwood Park',\n",
       " u'Yerba Buena Island',\n",
       " u'Zion District']"
      ]
     },
     "execution_count": 77,
     "metadata": {},
     "output_type": "execute_result"
    }
   ],
   "source": [
    "neighborhood_names"
   ]
  },
  {
   "cell_type": "code",
   "execution_count": 78,
   "metadata": {
    "collapsed": false,
    "deletable": true,
    "editable": true
   },
   "outputs": [],
   "source": [
    "neighborhood_divs = neighborhoods_bs.body.find_all(name = \"div\", attrs={'class':'neighborhood'})"
   ]
  },
  {
   "cell_type": "code",
   "execution_count": 79,
   "metadata": {
    "collapsed": false,
    "deletable": true,
    "editable": true
   },
   "outputs": [
    {
     "data": {
      "text/plain": [
       "u\"Alamo Square neighborhood in San Francisco statistics: (Find on map)\\nArea: 0.144 square milesPopulation: 6,379Population density:Alamo Square:44,418 people per square mileSan Francisco:18,521 people per square mileMedian household income in 2015: Alamo Square:$93,901San Francisco:$92,094Median rent in in 2015: Alamo Square:$1,754San Francisco:$1,609Male vs FemalesMales:3,916Females:2,461Median ageMales:35.4 yearsFemales:38.6 yearsHousing prices:Average estimated value of detached houses in 2015 (4.9% of all units):Alamo Square:$1,988,926San Francisco:$1,134,589Average estimated value of townhouses or other attached units in 2015 (1.6% of all units):This neighborhood:$948,534city:$846,333Average estimated value of housing units in 2-unit structures in 2015 (9.8% of all units):This neighborhood:$1,003,276San Francisco:$1,001,026Average estimated '15 value of housing units in 3-to-4-unit structures (26.8% of all units):Alamo Square:$736,205city:$984,108Average estimated '15 value of housing units in 5-or-more-unit structures (1.6% of all units):Alamo Square:$235,527San Francisco:$921,371Most popular occupations of males: service occupations (22.2%); management occupations (except farmers) (15.7%); sales and office occupations (14.1%); computer and mathematical occupations (13.1%); business and financial operations occupations (10.9%); arts, design, entertainment, sports, and media occupations (4.6%); legal occupations (3.8%)Most popular occupations of females: sales and office occupations (20.8%); management occupations (except farmers) (19.6%); service occupations (13.3%); business and financial operations occupations (12.4%); arts, design, entertainment, sports, and media occupations (7.5%); legal occupations (7.1%); production occupations (4.7%)Roads and streets: Hayes St; McAllister St; Fulton St; Fell St; Oak St; Steiner St; Scott St; Grove St; Divisadero St; Pierce St; Fillmore St.\\nAlamo Square neighborhood detailed profile\\n\""
      ]
     },
     "execution_count": 79,
     "metadata": {},
     "output_type": "execute_result"
    }
   ],
   "source": [
    "neighborhood_divs[0].text"
   ]
  },
  {
   "cell_type": "markdown",
   "metadata": {
    "deletable": true,
    "editable": true
   },
   "source": [
    "regular expressions\n",
    "[capital letter][lowercase][:][ ][numbers or , or $]"
   ]
  },
  {
   "cell_type": "code",
   "execution_count": 80,
   "metadata": {
    "collapsed": false,
    "deletable": true,
    "editable": true
   },
   "outputs": [
    {
     "data": {
      "text/plain": [
       "[<b>Area:</b>,\n",
       " <b>square miles</b>,\n",
       " <b>Population:</b>,\n",
       " <b>Population density:</b>,\n",
       " <b>Alamo Square:</b>,\n",
       " <b>people per square mile</b>,\n",
       " <b>San Francisco:</b>,\n",
       " <b>people per square mile</b>,\n",
       " <b>Median household income in 2015: </b>,\n",
       " <b>Alamo Square:</b>,\n",
       " <b>San Francisco:</b>,\n",
       " <b>Median rent in in 2015: </b>,\n",
       " <b>Alamo Square:</b>,\n",
       " <b>San Francisco:</b>,\n",
       " <b>Male vs Females</b>,\n",
       " <b>Males:</b>,\n",
       " <b>Females:</b>,\n",
       " <b>Median age</b>,\n",
       " <b>Males:</b>,\n",
       " <b>Females:</b>,\n",
       " <b>Housing prices:</b>,\n",
       " <b>Average estimated value of detached houses in 2015 </b>,\n",
       " <b>:</b>,\n",
       " <b>Alamo Square:</b>,\n",
       " <b>San Francisco:</b>,\n",
       " <b>Average estimated value of townhouses or other attached units in 2015 </b>,\n",
       " <b>:</b>,\n",
       " <b>This neighborhood:</b>,\n",
       " <b>city:</b>,\n",
       " <b>Average estimated value of housing units in 2-unit structures in 2015 </b>,\n",
       " <b>:</b>,\n",
       " <b>This neighborhood:</b>,\n",
       " <b>San Francisco:</b>,\n",
       " <b>Average estimated '15 value of housing units in 3-to-4-unit structures </b>,\n",
       " <b>:</b>,\n",
       " <b>Alamo Square:</b>,\n",
       " <b>city:</b>,\n",
       " <b>Average estimated '15 value of housing units in 5-or-more-unit structures </b>,\n",
       " <b>:</b>,\n",
       " <b>Alamo Square:</b>,\n",
       " <b>San Francisco:</b>,\n",
       " <b>service occupations</b>,\n",
       " <b>management occupations (except farmers)</b>,\n",
       " <b>sales and office occupations</b>,\n",
       " <b>computer and mathematical occupations</b>,\n",
       " <b>business and financial operations occupations</b>,\n",
       " <b>arts, design, entertainment, sports, and media occupations</b>,\n",
       " <b>legal occupations</b>,\n",
       " <b>sales and office occupations</b>,\n",
       " <b>management occupations (except farmers)</b>,\n",
       " <b>service occupations</b>,\n",
       " <b>business and financial operations occupations</b>,\n",
       " <b>arts, design, entertainment, sports, and media occupations</b>,\n",
       " <b>legal occupations</b>,\n",
       " <b>production occupations</b>]"
      ]
     },
     "execution_count": 80,
     "metadata": {},
     "output_type": "execute_result"
    }
   ],
   "source": [
    "neighborhood_divs[0].find_all(name = \"b\")"
   ]
  },
  {
   "cell_type": "code",
   "execution_count": 81,
   "metadata": {
    "collapsed": false,
    "deletable": true,
    "editable": true
   },
   "outputs": [
    {
     "data": {
      "text/plain": [
       "[<strong><span class=\"street-name\">Alamo Square</span> neighborhood in San Francisco statistics: </strong>,\n",
       " u'(',\n",
       " <a href=\"javascript:sm(103);\">Find on map</a>,\n",
       " u')',\n",
       " <br/>,\n",
       " <br/>,\n",
       " u'\\n',\n",
       " <b>Area:</b>,\n",
       " u' 0.144 ',\n",
       " <b>square miles</b>,\n",
       " <br/>,\n",
       " <br/>,\n",
       " <b>Population:</b>,\n",
       " u' 6,379',\n",
       " <br/>,\n",
       " <br/>,\n",
       " <b>Population density:</b>,\n",
       " <br/>,\n",
       " <div class=\"hgraph\"><table><tr><td><b>Alamo Square:</b></td><td><p class=\"h\" style=\"padding-left:150px;\"></p>44,418 <b>people per square mile</b></td></tr><tr><td><b>San Francisco:</b></td><td><p class=\"a\" style=\"padding-left:62px;\"></p>18,521 <b>people per square mile</b></td></tr></table></div>,\n",
       " <br/>,\n",
       " <b>Median household income in 2015: </b>,\n",
       " <br/>,\n",
       " <div class=\"hgraph\"><table><tr><td><b>Alamo Square:</b></td><td><p class=\"h\" style=\"padding-left:150px;\"></p>$93,901</td></tr><tr><td><b>San Francisco:</b></td><td><p class=\"a\" style=\"padding-left:147px;\"></p>$92,094</td></tr></table></div>,\n",
       " <br/>,\n",
       " <b>Median rent in in 2015: </b>,\n",
       " <br/>,\n",
       " <div class=\"hgraph\"><table><tr><td><b>Alamo Square:</b></td><td><p class=\"h\" style=\"padding-left:150px;\"></p>$1,754</td></tr><tr><td><b>San Francisco:</b></td><td><p class=\"a\" style=\"padding-left:137px;\"></p>$1,609</td></tr></table></div>,\n",
       " <br/>,\n",
       " <b>Male vs Females</b>,\n",
       " <br/>,\n",
       " <div class=\"hgraph\"><table><tr><td><b>Males:</b></td><td><p class=\"h\" style=\"padding-left:150px;\"></p>3,916</td></tr><tr><td><b>Females:</b></td><td><p class=\"a\" style=\"padding-left:94px;\"></p>2,461</td></tr></table></div>,\n",
       " <br/>,\n",
       " <b>Median age</b>,\n",
       " <br/>,\n",
       " <div class=\"hgraph\"><table><tr><td><b>Males:</b></td><td><p class=\"h\" style=\"padding-left:150px;\"></p>35.4 years</td></tr><tr><td><b>Females:</b></td><td><p class=\"a\" style=\"padding-left:94px;\"></p>38.6 years</td></tr></table></div>,\n",
       " <br/>,\n",
       " <b>Housing prices:</b>,\n",
       " <br/>,\n",
       " <b>Average estimated value of detached houses in 2015 </b>,\n",
       " u'(4.9% of all units)',\n",
       " <b>:</b>,\n",
       " <br/>,\n",
       " <div class=\"hgraph\"><table><tr><td><b>Alamo Square:</b></td><td><p class=\"h\" style=\"padding-left:150px;\"></p>$1,988,926</td></tr><tr><td><b>San Francisco:</b></td><td><p class=\"a\" style=\"padding-left:85px;\"></p>$1,134,589</td></tr></table></div>,\n",
       " <br/>,\n",
       " <b>Average estimated value of townhouses or other attached units in 2015 </b>,\n",
       " u'(1.6% of all units)',\n",
       " <b>:</b>,\n",
       " <br/>,\n",
       " <div class=\"hgraph\"><table><tr><td><b>This neighborhood:</b></td><td><p class=\"h\" style=\"padding-left:150px;\"></p>$948,534</td></tr><tr><td><b>city:</b></td><td><p class=\"a\" style=\"padding-left:133px;\"></p>$846,333</td></tr></table></div>,\n",
       " <br/>,\n",
       " <b>Average estimated value of housing units in 2-unit structures in 2015 </b>,\n",
       " u'(9.8% of all units)',\n",
       " <b>:</b>,\n",
       " <br/>,\n",
       " <div class=\"hgraph\"><table><tr><td><b>This neighborhood:</b></td><td><p class=\"h\" style=\"padding-left:150px;\"></p>$1,003,276</td></tr><tr><td><b>San Francisco:</b></td><td><p class=\"a\" style=\"padding-left:149px;\"></p>$1,001,026</td></tr></table></div>,\n",
       " <br/>,\n",
       " <b>Average estimated '15 value of housing units in 3-to-4-unit structures </b>,\n",
       " u'(26.8% of all units)',\n",
       " <b>:</b>,\n",
       " <br/>,\n",
       " <div class=\"hgraph\"><table><tr><td><b>Alamo Square:</b></td><td><p class=\"h\" style=\"padding-left:112px;\"></p>$736,205</td></tr><tr><td><b>city:</b></td><td><p class=\"a\" style=\"padding-left:150px;\"></p>$984,108</td></tr></table></div>,\n",
       " <br/>,\n",
       " <b>Average estimated '15 value of housing units in 5-or-more-unit structures </b>,\n",
       " u'(1.6% of all units)',\n",
       " <b>:</b>,\n",
       " <br/>,\n",
       " <div class=\"hgraph\"><table><tr><td><b>Alamo Square:</b></td><td><p class=\"h\" style=\"padding-left:38px;\"></p>$235,527</td></tr><tr><td><b>San Francisco:</b></td><td><p class=\"a\" style=\"padding-left:150px;\"></p>$921,371</td></tr></table></div>,\n",
       " <br/>,\n",
       " <strong>Most popular occupations of males:</strong>,\n",
       " u' ',\n",
       " <b>service occupations</b>,\n",
       " u' (22.2%); ',\n",
       " <b>management occupations (except farmers)</b>,\n",
       " u' (15.7%); ',\n",
       " <b>sales and office occupations</b>,\n",
       " u' (14.1%); ',\n",
       " <b>computer and mathematical occupations</b>,\n",
       " u' (13.1%); ',\n",
       " <b>business and financial operations occupations</b>,\n",
       " u' (10.9%); ',\n",
       " <b>arts, design, entertainment, sports, and media occupations</b>,\n",
       " u' (4.6%); ',\n",
       " <b>legal occupations</b>,\n",
       " u' (3.8%)',\n",
       " <br/>,\n",
       " <br/>,\n",
       " <strong>Most popular occupations of females:</strong>,\n",
       " u' ',\n",
       " <b>sales and office occupations</b>,\n",
       " u' (20.8%); ',\n",
       " <b>management occupations (except farmers)</b>,\n",
       " u' (19.6%); ',\n",
       " <b>service occupations</b>,\n",
       " u' (13.3%); ',\n",
       " <b>business and financial operations occupations</b>,\n",
       " u' (12.4%); ',\n",
       " <b>arts, design, entertainment, sports, and media occupations</b>,\n",
       " u' (7.5%); ',\n",
       " <b>legal occupations</b>,\n",
       " u' (7.1%); ',\n",
       " <b>production occupations</b>,\n",
       " u' (4.7%)',\n",
       " <br/>,\n",
       " <br/>,\n",
       " <br/>,\n",
       " <strong>Roads and streets: </strong>,\n",
       " u'Hayes St; McAllister St; Fulton St; Fell St; Oak St; Steiner St; Scott St; Grove St; Divisadero St; Pierce St; Fillmore St.',\n",
       " <br/>,\n",
       " <br/>,\n",
       " u'\\n',\n",
       " <a href=\"/neighborhood/Alamo-Square-San-Francisco-CA.html\">Alamo Square neighborhood detailed profile</a>,\n",
       " u'\\n']"
      ]
     },
     "execution_count": 81,
     "metadata": {},
     "output_type": "execute_result"
    }
   ],
   "source": [
    "neighborhood_divs[0].contents"
   ]
  },
  {
   "cell_type": "code",
   "execution_count": 82,
   "metadata": {
    "collapsed": false,
    "deletable": true,
    "editable": true
   },
   "outputs": [
    {
     "data": {
      "text/plain": [
       "bs4.element.NavigableString"
      ]
     },
     "execution_count": 82,
     "metadata": {},
     "output_type": "execute_result"
    }
   ],
   "source": [
    "type(neighborhood_divs[0].contents[1])"
   ]
  },
  {
   "cell_type": "markdown",
   "metadata": {
    "deletable": true,
    "editable": true
   },
   "source": [
    "Loop through contents  \n",
    "if a navigable string can be converted to int,  \n",
    "then grab it and the first <b> that precedes it  "
   ]
  },
  {
   "cell_type": "code",
   "execution_count": 83,
   "metadata": {
    "collapsed": false,
    "deletable": true,
    "editable": true
   },
   "outputs": [
    {
     "data": {
      "text/plain": [
       "<generator object _all_strings at 0x7fb77bdea6e0>"
      ]
     },
     "execution_count": 83,
     "metadata": {},
     "output_type": "execute_result"
    }
   ],
   "source": [
    "neighborhood_divs[0].strings"
   ]
  },
  {
   "cell_type": "code",
   "execution_count": 84,
   "metadata": {
    "collapsed": false,
    "deletable": true,
    "editable": true
   },
   "outputs": [
    {
     "data": {
      "text/plain": [
       "[u'Alamo Square',\n",
       " u' neighborhood in San Francisco statistics: ',\n",
       " u'(',\n",
       " u'Find on map',\n",
       " u')',\n",
       " u'\\n',\n",
       " u'Area:',\n",
       " u' 0.144 ',\n",
       " u'square miles',\n",
       " u'Population:',\n",
       " u' 6,379',\n",
       " u'Population density:',\n",
       " u'Alamo Square:',\n",
       " u'44,418 ',\n",
       " u'people per square mile',\n",
       " u'San Francisco:',\n",
       " u'18,521 ',\n",
       " u'people per square mile',\n",
       " u'Median household income in 2015: ',\n",
       " u'Alamo Square:',\n",
       " u'$93,901',\n",
       " u'San Francisco:',\n",
       " u'$92,094',\n",
       " u'Median rent in in 2015: ',\n",
       " u'Alamo Square:',\n",
       " u'$1,754',\n",
       " u'San Francisco:',\n",
       " u'$1,609',\n",
       " u'Male vs Females',\n",
       " u'Males:',\n",
       " u'3,916',\n",
       " u'Females:',\n",
       " u'2,461',\n",
       " u'Median age',\n",
       " u'Males:',\n",
       " u'35.4 years',\n",
       " u'Females:',\n",
       " u'38.6 years',\n",
       " u'Housing prices:',\n",
       " u'Average estimated value of detached houses in 2015 ',\n",
       " u'(4.9% of all units)',\n",
       " u':',\n",
       " u'Alamo Square:',\n",
       " u'$1,988,926',\n",
       " u'San Francisco:',\n",
       " u'$1,134,589',\n",
       " u'Average estimated value of townhouses or other attached units in 2015 ',\n",
       " u'(1.6% of all units)',\n",
       " u':',\n",
       " u'This neighborhood:',\n",
       " u'$948,534',\n",
       " u'city:',\n",
       " u'$846,333',\n",
       " u'Average estimated value of housing units in 2-unit structures in 2015 ',\n",
       " u'(9.8% of all units)',\n",
       " u':',\n",
       " u'This neighborhood:',\n",
       " u'$1,003,276',\n",
       " u'San Francisco:',\n",
       " u'$1,001,026',\n",
       " u\"Average estimated '15 value of housing units in 3-to-4-unit structures \",\n",
       " u'(26.8% of all units)',\n",
       " u':',\n",
       " u'Alamo Square:',\n",
       " u'$736,205',\n",
       " u'city:',\n",
       " u'$984,108',\n",
       " u\"Average estimated '15 value of housing units in 5-or-more-unit structures \",\n",
       " u'(1.6% of all units)',\n",
       " u':',\n",
       " u'Alamo Square:',\n",
       " u'$235,527',\n",
       " u'San Francisco:',\n",
       " u'$921,371',\n",
       " u'Most popular occupations of males:',\n",
       " u' ',\n",
       " u'service occupations',\n",
       " u' (22.2%); ',\n",
       " u'management occupations (except farmers)',\n",
       " u' (15.7%); ',\n",
       " u'sales and office occupations',\n",
       " u' (14.1%); ',\n",
       " u'computer and mathematical occupations',\n",
       " u' (13.1%); ',\n",
       " u'business and financial operations occupations',\n",
       " u' (10.9%); ',\n",
       " u'arts, design, entertainment, sports, and media occupations',\n",
       " u' (4.6%); ',\n",
       " u'legal occupations',\n",
       " u' (3.8%)',\n",
       " u'Most popular occupations of females:',\n",
       " u' ',\n",
       " u'sales and office occupations',\n",
       " u' (20.8%); ',\n",
       " u'management occupations (except farmers)',\n",
       " u' (19.6%); ',\n",
       " u'service occupations',\n",
       " u' (13.3%); ',\n",
       " u'business and financial operations occupations',\n",
       " u' (12.4%); ',\n",
       " u'arts, design, entertainment, sports, and media occupations',\n",
       " u' (7.5%); ',\n",
       " u'legal occupations',\n",
       " u' (7.1%); ',\n",
       " u'production occupations',\n",
       " u' (4.7%)',\n",
       " u'Roads and streets: ',\n",
       " u'Hayes St; McAllister St; Fulton St; Fell St; Oak St; Steiner St; Scott St; Grove St; Divisadero St; Pierce St; Fillmore St.',\n",
       " u'\\n',\n",
       " u'Alamo Square neighborhood detailed profile',\n",
       " u'\\n']"
      ]
     },
     "execution_count": 84,
     "metadata": {},
     "output_type": "execute_result"
    }
   ],
   "source": [
    "# Add to a list of strings\n",
    "strings = []\n",
    "\n",
    "for descendant in neighborhood_divs[0].strings:\n",
    "    strings.append(descendant)\n",
    "    \n",
    "strings"
   ]
  },
  {
   "cell_type": "code",
   "execution_count": 85,
   "metadata": {
    "collapsed": false,
    "deletable": true,
    "editable": true
   },
   "outputs": [
    {
     "data": {
      "text/plain": [
       "[{'units': u'square miles', 'value': 0.144, 'what_value_is': u'Area:'},\n",
       " {'units': '', 'value': 6379.0, 'what_value_is': u'Population:'},\n",
       " {'units': u'people per square mile',\n",
       "  'value': 44418.0,\n",
       "  'what_value_is': u'Alamo Square:'},\n",
       " {'units': u'people per square mile',\n",
       "  'value': 18521.0,\n",
       "  'what_value_is': u'San Francisco:'},\n",
       " {'units': '', 'value': 93901.0, 'what_value_is': u'Alamo Square:'},\n",
       " {'units': u'Median rent in in 2015: ',\n",
       "  'value': 92094.0,\n",
       "  'what_value_is': u'San Francisco:'},\n",
       " {'units': '', 'value': 1754.0, 'what_value_is': u'Alamo Square:'},\n",
       " {'units': u'Male vs Females',\n",
       "  'value': 1609.0,\n",
       "  'what_value_is': u'San Francisco:'},\n",
       " {'units': '', 'value': 3916.0, 'what_value_is': u'Males:'},\n",
       " {'units': u'Median age', 'value': 2461.0, 'what_value_is': u'Females:'},\n",
       " {'units': '', 'value': 1988926.0, 'what_value_is': u'Alamo Square:'},\n",
       " {'units': u'Average estimated value of townhouses or other attached units in 2015 ',\n",
       "  'value': 1134589.0,\n",
       "  'what_value_is': u'San Francisco:'},\n",
       " {'units': '', 'value': 948534.0, 'what_value_is': u'This neighborhood:'},\n",
       " {'units': u'Average estimated value of housing units in 2-unit structures in 2015 ',\n",
       "  'value': 846333.0,\n",
       "  'what_value_is': u'city:'},\n",
       " {'units': '', 'value': 1003276.0, 'what_value_is': u'This neighborhood:'},\n",
       " {'units': u\"Average estimated '15 value of housing units in 3-to-4-unit structures \",\n",
       "  'value': 1001026.0,\n",
       "  'what_value_is': u'San Francisco:'},\n",
       " {'units': '', 'value': 736205.0, 'what_value_is': u'Alamo Square:'},\n",
       " {'units': u\"Average estimated '15 value of housing units in 5-or-more-unit structures \",\n",
       "  'value': 984108.0,\n",
       "  'what_value_is': u'city:'},\n",
       " {'units': '', 'value': 235527.0, 'what_value_is': u'Alamo Square:'},\n",
       " {'units': '', 'value': 921371.0, 'what_value_is': u'San Francisco:'}]"
      ]
     },
     "execution_count": 85,
     "metadata": {},
     "output_type": "execute_result"
    }
   ],
   "source": [
    "#contents = neighborhood_divs[0].contents\n",
    "\n",
    "value_dict_list = []\n",
    "\n",
    "# Replace $\n",
    "for i in range(1, len(strings)):\n",
    "    if len(strings[i]) > 0:\n",
    "        if strings[i][0] == '$':\n",
    "            strings[i] = strings[i][1:]\n",
    "        # remove commas and whitespace\n",
    "        strings[i] = strings[i].replace(',', '').strip()\n",
    "\n",
    "        try:\n",
    "            value = float(strings[i])\n",
    "            try:\n",
    "                # what the value refers to\n",
    "                what_value_is = strings[i - 1]\n",
    "                \n",
    "                # units\n",
    "                if strings[i + 1][-1] != \":\":\n",
    "                    units = strings[i + 1]\n",
    "                else:\n",
    "                    units = \"\"\n",
    "                \n",
    "                value_dict = {\"value\": value,\n",
    "                              \"what_value_is\": what_value_is,\n",
    "                              \"units\": units}\n",
    "                \n",
    "                value_dict_list.append(value_dict)\n",
    "                \n",
    "            except:\n",
    "                print \"bad idea\"\n",
    "\n",
    "        except ValueError:\n",
    "            continue\n",
    "            \n",
    "value_dict_list"
   ]
  },
  {
   "cell_type": "code",
   "execution_count": 86,
   "metadata": {
    "collapsed": false,
    "deletable": true,
    "editable": true
   },
   "outputs": [
    {
     "data": {
      "text/plain": [
       "[u'Alamo Square',\n",
       " u'neighborhood in San Francisco statistics:',\n",
       " u'(',\n",
       " u'Find on map',\n",
       " u')',\n",
       " u'',\n",
       " u'Area:',\n",
       " u'0.144',\n",
       " u'square miles',\n",
       " u'Population:',\n",
       " u'6379',\n",
       " u'Population density:',\n",
       " u'Alamo Square:',\n",
       " u'44418',\n",
       " u'people per square mile',\n",
       " u'San Francisco:',\n",
       " u'18521',\n",
       " u'people per square mile',\n",
       " u'Median household income in 2015:',\n",
       " u'Alamo Square:',\n",
       " u'93901',\n",
       " u'San Francisco:',\n",
       " u'92094',\n",
       " u'Median rent in in 2015:',\n",
       " u'Alamo Square:',\n",
       " u'1754',\n",
       " u'San Francisco:',\n",
       " u'1609',\n",
       " u'Male vs Females',\n",
       " u'Males:',\n",
       " u'3916',\n",
       " u'Females:',\n",
       " u'2461',\n",
       " u'Median age',\n",
       " u'Males:',\n",
       " u'35.4 years',\n",
       " u'Females:',\n",
       " u'38.6 years',\n",
       " u'Housing prices:',\n",
       " u'Average estimated value of detached houses in 2015',\n",
       " u'(4.9% of all units)',\n",
       " u':',\n",
       " u'Alamo Square:',\n",
       " u'1988926',\n",
       " u'San Francisco:',\n",
       " u'1134589',\n",
       " u'Average estimated value of townhouses or other attached units in 2015',\n",
       " u'(1.6% of all units)',\n",
       " u':',\n",
       " u'This neighborhood:',\n",
       " u'948534',\n",
       " u'city:',\n",
       " u'846333',\n",
       " u'Average estimated value of housing units in 2-unit structures in 2015',\n",
       " u'(9.8% of all units)',\n",
       " u':',\n",
       " u'This neighborhood:',\n",
       " u'1003276',\n",
       " u'San Francisco:',\n",
       " u'1001026',\n",
       " u\"Average estimated '15 value of housing units in 3-to-4-unit structures\",\n",
       " u'(26.8% of all units)',\n",
       " u':',\n",
       " u'Alamo Square:',\n",
       " u'736205',\n",
       " u'city:',\n",
       " u'984108',\n",
       " u\"Average estimated '15 value of housing units in 5-or-more-unit structures\",\n",
       " u'(1.6% of all units)',\n",
       " u':',\n",
       " u'Alamo Square:',\n",
       " u'235527',\n",
       " u'San Francisco:',\n",
       " u'921371',\n",
       " u'Most popular occupations of males:',\n",
       " u'',\n",
       " u'service occupations',\n",
       " u'(22.2%);',\n",
       " u'management occupations (except farmers)',\n",
       " u'(15.7%);',\n",
       " u'sales and office occupations',\n",
       " u'(14.1%);',\n",
       " u'computer and mathematical occupations',\n",
       " u'(13.1%);',\n",
       " u'business and financial operations occupations',\n",
       " u'(10.9%);',\n",
       " u'arts design entertainment sports and media occupations',\n",
       " u'(4.6%);',\n",
       " u'legal occupations',\n",
       " u'(3.8%)',\n",
       " u'Most popular occupations of females:',\n",
       " u'',\n",
       " u'sales and office occupations',\n",
       " u'(20.8%);',\n",
       " u'management occupations (except farmers)',\n",
       " u'(19.6%);',\n",
       " u'service occupations',\n",
       " u'(13.3%);',\n",
       " u'business and financial operations occupations',\n",
       " u'(12.4%);',\n",
       " u'arts design entertainment sports and media occupations',\n",
       " u'(7.5%);',\n",
       " u'legal occupations',\n",
       " u'(7.1%);',\n",
       " u'production occupations',\n",
       " u'(4.7%)',\n",
       " u'Roads and streets:',\n",
       " u'Hayes St; McAllister St; Fulton St; Fell St; Oak St; Steiner St; Scott St; Grove St; Divisadero St; Pierce St; Fillmore St.',\n",
       " u'',\n",
       " u'Alamo Square neighborhood detailed profile',\n",
       " u'']"
      ]
     },
     "execution_count": 86,
     "metadata": {},
     "output_type": "execute_result"
    }
   ],
   "source": [
    "strings"
   ]
  },
  {
   "cell_type": "code",
   "execution_count": 87,
   "metadata": {
    "collapsed": false,
    "deletable": true,
    "editable": true
   },
   "outputs": [
    {
     "ename": "ValueError",
     "evalue": "invalid literal for int() with base 10: '9,999'",
     "output_type": "error",
     "traceback": [
      "\u001b[0;31m---------------------------------------------------------------------------\u001b[0m",
      "\u001b[0;31mValueError\u001b[0m                                Traceback (most recent call last)",
      "\u001b[0;32m<ipython-input-87-cc5fa9eab3c0>\u001b[0m in \u001b[0;36m<module>\u001b[0;34m()\u001b[0m\n\u001b[0;32m----> 1\u001b[0;31m \u001b[0mint\u001b[0m\u001b[0;34m(\u001b[0m\u001b[0;34m\"9,999\"\u001b[0m\u001b[0;34m)\u001b[0m\u001b[0;34m\u001b[0m\u001b[0m\n\u001b[0m",
      "\u001b[0;31mValueError\u001b[0m: invalid literal for int() with base 10: '9,999'"
     ]
    }
   ],
   "source": [
    "int(\"9,999\")"
   ]
  }
 ],
 "metadata": {
  "anaconda-cloud": {},
  "kernelspec": {
   "display_name": "Python 2",
   "language": "python",
   "name": "python2"
  },
  "language_info": {
   "codemirror_mode": {
    "name": "ipython",
    "version": 2
   },
   "file_extension": ".py",
   "mimetype": "text/x-python",
   "name": "python",
   "nbconvert_exporter": "python",
   "pygments_lexer": "ipython2",
   "version": "2.7.13"
  }
 },
 "nbformat": 4,
 "nbformat_minor": 2
}
